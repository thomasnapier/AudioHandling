{
 "cells": [
  {
   "cell_type": "code",
   "execution_count": 1,
   "metadata": {},
   "outputs": [],
   "source": [
    "import librosa\n",
    "import librosa.display\n",
    "import IPython.display as ipd\n",
    "import matplotlib.pyplot as plt"
   ]
  },
  {
   "cell_type": "markdown",
   "metadata": {},
   "source": [
    "Loading audio files"
   ]
  },
  {
   "cell_type": "code",
   "execution_count": 3,
   "metadata": {},
   "outputs": [],
   "source": [
    "geo_path = \"D:\\\\PhD\\\\data\\\\output-geo\"\n",
    "anthro_path = \"D:\\\\PhD\\\\data\\\\output-anthro\"\n",
    "bio_path = \"D:\\\\PhD\\\\data\\\\output-bio\"\n",
    "other_path = \"D:\\\\PhD\\\\data\\\\output-other\"\n",
    "\n",
    "output_path = \"D:\\\\PhD\\\\data\\\\train\"\n",
    "\n",
    "file_paths = [geo_path, anthro_path, bio_path, other_path]"
   ]
  },
  {
   "cell_type": "code",
   "execution_count": 34,
   "metadata": {},
   "outputs": [],
   "source": [
    "import os\n",
    "from matplotlib.backends.backend_agg import FigureCanvasAgg as FigureCanvas\n",
    "import numpy as np\n",
    "import pandas as pd\n",
    "\n",
    "for path in file_paths:\n",
    "    for subdir, dirs, files in os.walk(path):\n",
    "        for file in files:\n",
    "            filepath = subdir + os.sep + file\n",
    "\n",
    "            if filepath.endswith(\".wav\"):\n",
    "                # load audio files with librosa\n",
    "                y, sr = librosa.load(filepath)\n",
    "                y = y[:100000] # shorten audio a bit for speed\n",
    "                window_size = 1024\n",
    "                window = np.hanning(window_size)\n",
    "                stft  = librosa.core.spectrum.stft(y, n_fft=window_size, hop_length=512, window=window)\n",
    "                out = 2 * np.abs(stft) / np.sum(window)\n",
    "\n",
    "                # For plotting headlessly\n",
    "                from matplotlib.backends.backend_agg import FigureCanvasAgg as FigureCanvas\n",
    "\n",
    "                fig = plt.Figure()\n",
    "                canvas = FigureCanvas(fig)\n",
    "                ax = fig.add_subplot(111)\n",
    "                p = librosa.display.specshow(librosa.amplitude_to_db(out, ref=np.max), ax=ax, y_axis='log', x_axis='time')\n",
    "\n",
    "                fig.savefig(\"{}\\\\{}.png\".format(path, file[:-4]))\n",
    "\n",
    "\n",
    "            "
   ]
  }
 ],
 "metadata": {
  "interpreter": {
   "hash": "0cb7461182531ee4d1fecde1160009f8d4e82a4e5b71e588d6526f0d447710c0"
  },
  "kernelspec": {
   "display_name": "Python 3.9.12 ('audiohandling')",
   "language": "python",
   "name": "python3"
  },
  "language_info": {
   "codemirror_mode": {
    "name": "ipython",
    "version": 3
   },
   "file_extension": ".py",
   "mimetype": "text/x-python",
   "name": "python",
   "nbconvert_exporter": "python",
   "pygments_lexer": "ipython3",
   "version": "3.9.12"
  },
  "orig_nbformat": 4
 },
 "nbformat": 4,
 "nbformat_minor": 2
}
