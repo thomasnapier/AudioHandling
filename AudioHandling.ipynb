{
 "cells": [
  {
   "cell_type": "markdown",
   "metadata": {},
   "source": [
    "Fixed-size segmentation of Audio Samples"
   ]
  },
  {
   "cell_type": "code",
   "execution_count": 2,
   "metadata": {},
   "outputs": [
    {
     "name": "stdout",
     "output_type": "stream",
     "text": [
      "Requirement already satisfied: pydub in c:\\users\\thomas\\conda\\envs\\audiohandling\\lib\\site-packages (0.25.1)\n",
      "Note: you may need to restart the kernel to use updated packages.\n"
     ]
    }
   ],
   "source": [
    "%pip install pydub"
   ]
  },
  {
   "cell_type": "code",
   "execution_count": 5,
   "metadata": {},
   "outputs": [],
   "source": [
    "# Read WAV and MP3 files to array\n",
    "\n",
    "from pydub import AudioSegment\n",
    "import numpy as np\n",
    "from scipy.io import wavfile\n",
    "from plotly.offline import init_notebook_mode\n",
    "import plotly.graph_objs as go\n",
    "import plotly\n",
    "\n",
    "file = \"D:/PhD/audio_recorder_downloads_wavs/Tarcutta_April_May_2021/WetA/20210427_AAO/20210427T060000+1000_REC.wav\""
   ]
  },
  {
   "cell_type": "code",
   "execution_count": 4,
   "metadata": {},
   "outputs": [
    {
     "name": "stderr",
     "output_type": "stream",
     "text": [
      "C:\\Users\\Thomas\\AppData\\Local\\Temp\\ipykernel_35980\\4213802931.py:7: VisibleDeprecationWarning:\n",
      "\n",
      "Creating an ndarray from ragged nested sequences (which is a list-or-tuple of lists-or-tuples-or ndarrays with different lengths or shapes) is deprecated. If you meant to do this, you must specify 'dtype=object' when creating the ndarray.\n",
      "\n"
     ]
    }
   ],
   "source": [
    "fs, signal = wavfile.read(file)\n",
    "signal = signal / (2**15)\n",
    "signal_len = len(signal)\n",
    "segment_size_t = 5 # segment size in seconds\n",
    "segment_size = segment_size_t * fs  # segment size in samples\n",
    "# Break signal into list of segments in a single-line Python code\n",
    "segments = np.array([signal[x:x + segment_size] for x in\n",
    "                     np.arange(0, signal_len, segment_size)])\n",
    "# Save each segment in a seperate filename\n",
    "for iS, s in enumerate(segments):\n",
    "    wavfile.write(\"D:/PhD/audio_recorder_downloads_wavs/Tarcutta_April_May_2021/WetA/20210427_AAO/data/audio_segment_{0:d}_{1:d}.wav\".format(segment_size_t * iS,\n",
    "                                                              segment_size_t * (iS + 1)), fs, (s))"
   ]
  },
  {
   "cell_type": "code",
   "execution_count": 11,
   "metadata": {},
   "outputs": [],
   "source": [
    "import IPython\n",
    "# Remove pauses using an energy threshold = 50% of the median energy:\n",
    "energies = [(s**2).sum() / len(s) for s in segments]\n",
    "# (attention: integer overflow would occure without normalization here!)\n",
    "thres = 0.5 * np.median(energies)\n",
    "index_of_segments_to_keep = (np.where(energies > thres)[0])\n",
    "# get segments that have energies higher than a the threshold:\n",
    "segments2 = segments[index_of_segments_to_keep]\n",
    "# concatenate segments to signal:\n",
    "new_signal = np.concatenate(segments2)\n",
    "# and write to file:\n",
    "wavfile.write(\"D:/PhD/audio_recorder_downloads_wavs/Tarcutta_April_May_2021/WetA/20210427_AAO/data/20210427T000000+1000_REC_processed.wav\", fs, new_signal)\n",
    "# plotly.offline.iplot({ \"data\": [go.Scatter(y=energies, name=\"energy\"),\n",
    "#                                 go.Scatter(y=np.ones(len(energies)) * thres, \n",
    "#                                            name=\"thres\")]})\n",
    "# play the initial and the generated files in notebook:\n",
    "# IPython.display.display(IPython.display.Audio(\"D:/PhD/audio_recorder_downloads_wavs/Tarcutta_April_May_2021/WetA/20210427_AAO/data/20210427T000000+1000_REC.wav\"))\n",
    "# IPython.display.display(IPython.display.Audio(\"D:/PhD/audio_recorder_downloads_wavs/Tarcutta_April_May_2021/WetA/20210427_AAO/data/20210427T000000+1000_REC_processed.wav\"))"
   ]
  },
  {
   "cell_type": "markdown",
   "metadata": {},
   "source": [
    "Split .wav file into 5-second long non-overlapping segments"
   ]
  },
  {
   "cell_type": "code",
   "execution_count": 7,
   "metadata": {},
   "outputs": [
    {
     "name": "stdout",
     "output_type": "stream",
     "text": [
      "exporting D:/PhD/audio_recorder_downloads_wavs/Tarcutta_April_May_2021/WetA/20210427_AAO/30sec/audio_segment_0.wav\n",
      "exporting D:/PhD/audio_recorder_downloads_wavs/Tarcutta_April_May_2021/WetA/20210427_AAO/30sec/audio_segment_1.wav\n",
      "exporting D:/PhD/audio_recorder_downloads_wavs/Tarcutta_April_May_2021/WetA/20210427_AAO/30sec/audio_segment_2.wav\n",
      "exporting D:/PhD/audio_recorder_downloads_wavs/Tarcutta_April_May_2021/WetA/20210427_AAO/30sec/audio_segment_3.wav\n",
      "exporting D:/PhD/audio_recorder_downloads_wavs/Tarcutta_April_May_2021/WetA/20210427_AAO/30sec/audio_segment_4.wav\n",
      "exporting D:/PhD/audio_recorder_downloads_wavs/Tarcutta_April_May_2021/WetA/20210427_AAO/30sec/audio_segment_5.wav\n",
      "exporting D:/PhD/audio_recorder_downloads_wavs/Tarcutta_April_May_2021/WetA/20210427_AAO/30sec/audio_segment_6.wav\n",
      "exporting D:/PhD/audio_recorder_downloads_wavs/Tarcutta_April_May_2021/WetA/20210427_AAO/30sec/audio_segment_7.wav\n",
      "exporting D:/PhD/audio_recorder_downloads_wavs/Tarcutta_April_May_2021/WetA/20210427_AAO/30sec/audio_segment_8.wav\n",
      "exporting D:/PhD/audio_recorder_downloads_wavs/Tarcutta_April_May_2021/WetA/20210427_AAO/30sec/audio_segment_9.wav\n",
      "exporting D:/PhD/audio_recorder_downloads_wavs/Tarcutta_April_May_2021/WetA/20210427_AAO/30sec/audio_segment_10.wav\n",
      "exporting D:/PhD/audio_recorder_downloads_wavs/Tarcutta_April_May_2021/WetA/20210427_AAO/30sec/audio_segment_11.wav\n",
      "exporting D:/PhD/audio_recorder_downloads_wavs/Tarcutta_April_May_2021/WetA/20210427_AAO/30sec/audio_segment_12.wav\n",
      "exporting D:/PhD/audio_recorder_downloads_wavs/Tarcutta_April_May_2021/WetA/20210427_AAO/30sec/audio_segment_13.wav\n",
      "exporting D:/PhD/audio_recorder_downloads_wavs/Tarcutta_April_May_2021/WetA/20210427_AAO/30sec/audio_segment_14.wav\n",
      "exporting D:/PhD/audio_recorder_downloads_wavs/Tarcutta_April_May_2021/WetA/20210427_AAO/30sec/audio_segment_15.wav\n",
      "exporting D:/PhD/audio_recorder_downloads_wavs/Tarcutta_April_May_2021/WetA/20210427_AAO/30sec/audio_segment_16.wav\n",
      "exporting D:/PhD/audio_recorder_downloads_wavs/Tarcutta_April_May_2021/WetA/20210427_AAO/30sec/audio_segment_17.wav\n",
      "exporting D:/PhD/audio_recorder_downloads_wavs/Tarcutta_April_May_2021/WetA/20210427_AAO/30sec/audio_segment_18.wav\n",
      "exporting D:/PhD/audio_recorder_downloads_wavs/Tarcutta_April_May_2021/WetA/20210427_AAO/30sec/audio_segment_19.wav\n",
      "exporting D:/PhD/audio_recorder_downloads_wavs/Tarcutta_April_May_2021/WetA/20210427_AAO/30sec/audio_segment_20.wav\n",
      "exporting D:/PhD/audio_recorder_downloads_wavs/Tarcutta_April_May_2021/WetA/20210427_AAO/30sec/audio_segment_21.wav\n",
      "exporting D:/PhD/audio_recorder_downloads_wavs/Tarcutta_April_May_2021/WetA/20210427_AAO/30sec/audio_segment_22.wav\n",
      "exporting D:/PhD/audio_recorder_downloads_wavs/Tarcutta_April_May_2021/WetA/20210427_AAO/30sec/audio_segment_23.wav\n",
      "exporting D:/PhD/audio_recorder_downloads_wavs/Tarcutta_April_May_2021/WetA/20210427_AAO/30sec/audio_segment_24.wav\n",
      "exporting D:/PhD/audio_recorder_downloads_wavs/Tarcutta_April_May_2021/WetA/20210427_AAO/30sec/audio_segment_25.wav\n",
      "exporting D:/PhD/audio_recorder_downloads_wavs/Tarcutta_April_May_2021/WetA/20210427_AAO/30sec/audio_segment_26.wav\n",
      "exporting D:/PhD/audio_recorder_downloads_wavs/Tarcutta_April_May_2021/WetA/20210427_AAO/30sec/audio_segment_27.wav\n",
      "exporting D:/PhD/audio_recorder_downloads_wavs/Tarcutta_April_May_2021/WetA/20210427_AAO/30sec/audio_segment_28.wav\n",
      "exporting D:/PhD/audio_recorder_downloads_wavs/Tarcutta_April_May_2021/WetA/20210427_AAO/30sec/audio_segment_29.wav\n",
      "exporting D:/PhD/audio_recorder_downloads_wavs/Tarcutta_April_May_2021/WetA/20210427_AAO/30sec/audio_segment_30.wav\n",
      "exporting D:/PhD/audio_recorder_downloads_wavs/Tarcutta_April_May_2021/WetA/20210427_AAO/30sec/audio_segment_31.wav\n",
      "exporting D:/PhD/audio_recorder_downloads_wavs/Tarcutta_April_May_2021/WetA/20210427_AAO/30sec/audio_segment_32.wav\n",
      "exporting D:/PhD/audio_recorder_downloads_wavs/Tarcutta_April_May_2021/WetA/20210427_AAO/30sec/audio_segment_33.wav\n",
      "exporting D:/PhD/audio_recorder_downloads_wavs/Tarcutta_April_May_2021/WetA/20210427_AAO/30sec/audio_segment_34.wav\n",
      "exporting D:/PhD/audio_recorder_downloads_wavs/Tarcutta_April_May_2021/WetA/20210427_AAO/30sec/audio_segment_35.wav\n",
      "exporting D:/PhD/audio_recorder_downloads_wavs/Tarcutta_April_May_2021/WetA/20210427_AAO/30sec/audio_segment_36.wav\n",
      "exporting D:/PhD/audio_recorder_downloads_wavs/Tarcutta_April_May_2021/WetA/20210427_AAO/30sec/audio_segment_37.wav\n",
      "exporting D:/PhD/audio_recorder_downloads_wavs/Tarcutta_April_May_2021/WetA/20210427_AAO/30sec/audio_segment_38.wav\n",
      "exporting D:/PhD/audio_recorder_downloads_wavs/Tarcutta_April_May_2021/WetA/20210427_AAO/30sec/audio_segment_39.wav\n",
      "exporting D:/PhD/audio_recorder_downloads_wavs/Tarcutta_April_May_2021/WetA/20210427_AAO/30sec/audio_segment_40.wav\n",
      "exporting D:/PhD/audio_recorder_downloads_wavs/Tarcutta_April_May_2021/WetA/20210427_AAO/30sec/audio_segment_41.wav\n",
      "exporting D:/PhD/audio_recorder_downloads_wavs/Tarcutta_April_May_2021/WetA/20210427_AAO/30sec/audio_segment_42.wav\n",
      "exporting D:/PhD/audio_recorder_downloads_wavs/Tarcutta_April_May_2021/WetA/20210427_AAO/30sec/audio_segment_43.wav\n",
      "exporting D:/PhD/audio_recorder_downloads_wavs/Tarcutta_April_May_2021/WetA/20210427_AAO/30sec/audio_segment_44.wav\n",
      "exporting D:/PhD/audio_recorder_downloads_wavs/Tarcutta_April_May_2021/WetA/20210427_AAO/30sec/audio_segment_45.wav\n",
      "exporting D:/PhD/audio_recorder_downloads_wavs/Tarcutta_April_May_2021/WetA/20210427_AAO/30sec/audio_segment_46.wav\n",
      "exporting D:/PhD/audio_recorder_downloads_wavs/Tarcutta_April_May_2021/WetA/20210427_AAO/30sec/audio_segment_47.wav\n",
      "exporting D:/PhD/audio_recorder_downloads_wavs/Tarcutta_April_May_2021/WetA/20210427_AAO/30sec/audio_segment_48.wav\n",
      "exporting D:/PhD/audio_recorder_downloads_wavs/Tarcutta_April_May_2021/WetA/20210427_AAO/30sec/audio_segment_49.wav\n",
      "exporting D:/PhD/audio_recorder_downloads_wavs/Tarcutta_April_May_2021/WetA/20210427_AAO/30sec/audio_segment_50.wav\n",
      "exporting D:/PhD/audio_recorder_downloads_wavs/Tarcutta_April_May_2021/WetA/20210427_AAO/30sec/audio_segment_51.wav\n",
      "exporting D:/PhD/audio_recorder_downloads_wavs/Tarcutta_April_May_2021/WetA/20210427_AAO/30sec/audio_segment_52.wav\n",
      "exporting D:/PhD/audio_recorder_downloads_wavs/Tarcutta_April_May_2021/WetA/20210427_AAO/30sec/audio_segment_53.wav\n",
      "exporting D:/PhD/audio_recorder_downloads_wavs/Tarcutta_April_May_2021/WetA/20210427_AAO/30sec/audio_segment_54.wav\n",
      "exporting D:/PhD/audio_recorder_downloads_wavs/Tarcutta_April_May_2021/WetA/20210427_AAO/30sec/audio_segment_55.wav\n",
      "exporting D:/PhD/audio_recorder_downloads_wavs/Tarcutta_April_May_2021/WetA/20210427_AAO/30sec/audio_segment_56.wav\n",
      "exporting D:/PhD/audio_recorder_downloads_wavs/Tarcutta_April_May_2021/WetA/20210427_AAO/30sec/audio_segment_57.wav\n",
      "exporting D:/PhD/audio_recorder_downloads_wavs/Tarcutta_April_May_2021/WetA/20210427_AAO/30sec/audio_segment_58.wav\n",
      "exporting D:/PhD/audio_recorder_downloads_wavs/Tarcutta_April_May_2021/WetA/20210427_AAO/30sec/audio_segment_59.wav\n",
      "exporting D:/PhD/audio_recorder_downloads_wavs/Tarcutta_April_May_2021/WetA/20210427_AAO/30sec/audio_segment_60.wav\n",
      "exporting D:/PhD/audio_recorder_downloads_wavs/Tarcutta_April_May_2021/WetA/20210427_AAO/30sec/audio_segment_61.wav\n",
      "exporting D:/PhD/audio_recorder_downloads_wavs/Tarcutta_April_May_2021/WetA/20210427_AAO/30sec/audio_segment_62.wav\n",
      "exporting D:/PhD/audio_recorder_downloads_wavs/Tarcutta_April_May_2021/WetA/20210427_AAO/30sec/audio_segment_63.wav\n",
      "exporting D:/PhD/audio_recorder_downloads_wavs/Tarcutta_April_May_2021/WetA/20210427_AAO/30sec/audio_segment_64.wav\n",
      "exporting D:/PhD/audio_recorder_downloads_wavs/Tarcutta_April_May_2021/WetA/20210427_AAO/30sec/audio_segment_65.wav\n",
      "exporting D:/PhD/audio_recorder_downloads_wavs/Tarcutta_April_May_2021/WetA/20210427_AAO/30sec/audio_segment_66.wav\n",
      "exporting D:/PhD/audio_recorder_downloads_wavs/Tarcutta_April_May_2021/WetA/20210427_AAO/30sec/audio_segment_67.wav\n",
      "exporting D:/PhD/audio_recorder_downloads_wavs/Tarcutta_April_May_2021/WetA/20210427_AAO/30sec/audio_segment_68.wav\n",
      "exporting D:/PhD/audio_recorder_downloads_wavs/Tarcutta_April_May_2021/WetA/20210427_AAO/30sec/audio_segment_69.wav\n",
      "exporting D:/PhD/audio_recorder_downloads_wavs/Tarcutta_April_May_2021/WetA/20210427_AAO/30sec/audio_segment_70.wav\n",
      "exporting D:/PhD/audio_recorder_downloads_wavs/Tarcutta_April_May_2021/WetA/20210427_AAO/30sec/audio_segment_71.wav\n",
      "exporting D:/PhD/audio_recorder_downloads_wavs/Tarcutta_April_May_2021/WetA/20210427_AAO/30sec/audio_segment_72.wav\n",
      "exporting D:/PhD/audio_recorder_downloads_wavs/Tarcutta_April_May_2021/WetA/20210427_AAO/30sec/audio_segment_73.wav\n",
      "exporting D:/PhD/audio_recorder_downloads_wavs/Tarcutta_April_May_2021/WetA/20210427_AAO/30sec/audio_segment_74.wav\n",
      "exporting D:/PhD/audio_recorder_downloads_wavs/Tarcutta_April_May_2021/WetA/20210427_AAO/30sec/audio_segment_75.wav\n",
      "exporting D:/PhD/audio_recorder_downloads_wavs/Tarcutta_April_May_2021/WetA/20210427_AAO/30sec/audio_segment_76.wav\n",
      "exporting D:/PhD/audio_recorder_downloads_wavs/Tarcutta_April_May_2021/WetA/20210427_AAO/30sec/audio_segment_77.wav\n",
      "exporting D:/PhD/audio_recorder_downloads_wavs/Tarcutta_April_May_2021/WetA/20210427_AAO/30sec/audio_segment_78.wav\n",
      "exporting D:/PhD/audio_recorder_downloads_wavs/Tarcutta_April_May_2021/WetA/20210427_AAO/30sec/audio_segment_79.wav\n",
      "exporting D:/PhD/audio_recorder_downloads_wavs/Tarcutta_April_May_2021/WetA/20210427_AAO/30sec/audio_segment_80.wav\n",
      "exporting D:/PhD/audio_recorder_downloads_wavs/Tarcutta_April_May_2021/WetA/20210427_AAO/30sec/audio_segment_81.wav\n",
      "exporting D:/PhD/audio_recorder_downloads_wavs/Tarcutta_April_May_2021/WetA/20210427_AAO/30sec/audio_segment_82.wav\n",
      "exporting D:/PhD/audio_recorder_downloads_wavs/Tarcutta_April_May_2021/WetA/20210427_AAO/30sec/audio_segment_83.wav\n",
      "exporting D:/PhD/audio_recorder_downloads_wavs/Tarcutta_April_May_2021/WetA/20210427_AAO/30sec/audio_segment_84.wav\n",
      "exporting D:/PhD/audio_recorder_downloads_wavs/Tarcutta_April_May_2021/WetA/20210427_AAO/30sec/audio_segment_85.wav\n",
      "exporting D:/PhD/audio_recorder_downloads_wavs/Tarcutta_April_May_2021/WetA/20210427_AAO/30sec/audio_segment_86.wav\n",
      "exporting D:/PhD/audio_recorder_downloads_wavs/Tarcutta_April_May_2021/WetA/20210427_AAO/30sec/audio_segment_87.wav\n",
      "exporting D:/PhD/audio_recorder_downloads_wavs/Tarcutta_April_May_2021/WetA/20210427_AAO/30sec/audio_segment_88.wav\n",
      "exporting D:/PhD/audio_recorder_downloads_wavs/Tarcutta_April_May_2021/WetA/20210427_AAO/30sec/audio_segment_89.wav\n",
      "exporting D:/PhD/audio_recorder_downloads_wavs/Tarcutta_April_May_2021/WetA/20210427_AAO/30sec/audio_segment_90.wav\n",
      "exporting D:/PhD/audio_recorder_downloads_wavs/Tarcutta_April_May_2021/WetA/20210427_AAO/30sec/audio_segment_91.wav\n",
      "exporting D:/PhD/audio_recorder_downloads_wavs/Tarcutta_April_May_2021/WetA/20210427_AAO/30sec/audio_segment_92.wav\n",
      "exporting D:/PhD/audio_recorder_downloads_wavs/Tarcutta_April_May_2021/WetA/20210427_AAO/30sec/audio_segment_93.wav\n",
      "exporting D:/PhD/audio_recorder_downloads_wavs/Tarcutta_April_May_2021/WetA/20210427_AAO/30sec/audio_segment_94.wav\n",
      "exporting D:/PhD/audio_recorder_downloads_wavs/Tarcutta_April_May_2021/WetA/20210427_AAO/30sec/audio_segment_95.wav\n",
      "exporting D:/PhD/audio_recorder_downloads_wavs/Tarcutta_April_May_2021/WetA/20210427_AAO/30sec/audio_segment_96.wav\n",
      "exporting D:/PhD/audio_recorder_downloads_wavs/Tarcutta_April_May_2021/WetA/20210427_AAO/30sec/audio_segment_97.wav\n",
      "exporting D:/PhD/audio_recorder_downloads_wavs/Tarcutta_April_May_2021/WetA/20210427_AAO/30sec/audio_segment_98.wav\n",
      "exporting D:/PhD/audio_recorder_downloads_wavs/Tarcutta_April_May_2021/WetA/20210427_AAO/30sec/audio_segment_99.wav\n",
      "exporting D:/PhD/audio_recorder_downloads_wavs/Tarcutta_April_May_2021/WetA/20210427_AAO/30sec/audio_segment_100.wav\n",
      "exporting D:/PhD/audio_recorder_downloads_wavs/Tarcutta_April_May_2021/WetA/20210427_AAO/30sec/audio_segment_101.wav\n",
      "exporting D:/PhD/audio_recorder_downloads_wavs/Tarcutta_April_May_2021/WetA/20210427_AAO/30sec/audio_segment_102.wav\n",
      "exporting D:/PhD/audio_recorder_downloads_wavs/Tarcutta_April_May_2021/WetA/20210427_AAO/30sec/audio_segment_103.wav\n",
      "exporting D:/PhD/audio_recorder_downloads_wavs/Tarcutta_April_May_2021/WetA/20210427_AAO/30sec/audio_segment_104.wav\n",
      "exporting D:/PhD/audio_recorder_downloads_wavs/Tarcutta_April_May_2021/WetA/20210427_AAO/30sec/audio_segment_105.wav\n",
      "exporting D:/PhD/audio_recorder_downloads_wavs/Tarcutta_April_May_2021/WetA/20210427_AAO/30sec/audio_segment_106.wav\n",
      "exporting D:/PhD/audio_recorder_downloads_wavs/Tarcutta_April_May_2021/WetA/20210427_AAO/30sec/audio_segment_107.wav\n",
      "exporting D:/PhD/audio_recorder_downloads_wavs/Tarcutta_April_May_2021/WetA/20210427_AAO/30sec/audio_segment_108.wav\n",
      "exporting D:/PhD/audio_recorder_downloads_wavs/Tarcutta_April_May_2021/WetA/20210427_AAO/30sec/audio_segment_109.wav\n",
      "exporting D:/PhD/audio_recorder_downloads_wavs/Tarcutta_April_May_2021/WetA/20210427_AAO/30sec/audio_segment_110.wav\n",
      "exporting D:/PhD/audio_recorder_downloads_wavs/Tarcutta_April_May_2021/WetA/20210427_AAO/30sec/audio_segment_111.wav\n",
      "exporting D:/PhD/audio_recorder_downloads_wavs/Tarcutta_April_May_2021/WetA/20210427_AAO/30sec/audio_segment_112.wav\n",
      "exporting D:/PhD/audio_recorder_downloads_wavs/Tarcutta_April_May_2021/WetA/20210427_AAO/30sec/audio_segment_113.wav\n",
      "exporting D:/PhD/audio_recorder_downloads_wavs/Tarcutta_April_May_2021/WetA/20210427_AAO/30sec/audio_segment_114.wav\n",
      "exporting D:/PhD/audio_recorder_downloads_wavs/Tarcutta_April_May_2021/WetA/20210427_AAO/30sec/audio_segment_115.wav\n",
      "exporting D:/PhD/audio_recorder_downloads_wavs/Tarcutta_April_May_2021/WetA/20210427_AAO/30sec/audio_segment_116.wav\n",
      "exporting D:/PhD/audio_recorder_downloads_wavs/Tarcutta_April_May_2021/WetA/20210427_AAO/30sec/audio_segment_117.wav\n",
      "exporting D:/PhD/audio_recorder_downloads_wavs/Tarcutta_April_May_2021/WetA/20210427_AAO/30sec/audio_segment_118.wav\n",
      "exporting D:/PhD/audio_recorder_downloads_wavs/Tarcutta_April_May_2021/WetA/20210427_AAO/30sec/audio_segment_119.wav\n"
     ]
    }
   ],
   "source": [
    "from pydub import AudioSegment \n",
    "from pydub.utils import make_chunks \n",
    "\n",
    "myaudio = AudioSegment.from_file(file, \"wav\") \n",
    "chunk_length_ms = 60000 # pydub calculates in millisec \n",
    "chunks = make_chunks(myaudio,chunk_length_ms) #Make chunks of one sec \n",
    "for i, chunk in enumerate(chunks): \n",
    "    chunk_name = \"D:/PhD/audio_recorder_downloads_wavs/Tarcutta_April_May_2021/WetA/20210427_AAO/30sec/audio_segment_{0}.wav\".format(i) \n",
    "    print (\"exporting\", chunk_name) \n",
    "    chunk.export(chunk_name, format=\"wav\") "
   ]
  }
 ],
 "metadata": {
  "interpreter": {
   "hash": "0cb7461182531ee4d1fecde1160009f8d4e82a4e5b71e588d6526f0d447710c0"
  },
  "kernelspec": {
   "display_name": "Python 3.9.12 ('audiohandling')",
   "language": "python",
   "name": "python3"
  },
  "language_info": {
   "codemirror_mode": {
    "name": "ipython",
    "version": 3
   },
   "file_extension": ".py",
   "mimetype": "text/x-python",
   "name": "python",
   "nbconvert_exporter": "python",
   "pygments_lexer": "ipython3",
   "version": "3.9.12"
  },
  "orig_nbformat": 4
 },
 "nbformat": 4,
 "nbformat_minor": 2
}
