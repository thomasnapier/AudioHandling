{
 "cells": [
  {
   "cell_type": "code",
   "execution_count": 2,
   "metadata": {},
   "outputs": [
    {
     "name": "stdout",
     "output_type": "stream",
     "text": [
      "Requirement already satisfied: soundfile in c:\\users\\thomas\\conda\\envs\\audio\\lib\\site-packages (0.12.1)\n",
      "Requirement already satisfied: cffi>=1.0 in c:\\users\\thomas\\conda\\envs\\audio\\lib\\site-packages (from soundfile) (1.15.1)\n",
      "Requirement already satisfied: pycparser in c:\\users\\thomas\\conda\\envs\\audio\\lib\\site-packages (from cffi>=1.0->soundfile) (2.21)\n",
      "Note: you may need to restart the kernel to use updated packages.\n"
     ]
    },
    {
     "name": "stderr",
     "output_type": "stream",
     "text": [
      "WARNING: Ignoring invalid distribution -atplotlib (c:\\users\\thomas\\conda\\envs\\audio\\lib\\site-packages)\n",
      "WARNING: Ignoring invalid distribution -atplotlib (c:\\users\\thomas\\conda\\envs\\audio\\lib\\site-packages)\n",
      "WARNING: Ignoring invalid distribution -atplotlib (c:\\users\\thomas\\conda\\envs\\audio\\lib\\site-packages)\n",
      "WARNING: Ignoring invalid distribution -atplotlib (c:\\users\\thomas\\conda\\envs\\audio\\lib\\site-packages)\n",
      "WARNING: Ignoring invalid distribution -atplotlib (c:\\users\\thomas\\conda\\envs\\audio\\lib\\site-packages)\n",
      "WARNING: Ignoring invalid distribution -atplotlib (c:\\users\\thomas\\conda\\envs\\audio\\lib\\site-packages)\n"
     ]
    }
   ],
   "source": [
    "%pip install soundfile"
   ]
  },
  {
   "cell_type": "code",
   "execution_count": 3,
   "metadata": {},
   "outputs": [],
   "source": [
    "input_directory = 'D:\\\\PhD-data\\\\denoising\\\\pre'\n",
    "output_directory = 'D:\\\\PhD-data\\\\denoising\\\\post'"
   ]
  },
  {
   "cell_type": "code",
   "execution_count": 5,
   "metadata": {},
   "outputs": [],
   "source": [
    "import os\n",
    "import librosa\n",
    "import numpy as np\n",
    "import soundfile as sf\n",
    "\n",
    "# Function to apply spectral subtraction to an audio frame\n",
    "def apply_spectral_subtraction(frame, noise_spectrum):\n",
    "    # Apply Fourier transform\n",
    "    spectrum = np.fft.fft(frame)\n",
    "    \n",
    "    # Perform spectral subtraction\n",
    "    denoised_spectrum = np.maximum(np.abs(spectrum) - noise_spectrum, 0)\n",
    "    \n",
    "    # Apply inverse Fourier transform\n",
    "    denoised_frame = np.fft.ifft(denoised_spectrum)\n",
    "    \n",
    "    return denoised_frame.real  # Convert to real values\n",
    "\n",
    "# Parameters\n",
    "frame_duration = 4.5  # Duration of each frame in seconds\n",
    "\n",
    "# Iterate over the directory structure\n",
    "for root, dirs, files in os.walk(input_directory):\n",
    "    # Create corresponding directories in the output structure\n",
    "    output_root = root.replace(input_directory, output_directory)\n",
    "    os.makedirs(output_root, exist_ok=True)\n",
    "    \n",
    "    # Iterate over the audio files\n",
    "    for file in files:\n",
    "        if file.endswith('.wav'):\n",
    "            # Load the audio file\n",
    "            audio_path = os.path.join(root, file)\n",
    "            audio, sr = librosa.load(audio_path, sr=None)\n",
    "            \n",
    "            # Calculate the number of frames\n",
    "            frame_length = int(frame_duration * sr)\n",
    "            num_frames = len(audio) // frame_length\n",
    "            \n",
    "            # Apply spectral subtraction to each frame\n",
    "            denoised_audio = []\n",
    "            for i in range(num_frames):\n",
    "                start = i * frame_length\n",
    "                end = (i + 1) * frame_length\n",
    "                \n",
    "                # Extract frame\n",
    "                frame = audio[start:end]\n",
    "                \n",
    "                # Estimate noise spectrum (assuming it is stationary)\n",
    "                if i == 0:\n",
    "                    noise_spectrum = np.mean(np.abs(np.fft.fft(frame)))\n",
    "                \n",
    "                # Apply spectral subtraction to the frame\n",
    "                denoised_frame = apply_spectral_subtraction(frame, noise_spectrum)\n",
    "                \n",
    "                # Collect the denoised frames\n",
    "                denoised_audio.extend(denoised_frame)\n",
    "            \n",
    "            # Save the denoised audio file\n",
    "            output_path = os.path.join(output_root, file)\n",
    "            sf.write(output_path, np.asarray(denoised_audio), sr)\n"
   ]
  }
 ],
 "metadata": {
  "kernelspec": {
   "display_name": "audiohandling",
   "language": "python",
   "name": "python3"
  },
  "language_info": {
   "codemirror_mode": {
    "name": "ipython",
    "version": 3
   },
   "file_extension": ".py",
   "mimetype": "text/x-python",
   "name": "python",
   "nbconvert_exporter": "python",
   "pygments_lexer": "ipython3",
   "version": "3.9.12"
  },
  "orig_nbformat": 4
 },
 "nbformat": 4,
 "nbformat_minor": 2
}
