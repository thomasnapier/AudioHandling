{
 "cells": [
  {
   "attachments": {},
   "cell_type": "markdown",
   "metadata": {},
   "source": [
    "Fixed-size segmentation of Audio Samples"
   ]
  },
  {
   "cell_type": "code",
   "execution_count": null,
   "metadata": {},
   "outputs": [
    {
     "ename": "",
     "evalue": "",
     "output_type": "error",
     "traceback": [
      "\u001b[1;31mThe kernel failed to start due to an error with the Win32api module. Consider (re) installing this module.\n",
      "\u001b[1;31mClick <a href='https://aka.ms/kernelFailuresWin32Api'>here</a> for more info."
     ]
    }
   ],
   "source": [
    "%pip install pydub"
   ]
  },
  {
   "cell_type": "code",
   "execution_count": null,
   "metadata": {},
   "outputs": [
    {
     "ename": "",
     "evalue": "",
     "output_type": "error",
     "traceback": [
      "\u001b[1;31mThe kernel failed to start due to an error with the Win32api module. Consider (re) installing this module.\n",
      "\u001b[1;31mClick <a href='https://aka.ms/kernelFailuresWin32Api'>here</a> for more info."
     ]
    }
   ],
   "source": [
    "# Read WAV and MP3 files to array\n",
    "\n",
    "from pydub import AudioSegment\n",
    "import numpy as np\n",
    "from scipy.io import wavfile\n",
    "from plotly.offline import init_notebook_mode\n",
    "import plotly.graph_objs as go\n",
    "import plotly\n",
    "\n",
    "file = \"E:\\\\audio_recorder_downloads_wavs\\\\Tarcutta_April_May_2021\\\\DryA\\\\20210427_AAO\\\\20210427T060000+1000_REC.wav\""
   ]
  },
  {
   "attachments": {},
   "cell_type": "markdown",
   "metadata": {},
   "source": [
    "below does not work - .wav files are unsupported"
   ]
  },
  {
   "cell_type": "code",
   "execution_count": null,
   "metadata": {},
   "outputs": [
    {
     "ename": "",
     "evalue": "",
     "output_type": "error",
     "traceback": [
      "\u001b[1;31mThe kernel failed to start due to an error with the Win32api module. Consider (re) installing this module.\n",
      "\u001b[1;31mClick <a href='https://aka.ms/kernelFailuresWin32Api'>here</a> for more info."
     ]
    }
   ],
   "source": [
    "fs, signal = wavfile.read(file)\n",
    "signal = signal / (2**15)\n",
    "signal_len = len(signal)\n",
    "segment_size_t = 60 # segment size in seconds\n",
    "segment_size = segment_size_t * fs  # segment size in samples\n",
    "# Break signal into list of segments in a single-line Python code\n",
    "segments = np.array([signal[x:x + segment_size] for x in\n",
    "                     np.arange(0, signal_len, segment_size)])\n",
    "# Save each segment in a seperate filename\n",
    "for iS, s in enumerate(segments):\n",
    "    wavfile.write(\"D:/PhD-data/tarcutta-half-day/60 sec chunks/20210427T060000+1000_REC_audio_segment_{0:d}_{1:d}.wav\".format(segment_size_t * iS,\n",
    "                                                              segment_size_t * (iS + 1)), fs, (s))"
   ]
  },
  {
   "cell_type": "code",
   "execution_count": null,
   "metadata": {},
   "outputs": [
    {
     "ename": "",
     "evalue": "",
     "output_type": "error",
     "traceback": [
      "\u001b[1;31mThe kernel failed to start due to an error with the Win32api module. Consider (re) installing this module.\n",
      "\u001b[1;31mClick <a href='https://aka.ms/kernelFailuresWin32Api'>here</a> for more info."
     ]
    }
   ],
   "source": [
    "# import IPython\n",
    "# # Remove pauses using an energy threshold = 50% of the median energy:\n",
    "# energies = [(s**2).sum() / len(s) for s in segments]\n",
    "# # (attention: integer overflow would occure without normalization here!)\n",
    "# thres = 0.5 * np.median(energies)\n",
    "# index_of_segments_to_keep = (np.where(energies > thres)[0])\n",
    "# # get segments that have energies higher than a the threshold:\n",
    "# segments2 = segments[index_of_segments_to_keep]\n",
    "# # concatenate segments to signal:\n",
    "# new_signal = np.concatenate(segments2)\n",
    "# # and write to file:\n",
    "# wavfile.write(\"D:/PhD-data/Wambiana/60 sec chunks/processed.wav\", fs, new_signal)\n",
    "# # plotly.offline.iplot({ \"data\": [go.Scatter(y=energies, name=\"energy\"),\n",
    "# #                                 go.Scatter(y=np.ones(len(energies)) * thres, \n",
    "# #                                            name=\"thres\")]})\n",
    "# # play the initial and the generated files in notebook:\n",
    "# # IPython.display.display(IPython.display.Audio(\"D:/PhD/audio_recorder_downloads_wavs/Tarcutta_April_May_2021/WetA/20210427_AAO/data/20210427T000000+1000_REC.wav\"))\n",
    "# # IPython.display.display(IPython.display.Audio(\"D:/PhD/audio_recorder_downloads_wavs/Tarcutta_April_May_2021/WetA/20210427_AAO/data/20210427T000000+1000_REC_processed.wav\"))"
   ]
  },
  {
   "attachments": {},
   "cell_type": "markdown",
   "metadata": {},
   "source": [
    "Split .wav file into 5-second long non-overlapping segments"
   ]
  },
  {
   "cell_type": "code",
   "execution_count": null,
   "metadata": {},
   "outputs": [
    {
     "ename": "",
     "evalue": "",
     "output_type": "error",
     "traceback": [
      "\u001b[1;31mThe kernel failed to start due to an error with the Win32api module. Consider (re) installing this module.\n",
      "\u001b[1;31mClick <a href='https://aka.ms/kernelFailuresWin32Api'>here</a> for more info."
     ]
    }
   ],
   "source": [
    "from pydub import AudioSegment \n",
    "from pydub.utils import make_chunks \n",
    "\n",
    "myaudio = AudioSegment.from_file(file, \"wav\") \n",
    "chunk_length_ms = 60000 # pydub calculates in millisec (60 sec)\n",
    "chunks = make_chunks(myaudio,chunk_length_ms) #Make chunks of one sec \n",
    "for i, chunk in enumerate(chunks): \n",
    "    chunk_name = \"D:/PhD-data/tarcutta-half-day/60 sec chunks/audio_segment{0}.wav\".format(i) \n",
    "    print (\"exporting\", chunk_name) \n",
    "    chunk.export(chunk_name, format=\"wav\") "
   ]
  },
  {
   "attachments": {},
   "cell_type": "markdown",
   "metadata": {},
   "source": [
    "Iterate through folders of audio files and generate a copy of the folder structure with all audio files split into 4.5 second segments"
   ]
  },
  {
   "cell_type": "code",
   "execution_count": null,
   "metadata": {},
   "outputs": [
    {
     "ename": "",
     "evalue": "",
     "output_type": "error",
     "traceback": [
      "\u001b[1;31mThe kernel failed to start due to an error with the Win32api module. Consider (re) installing this module.\n",
      "\u001b[1;31mClick <a href='https://aka.ms/kernelFailuresWin32Api'>here</a> for more info."
     ]
    }
   ],
   "source": [
    "geo_path = \"D:\\\\esc\\\\data\\\\geophony\"\n",
    "anthro_path = \"D:\\\\esc\\\\data\\\\anthrophony\"\n",
    "bio_path = \"D:\\\\esc\\\\data\\\\biophony\"\n",
    "other_path = \"D:\\\\esc\\\\data\\\\other\"\n",
    "output_path = \"D:\\\\esc\\\\processeddata\"\n",
    "\n",
    "file_paths = [geo_path, anthro_path, bio_path, other_path]"
   ]
  },
  {
   "cell_type": "code",
   "execution_count": null,
   "metadata": {},
   "outputs": [
    {
     "ename": "",
     "evalue": "",
     "output_type": "error",
     "traceback": [
      "\u001b[1;31mThe kernel failed to start due to an error with the Win32api module. Consider (re) installing this module.\n",
      "\u001b[1;31mClick <a href='https://aka.ms/kernelFailuresWin32Api'>here</a> for more info."
     ]
    }
   ],
   "source": [
    "import os\n",
    "from pydub import AudioSegment\n",
    "\n",
    "# define the directory containing the subdirectories\n",
    "parent_dir = \"D:\\\\PhD-data\\\\tarcutta-half-day\"\n",
    "\n",
    "# loop through each subdirectory\n",
    "for subdir in os.listdir(parent_dir):\n",
    "    # construct the path to the subdirectory\n",
    "    subdir_path = os.path.join(parent_dir, subdir)\n",
    "    \n",
    "    # check if the subdirectory is a directory\n",
    "    if os.path.isdir(subdir_path):\n",
    "        # loop through each .wav file in the subdirectory\n",
    "        for filename in os.listdir(subdir_path):\n",
    "            # construct the path to the .wav file\n",
    "            filepath = os.path.join(subdir_path, filename)\n",
    "            \n",
    "            # check if the file is a .wav file\n",
    "            if filename.endswith(\".wav\"):\n",
    "                # load the audio file using pydub\n",
    "                audio = AudioSegment.from_file(filepath, format=\"wav\")\n",
    "                \n",
    "                # split the audio file into 4.5 second non-overlapping chunks\n",
    "                chunk_length_ms = 4500\n",
    "                chunks = [audio[i:i+chunk_length_ms] for i in range(0, len(audio), chunk_length_ms)]\n",
    "                \n",
    "                # remove any chunks that are less than 4.5 seconds long\n",
    "                chunks = [chunk for chunk in chunks if len(chunk) == chunk_length_ms]\n",
    "                \n",
    "                # check if there are any chunks left\n",
    "                if chunks:\n",
    "                    # loop through each chunk and save it as a new .wav file\n",
    "                    for i, chunk in enumerate(chunks):\n",
    "                        chunk_filename = f\"{os.path.splitext(filename)[0]}_{i+1}.wav\"\n",
    "                        chunk_filepath = os.path.join(subdir_path, chunk_filename)\n",
    "                        chunk.export(chunk_filepath, format=\"wav\")\n",
    "                        \n",
    "                # remove the file if it's less than 4.5 seconds long or cannot be split evenly into 4.5-second chunks\n",
    "                else:\n",
    "                    os.remove(filepath)\n"
   ]
  },
  {
   "cell_type": "code",
   "execution_count": null,
   "metadata": {},
   "outputs": [
    {
     "ename": "",
     "evalue": "",
     "output_type": "error",
     "traceback": [
      "\u001b[1;31mThe kernel failed to start due to an error with the Win32api module. Consider (re) installing this module.\n",
      "\u001b[1;31mClick <a href='https://aka.ms/kernelFailuresWin32Api'>here</a> for more info."
     ]
    }
   ],
   "source": [
    "import os\n",
    "from matplotlib.backends.backend_agg import FigureCanvasAgg as FigureCanvas\n",
    "import numpy as np\n",
    "import pandas as pd\n",
    "from pydub import AudioSegment \n",
    "from pydub.utils import make_chunks \n",
    "\n",
    "path = \"D:\\\\PhD-data\\\\tarcutta-half-day\"\n",
    "# for path in file_paths:\n",
    "for subdir, dirs, files in os.walk(path):\n",
    "    for file in files:\n",
    "        filepath = subdir + os.sep + file\n",
    "\n",
    "        if filepath.endswith(\".wav\"):\n",
    "            print(filepath)\n",
    "            myaudio = AudioSegment.from_file(filepath, \"wav\") \n",
    "            chunk_length_ms = 4500 # pydub calculates in millisec (4.5 sec)\n",
    "            chunks = make_chunks(myaudio,chunk_length_ms) #Make chunks of 4.5 sec \n",
    "            for i, chunk in enumerate(chunks):\n",
    "                chunk_name = \"chunk{}{}.wav\".format(file, i) \n",
    "                print (\"exporting\", chunk_name)\n",
    "                chunk.export(subdir + \"\\\\\" + chunk_name, format=\"wav\") "
   ]
  },
  {
   "cell_type": "code",
   "execution_count": null,
   "metadata": {},
   "outputs": [
    {
     "ename": "",
     "evalue": "",
     "output_type": "error",
     "traceback": [
      "\u001b[1;31mThe kernel failed to start due to an error with the Win32api module. Consider (re) installing this module.\n",
      "\u001b[1;31mClick <a href='https://aka.ms/kernelFailuresWin32Api'>here</a> for more info."
     ]
    }
   ],
   "source": [
    "import os\n",
    "import wave\n",
    "\n",
    "def split_audio_files(input_folder, output_folder):\n",
    "    # Create the output folder if it doesn't exist\n",
    "    if not os.path.exists(output_folder):\n",
    "        os.makedirs(output_folder)\n",
    "\n",
    "    # Get a list of all .wav files in the input folder\n",
    "    audio_files = [f for f in os.listdir(input_folder) if f.endswith('.wav')]\n",
    "\n",
    "    for file in audio_files:\n",
    "        file_path = os.path.join(input_folder, file)\n",
    "        \n",
    "        # Open the audio file\n",
    "        with wave.open(file_path, 'rb') as audio:\n",
    "            frame_rate = audio.getframerate()\n",
    "            num_channels = audio.getnchannels()\n",
    "            bytes_per_sample = audio.getsampwidth()\n",
    "\n",
    "            # Calculate the number of frames for a 4.5-second duration\n",
    "            frames_per_chunk = int(frame_rate * 4.5)\n",
    "\n",
    "            # Calculate the number of frames for the whole audio file\n",
    "            total_frames = audio.getnframes()\n",
    "\n",
    "            # Calculate the total number of chunks\n",
    "            total_chunks = total_frames // frames_per_chunk\n",
    "\n",
    "            total_time = 0\n",
    "            # Read and split the audio file into chunks\n",
    "            for chunk_index in range(total_chunks):\n",
    "                # Read the frames for the current chunk\n",
    "                frames = audio.readframes(frames_per_chunk)\n",
    "    \n",
    "                # Create a new file name for the chunk\n",
    "                chunk_file_name = f'{os.path.splitext(file)[0]}_{total_time}-{total_time + 4.5}.wav'\n",
    "                chunk_file_path = os.path.join(output_folder, chunk_file_name)\n",
    "\n",
    "                total_time += 4.5\n",
    "                # Write the chunk frames to a new .wav file\n",
    "                with wave.open(chunk_file_path, 'wb') as chunk_audio:\n",
    "                    chunk_audio.setnchannels(num_channels)\n",
    "                    chunk_audio.setsampwidth(bytes_per_sample)\n",
    "                    chunk_audio.setframerate(frame_rate)\n",
    "                    chunk_audio.writeframes(frames)\n",
    "\n",
    "        print(f'File {file} split into {total_chunks} chunks.')\n",
    "\n",
    "split_audio_files('E:\\\\audio_recorder_downloads_wavs\\\\Tarcutta_April_May_2021\\\\DryA\\\\20210427_AAO', 'D:\\\\PhD-data\\\\Tarcutta-DryA')\n"
   ]
  },
  {
   "cell_type": "code",
   "execution_count": null,
   "metadata": {},
   "outputs": [
    {
     "ename": "",
     "evalue": "",
     "output_type": "error",
     "traceback": [
      "\u001b[1;31mThe kernel failed to start due to an error with the Win32api module. Consider (re) installing this module.\n",
      "\u001b[1;31mClick <a href='https://aka.ms/kernelFailuresWin32Api'>here</a> for more info."
     ]
    }
   ],
   "source": [
    "import os\n",
    "import wave\n",
    "\n",
    "def split_audio_files(input_folder, output_folder, duration):\n",
    "    # Create the output folder if it doesn't exist\n",
    "    if not os.path.exists(output_folder):\n",
    "        os.makedirs(output_folder)\n",
    "\n",
    "    # Get a list of all .wav files in the input folder\n",
    "    audio_files = [f for f in os.listdir(input_folder) if f.endswith('.flac') or f.endswith('.wav')]\n",
    "\n",
    "    for file in audio_files:\n",
    "        file_path = os.path.join(input_folder, file)\n",
    "        \n",
    "        # Open the audio file\n",
    "        with wave.open(file_path, 'rb') as audio:\n",
    "            frame_rate = audio.getframerate()\n",
    "            num_channels = audio.getnchannels()\n",
    "            bytes_per_sample = audio.getsampwidth()\n",
    "\n",
    "            # Calculate the number of frames for a 4.5-second duration\n",
    "            frames_per_chunk = int(frame_rate * 4.5)\n",
    "\n",
    "            # Calculate the number of frames for the whole audio file\n",
    "            total_frames = audio.getnframes()\n",
    "\n",
    "            # Calculate the total number of chunks\n",
    "            total_chunks = total_frames // frames_per_chunk\n",
    "\n",
    "            total_time = 0\n",
    "            duration_seconds = duration * 60  # Convert duration from minutes to seconds\n",
    "\n",
    "            # Read and split the audio file into chunks\n",
    "            for chunk_index in range(total_chunks):\n",
    "                # Read the frames for the current chunk\n",
    "                frames = audio.readframes(frames_per_chunk)\n",
    "\n",
    "                # Break out of the loop if the total_time exceeds the duration_seconds\n",
    "                if total_time > duration_seconds:\n",
    "                    break\n",
    "    \n",
    "                # Create a new file name for the chunk\n",
    "                chunk_file_name = f'{os.path.splitext(file)[0]}_{total_time}-{total_time + 4.5}.wav'\n",
    "                chunk_file_path = os.path.join(output_folder, chunk_file_name)\n",
    "\n",
    "                total_time += 4.5\n",
    "                # Write the chunk frames to a new .wav file\n",
    "                with wave.open(chunk_file_path, 'wb') as chunk_audio:\n",
    "                    chunk_audio.setnchannels(num_channels)\n",
    "                    chunk_audio.setsampwidth(bytes_per_sample)\n",
    "                    chunk_audio.setframerate(frame_rate)\n",
    "                    chunk_audio.writeframes(frames)\n",
    "\n",
    "        print(f'File {file} split into {total_chunks} chunks.')\n",
    "\n",
    "split_audio_files('D:\\\\PhD-data\\\\testers', 'D:\\\\PhD-data\\\\test', duration=20)"
   ]
  },
  {
   "cell_type": "markdown",
   "metadata": {},
   "source": [
    "latest below 02-11-23 "
   ]
  },
  {
   "cell_type": "code",
   "execution_count": 7,
   "metadata": {},
   "outputs": [
    {
     "name": "stdout",
     "output_type": "stream",
     "text": [
      "File 20210203T033909+1000_Daintree-Rainforest-Observatory-Dry-B_489445.flac split into 276 chunks.\n"
     ]
    }
   ],
   "source": [
    "import os\n",
    "from pydub import AudioSegment\n",
    "\n",
    "def split_audio_files(input_folder, output_folder, duration):\n",
    "    if not os.path.exists(output_folder):\n",
    "        os.makedirs(output_folder)\n",
    "\n",
    "    # Get a list of all audio files in the input folder\n",
    "    audio_files = [f for f in os.listdir(input_folder) if f.endswith('.wav') or f.endswith('.mp3') or f.endswith('.flac')]\n",
    "\n",
    "    for file in audio_files:\n",
    "        file_format = file.rsplit('.', 1)[1]\n",
    "        if file_format == \"flac\":\n",
    "            file_format = \"flac\"  # correct format name for flac\n",
    "        elif file_format == \"mp3\":\n",
    "            file_format = \"mp3\"\n",
    "        elif file_format == \"wav\":\n",
    "            file_format = \"wav\"\n",
    "        else:\n",
    "            raise ValueError(f\"Unsupported file format: {file_format}\")\n",
    "        file_path = os.path.join(input_folder, file)\n",
    "        # Load the audio file with pydub\n",
    "        audio = AudioSegment.from_file(file_path)\n",
    "\n",
    "        frame_rate = audio.frame_rate\n",
    "        duration_seconds = duration * 60  # Convert duration from minutes to seconds\n",
    "        chunk_length_ms = 4500  # Length of each audio chunk in milliseconds\n",
    "\n",
    "        total_length_ms = len(audio)\n",
    "        total_chunks = total_length_ms // chunk_length_ms\n",
    "        total_time_ms = 0\n",
    "\n",
    "        for chunk_index in range(total_chunks):\n",
    "            if total_time_ms > duration_seconds * 1000:\n",
    "                break\n",
    "\n",
    "            start_time = chunk_index * chunk_length_ms\n",
    "            end_time = start_time + chunk_length_ms\n",
    "            chunk_data = audio[start_time:end_time]\n",
    "\n",
    "            # Use the file_format variable instead of slicing the original filename\n",
    "            chunk_file_name = f'{os.path.splitext(file)[0]}_{total_time_ms//1000}-{(total_time_ms + chunk_length_ms)//1000}.{file_format}'\n",
    "            chunk_file_path = os.path.join(output_folder, chunk_file_name)\n",
    "\n",
    "            # Export using the determined file format\n",
    "            chunk_data.export(chunk_file_path, format=file_format)\n",
    "            total_time_ms += chunk_length_ms\n",
    "\n",
    "        print(f'File {file} split into {total_chunks} chunks.')\n",
    "\n",
    "# Example call\n",
    "split_audio_files('D:\\\\PhD-data\\\\testers', 'D:\\\\PhD-data\\\\test', duration=20)"
   ]
  }
 ],
 "metadata": {
  "interpreter": {
   "hash": "0cb7461182531ee4d1fecde1160009f8d4e82a4e5b71e588d6526f0d447710c0"
  },
  "kernelspec": {
   "display_name": "Python 3.9.12 ('audiohandling')",
   "language": "python",
   "name": "python3"
  },
  "language_info": {
   "codemirror_mode": {
    "name": "ipython",
    "version": 3
   },
   "file_extension": ".py",
   "mimetype": "text/x-python",
   "name": "python",
   "nbconvert_exporter": "python",
   "pygments_lexer": "ipython3",
   "version": "3.9.12"
  },
  "orig_nbformat": 4
 },
 "nbformat": 4,
 "nbformat_minor": 2
}
