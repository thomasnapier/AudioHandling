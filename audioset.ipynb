{
 "cells": [
  {
   "cell_type": "code",
   "execution_count": 5,
   "metadata": {},
   "outputs": [],
   "source": [
    "old_path = \"D:\\\\Audio Data\"\n",
    "new_path = \"D:\\\\AudioSet\""
   ]
  },
  {
   "cell_type": "code",
   "execution_count": 6,
   "metadata": {},
   "outputs": [],
   "source": [
    "import os\n",
    "import shutil\n",
    "\n",
    "# Set the path to the folder containing all subfolders\n",
    "root_dir = old_path\n",
    "\n",
    "# Set the path to the directory where subfolders will be saved\n",
    "save_dir = new_path\n",
    "\n",
    "# Create the save directory if it doesn't exist\n",
    "if not os.path.exists(save_dir):\n",
    "    os.makedirs(save_dir)\n",
    "\n",
    "# Iterate over each subfolder\n",
    "for subdir in os.listdir(root_dir):\n",
    "    subdir_path = os.path.join(root_dir, subdir)\n",
    "\n",
    "    # Check if the current item in the directory is a folder\n",
    "    if os.path.isdir(subdir_path):\n",
    "        # Create a new folder with the same name as the current subfolder in the save directory\n",
    "        new_folder_path = os.path.join(save_dir, subdir)\n",
    "\n",
    "        if not os.path.exists(new_folder_path):\n",
    "            os.makedirs(new_folder_path)\n",
    "\n",
    "        # Iterate over each sub-subfolder\n",
    "        for subsubdir in os.listdir(subdir_path):\n",
    "            subsubdir_path = os.path.join(subdir_path, subsubdir)\n",
    "\n",
    "            # Check if the current item in the directory is a folder\n",
    "            if os.path.isdir(subsubdir_path):\n",
    "                # Iterate over each .wav file in the sub-subfolder and copy it to the new folder\n",
    "                for file in os.listdir(subsubdir_path):\n",
    "                    if file.endswith(\".wav\"):\n",
    "                        file_path = os.path.join(subsubdir_path, file)\n",
    "                        shutil.copy(file_path, new_folder_path)\n"
   ]
  },
  {
   "cell_type": "code",
   "execution_count": 8,
   "metadata": {},
   "outputs": [],
   "source": [
    "import os\n",
    "from pydub import AudioSegment\n",
    "\n",
    "# define the directory containing the subdirectories\n",
    "parent_dir = \"D:\\\\PhD-data\\\\Wambiana\"\n",
    "\n",
    "# loop through each subdirectory\n",
    "for subdir in os.listdir(parent_dir):\n",
    "    # construct the path to the subdirectory\n",
    "    subdir_path = os.path.join(parent_dir, subdir)\n",
    "    \n",
    "    # check if the subdirectory is a directory\n",
    "    if os.path.isdir(subdir_path):\n",
    "        # loop through each .wav file in the subdirectory\n",
    "        for filename in os.listdir(subdir_path):\n",
    "            # construct the path to the .wav file\n",
    "            filepath = os.path.join(subdir_path, filename)\n",
    "            \n",
    "            # check if the file is a .wav file\n",
    "            if filename.endswith(\".wav\"):\n",
    "                # load the audio file using pydub\n",
    "                audio = AudioSegment.from_file(filepath, format=\"wav\")\n",
    "                \n",
    "                # check if the audio file is at least 4.5 seconds long\n",
    "                if len(audio) >= 4500:\n",
    "                    # split the audio file into 4.5 second non-overlapping chunks\n",
    "                    chunks = audio[::4500]\n",
    "                    \n",
    "                    # loop through each chunk and save it as a new .wav file\n",
    "                    for i, chunk in enumerate(chunks):\n",
    "                        chunk_filename = f\"{os.path.splitext(filename)[0]}_{i+1}.wav\"\n",
    "                        chunk_filepath = os.path.join(subdir_path, chunk_filename)\n",
    "                        chunk.export(chunk_filepath, format=\"wav\")\n",
    "                        \n",
    "                # remove the file if it's less than 4.5 seconds long\n",
    "                else:\n",
    "                    os.remove(filepath)\n"
   ]
  }
 ],
 "metadata": {
  "kernelspec": {
   "display_name": "env-02",
   "language": "python",
   "name": "python3"
  },
  "language_info": {
   "codemirror_mode": {
    "name": "ipython",
    "version": 3
   },
   "file_extension": ".py",
   "mimetype": "text/x-python",
   "name": "python",
   "nbconvert_exporter": "python",
   "pygments_lexer": "ipython3",
   "version": "3.9.7"
  },
  "orig_nbformat": 4
 },
 "nbformat": 4,
 "nbformat_minor": 2
}
