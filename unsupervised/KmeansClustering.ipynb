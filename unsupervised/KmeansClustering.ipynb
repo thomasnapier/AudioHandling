{
 "cells": [
  {
   "attachments": {},
   "cell_type": "markdown",
   "metadata": {},
   "source": [
    "https://www.dominodatalab.com/blog/getting-started-with-k-means-clustering-in-python"
   ]
  },
  {
   "cell_type": "code",
   "execution_count": null,
   "metadata": {},
   "outputs": [],
   "source": [
    "from sklearn.cluster import KMeans\n",
    "from sklearn import datasets\n",
    "from sklearn.utils import shuffle\n",
    "import pandas as pd\n",
    "import numpy as np\n",
    "import matplotlib.pyplot as plt\n",
    "from sklearn import preprocessing\n",
    "# import some data to play with\n",
    "data = pd.read_csv('kmeans.csv', header='infer')\n",
    "le = preprocessing.LabelEncoder()\n",
    "le.fit(data['class'])\n",
    "data['class']=le.transform(data['class'])\n",
    "\n",
    "#data1 = data.drop(columns=['class', \"mfcc_2_mean\", \"mfcc_3_mean\",  \"mfcc_4_mean\", \"mfcc_5_mean\", \"mfcc_6_mean\", \"mfcc_7_mean\", \"mfcc_8_mean\",\"mfcc_9_mean\",\"mfcc_10_mean\",\"mfcc_11_mean\",\"mfcc_12_mean\",\t\"mfcc_13_mean\"])\n",
    "data1 = data.sample(frac=0.05, replace=True, random_state=1)\n",
    "data = data.sample(frac=0.05, replace=True, random_state=1)\n",
    "\n",
    "X = data1\n",
    "y = data['class']\n",
    "#names = iris.feature_names"
   ]
  },
  {
   "cell_type": "code",
   "execution_count": null,
   "metadata": {},
   "outputs": [],
   "source": [
    "\n",
    "#Put data onto the same standard scale\n",
    "from sklearn.preprocessing import MinMaxScaler\n",
    "from sklearn.preprocessing import StandardScaler\n",
    "\n",
    "scaler=StandardScaler()\n",
    "scaler.fit(data1)\n",
    "data1=scaler.fit_transform(data1)\n",
    "data1"
   ]
  },
  {
   "cell_type": "code",
   "execution_count": null,
   "metadata": {},
   "outputs": [],
   "source": []
  },
  {
   "cell_type": "code",
   "execution_count": null,
   "metadata": {},
   "outputs": [],
   "source": [
    "plt.scatter(data1[1:,0],data1[1:,1:])\n",
    "plt.xlabel('ZCR_MEAN')\n",
    "plt.ylabel('MFCC_1_MEAN')\n",
    "plt.show()"
   ]
  },
  {
   "cell_type": "code",
   "execution_count": null,
   "metadata": {},
   "outputs": [],
   "source": [
    "kmeans = KMeans(n_clusters=4, random_state=42) \n",
    "kmeans.fit(X)\n",
    "y_kmeans = kmeans.predict(X)"
   ]
  },
  {
   "cell_type": "code",
   "execution_count": null,
   "metadata": {},
   "outputs": [],
   "source": [
    "kmeans.labels_"
   ]
  },
  {
   "cell_type": "code",
   "execution_count": null,
   "metadata": {},
   "outputs": [],
   "source": [
    "from sklearn.metrics import confusion_matrix\n",
    "conf_matrix=confusion_matrix(y, kmeans.labels_) \n",
    "\n",
    "fig, ax = plt.subplots(figsize=(7.5, 7.5))\n",
    "ax.matshow(conf_matrix, cmap=plt.cm.Blues, alpha=0.3)\n",
    "for i in range(conf_matrix.shape[0]):\n",
    "    for j in range(conf_matrix.shape[1]):\n",
    "        ax.text(x=j, y=i,s=conf_matrix[i, j], va='center', \n",
    "                ha='center', size='xx-large')\n",
    " \n",
    "plt.xlabel('Predictions', fontsize=18)\n",
    "plt.ylabel('Actuals', fontsize=18)\n",
    "plt.title('Confusion Matrix', fontsize=18)\n",
    "plt.show()"
   ]
  },
  {
   "cell_type": "code",
   "execution_count": null,
   "metadata": {},
   "outputs": [],
   "source": [
    "kmeans.cluster_centers_\n"
   ]
  },
  {
   "cell_type": "code",
   "execution_count": null,
   "metadata": {},
   "outputs": [],
   "source": [
    "plt.scatter(X.iloc[:, 0], X.iloc[:, 1], c=y_kmeans, s=50, cmap='viridis')\n",
    "\n",
    "centers = kmeans.cluster_centers_\n",
    "plt.scatter(centers[:, 0], centers[:, 1], c='black', s=200, alpha=0.5);"
   ]
  },
  {
   "attachments": {},
   "cell_type": "markdown",
   "metadata": {},
   "source": [
    "https://notebook.community/ml4a/ml4a-guides/notebooks/audio-tsne"
   ]
  },
  {
   "cell_type": "code",
   "execution_count": null,
   "metadata": {},
   "outputs": [],
   "source": [
    "%pip install librosa==0.7.0\n"
   ]
  },
  {
   "cell_type": "code",
   "execution_count": 1,
   "metadata": {},
   "outputs": [],
   "source": [
    "%matplotlib inline\n",
    "from matplotlib import pyplot as plt\n",
    "import matplotlib.cm as cm\n",
    "import fnmatch\n",
    "import os\n",
    "import librosa\n",
    "import numpy as np\n",
    "import matplotlib.pyplot as plt\n",
    "from sklearn.manifold import TSNE\n",
    "import json\n",
    "from sklearn.cluster import KMeans\n",
    "import pandas as pd"
   ]
  },
  {
   "attachments": {},
   "cell_type": "markdown",
   "metadata": {},
   "source": [
    "scan some directory of audio files and collect all their paths into a single list"
   ]
  },
  {
   "cell_type": "code",
   "execution_count": 22,
   "metadata": {},
   "outputs": [
    {
     "name": "stdout",
     "output_type": "stream",
     "text": [
      "found 22428 .wav files in D:\\PhD-data\\Rinyirru_Jun_2021-DryA-7days\n"
     ]
    }
   ],
   "source": [
    "path = 'D:\\\\PhD-data\\\\Rinyirru_Jun_2021-DryA-7days'\n",
    "\n",
    "files = []\n",
    "for root, dirnames, filenames in os.walk(path):\n",
    "    for filename in fnmatch.filter(filenames, '*.wav'):\n",
    "        files.append(os.path.join(root, filename))\n",
    "\n",
    "print(\"found %d .wav files in %s\"%(len(files),path))"
   ]
  },
  {
   "cell_type": "code",
   "execution_count": null,
   "metadata": {},
   "outputs": [],
   "source": [
    "# import librosa\n",
    "# import numpy as np\n",
    "# import pandas as pd\n",
    "\n",
    "# # Create an empty list to store the extracted features\n",
    "# features = []\n",
    "\n",
    "# # Loop through all file paths\n",
    "# for file_path in files:\n",
    "#     # Load the audio file\n",
    "#     y, sr = librosa.load(file_path)\n",
    "    \n",
    "#     # Extract the MFCC features and their first and second order derivatives\n",
    "#     mfcc = librosa.feature.mfcc(y=y, sr=sr, n_mfcc=13, lifter=0, n_fft=2048, hop_length=512)\n",
    "#     mfcc_delta = librosa.feature.delta(mfcc)\n",
    "#     mfcc_delta2 = librosa.feature.delta(mfcc, order=2)\n",
    "    \n",
    "#     # Concatenate the features and their derivatives into a single array\n",
    "#     features_row = np.concatenate((mfcc, mfcc_delta, mfcc_delta2))\n",
    "    \n",
    "#     # Add the filename as the final column\n",
    "#     file_name = file_path.split('/')[-1]  # Extract the filename from the file path\n",
    "#     features_row = np.append(features_row, file_name)\n",
    "    \n",
    "#     # Add the row of features to the list of features\n",
    "#     features.append(features_row)\n",
    "\n",
    "# # Convert the list of features to a DataFrame and save as a .csv file\n",
    "# df = pd.DataFrame(features)\n",
    "# df.to_csv('output.csv', header=False, index=False)\n"
   ]
  },
  {
   "attachments": {},
   "cell_type": "markdown",
   "metadata": {},
   "source": [
    "function which extracts a feature vector from an audio file\n",
    "\n",
    "The feature extraction will calculate the first 13 mel-frequency cepstral coefficients of the audio file, as well as their first- and second-order derivatives, and concatenate them into a single 39-element feature vector. The feature vector is also standardized so that each feature has equal variance."
   ]
  },
  {
   "cell_type": "code",
   "execution_count": 23,
   "metadata": {},
   "outputs": [],
   "source": [
    "def get_features(y, sr):\n",
    "    y = y[0:sr]\n",
    "    S = librosa.feature.melspectrogram(y, sr=sr, n_mels=128)\n",
    "    log_S = librosa.amplitude_to_db(S, ref=np.max)\n",
    "    mfcc = librosa.feature.mfcc(S=log_S, n_mfcc=13)\n",
    "    delta_mfcc = librosa.feature.delta(mfcc, mode='nearest')\n",
    "    delta2_mfcc = librosa.feature.delta(mfcc, order=2, mode='nearest')\n",
    "    feature_vector = np.concatenate((np.mean(mfcc,1), np.mean(delta_mfcc,1), np.mean(delta2_mfcc,1)))\n",
    "    feature_vector = (feature_vector-np.mean(feature_vector)) / np.std(feature_vector)\n",
    "    return feature_vector"
   ]
  },
  {
   "attachments": {},
   "cell_type": "markdown",
   "metadata": {},
   "source": [
    "Now we will iterate through all the files, and get their feature vectors, placing them into a new list feature_vectors. We also make a new array sound_paths to index the feature vectors to the correct paths"
   ]
  },
  {
   "cell_type": "code",
   "execution_count": 24,
   "metadata": {},
   "outputs": [
    {
     "name": "stdout",
     "output_type": "stream",
     "text": [
      "get 1 of 22428 = D:\\PhD-data\\Rinyirru_Jun_2021-DryA-7days\\20210614T000000+1000_REC_0-4.5.wav\n",
      "get 101 of 22428 = D:\\PhD-data\\Rinyirru_Jun_2021-DryA-7days\\20210614T000000+1000_REC_328.5-333.0.wav\n",
      "get 201 of 22428 = D:\\PhD-data\\Rinyirru_Jun_2021-DryA-7days\\20210614T000000+1000_REC_733.5-738.0.wav\n",
      "get 301 of 22428 = D:\\PhD-data\\Rinyirru_Jun_2021-DryA-7days\\20210614T020000+1000_REC_1134.0-1138.5.wav\n",
      "get 401 of 22428 = D:\\PhD-data\\Rinyirru_Jun_2021-DryA-7days\\20210614T020000+1000_REC_459.0-463.5.wav\n",
      "get 501 of 22428 = D:\\PhD-data\\Rinyirru_Jun_2021-DryA-7days\\20210614T020000+1000_REC_868.5-873.0.wav\n",
      "get 601 of 22428 = D:\\PhD-data\\Rinyirru_Jun_2021-DryA-7days\\20210614T040000+1000_REC_189.0-193.5.wav\n",
      "get 701 of 22428 = D:\\PhD-data\\Rinyirru_Jun_2021-DryA-7days\\20210614T040000+1000_REC_594.0-598.5.wav\n",
      "get 801 of 22428 = D:\\PhD-data\\Rinyirru_Jun_2021-DryA-7days\\20210614T040000+1000_REC_999.0-1003.5.wav\n",
      "get 901 of 22428 = D:\\PhD-data\\Rinyirru_Jun_2021-DryA-7days\\20210614T060000+1000_REC_324.0-328.5.wav\n",
      "get 1001 of 22428 = D:\\PhD-data\\Rinyirru_Jun_2021-DryA-7days\\20210614T060000+1000_REC_729.0-733.5.wav\n",
      "get 1101 of 22428 = D:\\PhD-data\\Rinyirru_Jun_2021-DryA-7days\\20210614T080000+1000_REC_1129.5-1134.0.wav\n",
      "get 1201 of 22428 = D:\\PhD-data\\Rinyirru_Jun_2021-DryA-7days\\20210614T080000+1000_REC_454.5-459.0.wav\n",
      "get 1301 of 22428 = D:\\PhD-data\\Rinyirru_Jun_2021-DryA-7days\\20210614T080000+1000_REC_864.0-868.5.wav\n",
      "get 1401 of 22428 = D:\\PhD-data\\Rinyirru_Jun_2021-DryA-7days\\20210614T100000+1000_REC_184.5-189.0.wav\n",
      "get 1501 of 22428 = D:\\PhD-data\\Rinyirru_Jun_2021-DryA-7days\\20210614T100000+1000_REC_589.5-594.0.wav\n",
      "get 1601 of 22428 = D:\\PhD-data\\Rinyirru_Jun_2021-DryA-7days\\20210614T100000+1000_REC_994.5-999.0.wav\n",
      "get 1701 of 22428 = D:\\PhD-data\\Rinyirru_Jun_2021-DryA-7days\\20210614T120000+1000_REC_319.5-324.0.wav\n",
      "get 1801 of 22428 = D:\\PhD-data\\Rinyirru_Jun_2021-DryA-7days\\20210614T120000+1000_REC_724.5-729.0.wav\n",
      "get 1901 of 22428 = D:\\PhD-data\\Rinyirru_Jun_2021-DryA-7days\\20210614T140000+1000_REC_1125.0-1129.5.wav\n",
      "get 2001 of 22428 = D:\\PhD-data\\Rinyirru_Jun_2021-DryA-7days\\20210614T140000+1000_REC_450.0-454.5.wav\n",
      "get 2101 of 22428 = D:\\PhD-data\\Rinyirru_Jun_2021-DryA-7days\\20210614T140000+1000_REC_859.5-864.0.wav\n",
      "get 2201 of 22428 = D:\\PhD-data\\Rinyirru_Jun_2021-DryA-7days\\20210614T160000+1000_REC_180.0-184.5.wav\n",
      "get 2301 of 22428 = D:\\PhD-data\\Rinyirru_Jun_2021-DryA-7days\\20210614T160000+1000_REC_585.0-589.5.wav\n",
      "get 2401 of 22428 = D:\\PhD-data\\Rinyirru_Jun_2021-DryA-7days\\20210614T160000+1000_REC_990.0-994.5.wav\n",
      "get 2501 of 22428 = D:\\PhD-data\\Rinyirru_Jun_2021-DryA-7days\\20210614T180000+1000_REC_315.0-319.5.wav\n",
      "get 2601 of 22428 = D:\\PhD-data\\Rinyirru_Jun_2021-DryA-7days\\20210614T180000+1000_REC_720.0-724.5.wav\n",
      "get 2701 of 22428 = D:\\PhD-data\\Rinyirru_Jun_2021-DryA-7days\\20210614T200000+1000_REC_1120.5-1125.0.wav\n",
      "get 2801 of 22428 = D:\\PhD-data\\Rinyirru_Jun_2021-DryA-7days\\20210614T200000+1000_REC_45.0-49.5.wav\n",
      "get 2901 of 22428 = D:\\PhD-data\\Rinyirru_Jun_2021-DryA-7days\\20210614T200000+1000_REC_855.0-859.5.wav\n",
      "get 3001 of 22428 = D:\\PhD-data\\Rinyirru_Jun_2021-DryA-7days\\20210614T220000+1000_REC_18.0-22.5.wav\n",
      "get 3101 of 22428 = D:\\PhD-data\\Rinyirru_Jun_2021-DryA-7days\\20210614T220000+1000_REC_580.5-585.0.wav\n",
      "get 3201 of 22428 = D:\\PhD-data\\Rinyirru_Jun_2021-DryA-7days\\20210614T220000+1000_REC_99.0-103.5.wav\n",
      "get 3301 of 22428 = D:\\PhD-data\\Rinyirru_Jun_2021-DryA-7days\\20210615T000000+1000_REC_310.5-315.0.wav\n",
      "get 3401 of 22428 = D:\\PhD-data\\Rinyirru_Jun_2021-DryA-7days\\20210615T000000+1000_REC_72.0-76.5.wav\n",
      "get 3501 of 22428 = D:\\PhD-data\\Rinyirru_Jun_2021-DryA-7days\\20210615T020000+1000_REC_112.5-117.0.wav\n",
      "get 3601 of 22428 = D:\\PhD-data\\Rinyirru_Jun_2021-DryA-7days\\20210615T020000+1000_REC_445.5-450.0.wav\n",
      "get 3701 of 22428 = D:\\PhD-data\\Rinyirru_Jun_2021-DryA-7days\\20210615T020000+1000_REC_850.5-855.0.wav\n",
      "get 3801 of 22428 = D:\\PhD-data\\Rinyirru_Jun_2021-DryA-7days\\20210615T040000+1000_REC_175.5-180.0.wav\n",
      "get 3901 of 22428 = D:\\PhD-data\\Rinyirru_Jun_2021-DryA-7days\\20210615T040000+1000_REC_58.5-63.0.wav\n",
      "get 4001 of 22428 = D:\\PhD-data\\Rinyirru_Jun_2021-DryA-7days\\20210615T040000+1000_REC_985.5-990.0.wav\n",
      "get 4101 of 22428 = D:\\PhD-data\\Rinyirru_Jun_2021-DryA-7days\\20210615T060000+1000_REC_31.5-36.0.wav\n",
      "get 4201 of 22428 = D:\\PhD-data\\Rinyirru_Jun_2021-DryA-7days\\20210615T060000+1000_REC_715.5-720.0.wav\n",
      "get 4301 of 22428 = D:\\PhD-data\\Rinyirru_Jun_2021-DryA-7days\\20210615T080000+1000_REC_1116.0-1120.5.wav\n",
      "get 4401 of 22428 = D:\\PhD-data\\Rinyirru_Jun_2021-DryA-7days\\20210615T080000+1000_REC_441.0-445.5.wav\n",
      "get 4501 of 22428 = D:\\PhD-data\\Rinyirru_Jun_2021-DryA-7days\\20210615T080000+1000_REC_85.5-90.0.wav\n",
      "get 4601 of 22428 = D:\\PhD-data\\Rinyirru_Jun_2021-DryA-7days\\20210615T102045+1000_REC_171.0-175.5.wav\n",
      "get 4701 of 22428 = D:\\PhD-data\\Rinyirru_Jun_2021-DryA-7days\\20210615T102045+1000_REC_576.0-580.5.wav\n",
      "get 4801 of 22428 = D:\\PhD-data\\Rinyirru_Jun_2021-DryA-7days\\20210615T102045+1000_REC_981.0-985.5.wav\n",
      "get 4901 of 22428 = D:\\PhD-data\\Rinyirru_Jun_2021-DryA-7days\\20210615T120000+1000_REC_306.0-310.5.wav\n",
      "get 5001 of 22428 = D:\\PhD-data\\Rinyirru_Jun_2021-DryA-7days\\20210615T120000+1000_REC_711.0-715.5.wav\n",
      "get 5101 of 22428 = D:\\PhD-data\\Rinyirru_Jun_2021-DryA-7days\\20210615T140000+1000_REC_1111.5-1116.0.wav\n",
      "get 5201 of 22428 = D:\\PhD-data\\Rinyirru_Jun_2021-DryA-7days\\20210615T140000+1000_REC_436.5-441.0.wav\n",
      "get 5301 of 22428 = D:\\PhD-data\\Rinyirru_Jun_2021-DryA-7days\\20210615T140000+1000_REC_846.0-850.5.wav\n",
      "get 5401 of 22428 = D:\\PhD-data\\Rinyirru_Jun_2021-DryA-7days\\20210615T160000+1000_REC_166.5-171.0.wav\n",
      "get 5501 of 22428 = D:\\PhD-data\\Rinyirru_Jun_2021-DryA-7days\\20210615T160000+1000_REC_571.5-576.0.wav\n",
      "get 5601 of 22428 = D:\\PhD-data\\Rinyirru_Jun_2021-DryA-7days\\20210615T160000+1000_REC_976.5-981.0.wav\n",
      "get 5701 of 22428 = D:\\PhD-data\\Rinyirru_Jun_2021-DryA-7days\\20210615T180000+1000_REC_301.5-306.0.wav\n",
      "get 5801 of 22428 = D:\\PhD-data\\Rinyirru_Jun_2021-DryA-7days\\20210615T180000+1000_REC_706.5-711.0.wav\n",
      "get 5901 of 22428 = D:\\PhD-data\\Rinyirru_Jun_2021-DryA-7days\\20210615T200000+1000_REC_1107.0-1111.5.wav\n",
      "get 6001 of 22428 = D:\\PhD-data\\Rinyirru_Jun_2021-DryA-7days\\20210615T200000+1000_REC_432.0-436.5.wav\n",
      "get 6101 of 22428 = D:\\PhD-data\\Rinyirru_Jun_2021-DryA-7days\\20210615T200000+1000_REC_841.5-846.0.wav\n",
      "get 6201 of 22428 = D:\\PhD-data\\Rinyirru_Jun_2021-DryA-7days\\20210615T220000+1000_REC_162.0-166.5.wav\n",
      "get 6301 of 22428 = D:\\PhD-data\\Rinyirru_Jun_2021-DryA-7days\\20210615T220000+1000_REC_567.0-571.5.wav\n",
      "get 6401 of 22428 = D:\\PhD-data\\Rinyirru_Jun_2021-DryA-7days\\20210615T220000+1000_REC_972.0-976.5.wav\n",
      "get 6501 of 22428 = D:\\PhD-data\\Rinyirru_Jun_2021-DryA-7days\\20210616T000000+1000_REC_297.0-301.5.wav\n",
      "get 6601 of 22428 = D:\\PhD-data\\Rinyirru_Jun_2021-DryA-7days\\20210616T000000+1000_REC_702.0-706.5.wav\n",
      "get 6701 of 22428 = D:\\PhD-data\\Rinyirru_Jun_2021-DryA-7days\\20210616T020000+1000_REC_1102.5-1107.0.wav\n",
      "get 6801 of 22428 = D:\\PhD-data\\Rinyirru_Jun_2021-DryA-7days\\20210616T020000+1000_REC_427.5-432.0.wav\n",
      "get 6901 of 22428 = D:\\PhD-data\\Rinyirru_Jun_2021-DryA-7days\\20210616T020000+1000_REC_837.0-841.5.wav\n",
      "get 7001 of 22428 = D:\\PhD-data\\Rinyirru_Jun_2021-DryA-7days\\20210616T040000+1000_REC_157.5-162.0.wav\n",
      "get 7101 of 22428 = D:\\PhD-data\\Rinyirru_Jun_2021-DryA-7days\\20210616T040000+1000_REC_562.5-567.0.wav\n",
      "get 7201 of 22428 = D:\\PhD-data\\Rinyirru_Jun_2021-DryA-7days\\20210616T040000+1000_REC_967.5-972.0.wav\n",
      "get 7301 of 22428 = D:\\PhD-data\\Rinyirru_Jun_2021-DryA-7days\\20210616T060000+1000_REC_292.5-297.0.wav\n",
      "get 7401 of 22428 = D:\\PhD-data\\Rinyirru_Jun_2021-DryA-7days\\20210616T060000+1000_REC_697.5-702.0.wav\n",
      "get 7501 of 22428 = D:\\PhD-data\\Rinyirru_Jun_2021-DryA-7days\\20210616T080000+1000_REC_1098.0-1102.5.wav\n",
      "get 7601 of 22428 = D:\\PhD-data\\Rinyirru_Jun_2021-DryA-7days\\20210616T080000+1000_REC_423.0-427.5.wav\n",
      "get 7701 of 22428 = D:\\PhD-data\\Rinyirru_Jun_2021-DryA-7days\\20210616T080000+1000_REC_832.5-837.0.wav\n",
      "get 7801 of 22428 = D:\\PhD-data\\Rinyirru_Jun_2021-DryA-7days\\20210616T104710+1000_REC_153.0-157.5.wav\n",
      "get 7901 of 22428 = D:\\PhD-data\\Rinyirru_Jun_2021-DryA-7days\\20210616T104710+1000_REC_558.0-562.5.wav\n",
      "get 8001 of 22428 = D:\\PhD-data\\Rinyirru_Jun_2021-DryA-7days\\20210616T104710+1000_REC_963.0-967.5.wav\n",
      "get 8101 of 22428 = D:\\PhD-data\\Rinyirru_Jun_2021-DryA-7days\\20210616T120000+1000_REC_288.0-292.5.wav\n",
      "get 8201 of 22428 = D:\\PhD-data\\Rinyirru_Jun_2021-DryA-7days\\20210616T120000+1000_REC_693.0-697.5.wav\n",
      "get 8301 of 22428 = D:\\PhD-data\\Rinyirru_Jun_2021-DryA-7days\\20210616T140000+1000_REC_1093.5-1098.0.wav\n",
      "get 8401 of 22428 = D:\\PhD-data\\Rinyirru_Jun_2021-DryA-7days\\20210616T140000+1000_REC_418.5-423.0.wav\n",
      "get 8501 of 22428 = D:\\PhD-data\\Rinyirru_Jun_2021-DryA-7days\\20210616T140000+1000_REC_828.0-832.5.wav\n",
      "get 8601 of 22428 = D:\\PhD-data\\Rinyirru_Jun_2021-DryA-7days\\20210616T160000+1000_REC_148.5-153.0.wav\n",
      "get 8701 of 22428 = D:\\PhD-data\\Rinyirru_Jun_2021-DryA-7days\\20210616T160000+1000_REC_553.5-558.0.wav\n",
      "get 8801 of 22428 = D:\\PhD-data\\Rinyirru_Jun_2021-DryA-7days\\20210616T160000+1000_REC_958.5-963.0.wav\n",
      "get 8901 of 22428 = D:\\PhD-data\\Rinyirru_Jun_2021-DryA-7days\\20210616T180000+1000_REC_283.5-288.0.wav\n",
      "get 9001 of 22428 = D:\\PhD-data\\Rinyirru_Jun_2021-DryA-7days\\20210616T180000+1000_REC_688.5-693.0.wav\n",
      "get 9101 of 22428 = D:\\PhD-data\\Rinyirru_Jun_2021-DryA-7days\\20210616T200000+1000_REC_1089.0-1093.5.wav\n",
      "get 9201 of 22428 = D:\\PhD-data\\Rinyirru_Jun_2021-DryA-7days\\20210616T200000+1000_REC_414.0-418.5.wav\n",
      "get 9301 of 22428 = D:\\PhD-data\\Rinyirru_Jun_2021-DryA-7days\\20210616T200000+1000_REC_823.5-828.0.wav\n",
      "get 9401 of 22428 = D:\\PhD-data\\Rinyirru_Jun_2021-DryA-7days\\20210616T220000+1000_REC_144.0-148.5.wav\n",
      "get 9501 of 22428 = D:\\PhD-data\\Rinyirru_Jun_2021-DryA-7days\\20210616T220000+1000_REC_549.0-553.5.wav\n",
      "get 9601 of 22428 = D:\\PhD-data\\Rinyirru_Jun_2021-DryA-7days\\20210616T220000+1000_REC_954.0-958.5.wav\n",
      "get 9701 of 22428 = D:\\PhD-data\\Rinyirru_Jun_2021-DryA-7days\\20210617T000000+1000_REC_279.0-283.5.wav\n",
      "get 9801 of 22428 = D:\\PhD-data\\Rinyirru_Jun_2021-DryA-7days\\20210617T000000+1000_REC_684.0-688.5.wav\n",
      "get 9901 of 22428 = D:\\PhD-data\\Rinyirru_Jun_2021-DryA-7days\\20210617T020000+1000_REC_1084.5-1089.0.wav\n",
      "get 10001 of 22428 = D:\\PhD-data\\Rinyirru_Jun_2021-DryA-7days\\20210617T020000+1000_REC_409.5-414.0.wav\n",
      "get 10101 of 22428 = D:\\PhD-data\\Rinyirru_Jun_2021-DryA-7days\\20210617T020000+1000_REC_819.0-823.5.wav\n",
      "get 10201 of 22428 = D:\\PhD-data\\Rinyirru_Jun_2021-DryA-7days\\20210617T040000+1000_REC_139.5-144.0.wav\n",
      "get 10301 of 22428 = D:\\PhD-data\\Rinyirru_Jun_2021-DryA-7days\\20210617T040000+1000_REC_544.5-549.0.wav\n",
      "get 10401 of 22428 = D:\\PhD-data\\Rinyirru_Jun_2021-DryA-7days\\20210617T040000+1000_REC_949.5-954.0.wav\n",
      "get 10501 of 22428 = D:\\PhD-data\\Rinyirru_Jun_2021-DryA-7days\\20210617T060000+1000_REC_274.5-279.0.wav\n",
      "get 10601 of 22428 = D:\\PhD-data\\Rinyirru_Jun_2021-DryA-7days\\20210617T060000+1000_REC_679.5-684.0.wav\n",
      "get 10701 of 22428 = D:\\PhD-data\\Rinyirru_Jun_2021-DryA-7days\\20210617T080000+1000_REC_1080.0-1084.5.wav\n",
      "get 10801 of 22428 = D:\\PhD-data\\Rinyirru_Jun_2021-DryA-7days\\20210617T080000+1000_REC_405.0-409.5.wav\n",
      "get 10901 of 22428 = D:\\PhD-data\\Rinyirru_Jun_2021-DryA-7days\\20210617T080000+1000_REC_814.5-819.0.wav\n",
      "get 11001 of 22428 = D:\\PhD-data\\Rinyirru_Jun_2021-DryA-7days\\20210617T100000+1000_REC_135.0-139.5.wav\n",
      "get 11101 of 22428 = D:\\PhD-data\\Rinyirru_Jun_2021-DryA-7days\\20210617T100000+1000_REC_540.0-544.5.wav\n",
      "get 11201 of 22428 = D:\\PhD-data\\Rinyirru_Jun_2021-DryA-7days\\20210617T100000+1000_REC_945.0-949.5.wav\n",
      "get 11301 of 22428 = D:\\PhD-data\\Rinyirru_Jun_2021-DryA-7days\\20210617T120000+1000_REC_270.0-274.5.wav\n",
      "get 11401 of 22428 = D:\\PhD-data\\Rinyirru_Jun_2021-DryA-7days\\20210617T120000+1000_REC_675.0-679.5.wav\n",
      "get 11501 of 22428 = D:\\PhD-data\\Rinyirru_Jun_2021-DryA-7days\\20210617T140000+1000_REC_108.0-112.5.wav\n",
      "get 11601 of 22428 = D:\\PhD-data\\Rinyirru_Jun_2021-DryA-7days\\20210617T140000+1000_REC_400.5-405.0.wav\n",
      "get 11701 of 22428 = D:\\PhD-data\\Rinyirru_Jun_2021-DryA-7days\\20210617T140000+1000_REC_810.0-814.5.wav\n",
      "get 11801 of 22428 = D:\\PhD-data\\Rinyirru_Jun_2021-DryA-7days\\20210617T160000+1000_REC_130.5-135.0.wav\n",
      "get 11901 of 22428 = D:\\PhD-data\\Rinyirru_Jun_2021-DryA-7days\\20210617T160000+1000_REC_54.0-58.5.wav\n",
      "get 12001 of 22428 = D:\\PhD-data\\Rinyirru_Jun_2021-DryA-7days\\20210617T160000+1000_REC_940.5-945.0.wav\n",
      "get 12101 of 22428 = D:\\PhD-data\\Rinyirru_Jun_2021-DryA-7days\\20210617T180000+1000_REC_27.0-31.5.wav\n",
      "get 12201 of 22428 = D:\\PhD-data\\Rinyirru_Jun_2021-DryA-7days\\20210617T180000+1000_REC_670.5-675.0.wav\n",
      "get 12301 of 22428 = D:\\PhD-data\\Rinyirru_Jun_2021-DryA-7days\\20210617T200000+1000_REC_1075.5-1080.0.wav\n",
      "get 12401 of 22428 = D:\\PhD-data\\Rinyirru_Jun_2021-DryA-7days\\20210617T200000+1000_REC_40.5-45.0.wav\n",
      "get 12501 of 22428 = D:\\PhD-data\\Rinyirru_Jun_2021-DryA-7days\\20210617T200000+1000_REC_81.0-85.5.wav\n",
      "get 12601 of 22428 = D:\\PhD-data\\Rinyirru_Jun_2021-DryA-7days\\20210617T220000+1000_REC_13.5-18.0.wav\n",
      "get 12701 of 22428 = D:\\PhD-data\\Rinyirru_Jun_2021-DryA-7days\\20210617T220000+1000_REC_535.5-540.0.wav\n",
      "get 12801 of 22428 = D:\\PhD-data\\Rinyirru_Jun_2021-DryA-7days\\20210617T220000+1000_REC_94.5-99.0.wav\n",
      "get 12901 of 22428 = D:\\PhD-data\\Rinyirru_Jun_2021-DryA-7days\\20210618T000000+1000_REC_265.5-270.0.wav\n",
      "get 13001 of 22428 = D:\\PhD-data\\Rinyirru_Jun_2021-DryA-7days\\20210618T000000+1000_REC_67.5-72.0.wav\n",
      "get 13101 of 22428 = D:\\PhD-data\\Rinyirru_Jun_2021-DryA-7days\\20210618T020000+1000_REC_1071.0-1075.5.wav\n",
      "get 13201 of 22428 = D:\\PhD-data\\Rinyirru_Jun_2021-DryA-7days\\20210618T020000+1000_REC_4.5-9.0.wav\n",
      "get 13301 of 22428 = D:\\PhD-data\\Rinyirru_Jun_2021-DryA-7days\\20210618T020000+1000_REC_805.5-810.0.wav\n",
      "get 13401 of 22428 = D:\\PhD-data\\Rinyirru_Jun_2021-DryA-7days\\20210618T040000+1000_REC_126.0-130.5.wav\n",
      "get 13501 of 22428 = D:\\PhD-data\\Rinyirru_Jun_2021-DryA-7days\\20210618T040000+1000_REC_531.0-535.5.wav\n",
      "get 13601 of 22428 = D:\\PhD-data\\Rinyirru_Jun_2021-DryA-7days\\20210618T040000+1000_REC_936.0-940.5.wav\n",
      "get 13701 of 22428 = D:\\PhD-data\\Rinyirru_Jun_2021-DryA-7days\\20210618T060000+1000_REC_261.0-265.5.wav\n",
      "get 13801 of 22428 = D:\\PhD-data\\Rinyirru_Jun_2021-DryA-7days\\20210618T060000+1000_REC_666.0-670.5.wav\n",
      "get 13901 of 22428 = D:\\PhD-data\\Rinyirru_Jun_2021-DryA-7days\\20210618T080000+1000_REC_1066.5-1071.0.wav\n",
      "get 14001 of 22428 = D:\\PhD-data\\Rinyirru_Jun_2021-DryA-7days\\20210618T080000+1000_REC_396.0-400.5.wav\n",
      "get 14101 of 22428 = D:\\PhD-data\\Rinyirru_Jun_2021-DryA-7days\\20210618T080000+1000_REC_801.0-805.5.wav\n",
      "get 14201 of 22428 = D:\\PhD-data\\Rinyirru_Jun_2021-DryA-7days\\20210618T100000+1000_REC_121.5-126.0.wav\n",
      "get 14301 of 22428 = D:\\PhD-data\\Rinyirru_Jun_2021-DryA-7days\\20210618T100000+1000_REC_526.5-531.0.wav\n",
      "get 14401 of 22428 = D:\\PhD-data\\Rinyirru_Jun_2021-DryA-7days\\20210618T100000+1000_REC_931.5-936.0.wav\n",
      "get 14501 of 22428 = D:\\PhD-data\\Rinyirru_Jun_2021-DryA-7days\\20210618T120000+1000_REC_256.5-261.0.wav\n",
      "get 14601 of 22428 = D:\\PhD-data\\Rinyirru_Jun_2021-DryA-7days\\20210618T120000+1000_REC_661.5-666.0.wav\n",
      "get 14701 of 22428 = D:\\PhD-data\\Rinyirru_Jun_2021-DryA-7days\\20210618T140000+1000_REC_1062.0-1066.5.wav\n",
      "get 14801 of 22428 = D:\\PhD-data\\Rinyirru_Jun_2021-DryA-7days\\20210618T140000+1000_REC_391.5-396.0.wav\n",
      "get 14901 of 22428 = D:\\PhD-data\\Rinyirru_Jun_2021-DryA-7days\\20210618T140000+1000_REC_796.5-801.0.wav\n",
      "get 15001 of 22428 = D:\\PhD-data\\Rinyirru_Jun_2021-DryA-7days\\20210618T160000+1000_REC_1197.0-1201.5.wav\n",
      "get 15101 of 22428 = D:\\PhD-data\\Rinyirru_Jun_2021-DryA-7days\\20210618T160000+1000_REC_522.0-526.5.wav\n",
      "get 15201 of 22428 = D:\\PhD-data\\Rinyirru_Jun_2021-DryA-7days\\20210618T160000+1000_REC_927.0-931.5.wav\n",
      "get 15301 of 22428 = D:\\PhD-data\\Rinyirru_Jun_2021-DryA-7days\\20210618T180000+1000_REC_252.0-256.5.wav\n",
      "get 15401 of 22428 = D:\\PhD-data\\Rinyirru_Jun_2021-DryA-7days\\20210618T180000+1000_REC_657.0-661.5.wav\n",
      "get 15501 of 22428 = D:\\PhD-data\\Rinyirru_Jun_2021-DryA-7days\\20210618T200000+1000_REC_1057.5-1062.0.wav\n",
      "get 15601 of 22428 = D:\\PhD-data\\Rinyirru_Jun_2021-DryA-7days\\20210618T200000+1000_REC_387.0-391.5.wav\n",
      "get 15701 of 22428 = D:\\PhD-data\\Rinyirru_Jun_2021-DryA-7days\\20210618T200000+1000_REC_792.0-796.5.wav\n",
      "get 15801 of 22428 = D:\\PhD-data\\Rinyirru_Jun_2021-DryA-7days\\20210618T220000+1000_REC_1192.5-1197.0.wav\n",
      "get 15901 of 22428 = D:\\PhD-data\\Rinyirru_Jun_2021-DryA-7days\\20210618T220000+1000_REC_517.5-522.0.wav\n",
      "get 16001 of 22428 = D:\\PhD-data\\Rinyirru_Jun_2021-DryA-7days\\20210618T220000+1000_REC_922.5-927.0.wav\n",
      "get 16101 of 22428 = D:\\PhD-data\\Rinyirru_Jun_2021-DryA-7days\\20210619T000000+1000_REC_247.5-252.0.wav\n",
      "get 16201 of 22428 = D:\\PhD-data\\Rinyirru_Jun_2021-DryA-7days\\20210619T000000+1000_REC_652.5-657.0.wav\n",
      "get 16301 of 22428 = D:\\PhD-data\\Rinyirru_Jun_2021-DryA-7days\\20210619T020000+1000_REC_1053.0-1057.5.wav\n",
      "get 16401 of 22428 = D:\\PhD-data\\Rinyirru_Jun_2021-DryA-7days\\20210619T020000+1000_REC_382.5-387.0.wav\n",
      "get 16501 of 22428 = D:\\PhD-data\\Rinyirru_Jun_2021-DryA-7days\\20210619T020000+1000_REC_787.5-792.0.wav\n",
      "get 16601 of 22428 = D:\\PhD-data\\Rinyirru_Jun_2021-DryA-7days\\20210619T040000+1000_REC_1188.0-1192.5.wav\n",
      "get 16701 of 22428 = D:\\PhD-data\\Rinyirru_Jun_2021-DryA-7days\\20210619T040000+1000_REC_513.0-517.5.wav\n",
      "get 16801 of 22428 = D:\\PhD-data\\Rinyirru_Jun_2021-DryA-7days\\20210619T040000+1000_REC_918.0-922.5.wav\n",
      "get 16901 of 22428 = D:\\PhD-data\\Rinyirru_Jun_2021-DryA-7days\\20210619T060000+1000_REC_243.0-247.5.wav\n",
      "get 17001 of 22428 = D:\\PhD-data\\Rinyirru_Jun_2021-DryA-7days\\20210619T060000+1000_REC_648.0-652.5.wav\n",
      "get 17101 of 22428 = D:\\PhD-data\\Rinyirru_Jun_2021-DryA-7days\\20210619T080000+1000_REC_1048.5-1053.0.wav\n",
      "get 17201 of 22428 = D:\\PhD-data\\Rinyirru_Jun_2021-DryA-7days\\20210619T080000+1000_REC_378.0-382.5.wav\n",
      "get 17301 of 22428 = D:\\PhD-data\\Rinyirru_Jun_2021-DryA-7days\\20210619T080000+1000_REC_783.0-787.5.wav\n",
      "get 17401 of 22428 = D:\\PhD-data\\Rinyirru_Jun_2021-DryA-7days\\20210619T100000+1000_REC_1183.5-1188.0.wav\n",
      "get 17501 of 22428 = D:\\PhD-data\\Rinyirru_Jun_2021-DryA-7days\\20210619T100000+1000_REC_508.5-513.0.wav\n",
      "get 17601 of 22428 = D:\\PhD-data\\Rinyirru_Jun_2021-DryA-7days\\20210619T100000+1000_REC_913.5-918.0.wav\n",
      "get 17701 of 22428 = D:\\PhD-data\\Rinyirru_Jun_2021-DryA-7days\\20210619T120000+1000_REC_238.5-243.0.wav\n",
      "get 17801 of 22428 = D:\\PhD-data\\Rinyirru_Jun_2021-DryA-7days\\20210619T120000+1000_REC_643.5-648.0.wav\n",
      "get 17901 of 22428 = D:\\PhD-data\\Rinyirru_Jun_2021-DryA-7days\\20210619T140000+1000_REC_1044.0-1048.5.wav\n",
      "get 18001 of 22428 = D:\\PhD-data\\Rinyirru_Jun_2021-DryA-7days\\20210619T140000+1000_REC_373.5-378.0.wav\n",
      "get 18101 of 22428 = D:\\PhD-data\\Rinyirru_Jun_2021-DryA-7days\\20210619T140000+1000_REC_778.5-783.0.wav\n",
      "get 18201 of 22428 = D:\\PhD-data\\Rinyirru_Jun_2021-DryA-7days\\20210619T160000+1000_REC_1179.0-1183.5.wav\n",
      "get 18301 of 22428 = D:\\PhD-data\\Rinyirru_Jun_2021-DryA-7days\\20210619T160000+1000_REC_504.0-508.5.wav\n",
      "get 18401 of 22428 = D:\\PhD-data\\Rinyirru_Jun_2021-DryA-7days\\20210619T160000+1000_REC_909.0-913.5.wav\n",
      "get 18501 of 22428 = D:\\PhD-data\\Rinyirru_Jun_2021-DryA-7days\\20210619T180000+1000_REC_234.0-238.5.wav\n",
      "get 18601 of 22428 = D:\\PhD-data\\Rinyirru_Jun_2021-DryA-7days\\20210619T180000+1000_REC_639.0-643.5.wav\n",
      "get 18701 of 22428 = D:\\PhD-data\\Rinyirru_Jun_2021-DryA-7days\\20210619T200000+1000_REC_1039.5-1044.0.wav\n",
      "get 18801 of 22428 = D:\\PhD-data\\Rinyirru_Jun_2021-DryA-7days\\20210619T200000+1000_REC_369.0-373.5.wav\n",
      "get 18901 of 22428 = D:\\PhD-data\\Rinyirru_Jun_2021-DryA-7days\\20210619T200000+1000_REC_774.0-778.5.wav\n",
      "get 19001 of 22428 = D:\\PhD-data\\Rinyirru_Jun_2021-DryA-7days\\20210619T220000+1000_REC_1174.5-1179.0.wav\n",
      "get 19101 of 22428 = D:\\PhD-data\\Rinyirru_Jun_2021-DryA-7days\\20210619T220000+1000_REC_499.5-504.0.wav\n",
      "get 19201 of 22428 = D:\\PhD-data\\Rinyirru_Jun_2021-DryA-7days\\20210619T220000+1000_REC_904.5-909.0.wav\n",
      "get 19301 of 22428 = D:\\PhD-data\\Rinyirru_Jun_2021-DryA-7days\\20210620T000000+1000_REC_229.5-234.0.wav\n",
      "get 19401 of 22428 = D:\\PhD-data\\Rinyirru_Jun_2021-DryA-7days\\20210620T000000+1000_REC_634.5-639.0.wav\n",
      "get 19501 of 22428 = D:\\PhD-data\\Rinyirru_Jun_2021-DryA-7days\\20210620T020000+1000_REC_1035.0-1039.5.wav\n",
      "get 19601 of 22428 = D:\\PhD-data\\Rinyirru_Jun_2021-DryA-7days\\20210620T020000+1000_REC_364.5-369.0.wav\n",
      "get 19701 of 22428 = D:\\PhD-data\\Rinyirru_Jun_2021-DryA-7days\\20210620T020000+1000_REC_769.5-774.0.wav\n",
      "get 19801 of 22428 = D:\\PhD-data\\Rinyirru_Jun_2021-DryA-7days\\20210620T040000+1000_REC_1170.0-1174.5.wav\n",
      "get 19901 of 22428 = D:\\PhD-data\\Rinyirru_Jun_2021-DryA-7days\\20210620T040000+1000_REC_495.0-499.5.wav\n",
      "get 20001 of 22428 = D:\\PhD-data\\Rinyirru_Jun_2021-DryA-7days\\20210620T040000+1000_REC_900.0-904.5.wav\n",
      "get 20101 of 22428 = D:\\PhD-data\\Rinyirru_Jun_2021-DryA-7days\\20210620T060000+1000_REC_225.0-229.5.wav\n",
      "get 20201 of 22428 = D:\\PhD-data\\Rinyirru_Jun_2021-DryA-7days\\20210620T060000+1000_REC_630.0-634.5.wav\n",
      "get 20301 of 22428 = D:\\PhD-data\\Rinyirru_Jun_2021-DryA-7days\\20210620T080000+1000_REC_1030.5-1035.0.wav\n",
      "get 20401 of 22428 = D:\\PhD-data\\Rinyirru_Jun_2021-DryA-7days\\20210620T080000+1000_REC_360.0-364.5.wav\n",
      "get 20501 of 22428 = D:\\PhD-data\\Rinyirru_Jun_2021-DryA-7days\\20210620T080000+1000_REC_765.0-769.5.wav\n",
      "get 20601 of 22428 = D:\\PhD-data\\Rinyirru_Jun_2021-DryA-7days\\20210620T100000+1000_REC_117.0-121.5.wav\n",
      "get 20701 of 22428 = D:\\PhD-data\\Rinyirru_Jun_2021-DryA-7days\\20210620T100000+1000_REC_490.5-495.0.wav\n",
      "get 20801 of 22428 = D:\\PhD-data\\Rinyirru_Jun_2021-DryA-7days\\20210620T100000+1000_REC_90.0-94.5.wav\n",
      "get 20901 of 22428 = D:\\PhD-data\\Rinyirru_Jun_2021-DryA-7days\\20210620T120000+1000_REC_220.5-225.0.wav\n",
      "get 21001 of 22428 = D:\\PhD-data\\Rinyirru_Jun_2021-DryA-7days\\20210620T120000+1000_REC_63.0-67.5.wav\n",
      "get 21101 of 22428 = D:\\PhD-data\\Rinyirru_Jun_2021-DryA-7days\\20210620T140000+1000_REC_103.5-108.0.wav\n",
      "get 21201 of 22428 = D:\\PhD-data\\Rinyirru_Jun_2021-DryA-7days\\20210620T140000+1000_REC_36.0-40.5.wav\n",
      "get 21301 of 22428 = D:\\PhD-data\\Rinyirru_Jun_2021-DryA-7days\\20210620T140000+1000_REC_760.5-765.0.wav\n",
      "get 21401 of 22428 = D:\\PhD-data\\Rinyirru_Jun_2021-DryA-7days\\20210620T160000+1000_REC_1165.5-1170.0.wav\n",
      "get 21501 of 22428 = D:\\PhD-data\\Rinyirru_Jun_2021-DryA-7days\\20210620T160000+1000_REC_49.5-54.0.wav\n",
      "get 21601 of 22428 = D:\\PhD-data\\Rinyirru_Jun_2021-DryA-7days\\20210620T160000+1000_REC_9.0-13.5.wav\n",
      "get 21701 of 22428 = D:\\PhD-data\\Rinyirru_Jun_2021-DryA-7days\\20210620T180000+1000_REC_22.5-27.0.wav\n",
      "get 21801 of 22428 = D:\\PhD-data\\Rinyirru_Jun_2021-DryA-7days\\20210620T180000+1000_REC_625.5-630.0.wav\n",
      "get 21901 of 22428 = D:\\PhD-data\\Rinyirru_Jun_2021-DryA-7days\\20210620T200000+1000_REC_1026.0-1030.5.wav\n",
      "get 22001 of 22428 = D:\\PhD-data\\Rinyirru_Jun_2021-DryA-7days\\20210620T200000+1000_REC_355.5-360.0.wav\n",
      "get 22101 of 22428 = D:\\PhD-data\\Rinyirru_Jun_2021-DryA-7days\\20210620T200000+1000_REC_76.5-81.0.wav\n",
      "get 22201 of 22428 = D:\\PhD-data\\Rinyirru_Jun_2021-DryA-7days\\20210620T220000+1000_REC_1161.0-1165.5.wav\n",
      "get 22301 of 22428 = D:\\PhD-data\\Rinyirru_Jun_2021-DryA-7days\\20210620T220000+1000_REC_486.0-490.5.wav\n",
      "get 22401 of 22428 = D:\\PhD-data\\Rinyirru_Jun_2021-DryA-7days\\20210620T220000+1000_REC_895.5-900.0.wav\n",
      "calculated 22428 feature vectors\n"
     ]
    }
   ],
   "source": [
    "import librosa\n",
    "feature_vectors = []\n",
    "sound_paths = []\n",
    "for i,f in enumerate(files):\n",
    "    if i % 100 == 0:\n",
    "        print(\"get %d of %d = %s\"%(i+1, len(files), f))\n",
    "    y, sr = librosa.load(f)\n",
    "    if len(y) < 2:\n",
    "        print(\"error loading %s\" % f)\n",
    "        continue\n",
    "    feat = get_features(y, sr)\n",
    "    feature_vectors.append(feat)\n",
    "    sound_paths.append(f)\n",
    "        \n",
    "print(\"calculated %d feature vectors\"%len(feature_vectors))"
   ]
  },
  {
   "cell_type": "code",
   "execution_count": 25,
   "metadata": {},
   "outputs": [
    {
     "name": "stdout",
     "output_type": "stream",
     "text": [
      "             0         1         2         3         4         5         6   \\\n",
      "0      0.157946  0.460133  0.876490  0.432090  0.562951  0.548700  0.469909   \n",
      "1      0.117809  0.304664  0.628758  0.567682  0.360620  0.821399  0.455753   \n",
      "2      0.152671  0.289395  0.637443  0.577699  0.337611  0.836850  0.467773   \n",
      "3      0.157988  0.287972  0.637720  0.578852  0.335158  0.834252  0.469508   \n",
      "4      0.154901  0.292221  0.641325  0.577379  0.343184  0.813556  0.493865   \n",
      "...         ...       ...       ...       ...       ...       ...       ...   \n",
      "22423  0.216191  0.666660  0.562056  0.581774  0.470060  0.731518  0.369097   \n",
      "22424  0.081365  0.470235  0.577473  0.625573  0.391709  0.676432  0.575868   \n",
      "22425  0.220807  0.667044  0.545355  0.593435  0.453388  0.727537  0.361874   \n",
      "22426  0.064885  0.545308  0.595765  0.512924  0.545844  0.663280  0.463073   \n",
      "22427  0.153231  0.612889  0.585948  0.580764  0.443145  0.737555  0.369508   \n",
      "\n",
      "             7         8         9   ...        29        30        31  \\\n",
      "0      0.535780  0.459569  0.465076  ...  0.387152  0.396270  0.399016   \n",
      "1      0.357522  0.691759  0.246954  ...  0.702690  0.704518  0.708066   \n",
      "2      0.319572  0.744266  0.219292  ...  0.704050  0.704863  0.708636   \n",
      "3      0.311101  0.749237  0.208679  ...  0.722611  0.712822  0.715929   \n",
      "4      0.289956  0.756985  0.218520  ...  0.715252  0.699885  0.707006   \n",
      "...         ...       ...       ...  ...       ...       ...       ...   \n",
      "22423  0.499437  0.368353  0.595597  ...  0.330286  0.333879  0.333226   \n",
      "22424  0.316850  0.494343  0.574352  ...  0.533206  0.533923  0.532824   \n",
      "22425  0.510179  0.342595  0.562302  ...  0.381921  0.392280  0.383813   \n",
      "22426  0.530414  0.376144  0.572048  ...  0.456889  0.466161  0.446744   \n",
      "22427  0.555922  0.370191  0.508157  ...  0.413921  0.411363  0.416658   \n",
      "\n",
      "             32        33        34        35        36        37        38  \n",
      "0      0.391965  0.397117  0.397335  0.386577  0.385656  0.390951  0.398140  \n",
      "1      0.707314  0.706354  0.711347  0.705174  0.707781  0.710009  0.712670  \n",
      "2      0.708349  0.706419  0.712532  0.706030  0.707910  0.711393  0.712156  \n",
      "3      0.719975  0.715671  0.720356  0.719184  0.715201  0.720363  0.725271  \n",
      "4      0.711843  0.702418  0.714765  0.710358  0.707095  0.714699  0.716178  \n",
      "...         ...       ...       ...       ...       ...       ...       ...  \n",
      "22423  0.325204  0.333227  0.342421  0.340956  0.338666  0.325455  0.326109  \n",
      "22424  0.537281  0.538999  0.544015  0.539870  0.541071  0.545269  0.543525  \n",
      "22425  0.387117  0.391249  0.383485  0.395340  0.405155  0.392599  0.381716  \n",
      "22426  0.464955  0.459888  0.466084  0.463058  0.467299  0.465381  0.466576  \n",
      "22427  0.414941  0.406275  0.409959  0.412083  0.414063  0.405793  0.405280  \n",
      "\n",
      "[22428 rows x 39 columns]\n"
     ]
    }
   ],
   "source": [
    "from sklearn import preprocessing\n",
    "import pandas as pd\n",
    "\n",
    "x = feature_vectors\n",
    "min_max_scaler = preprocessing.MinMaxScaler()\n",
    "x_scaled = min_max_scaler.fit_transform(x)\n",
    "feature_vectors = pd.DataFrame(x_scaled)\n",
    "print(feature_vectors)\n",
    "df = pd.DataFrame(feature_vectors)\n",
    "paths = pd.DataFrame(sound_paths)\n",
    "df = pd.concat([df, paths], ignore_index=True, sort=False, axis=1)\n",
    "df.to_csv('Rinyirru_Jun_2021-DryA-7days.csv', index=False)"
   ]
  },
  {
   "attachments": {},
   "cell_type": "markdown",
   "metadata": {},
   "source": [
    "Now we can run t-SNE over the feature vectors to get a 2-dimensional embedding of our audio files. We use scikit-learn's TSNE function, and additionally normalize the results so that they are between 0 and 1."
   ]
  },
  {
   "cell_type": "code",
   "execution_count": null,
   "metadata": {},
   "outputs": [],
   "source": [
    "import pandas as pd\n",
    "feature_vectors = pd.read_csv(\"39-features-tarcutta-sound.csv\")\n",
    "feature_vectors"
   ]
  },
  {
   "cell_type": "code",
   "execution_count": null,
   "metadata": {},
   "outputs": [],
   "source": [
    "import pandas as pd\n",
    "\n",
    "# Drop rows containing missing values\n",
    "feature_vectors = feature_vectors.dropna()\n",
    "#feature_vectors.to_csv('39-features-esc50-cleaned.csv', index=False)\n",
    "feature_vectors = feature_vectors.drop(columns=[\"class\"])\n",
    "feature_vectors = feature_vectors.drop(columns=[\"path\"])\n",
    "feature_vectors = feature_vectors.iloc[:, 0:13]\n",
    "feature_vectors\n"
   ]
  },
  {
   "cell_type": "code",
   "execution_count": null,
   "metadata": {},
   "outputs": [],
   "source": [
    "model = TSNE(n_components=2, learning_rate=150, perplexity=50, verbose=2, angle=0.1).fit_transform(feature_vectors)\n"
   ]
  },
  {
   "attachments": {},
   "cell_type": "markdown",
   "metadata": {},
   "source": [
    "Let's plot our t-SNE points. We can use matplotlib to quickly scatter them and see their distribution."
   ]
  },
  {
   "cell_type": "code",
   "execution_count": null,
   "metadata": {},
   "outputs": [],
   "source": [
    "x_axis=model[:,0]\n",
    "y_axis=model[:,1]\n",
    "\n",
    "plt.figure(figsize = (10,10))\n",
    "plt.scatter(x_axis, y_axis)\n",
    "plt.show()"
   ]
  },
  {
   "attachments": {},
   "cell_type": "markdown",
   "metadata": {},
   "source": [
    "We see our t-SNE plot of our audio files, but it's not particularly interesting! Since we are dealing with audio files, there's no easy way to compare neighboring audio samples to each other. We can use some other, more interactive environment to view the results of the t-SNE. One way we can do this is by saving the results to a JSON file which stores the filepaths and t-SNE assignments of all the audio files. We can then load this JSON file in another environment.\n",
    "\n",
    "In any case, to save the t-SNE to a JSON file, we first normalize the coordinates to between 0 and 1 and save them, along with the full filepaths."
   ]
  },
  {
   "cell_type": "code",
   "execution_count": null,
   "metadata": {},
   "outputs": [],
   "source": [
    "from pyAudioProcessing import utils\n",
    "\n",
    "\n",
    "tsne_path = \"example-audio-tSNE.json\"\n",
    "\n",
    "x_norm = (x_axis - np.min(x_axis)) / (np.max(x_axis) - np.min(x_axis))\n",
    "y_norm = (y_axis - np.min(y_axis)) / (np.max(y_axis) - np.min(y_axis))\n",
    "\n",
    "data = [{\"path\":os.path.abspath(f), \"point\":[x, y]} for f, x, y in zip(sound_paths, x_norm, y_norm)]\n",
    "# with open(tsne_path, 'w') as outfile:\n",
    "utils.write_to_json(tsne_path, str(data))\n",
    "    # json.dump(data, outfile, cls=)\n",
    "\n",
    "print(\"saved %s to disk!\" % tsne_path)"
   ]
  },
  {
   "cell_type": "code",
   "execution_count": null,
   "metadata": {},
   "outputs": [],
   "source": [
    "km = KMeans(n_clusters=4, init='k-means++', random_state=42)\n",
    "y_km = km.fit_predict(model)\n",
    "labels = km.labels_"
   ]
  },
  {
   "cell_type": "code",
   "execution_count": null,
   "metadata": {},
   "outputs": [],
   "source": [
    "model[y_km == 0, 0]"
   ]
  },
  {
   "cell_type": "code",
   "execution_count": null,
   "metadata": {},
   "outputs": [],
   "source": [
    "# plot the 3 clusters\n",
    "plt.figure(figsize=(20, 20))\n",
    "plt.scatter(\n",
    "    model[y_km == 0, 0], model[y_km == 0, 1],\n",
    "    s=50, c='lightgreen',\n",
    "    marker='s', edgecolor='black',\n",
    "    label='cluster 1'\n",
    ")\n",
    "\n",
    "plt.scatter(\n",
    "    model[y_km == 1, 0], model[y_km == 1, 1],\n",
    "    s=50, c='orange',\n",
    "    marker='o', edgecolor='black',\n",
    "    label='cluster 2'\n",
    ")\n",
    "\n",
    "plt.scatter(\n",
    "    model[y_km == 2, 0], model[y_km == 2, 1],\n",
    "    s=50, c='lightblue',\n",
    "    marker='v', edgecolor='black',\n",
    "    label='cluster 3'\n",
    ")\n",
    "\n",
    "plt.scatter(\n",
    "    model[y_km == 3, 0], model[y_km == 3, 1],\n",
    "    s=50, c='blue',\n",
    "    marker='v', edgecolor='black',\n",
    "    label='cluster 3'\n",
    ")\n",
    "\n",
    "# plot the centroids\n",
    "plt.scatter(\n",
    "    km.cluster_centers_[:, 0], km.cluster_centers_[:, 1],\n",
    "    s=250, marker='*',\n",
    "    c='red', edgecolor='black',\n",
    "    label='centroids'\n",
    ")\n",
    "plt.legend(scatterpoints=1)\n",
    "plt.title('Clusters by t-SNE Components (with Dimension Reduction)', fontsize=20)\n",
    "plt.xlabel(\"Component 2\", fontsize=18)\n",
    "plt.ylabel(\"Component 1\", fontsize=18)\n",
    "plt.grid()\n",
    "plt.show()"
   ]
  },
  {
   "cell_type": "code",
   "execution_count": null,
   "metadata": {},
   "outputs": [],
   "source": [
    "kmeans_data_old = pd.read_csv('kmeans_results.csv')\n",
    "\n",
    "#encoding class values\n",
    "kmeans_data_old['class'] = kmeans_data_old['class'].str.replace('other', str(0))\n",
    "kmeans_data_old['class'] = kmeans_data_old['class'].str.replace('biophony', str(1))\n",
    "kmeans_data_old['class'] = kmeans_data_old['class'].str.replace('geophony', str(2))\n",
    "kmeans_data_old['class'] = kmeans_data_old['class'].str.replace('anthrophony', str(3))\n",
    "\n",
    "y_km = kmeans_data_old['class']\n",
    "y_km.drop(y_km.tail(1).index, inplace=True)\n",
    "y_km = y_km.values\n",
    "y_km"
   ]
  },
  {
   "cell_type": "code",
   "execution_count": null,
   "metadata": {},
   "outputs": [],
   "source": [
    "%pip install seaborn"
   ]
  },
  {
   "cell_type": "code",
   "execution_count": null,
   "metadata": {},
   "outputs": [],
   "source": [
    "import seaborn as sns\n",
    "\n",
    "x_axis=model[:,0]\n",
    "y_axis=model[:,1]\n",
    "\n",
    "plt.figure(figsize=(16,10))\n",
    "ax=sns.scatterplot(\n",
    "    x=x_axis, y=y_axis,\n",
    "    hue=y_km,\n",
    "    legend=\"full\",\n",
    "    alpha=0.3,\n",
    "    palette=['green','orange','dodgerblue','red']\n",
    ")\n",
    "handles, labels = ax.get_legend_handles_labels()\n",
    "ax.legend(handles, ['Anthrophony', 'Biophony', 'Geophony', 'Other'])\n",
    "ax.set(title=\"TSNE Plot with Ground Truth Overlayed\", ylabel=\"TSNE Component 1\", xlabel=\"TSNE Component 2\")"
   ]
  },
  {
   "attachments": {},
   "cell_type": "markdown",
   "metadata": {},
   "source": [
    "TODO: GET STATISTICS FOR ALL OF THE ABOVE GRAPHS\n",
    "TODO: CREATE ADDITIONAL GRAPH (USING SAME TSNE RESULTS) WITHOUT DIMENSION REDUCTION"
   ]
  },
  {
   "cell_type": "code",
   "execution_count": null,
   "metadata": {},
   "outputs": [],
   "source": [
    "kmeans_data_new = pd.read_csv('kmeans-nodr.csv', header='infer')\n",
    "kmeans_data_new.drop(kmeans_data_new.tail(1).index,inplace=True) # drop last n rows\n",
    "\n",
    "y_km = kmeans_data_new[\"Cluster\"]"
   ]
  },
  {
   "cell_type": "code",
   "execution_count": null,
   "metadata": {},
   "outputs": [],
   "source": [
    "import seaborn as sns\n",
    "\n",
    "x_axis=model[:,0]\n",
    "y_axis=model[:,1]\n",
    "\n",
    "plt.figure(figsize=(16,10))\n",
    "ax=sns.scatterplot(\n",
    "    x=x_axis, y=y_axis,\n",
    "    hue=y_km,\n",
    "    legend=\"full\",\n",
    "    alpha=0.3,\n",
    "    palette=['green','orange','dodgerblue','red']\n",
    ")\n",
    "handles, labels = ax.get_legend_handles_labels()\n",
    "ax.legend(handles, ['Geophony', 'Anthrophony', 'Biophony', 'Other'])\n",
    "ax.set(title=\"Kmeans Clustering Results without Dimension Reduction\", ylabel=\"TSNE Component 1\", xlabel=\"TSNE Component 2\")"
   ]
  },
  {
   "cell_type": "code",
   "execution_count": null,
   "metadata": {},
   "outputs": [],
   "source": [
    "kmeans_data_old = pd.read_csv('kmeans_results.csv', header='infer')\n",
    "\n",
    "kmeans_data_old.drop(kmeans_data_old.tail(1).index,inplace=True) # drop last n rows\n",
    "y_km = kmeans_data_old[\"kmeans_class\"]\n",
    "\n"
   ]
  },
  {
   "cell_type": "code",
   "execution_count": null,
   "metadata": {},
   "outputs": [],
   "source": [
    "import seaborn as sns\n",
    "\n",
    "x_axis=model[:,0]\n",
    "y_axis=model[:,1]\n",
    "\n",
    "plt.figure(figsize=(16,10))\n",
    "ax=sns.scatterplot(\n",
    "    x=x_axis, y=y_axis,\n",
    "    hue=y_km,\n",
    "    legend=\"full\",\n",
    "    alpha=0.3,\n",
    "    palette=['green','orange','dodgerblue','red']\n",
    ")\n",
    "handles, labels = ax.get_legend_handles_labels()\n",
    "ax.legend(handles, ['Anthrophony', 'Other', 'Biophony', 'Geophony'])\n",
    "ax.set(title=\"Kmeans Clustering Results with Dimension Reduction\", ylabel=\"TSNE Component 1\", xlabel=\"TSNE Component 2\")"
   ]
  },
  {
   "attachments": {},
   "cell_type": "markdown",
   "metadata": {},
   "source": [
    "You will however be able to calculate statistics like within group variance and between group variance. The goal is to have low within group variance and high between group variance"
   ]
  },
  {
   "cell_type": "code",
   "execution_count": null,
   "metadata": {},
   "outputs": [],
   "source": [
    "print(labels)"
   ]
  },
  {
   "attachments": {},
   "cell_type": "markdown",
   "metadata": {},
   "source": [
    "TODO: append results to k-means and use metrics to evaluate results against ground truth data"
   ]
  },
  {
   "cell_type": "code",
   "execution_count": null,
   "metadata": {},
   "outputs": [],
   "source": [
    "df = pd.read_csv('kmeans.csv')\n",
    "print(df)\n"
   ]
  },
  {
   "cell_type": "code",
   "execution_count": null,
   "metadata": {},
   "outputs": [],
   "source": [
    "kmeans_df = pd.DataFrame(labels, columns=[\"kmeans_class\"])\n",
    "\n",
    "df = pd.concat([df, kmeans_df], axis=1)\n",
    "print(df)\n",
    "df.to_csv(\"kmeans_results.csv\", index=False)"
   ]
  },
  {
   "attachments": {},
   "cell_type": "markdown",
   "metadata": {},
   "source": [
    "Rand Index - similarity of the two clustering assignments\n",
    "Biophony = 0\n",
    "Other = 1\n",
    "Anthrophony = 2\n",
    "Geophony = 3"
   ]
  },
  {
   "cell_type": "code",
   "execution_count": null,
   "metadata": {},
   "outputs": [],
   "source": [
    "#kmeans_df['kmeans_class'].value_counts()"
   ]
  },
  {
   "cell_type": "code",
   "execution_count": null,
   "metadata": {},
   "outputs": [],
   "source": [
    "from sklearn import metrics\n",
    "kmeans_data = pd.read_csv('kmeans_results.csv', header='infer')\n",
    "\n",
    "labels_pred = kmeans_data['kmeans_class']\n",
    "\n",
    "\n",
    "#encoding class values\n",
    "kmeans_data['class'] = kmeans_data['class'].str.replace('other', str(1))\n",
    "kmeans_data['class'] = kmeans_data['class'].str.replace('biophony', str(0))\n",
    "kmeans_data['class'] = kmeans_data['class'].str.replace('geophony', str(3))\n",
    "kmeans_data['class'] = kmeans_data['class'].str.replace('anthrophony', str(2))\n",
    "\n",
    "#print(kmeans_data)\n",
    "\n",
    "labels_true = kmeans_data['class']"
   ]
  },
  {
   "cell_type": "code",
   "execution_count": null,
   "metadata": {},
   "outputs": [],
   "source": [
    "metrics.rand_score(labels_true, labels_pred)"
   ]
  },
  {
   "attachments": {},
   "cell_type": "markdown",
   "metadata": {},
   "source": [
    "The Rand index does not ensure to obtain a value close to 0.0 for a random labelling. The adjusted Rand index corrects for chance and will give such a baseline."
   ]
  },
  {
   "cell_type": "code",
   "execution_count": null,
   "metadata": {},
   "outputs": [],
   "source": [
    "metrics.adjusted_rand_score(labels_true, labels_pred)"
   ]
  },
  {
   "attachments": {},
   "cell_type": "markdown",
   "metadata": {},
   "source": [
    "Mutual Information is a function that measures the agreement of the two assignments, ignoring permutations. Two different normalized versions of this measure are available, Normalized Mutual Information (NMI) and Adjusted Mutual Information (AMI). NMI is often used in the literature, while AMI was proposed more recently and is normalized against chance:"
   ]
  },
  {
   "cell_type": "code",
   "execution_count": null,
   "metadata": {},
   "outputs": [],
   "source": [
    "metrics.adjusted_mutual_info_score(labels_true, labels_pred)"
   ]
  },
  {
   "attachments": {},
   "cell_type": "markdown",
   "metadata": {},
   "source": [
    "homogeneity: each cluster contains only members of a single class.\n",
    "\n",
    "completeness: all members of a given class are assigned to the same cluster."
   ]
  },
  {
   "cell_type": "code",
   "execution_count": null,
   "metadata": {},
   "outputs": [],
   "source": [
    "metrics.homogeneity_score(labels_true, labels_pred)"
   ]
  },
  {
   "cell_type": "code",
   "execution_count": null,
   "metadata": {},
   "outputs": [],
   "source": [
    "metrics.completeness_score(labels_true, labels_pred)"
   ]
  },
  {
   "attachments": {},
   "cell_type": "markdown",
   "metadata": {},
   "source": [
    "Their harmonic mean called V-measure is computed by v_measure_score:"
   ]
  },
  {
   "cell_type": "code",
   "execution_count": null,
   "metadata": {},
   "outputs": [],
   "source": [
    "metrics.v_measure_score(labels_true, labels_pred)"
   ]
  },
  {
   "attachments": {},
   "cell_type": "markdown",
   "metadata": {},
   "source": [
    "The Fowlkes-Mallows score FMI is defined as the geometric mean of the pairwise precision and recall. A high value indicates a good similarity between two clusters"
   ]
  },
  {
   "cell_type": "code",
   "execution_count": null,
   "metadata": {},
   "outputs": [],
   "source": [
    "metrics.fowlkes_mallows_score(labels_true, labels_pred)"
   ]
  }
 ],
 "metadata": {
  "kernelspec": {
   "display_name": "env-02",
   "language": "python",
   "name": "python3"
  },
  "language_info": {
   "codemirror_mode": {
    "name": "ipython",
    "version": 3
   },
   "file_extension": ".py",
   "mimetype": "text/x-python",
   "name": "python",
   "nbconvert_exporter": "python",
   "pygments_lexer": "ipython3",
   "version": "3.9.7"
  },
  "orig_nbformat": 4,
  "vscode": {
   "interpreter": {
    "hash": "f82b60afc9e769353ca8e23ca0788a91521f3b1d90a0d850df22b067a5f0348b"
   }
  }
 },
 "nbformat": 4,
 "nbformat_minor": 2
}
