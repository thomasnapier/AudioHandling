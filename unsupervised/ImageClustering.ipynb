{
 "cells": [
  {
   "cell_type": "code",
   "execution_count": 1,
   "metadata": {},
   "outputs": [],
   "source": [
    "from tensorflow.keras.applications.inception_v3 import InceptionV3\n",
    "from tensorflow.keras.applications.inception_v3 import preprocess_input\n",
    "from tensorflow.keras.preprocessing import image\n",
    "from tensorflow.keras.preprocessing.image import img_to_array\n",
    "from sklearn.cluster import KMeans\n",
    "import pandas as pd\n",
    "import numpy as np\n",
    "from tqdm import tqdm\n",
    "import os\n",
    "import shutil"
   ]
  },
  {
   "cell_type": "code",
   "execution_count": 8,
   "metadata": {},
   "outputs": [],
   "source": [
    "geo_path = \"D:\\\\PhD\\\\data\\\\train\\\\geophony\"\n",
    "anthro_path = \"D:\\\\PhD\\\\data\\\\train\\\\anthrophony\"\n",
    "bio_path = \"D:\\\\PhD\\\\data\\\\train\\\\biophony\"\n",
    "other_path = \"D:\\\\PhD\\\\data\\\\train\\\\other\"\n",
    "output_path = \"D:\\\\PhD\\\\data\\\\test\"\n",
    "\n",
    "file_paths = [geo_path, anthro_path, bio_path, other_path]"
   ]
  },
  {
   "cell_type": "markdown",
   "metadata": {},
   "source": [
    "Using transfer learning model InceptionV3 to extract features from images and use those features for clustering."
   ]
  },
  {
   "cell_type": "code",
   "execution_count": 42,
   "metadata": {},
   "outputs": [],
   "source": [
    "# Function to Extract features from the images\n",
    "def image_feature(direc):\n",
    "    model = InceptionV3(weights='imagenet', include_top=False)\n",
    "    features = [];\n",
    "    img_name = [];\n",
    "    for i in tqdm(direc):\n",
    "        print(i)\n",
    "        fname= \"D:\\\\PhD\\\\data\\\\kmeans\"+'\\\\'+i\n",
    "        img=image.load_img(fname,target_size=(224,224))\n",
    "        x = img_to_array(img)\n",
    "        x=np.expand_dims(x,axis=0)\n",
    "        x=preprocess_input(x)\n",
    "        feat=model.predict(x)\n",
    "        feat=feat.flatten()\n",
    "        features.append(feat)\n",
    "        img_name.append(i)\n",
    "    return features,img_name"
   ]
  },
  {
   "cell_type": "code",
   "execution_count": 43,
   "metadata": {},
   "outputs": [
    {
     "name": "stderr",
     "output_type": "stream",
     "text": [
      "  0%|          | 0/2130 [00:00<?, ?it/s]"
     ]
    },
    {
     "name": "stdout",
     "output_type": "stream",
     "text": [
      "---1_cCGK4M_0.png\n",
      "1/1 [==============================] - 1s 1s/step\n"
     ]
    },
    {
     "name": "stderr",
     "output_type": "stream",
     "text": [
      "  0%|          | 1/2130 [00:01<48:39,  1.37s/it]"
     ]
    },
    {
     "name": "stdout",
     "output_type": "stream",
     "text": [
      "---fcVQUf3E_30.png\n",
      "1/1 [==============================] - 0s 62ms/step\n",
      "---lTs1dxhU_30.png\n",
      "1/1 [==============================] - 0s 60ms/step\n"
     ]
    },
    {
     "name": "stderr",
     "output_type": "stream",
     "text": [
      "  0%|          | 3/2130 [00:01<15:03,  2.35it/s]"
     ]
    },
    {
     "name": "stdout",
     "output_type": "stream",
     "text": [
      "---yQzzLcFU_30.png\n",
      "1/1 [==============================] - 0s 61ms/step\n",
      "--0FMNFsVeg_30.png\n",
      "1/1 [==============================] - 0s 58ms/step\n"
     ]
    },
    {
     "name": "stderr",
     "output_type": "stream",
     "text": [
      "  0%|          | 5/2130 [00:01<08:56,  3.96it/s]"
     ]
    },
    {
     "name": "stdout",
     "output_type": "stream",
     "text": [
      "--0PQM4-hqg_30.png\n",
      "1/1 [==============================] - 0s 60ms/step\n",
      "--0vTxLiRuQ_4.png\n",
      "1/1 [==============================] - 0s 60ms/step\n"
     ]
    },
    {
     "name": "stderr",
     "output_type": "stream",
     "text": [
      "  0%|          | 7/2130 [00:01<06:36,  5.35it/s]"
     ]
    },
    {
     "name": "stdout",
     "output_type": "stream",
     "text": [
      "--11PIhoFjg_30.png\n",
      "1/1 [==============================] - 0s 62ms/step\n",
      "--1NzL0juik_30.png\n",
      "1/1 [==============================] - 0s 59ms/step\n"
     ]
    },
    {
     "name": "stderr",
     "output_type": "stream",
     "text": [
      "  0%|          | 9/2130 [00:02<05:24,  6.53it/s]"
     ]
    },
    {
     "name": "stdout",
     "output_type": "stream",
     "text": [
      "--299m5_DdE_0.png\n",
      "1/1 [==============================] - 0s 75ms/step\n"
     ]
    },
    {
     "name": "stderr",
     "output_type": "stream",
     "text": [
      "  0%|          | 10/2130 [00:02<05:04,  6.96it/s]"
     ]
    },
    {
     "name": "stdout",
     "output_type": "stream",
     "text": [
      "--2H9Dj9eMY_30.png\n",
      "1/1 [==============================] - 0s 66ms/step\n"
     ]
    },
    {
     "name": "stderr",
     "output_type": "stream",
     "text": [
      "  1%|          | 11/2130 [00:02<04:47,  7.37it/s]"
     ]
    },
    {
     "name": "stdout",
     "output_type": "stream",
     "text": [
      "--2u0ZyO3x0_30.png\n",
      "1/1 [==============================] - 0s 62ms/step\n",
      "--2XRMjyizo_0.png\n",
      "1/1 [==============================] - 0s 56ms/step\n"
     ]
    },
    {
     "name": "stderr",
     "output_type": "stream",
     "text": [
      "  1%|          | 13/2130 [00:02<04:11,  8.40it/s]"
     ]
    },
    {
     "name": "stdout",
     "output_type": "stream",
     "text": [
      "--330hg-Ocw_30.png\n",
      "1/1 [==============================] - 0s 63ms/step\n"
     ]
    },
    {
     "name": "stderr",
     "output_type": "stream",
     "text": [
      "  1%|          | 14/2130 [00:02<04:04,  8.64it/s]"
     ]
    },
    {
     "name": "stdout",
     "output_type": "stream",
     "text": [
      "--46xGNV1H0_30.png\n",
      "1/1 [==============================] - 0s 60ms/step\n",
      "--5A5ZCa1dE_80.png\n",
      "1/1 [==============================] - 0s 64ms/step\n"
     ]
    },
    {
     "name": "stderr",
     "output_type": "stream",
     "text": [
      "  1%|          | 16/2130 [00:02<03:59,  8.81it/s]"
     ]
    },
    {
     "name": "stdout",
     "output_type": "stream",
     "text": [
      "--5uHDNDKxs_30.png\n",
      "1/1 [==============================] - 0s 61ms/step\n"
     ]
    },
    {
     "name": "stderr",
     "output_type": "stream",
     "text": [
      "  1%|          | 17/2130 [00:02<03:54,  9.03it/s]"
     ]
    },
    {
     "name": "stdout",
     "output_type": "stream",
     "text": [
      "--65x-naOz0_30.png\n",
      "1/1 [==============================] - 0s 64ms/step\n",
      "--7jZxfzemI_13.png\n",
      "1/1 [==============================] - 0s 55ms/step\n"
     ]
    },
    {
     "name": "stderr",
     "output_type": "stream",
     "text": [
      "  1%|          | 19/2130 [00:03<03:39,  9.64it/s]"
     ]
    },
    {
     "name": "stdout",
     "output_type": "stream",
     "text": [
      "--8hipdKBT4_10.png\n",
      "1/1 [==============================] - 0s 54ms/step\n",
      "--8puiAGLhs_30.png\n",
      "1/1 [==============================] - 0s 57ms/step\n"
     ]
    },
    {
     "name": "stderr",
     "output_type": "stream",
     "text": [
      "  1%|          | 21/2130 [00:03<03:28, 10.13it/s]"
     ]
    },
    {
     "name": "stdout",
     "output_type": "stream",
     "text": [
      "--9VR_F7CtY_30.png\n",
      "1/1 [==============================] - 0s 57ms/step\n",
      "--A4Xbd8gCw_120.png\n",
      "1/1 [==============================] - 0s 55ms/step\n"
     ]
    },
    {
     "name": "stderr",
     "output_type": "stream",
     "text": [
      "  1%|          | 23/2130 [00:03<03:21, 10.46it/s]"
     ]
    },
    {
     "name": "stdout",
     "output_type": "stream",
     "text": [
      "--AErD4Wx6c_0.png\n",
      "1/1 [==============================] - 0s 54ms/step\n",
      "--ahHsLBT7I_110.png\n",
      "1/1 [==============================] - 0s 58ms/step\n"
     ]
    },
    {
     "name": "stderr",
     "output_type": "stream",
     "text": [
      "  1%|          | 25/2130 [00:03<03:15, 10.79it/s]"
     ]
    },
    {
     "name": "stdout",
     "output_type": "stream",
     "text": [
      "--Aig9EHjy0_30.png\n",
      "1/1 [==============================] - 0s 60ms/step\n",
      "--aVt0_KbIs_30.png\n",
      "1/1 [==============================] - 0s 61ms/step\n"
     ]
    },
    {
     "name": "stderr",
     "output_type": "stream",
     "text": [
      "  1%|▏         | 27/2130 [00:03<03:16, 10.69it/s]"
     ]
    },
    {
     "name": "stdout",
     "output_type": "stream",
     "text": [
      "--BdguqnSjY_30.png\n",
      "1/1 [==============================] - 0s 53ms/step\n",
      "--BFPeFaj2o_0.png\n",
      "1/1 [==============================] - 0s 58ms/step\n"
     ]
    },
    {
     "name": "stderr",
     "output_type": "stream",
     "text": [
      "  1%|▏         | 29/2130 [00:04<03:12, 10.89it/s]"
     ]
    },
    {
     "name": "stdout",
     "output_type": "stream",
     "text": [
      "--Bu2xe4OSo_430.png\n",
      "1/1 [==============================] - 0s 58ms/step\n",
      "--CE2f-ttEQ_30.png\n",
      "1/1 [==============================] - 0s 91ms/step\n"
     ]
    },
    {
     "name": "stderr",
     "output_type": "stream",
     "text": [
      "  1%|▏         | 31/2130 [00:04<03:23, 10.30it/s]"
     ]
    },
    {
     "name": "stdout",
     "output_type": "stream",
     "text": [
      "--dCRcLsSGw_26.png\n",
      "1/1 [==============================] - 0s 67ms/step\n",
      "--dr8rXrv8k_23.png\n",
      "1/1 [==============================] - 0s 52ms/step\n"
     ]
    },
    {
     "name": "stderr",
     "output_type": "stream",
     "text": [
      "  2%|▏         | 33/2130 [00:04<03:22, 10.35it/s]"
     ]
    },
    {
     "name": "stdout",
     "output_type": "stream",
     "text": [
      "--EG-JqO4S0_30.png\n",
      "1/1 [==============================] - 0s 56ms/step\n",
      "--EjZvjjv4k_50.png\n",
      "1/1 [==============================] - 0s 62ms/step\n"
     ]
    },
    {
     "name": "stderr",
     "output_type": "stream",
     "text": [
      "  2%|▏         | 35/2130 [00:04<03:17, 10.60it/s]"
     ]
    },
    {
     "name": "stdout",
     "output_type": "stream",
     "text": [
      "--ERHDSdxGQ_30.png\n",
      "1/1 [==============================] - 0s 54ms/step\n",
      "--es9aNNlo4_22.png\n",
      "1/1 [==============================] - 0s 69ms/step\n"
     ]
    },
    {
     "name": "stderr",
     "output_type": "stream",
     "text": [
      "  2%|▏         | 37/2130 [00:04<03:18, 10.55it/s]"
     ]
    },
    {
     "name": "stdout",
     "output_type": "stream",
     "text": [
      "--F70LWypIg_30.png\n",
      "1/1 [==============================] - 0s 62ms/step\n",
      "--GF746y6UM_510.png\n",
      "1/1 [==============================] - 0s 60ms/step\n"
     ]
    },
    {
     "name": "stderr",
     "output_type": "stream",
     "text": [
      "  2%|▏         | 39/2130 [00:05<03:21, 10.39it/s]"
     ]
    },
    {
     "name": "stdout",
     "output_type": "stream",
     "text": [
      "--Gy6Dsgf1A_30.png\n",
      "1/1 [==============================] - 0s 61ms/step\n",
      "--HG_OhVeV4_30.png\n",
      "1/1 [==============================] - 0s 59ms/step\n"
     ]
    },
    {
     "name": "stderr",
     "output_type": "stream",
     "text": [
      "  2%|▏         | 41/2130 [00:05<03:20, 10.40it/s]"
     ]
    },
    {
     "name": "stdout",
     "output_type": "stream",
     "text": [
      "--hS-CvxCNQ_420.png\n",
      "1/1 [==============================] - 0s 64ms/step\n",
      "--j5O-EaSUM_30.png\n",
      "1/1 [==============================] - 0s 59ms/step\n"
     ]
    },
    {
     "name": "stderr",
     "output_type": "stream",
     "text": [
      "  2%|▏         | 43/2130 [00:05<03:22, 10.32it/s]"
     ]
    },
    {
     "name": "stdout",
     "output_type": "stream",
     "text": [
      "--jGnLqFsQ4_24.png\n",
      "1/1 [==============================] - 0s 60ms/step\n",
      "--kcclzNEZQ_30.png\n",
      "1/1 [==============================] - 0s 60ms/step\n"
     ]
    },
    {
     "name": "stderr",
     "output_type": "stream",
     "text": [
      "  2%|▏         | 45/2130 [00:05<03:19, 10.43it/s]"
     ]
    },
    {
     "name": "stdout",
     "output_type": "stream",
     "text": [
      "--KCIeTv6PM_18.png\n",
      "1/1 [==============================] - 0s 61ms/step\n",
      "--KjQn5OdHA_25.png\n",
      "1/1 [==============================] - 0s 56ms/step\n"
     ]
    },
    {
     "name": "stderr",
     "output_type": "stream",
     "text": [
      "  2%|▏         | 47/2130 [00:05<03:15, 10.68it/s]"
     ]
    },
    {
     "name": "stdout",
     "output_type": "stream",
     "text": [
      "--L22BmDI6E_12.png\n",
      "1/1 [==============================] - 0s 60ms/step\n",
      "--l7xfUFwc8_0.png\n",
      "1/1 [==============================] - 0s 59ms/step\n"
     ]
    },
    {
     "name": "stderr",
     "output_type": "stream",
     "text": [
      "  2%|▏         | 49/2130 [00:05<03:17, 10.53it/s]"
     ]
    },
    {
     "name": "stdout",
     "output_type": "stream",
     "text": [
      "--L9-DQKtlk_250.png\n",
      "1/1 [==============================] - 0s 61ms/step\n",
      "--Lj4Y_96f0_120.png\n",
      "1/1 [==============================] - 0s 57ms/step\n"
     ]
    },
    {
     "name": "stderr",
     "output_type": "stream",
     "text": [
      "  2%|▏         | 51/2130 [00:06<03:18, 10.49it/s]"
     ]
    },
    {
     "name": "stdout",
     "output_type": "stream",
     "text": [
      "--lKwp2nVm0_30.png\n",
      "1/1 [==============================] - 0s 58ms/step\n",
      "--MTT7hiVV0_60.png\n",
      "1/1 [==============================] - 0s 62ms/step\n"
     ]
    },
    {
     "name": "stderr",
     "output_type": "stream",
     "text": [
      "  2%|▏         | 53/2130 [00:06<03:17, 10.50it/s]"
     ]
    },
    {
     "name": "stdout",
     "output_type": "stream",
     "text": [
      "--Mup7eKarc_150.png\n",
      "1/1 [==============================] - 0s 62ms/step\n",
      "--N8lbFywRg_2.png\n",
      "1/1 [==============================] - 0s 63ms/step\n"
     ]
    },
    {
     "name": "stderr",
     "output_type": "stream",
     "text": [
      "  3%|▎         | 55/2130 [00:06<03:19, 10.41it/s]"
     ]
    },
    {
     "name": "stdout",
     "output_type": "stream",
     "text": [
      "--NHxdJ10zY_340.png\n",
      "1/1 [==============================] - 0s 60ms/step\n",
      "--nZlHfGCD0_18.png\n",
      "1/1 [==============================] - 0s 61ms/step\n"
     ]
    },
    {
     "name": "stderr",
     "output_type": "stream",
     "text": [
      "  3%|▎         | 57/2130 [00:06<03:16, 10.53it/s]"
     ]
    },
    {
     "name": "stdout",
     "output_type": "stream",
     "text": [
      "--OBFOUWZi0_90.png\n",
      "1/1 [==============================] - 0s 64ms/step\n",
      "--OewGtwfTs_30.png\n",
      "1/1 [==============================] - 0s 54ms/step\n"
     ]
    },
    {
     "name": "stderr",
     "output_type": "stream",
     "text": [
      "  3%|▎         | 59/2130 [00:06<03:17, 10.46it/s]"
     ]
    },
    {
     "name": "stdout",
     "output_type": "stream",
     "text": [
      "--OMDPXfO6o_9.png\n",
      "1/1 [==============================] - 0s 62ms/step\n",
      "--P4wuph3Mc_0.png\n",
      "1/1 [==============================] - 0s 57ms/step\n"
     ]
    },
    {
     "name": "stderr",
     "output_type": "stream",
     "text": [
      "  3%|▎         | 61/2130 [00:07<03:15, 10.58it/s]"
     ]
    },
    {
     "name": "stdout",
     "output_type": "stream",
     "text": [
      "--Pdds1vgbM_0.png\n",
      "1/1 [==============================] - 0s 57ms/step\n",
      "--PG66A3lo4_80.png\n",
      "1/1 [==============================] - 0s 59ms/step\n"
     ]
    },
    {
     "name": "stderr",
     "output_type": "stream",
     "text": [
      "  3%|▎         | 63/2130 [00:07<03:14, 10.61it/s]"
     ]
    },
    {
     "name": "stdout",
     "output_type": "stream",
     "text": [
      "--pQ2j2x10I_120.png\n",
      "1/1 [==============================] - 0s 62ms/step\n",
      "--pVc4d5im0_120.png\n",
      "1/1 [==============================] - 0s 60ms/step\n"
     ]
    },
    {
     "name": "stderr",
     "output_type": "stream",
     "text": [
      "  3%|▎         | 65/2130 [00:07<03:14, 10.64it/s]"
     ]
    },
    {
     "name": "stdout",
     "output_type": "stream",
     "text": [
      "--rBe2ZPpzY_30.png\n",
      "1/1 [==============================] - 0s 56ms/step\n",
      "--RBwc_VFYA_30.png\n",
      "1/1 [==============================] - 0s 58ms/step\n"
     ]
    },
    {
     "name": "stderr",
     "output_type": "stream",
     "text": [
      "  3%|▎         | 67/2130 [00:07<03:12, 10.72it/s]"
     ]
    },
    {
     "name": "stdout",
     "output_type": "stream",
     "text": [
      "--RQX1QDoOI_340.png\n",
      "1/1 [==============================] - 0s 65ms/step\n",
      "--S8uRrPDow_0.png\n",
      "1/1 [==============================] - 0s 66ms/step\n"
     ]
    },
    {
     "name": "stderr",
     "output_type": "stream",
     "text": [
      "  3%|▎         | 69/2130 [00:07<03:19, 10.32it/s]"
     ]
    },
    {
     "name": "stdout",
     "output_type": "stream",
     "text": [
      "--sIMPsphRI_10.png\n",
      "1/1 [==============================] - 0s 69ms/step\n",
      "--tsKEf7uUs_30.png\n",
      "1/1 [==============================] - 0s 65ms/step\n"
     ]
    },
    {
     "name": "stderr",
     "output_type": "stream",
     "text": [
      "  3%|▎         | 71/2130 [00:08<03:22, 10.15it/s]"
     ]
    },
    {
     "name": "stdout",
     "output_type": "stream",
     "text": [
      "--tZJm4nh1Q_190.png\n",
      "1/1 [==============================] - 0s 59ms/step\n",
      "--uhc3sHpTM_30.png\n",
      "1/1 [==============================] - 0s 60ms/step\n"
     ]
    },
    {
     "name": "stderr",
     "output_type": "stream",
     "text": [
      "  3%|▎         | 73/2130 [00:08<03:20, 10.26it/s]"
     ]
    },
    {
     "name": "stdout",
     "output_type": "stream",
     "text": [
      "--uVF--g12s_0.png\n",
      "1/1 [==============================] - 0s 57ms/step\n",
      "--v1WjOJv-w_150.png\n",
      "1/1 [==============================] - 0s 60ms/step\n"
     ]
    },
    {
     "name": "stderr",
     "output_type": "stream",
     "text": [
      "  4%|▎         | 75/2130 [00:08<03:15, 10.48it/s]"
     ]
    },
    {
     "name": "stdout",
     "output_type": "stream",
     "text": [
      "--v7FsvvYng_40.png\n",
      "1/1 [==============================] - 0s 53ms/step\n",
      "--vaR52CM6k_30.png\n",
      "1/1 [==============================] - 0s 62ms/step\n"
     ]
    },
    {
     "name": "stderr",
     "output_type": "stream",
     "text": [
      "  4%|▎         | 77/2130 [00:08<03:12, 10.68it/s]"
     ]
    },
    {
     "name": "stdout",
     "output_type": "stream",
     "text": [
      "--vPt3oQiUA_400.png\n",
      "1/1 [==============================] - 0s 63ms/step\n",
      "--WMXeElXSw_0.png\n",
      "1/1 [==============================] - 0s 62ms/step\n"
     ]
    },
    {
     "name": "stderr",
     "output_type": "stream",
     "text": [
      "  4%|▎         | 79/2130 [00:08<03:14, 10.55it/s]"
     ]
    },
    {
     "name": "stdout",
     "output_type": "stream",
     "text": [
      "--xDCyf8_so_10.png\n",
      "1/1 [==============================] - 0s 55ms/step\n",
      "--xDffQ9Mwo_30.png\n",
      "1/1 [==============================] - 0s 57ms/step\n"
     ]
    },
    {
     "name": "stderr",
     "output_type": "stream",
     "text": [
      "  4%|▍         | 81/2130 [00:09<03:10, 10.76it/s]"
     ]
    },
    {
     "name": "stdout",
     "output_type": "stream",
     "text": [
      "--Y5xzGB0GY_30.png\n",
      "1/1 [==============================] - 0s 58ms/step\n",
      "--yCGUs46y4_30.png\n",
      "1/1 [==============================] - 0s 56ms/step\n"
     ]
    },
    {
     "name": "stderr",
     "output_type": "stream",
     "text": [
      "  4%|▍         | 83/2130 [00:09<03:09, 10.78it/s]"
     ]
    },
    {
     "name": "stdout",
     "output_type": "stream",
     "text": [
      "--YiwOrObMM_60.png\n",
      "1/1 [==============================] - 0s 58ms/step\n",
      "--yLXxmQv8Y_15.png\n",
      "1/1 [==============================] - 0s 63ms/step\n"
     ]
    },
    {
     "name": "stderr",
     "output_type": "stream",
     "text": [
      "  4%|▍         | 85/2130 [00:09<03:08, 10.84it/s]"
     ]
    },
    {
     "name": "stdout",
     "output_type": "stream",
     "text": [
      "--Z3ciOmwZQ_8.png\n",
      "1/1 [==============================] - 0s 58ms/step\n",
      "--zDqIhJ-EM_10.png\n",
      "1/1 [==============================] - 0s 58ms/step\n"
     ]
    },
    {
     "name": "stderr",
     "output_type": "stream",
     "text": [
      "  4%|▍         | 87/2130 [00:09<03:07, 10.88it/s]"
     ]
    },
    {
     "name": "stdout",
     "output_type": "stream",
     "text": [
      "--zej0hXqC4_30.png\n",
      "1/1 [==============================] - 0s 60ms/step\n",
      "--zLzL0sq3M_30.png\n",
      "1/1 [==============================] - 0s 55ms/step\n"
     ]
    },
    {
     "name": "stderr",
     "output_type": "stream",
     "text": [
      "  4%|▍         | 89/2130 [00:09<03:06, 10.97it/s]"
     ]
    },
    {
     "name": "stdout",
     "output_type": "stream",
     "text": [
      "--Zz7BgxSUg_30.png\n",
      "1/1 [==============================] - 0s 63ms/step\n",
      "-007ZsIFb0M_30.png\n",
      "1/1 [==============================] - 0s 58ms/step\n"
     ]
    },
    {
     "name": "stderr",
     "output_type": "stream",
     "text": [
      "  4%|▍         | 91/2130 [00:09<03:08, 10.80it/s]"
     ]
    },
    {
     "name": "stdout",
     "output_type": "stream",
     "text": [
      "-02m1Zi-IXI_550.png\n",
      "1/1 [==============================] - 0s 60ms/step\n",
      "-02sZMlMYIk_350.png\n",
      "1/1 [==============================] - 0s 58ms/step\n"
     ]
    },
    {
     "name": "stderr",
     "output_type": "stream",
     "text": [
      "  4%|▍         | 93/2130 [00:10<03:08, 10.80it/s]"
     ]
    },
    {
     "name": "stdout",
     "output_type": "stream",
     "text": [
      "-02wCf1lk2o_200.png\n",
      "1/1 [==============================] - 0s 53ms/step\n",
      "-03ld83JliM_29.png\n",
      "1/1 [==============================] - 0s 56ms/step\n"
     ]
    },
    {
     "name": "stderr",
     "output_type": "stream",
     "text": [
      "  4%|▍         | 95/2130 [00:10<03:08, 10.82it/s]"
     ]
    },
    {
     "name": "stdout",
     "output_type": "stream",
     "text": [
      "-03xYBbIt_8_30.png\n",
      "1/1 [==============================] - 0s 58ms/step\n",
      "-05dk_b8-h4_90.png\n",
      "1/1 [==============================] - 0s 80ms/step\n"
     ]
    },
    {
     "name": "stderr",
     "output_type": "stream",
     "text": [
      "  5%|▍         | 97/2130 [00:10<03:18, 10.22it/s]"
     ]
    },
    {
     "name": "stdout",
     "output_type": "stream",
     "text": [
      "-07Ca35pao0_20.png\n",
      "1/1 [==============================] - 0s 72ms/step\n",
      "-08Q_GqDETc_0.png\n",
      "1/1 [==============================] - 0s 61ms/step\n"
     ]
    },
    {
     "name": "stderr",
     "output_type": "stream",
     "text": [
      "  5%|▍         | 99/2130 [00:10<03:21, 10.09it/s]"
     ]
    },
    {
     "name": "stdout",
     "output_type": "stream",
     "text": [
      "-0A1_JR5f34_16.png\n",
      "1/1 [==============================] - 0s 57ms/step\n",
      "-0aiCtGjNXE_30.png\n",
      "1/1 [==============================] - 0s 67ms/step\n"
     ]
    },
    {
     "name": "stderr",
     "output_type": "stream",
     "text": [
      "  5%|▍         | 101/2130 [00:10<03:20, 10.13it/s]"
     ]
    },
    {
     "name": "stdout",
     "output_type": "stream",
     "text": [
      "-0Bkyt8iZ1I_8.png\n",
      "1/1 [==============================] - 0s 58ms/step\n",
      "-0Clh7A3hMI_160.png\n",
      "1/1 [==============================] - 0s 61ms/step\n"
     ]
    },
    {
     "name": "stderr",
     "output_type": "stream",
     "text": [
      "  5%|▍         | 103/2130 [00:11<03:16, 10.31it/s]"
     ]
    },
    {
     "name": "stdout",
     "output_type": "stream",
     "text": [
      "-0Eem_FuIto_15.png\n",
      "1/1 [==============================] - 0s 55ms/step\n",
      "-0EIYbSmy48_11.png\n",
      "1/1 [==============================] - 0s 58ms/step\n"
     ]
    },
    {
     "name": "stderr",
     "output_type": "stream",
     "text": [
      "  5%|▍         | 105/2130 [00:11<03:10, 10.64it/s]"
     ]
    },
    {
     "name": "stdout",
     "output_type": "stream",
     "text": [
      "-0eWfAENhng_0.png\n",
      "1/1 [==============================] - 0s 62ms/step\n",
      "-0EWw7ZGgZw_0.png\n",
      "1/1 [==============================] - 0s 57ms/step\n"
     ]
    },
    {
     "name": "stderr",
     "output_type": "stream",
     "text": [
      "  5%|▌         | 107/2130 [00:11<03:12, 10.50it/s]"
     ]
    },
    {
     "name": "stdout",
     "output_type": "stream",
     "text": [
      "-0g8EILYVyw_30.png\n",
      "1/1 [==============================] - 0s 60ms/step\n",
      "-0GGPkKY3TU_300.png\n",
      "1/1 [==============================] - 0s 64ms/step\n"
     ]
    },
    {
     "name": "stderr",
     "output_type": "stream",
     "text": [
      "  5%|▌         | 109/2130 [00:11<03:15, 10.31it/s]"
     ]
    },
    {
     "name": "stdout",
     "output_type": "stream",
     "text": [
      "-0GUZ96grb4_150.png\n",
      "1/1 [==============================] - 0s 69ms/step\n",
      "-0h6kto5gBU_0.png\n",
      "1/1 [==============================] - 0s 62ms/step\n"
     ]
    },
    {
     "name": "stderr",
     "output_type": "stream",
     "text": [
      "  5%|▌         | 111/2130 [00:11<03:17, 10.22it/s]"
     ]
    },
    {
     "name": "stdout",
     "output_type": "stream",
     "text": [
      "-0Hf2I8AFI8_20.png\n",
      "1/1 [==============================] - 0s 57ms/step\n",
      "-0J9HfwJ08c_30.png\n",
      "1/1 [==============================] - 0s 57ms/step\n"
     ]
    },
    {
     "name": "stderr",
     "output_type": "stream",
     "text": [
      "  5%|▌         | 113/2130 [00:12<03:11, 10.54it/s]"
     ]
    },
    {
     "name": "stdout",
     "output_type": "stream",
     "text": [
      "-0JqTq_4jaE_40.png\n",
      "1/1 [==============================] - 0s 61ms/step\n",
      "-0JsNB_V8_s_26.png\n",
      "1/1 [==============================] - 0s 58ms/step\n"
     ]
    },
    {
     "name": "stderr",
     "output_type": "stream",
     "text": [
      "  5%|▌         | 115/2130 [00:12<03:09, 10.62it/s]"
     ]
    },
    {
     "name": "stdout",
     "output_type": "stream",
     "text": [
      "-0khyUGUoto_30.png\n",
      "1/1 [==============================] - 0s 63ms/step\n",
      "-0kLxY8r5VY_0.png\n",
      "1/1 [==============================] - 0s 60ms/step\n"
     ]
    },
    {
     "name": "stderr",
     "output_type": "stream",
     "text": [
      "  5%|▌         | 117/2130 [00:12<03:08, 10.69it/s]"
     ]
    },
    {
     "name": "stdout",
     "output_type": "stream",
     "text": [
      "-0Kp4S9337k_0.png\n",
      "1/1 [==============================] - 0s 65ms/step\n",
      "-0KTxOxJt-0_30.png\n",
      "1/1 [==============================] - 0s 59ms/step\n"
     ]
    },
    {
     "name": "stderr",
     "output_type": "stream",
     "text": [
      "  6%|▌         | 119/2130 [00:12<03:09, 10.59it/s]"
     ]
    },
    {
     "name": "stdout",
     "output_type": "stream",
     "text": [
      "-0LMceDMkQM_30.png\n",
      "1/1 [==============================] - 0s 58ms/step\n",
      "-0M2V3EJXRU_70.png\n",
      "1/1 [==============================] - 0s 62ms/step\n"
     ]
    },
    {
     "name": "stderr",
     "output_type": "stream",
     "text": [
      "  6%|▌         | 121/2130 [00:12<03:09, 10.62it/s]"
     ]
    },
    {
     "name": "stdout",
     "output_type": "stream",
     "text": [
      "-0N43X6_6eU_30.png\n",
      "1/1 [==============================] - 0s 57ms/step\n",
      "-0nSANmuPxU_10.png\n",
      "1/1 [==============================] - 0s 58ms/step\n"
     ]
    },
    {
     "name": "stderr",
     "output_type": "stream",
     "text": [
      "  6%|▌         | 123/2130 [00:12<03:06, 10.75it/s]"
     ]
    },
    {
     "name": "stdout",
     "output_type": "stream",
     "text": [
      "-0o7vlhehNI_30.png\n",
      "1/1 [==============================] - 0s 63ms/step\n",
      "-0PoYyUq4kE_160.png\n",
      "1/1 [==============================] - 0s 62ms/step\n"
     ]
    },
    {
     "name": "stderr",
     "output_type": "stream",
     "text": [
      "  6%|▌         | 125/2130 [00:13<03:08, 10.65it/s]"
     ]
    },
    {
     "name": "stdout",
     "output_type": "stream",
     "text": [
      "-0PrEsytvc0_30.png\n",
      "1/1 [==============================] - 0s 61ms/step\n",
      "-0pZsnG1MAI_30.png\n",
      "1/1 [==============================] - 0s 59ms/step\n"
     ]
    },
    {
     "name": "stderr",
     "output_type": "stream",
     "text": [
      "  6%|▌         | 127/2130 [00:13<03:09, 10.56it/s]"
     ]
    },
    {
     "name": "stdout",
     "output_type": "stream",
     "text": [
      "-0qVjqx4X-E_30.png\n",
      "1/1 [==============================] - 0s 62ms/step\n",
      "-0Rlqa4oDNI_30.png\n",
      "1/1 [==============================] - 0s 64ms/step\n"
     ]
    },
    {
     "name": "stderr",
     "output_type": "stream",
     "text": [
      "  6%|▌         | 129/2130 [00:13<03:13, 10.34it/s]"
     ]
    },
    {
     "name": "stdout",
     "output_type": "stream",
     "text": [
      "-0RLUe1RzgA_30.png\n",
      "1/1 [==============================] - 0s 61ms/step\n",
      "-0RUcq5tkNU_60.png\n",
      "1/1 [==============================] - 0s 62ms/step\n"
     ]
    },
    {
     "name": "stderr",
     "output_type": "stream",
     "text": [
      "  6%|▌         | 131/2130 [00:13<03:15, 10.20it/s]"
     ]
    },
    {
     "name": "stdout",
     "output_type": "stream",
     "text": [
      "-0sDdBQt3Gc_60.png\n",
      "1/1 [==============================] - 0s 62ms/step\n",
      "-0Td_g_HVEQ_18.png\n",
      "1/1 [==============================] - 0s 56ms/step\n"
     ]
    },
    {
     "name": "stderr",
     "output_type": "stream",
     "text": [
      "  6%|▌         | 133/2130 [00:13<03:15, 10.22it/s]"
     ]
    },
    {
     "name": "stdout",
     "output_type": "stream",
     "text": [
      "-0term1xZJg_80.png\n",
      "1/1 [==============================] - 0s 61ms/step\n",
      "-0TFfPXw9Sw_30.png\n",
      "1/1 [==============================] - 0s 56ms/step\n"
     ]
    },
    {
     "name": "stderr",
     "output_type": "stream",
     "text": [
      "  6%|▋         | 135/2130 [00:14<03:13, 10.32it/s]"
     ]
    },
    {
     "name": "stdout",
     "output_type": "stream",
     "text": [
      "-0TJmdb_QjQ_30.png\n",
      "1/1 [==============================] - 0s 57ms/step\n",
      "-0TYpf4-eNY_190.png\n",
      "1/1 [==============================] - 0s 61ms/step\n"
     ]
    },
    {
     "name": "stderr",
     "output_type": "stream",
     "text": [
      "  6%|▋         | 137/2130 [00:14<03:15, 10.19it/s]"
     ]
    },
    {
     "name": "stdout",
     "output_type": "stream",
     "text": [
      "-0VMvk6TlGI_190.png\n",
      "1/1 [==============================] - 0s 63ms/step\n",
      "-0x3rJPqtPY_140.png\n",
      "1/1 [==============================] - 0s 53ms/step\n"
     ]
    },
    {
     "name": "stderr",
     "output_type": "stream",
     "text": [
      "  7%|▋         | 139/2130 [00:14<03:12, 10.32it/s]"
     ]
    },
    {
     "name": "stdout",
     "output_type": "stream",
     "text": [
      "-0Y5oxadcuk_30.png\n",
      "1/1 [==============================] - 0s 55ms/step\n",
      "-0Y9fAHwu1g_30.png\n",
      "1/1 [==============================] - 0s 59ms/step\n"
     ]
    },
    {
     "name": "stderr",
     "output_type": "stream",
     "text": [
      "  7%|▋         | 141/2130 [00:14<03:08, 10.53it/s]"
     ]
    },
    {
     "name": "stdout",
     "output_type": "stream",
     "text": [
      "-0YCkmZS0pc_30.png\n",
      "1/1 [==============================] - 0s 62ms/step\n",
      "-0yQTraiAUY_30.png\n",
      "1/1 [==============================] - 0s 71ms/step\n"
     ]
    },
    {
     "name": "stderr",
     "output_type": "stream",
     "text": [
      "  7%|▋         | 143/2130 [00:14<03:13, 10.27it/s]"
     ]
    },
    {
     "name": "stdout",
     "output_type": "stream",
     "text": [
      "-0ZQBaRcpi0_30.png\n",
      "1/1 [==============================] - 0s 56ms/step\n",
      "-10LuIKOIPA_30.png\n",
      "1/1 [==============================] - 0s 65ms/step\n"
     ]
    },
    {
     "name": "stderr",
     "output_type": "stream",
     "text": [
      "  7%|▋         | 145/2130 [00:15<03:11, 10.36it/s]"
     ]
    },
    {
     "name": "stdout",
     "output_type": "stream",
     "text": [
      "-10xBpoKfrA_30.png\n",
      "1/1 [==============================] - 0s 54ms/step\n",
      "-111f5oCFlE_8.png\n",
      "1/1 [==============================] - 0s 56ms/step\n"
     ]
    },
    {
     "name": "stderr",
     "output_type": "stream",
     "text": [
      "  7%|▋         | 147/2130 [00:15<03:06, 10.63it/s]"
     ]
    },
    {
     "name": "stdout",
     "output_type": "stream",
     "text": [
      "-12Z-4hvmyU_350.png\n",
      "1/1 [==============================] - 0s 55ms/step\n",
      "-14BFlDzjS4_6.png\n",
      "1/1 [==============================] - 0s 58ms/step\n"
     ]
    },
    {
     "name": "stderr",
     "output_type": "stream",
     "text": [
      "  7%|▋         | 149/2130 [00:15<03:01, 10.89it/s]"
     ]
    },
    {
     "name": "stdout",
     "output_type": "stream",
     "text": [
      "-17HGDPd8gE_30.png\n",
      "1/1 [==============================] - 0s 89ms/step\n",
      "-17PBbWKfzs_10.png\n",
      "1/1 [==============================] - 0s 53ms/step\n"
     ]
    },
    {
     "name": "stderr",
     "output_type": "stream",
     "text": [
      "  7%|▋         | 151/2130 [00:15<03:12, 10.28it/s]"
     ]
    },
    {
     "name": "stdout",
     "output_type": "stream",
     "text": [
      "-181c8I5GKY_90.png\n",
      "1/1 [==============================] - 0s 55ms/step\n",
      "-18R0j7JkVU_5.png\n",
      "1/1 [==============================] - 0s 56ms/step\n"
     ]
    },
    {
     "name": "stderr",
     "output_type": "stream",
     "text": [
      "  7%|▋         | 153/2130 [00:15<03:06, 10.58it/s]"
     ]
    },
    {
     "name": "stdout",
     "output_type": "stream",
     "text": [
      "-1Aq2vO90x0_100.png\n",
      "1/1 [==============================] - 0s 57ms/step\n",
      "-1AQ2Yau_5M_50.png\n",
      "1/1 [==============================] - 0s 55ms/step\n"
     ]
    },
    {
     "name": "stderr",
     "output_type": "stream",
     "text": [
      "  7%|▋         | 155/2130 [00:16<03:02, 10.82it/s]"
     ]
    },
    {
     "name": "stdout",
     "output_type": "stream",
     "text": [
      "-1bchAh0bCk_30.png\n",
      "1/1 [==============================] - 0s 57ms/step\n",
      "-1B_4X9Uhpw_440.png\n",
      "1/1 [==============================] - 0s 53ms/step\n"
     ]
    },
    {
     "name": "stderr",
     "output_type": "stream",
     "text": [
      "  7%|▋         | 157/2130 [00:16<02:58, 11.07it/s]"
     ]
    },
    {
     "name": "stdout",
     "output_type": "stream",
     "text": [
      "-1C9L1hcX_A_30.png\n",
      "1/1 [==============================] - 0s 54ms/step\n",
      "-1CM33luHD0_30.png\n",
      "1/1 [==============================] - 0s 57ms/step\n"
     ]
    },
    {
     "name": "stderr",
     "output_type": "stream",
     "text": [
      "  7%|▋         | 159/2130 [00:16<02:56, 11.18it/s]"
     ]
    },
    {
     "name": "stdout",
     "output_type": "stream",
     "text": [
      "-1CNw3wis34_0.png\n",
      "1/1 [==============================] - 0s 55ms/step\n",
      "-1CyM_QhpXA_30.png\n",
      "1/1 [==============================] - 0s 57ms/step\n"
     ]
    },
    {
     "name": "stderr",
     "output_type": "stream",
     "text": [
      "  8%|▊         | 161/2130 [00:16<02:58, 11.03it/s]"
     ]
    },
    {
     "name": "stdout",
     "output_type": "stream",
     "text": [
      "-1gnqVuvMqg_30.png\n",
      "1/1 [==============================] - 0s 53ms/step\n",
      "-1guPbH2s3Y_27.png\n",
      "1/1 [==============================] - 0s 56ms/step\n"
     ]
    },
    {
     "name": "stderr",
     "output_type": "stream",
     "text": [
      "  8%|▊         | 163/2130 [00:16<02:55, 11.18it/s]"
     ]
    },
    {
     "name": "stdout",
     "output_type": "stream",
     "text": [
      "-1Hu_O-dosg_30.png\n",
      "1/1 [==============================] - 0s 58ms/step\n",
      "-1hvn3ZCTAU_0.png\n",
      "1/1 [==============================] - 0s 55ms/step\n"
     ]
    },
    {
     "name": "stderr",
     "output_type": "stream",
     "text": [
      "  8%|▊         | 165/2130 [00:16<02:56, 11.12it/s]"
     ]
    },
    {
     "name": "stdout",
     "output_type": "stream",
     "text": [
      "-1Il-TZDdUQ_30.png\n",
      "1/1 [==============================] - 0s 57ms/step\n",
      "-1inFdjAq9I_10.png\n",
      "1/1 [==============================] - 0s 58ms/step\n"
     ]
    },
    {
     "name": "stderr",
     "output_type": "stream",
     "text": [
      "  8%|▊         | 167/2130 [00:17<02:57, 11.05it/s]"
     ]
    },
    {
     "name": "stdout",
     "output_type": "stream",
     "text": [
      "-1IuHAccCzk_30.png\n",
      "1/1 [==============================] - 0s 56ms/step\n",
      "-1KAjPp2-Vc_120.png\n",
      "1/1 [==============================] - 0s 56ms/step\n"
     ]
    },
    {
     "name": "stderr",
     "output_type": "stream",
     "text": [
      "  8%|▊         | 169/2130 [00:17<02:57, 11.07it/s]"
     ]
    },
    {
     "name": "stdout",
     "output_type": "stream",
     "text": [
      "-1KZoXPP3MQ_30.png\n",
      "1/1 [==============================] - 0s 57ms/step\n",
      "-1LxH4B__28_320.png\n",
      "1/1 [==============================] - 0s 58ms/step\n"
     ]
    },
    {
     "name": "stderr",
     "output_type": "stream",
     "text": [
      "  8%|▊         | 171/2130 [00:17<02:59, 10.92it/s]"
     ]
    },
    {
     "name": "stdout",
     "output_type": "stream",
     "text": [
      "-1M3gijAeqI_90.png\n",
      "1/1 [==============================] - 0s 54ms/step\n",
      "-1nEEX8uOD8_4.png\n",
      "1/1 [==============================] - 0s 54ms/step\n"
     ]
    },
    {
     "name": "stderr",
     "output_type": "stream",
     "text": [
      "  8%|▊         | 173/2130 [00:17<02:57, 11.03it/s]"
     ]
    },
    {
     "name": "stdout",
     "output_type": "stream",
     "text": [
      "-1O8bucXb5E_30.png\n",
      "1/1 [==============================] - 0s 56ms/step\n",
      "-1oh2JGbkmc_220.png\n",
      "1/1 [==============================] - 0s 60ms/step\n"
     ]
    },
    {
     "name": "stderr",
     "output_type": "stream",
     "text": [
      "  8%|▊         | 175/2130 [00:17<02:58, 10.93it/s]"
     ]
    },
    {
     "name": "stdout",
     "output_type": "stream",
     "text": [
      "-1oRfe0FQI8_60.png\n",
      "1/1 [==============================] - 0s 60ms/step\n",
      "-1oUWvnBBhc_110.png\n",
      "1/1 [==============================] - 0s 58ms/step\n"
     ]
    },
    {
     "name": "stderr",
     "output_type": "stream",
     "text": [
      "  8%|▊         | 177/2130 [00:18<03:01, 10.79it/s]"
     ]
    },
    {
     "name": "stdout",
     "output_type": "stream",
     "text": [
      "-1Pj23GVOGQ_30.png\n",
      "1/1 [==============================] - 0s 63ms/step\n",
      "-1pNURiRvs4_40.png\n",
      "1/1 [==============================] - 0s 67ms/step\n"
     ]
    },
    {
     "name": "stderr",
     "output_type": "stream",
     "text": [
      "  8%|▊         | 179/2130 [00:18<03:03, 10.60it/s]"
     ]
    },
    {
     "name": "stdout",
     "output_type": "stream",
     "text": [
      "-1PpGe_fk6U_30.png\n",
      "1/1 [==============================] - 0s 62ms/step\n",
      "-1rEwDd-5fU_17.png\n",
      "1/1 [==============================] - 0s 56ms/step\n"
     ]
    },
    {
     "name": "stderr",
     "output_type": "stream",
     "text": [
      "  8%|▊         | 181/2130 [00:18<03:03, 10.61it/s]"
     ]
    },
    {
     "name": "stdout",
     "output_type": "stream",
     "text": [
      "-1Rs-GV7Mvg_30.png\n",
      "1/1 [==============================] - 0s 61ms/step\n",
      "-1SVaxMl9JE_90.png\n",
      "1/1 [==============================] - 0s 62ms/step\n"
     ]
    },
    {
     "name": "stderr",
     "output_type": "stream",
     "text": [
      "  9%|▊         | 183/2130 [00:18<03:05, 10.52it/s]"
     ]
    },
    {
     "name": "stdout",
     "output_type": "stream",
     "text": [
      "-1sYvL-RUuM_0.png\n",
      "1/1 [==============================] - 0s 66ms/step\n",
      "-1ULAOFGdSY_140.png\n",
      "1/1 [==============================] - 0s 75ms/step\n"
     ]
    },
    {
     "name": "stderr",
     "output_type": "stream",
     "text": [
      "  9%|▊         | 185/2130 [00:18<03:21,  9.64it/s]"
     ]
    },
    {
     "name": "stdout",
     "output_type": "stream",
     "text": [
      "-1UleAsNU_4_30.png\n",
      "1/1 [==============================] - 0s 60ms/step\n",
      "-1UP2kG24nM_50.png\n",
      "1/1 [==============================] - 0s 57ms/step\n"
     ]
    },
    {
     "name": "stderr",
     "output_type": "stream",
     "text": [
      "  9%|▉         | 187/2130 [00:19<03:15,  9.93it/s]"
     ]
    },
    {
     "name": "stdout",
     "output_type": "stream",
     "text": [
      "-1uRZkvKxwE_30.png\n",
      "1/1 [==============================] - 0s 56ms/step\n",
      "-1u_AGm9wZI_230.png\n",
      "1/1 [==============================] - 0s 57ms/step\n"
     ]
    },
    {
     "name": "stderr",
     "output_type": "stream",
     "text": [
      "  9%|▉         | 189/2130 [00:19<03:10, 10.17it/s]"
     ]
    },
    {
     "name": "stdout",
     "output_type": "stream",
     "text": [
      "-1VsFy0eVJs_30.png\n",
      "1/1 [==============================] - 0s 65ms/step\n",
      "-1WdQB0SWIM_23.png\n",
      "1/1 [==============================] - 0s 61ms/step\n"
     ]
    },
    {
     "name": "stderr",
     "output_type": "stream",
     "text": [
      "  9%|▉         | 191/2130 [00:19<03:16,  9.85it/s]"
     ]
    },
    {
     "name": "stdout",
     "output_type": "stream",
     "text": [
      "-1wqQSg8gcU_400.png\n",
      "1/1 [==============================] - 0s 61ms/step\n",
      "-1XraND3fb8_490.png\n",
      "1/1 [==============================] - 0s 59ms/step\n"
     ]
    },
    {
     "name": "stderr",
     "output_type": "stream",
     "text": [
      "  9%|▉         | 193/2130 [00:19<03:14,  9.98it/s]"
     ]
    },
    {
     "name": "stdout",
     "output_type": "stream",
     "text": [
      "-1XUDzZUBJ0_30.png\n",
      "1/1 [==============================] - 0s 55ms/step\n",
      "-1XUnm0C3nc_30.png\n",
      "1/1 [==============================] - 0s 68ms/step\n"
     ]
    },
    {
     "name": "stderr",
     "output_type": "stream",
     "text": [
      "  9%|▉         | 195/2130 [00:19<03:11, 10.11it/s]"
     ]
    },
    {
     "name": "stdout",
     "output_type": "stream",
     "text": [
      "-1y-5KPquQ8_30.png\n",
      "1/1 [==============================] - 0s 58ms/step\n",
      "-1yGQXQC5gE_170.png\n",
      "1/1 [==============================] - 0s 65ms/step\n"
     ]
    },
    {
     "name": "stderr",
     "output_type": "stream",
     "text": [
      "  9%|▉         | 197/2130 [00:20<03:13, 10.01it/s]"
     ]
    },
    {
     "name": "stdout",
     "output_type": "stream",
     "text": [
      "-1z-Vkk3Lao_9.png\n",
      "1/1 [==============================] - 0s 67ms/step\n",
      "-2--Xzix2Vk_0.png\n",
      "1/1 [==============================] - 0s 60ms/step\n"
     ]
    },
    {
     "name": "stderr",
     "output_type": "stream",
     "text": [
      "  9%|▉         | 199/2130 [00:20<03:12, 10.01it/s]"
     ]
    },
    {
     "name": "stdout",
     "output_type": "stream",
     "text": [
      "-21GRnZ5a5I_30.png\n",
      "1/1 [==============================] - 0s 61ms/step\n",
      "-21V_L7yFVc_160.png\n",
      "1/1 [==============================] - 0s 61ms/step\n"
     ]
    },
    {
     "name": "stderr",
     "output_type": "stream",
     "text": [
      "  9%|▉         | 201/2130 [00:20<03:12, 10.04it/s]"
     ]
    },
    {
     "name": "stdout",
     "output_type": "stream",
     "text": [
      "-21Zte42ZYc_30.png\n",
      "1/1 [==============================] - 0s 69ms/step\n",
      "-22plYEwxQQ_30.png\n",
      "1/1 [==============================] - 0s 65ms/step\n"
     ]
    },
    {
     "name": "stderr",
     "output_type": "stream",
     "text": [
      " 10%|▉         | 203/2130 [00:20<03:15,  9.86it/s]"
     ]
    },
    {
     "name": "stdout",
     "output_type": "stream",
     "text": [
      "-23mcDyOrw4_30.png\n",
      "1/1 [==============================] - 0s 56ms/step\n",
      "-24BS1Wrdyc_30.png\n",
      "1/1 [==============================] - 0s 66ms/step\n"
     ]
    },
    {
     "name": "stderr",
     "output_type": "stream",
     "text": [
      " 10%|▉         | 205/2130 [00:20<03:15,  9.85it/s]"
     ]
    },
    {
     "name": "stdout",
     "output_type": "stream",
     "text": [
      "-26MT40O-2Q_10.png\n",
      "1/1 [==============================] - 0s 63ms/step\n",
      "-26ZR9AGm7k_30.png\n",
      "1/1 [==============================] - 0s 59ms/step\n"
     ]
    },
    {
     "name": "stderr",
     "output_type": "stream",
     "text": [
      " 10%|▉         | 207/2130 [00:21<03:11, 10.02it/s]"
     ]
    },
    {
     "name": "stdout",
     "output_type": "stream",
     "text": [
      "-2BR7sVLPCE_13.png\n",
      "1/1 [==============================] - 0s 58ms/step\n",
      "-2CETJayQ2Q_21.png\n",
      "1/1 [==============================] - 0s 59ms/step\n"
     ]
    },
    {
     "name": "stderr",
     "output_type": "stream",
     "text": [
      " 10%|▉         | 209/2130 [00:21<03:08, 10.17it/s]"
     ]
    },
    {
     "name": "stdout",
     "output_type": "stream",
     "text": [
      "-2CFBsjxxzw_30.png\n",
      "1/1 [==============================] - 0s 60ms/step\n",
      "-2cXYhKkr2o_30.png\n",
      "1/1 [==============================] - 0s 64ms/step\n"
     ]
    },
    {
     "name": "stderr",
     "output_type": "stream",
     "text": [
      " 10%|▉         | 211/2130 [00:21<03:13,  9.91it/s]"
     ]
    },
    {
     "name": "stdout",
     "output_type": "stream",
     "text": [
      "-2dwv0fonYQ_30.png\n",
      "1/1 [==============================] - 0s 68ms/step\n"
     ]
    },
    {
     "name": "stderr",
     "output_type": "stream",
     "text": [
      " 10%|▉         | 212/2130 [00:21<03:14,  9.86it/s]"
     ]
    },
    {
     "name": "stdout",
     "output_type": "stream",
     "text": [
      "-2f4hOfiX3w_30.png\n",
      "1/1 [==============================] - 0s 62ms/step\n",
      "-2gwQI1bEr0_0.png\n",
      "1/1 [==============================] - 0s 65ms/step\n"
     ]
    },
    {
     "name": "stderr",
     "output_type": "stream",
     "text": [
      " 10%|█         | 214/2130 [00:21<03:12,  9.95it/s]"
     ]
    },
    {
     "name": "stdout",
     "output_type": "stream",
     "text": [
      "-2haRtULCeI_30.png\n",
      "1/1 [==============================] - 0s 64ms/step\n",
      "-2IfDzFl-ms_24.png\n",
      "1/1 [==============================] - 0s 65ms/step\n"
     ]
    },
    {
     "name": "stderr",
     "output_type": "stream",
     "text": [
      " 10%|█         | 216/2130 [00:21<03:12,  9.97it/s]"
     ]
    },
    {
     "name": "stdout",
     "output_type": "stream",
     "text": [
      "-2IlZTsF_LE_23.png\n",
      "1/1 [==============================] - 0s 59ms/step\n",
      "-2iSYFTRgTA_30.png\n",
      "1/1 [==============================] - 0s 65ms/step\n"
     ]
    },
    {
     "name": "stderr",
     "output_type": "stream",
     "text": [
      " 10%|█         | 218/2130 [00:22<03:09, 10.07it/s]"
     ]
    },
    {
     "name": "stdout",
     "output_type": "stream",
     "text": [
      "-2jfmq0-hXE_40.png\n",
      "1/1 [==============================] - 0s 67ms/step\n",
      "-2JutC5s8Jc_0.png\n",
      "1/1 [==============================] - 0s 62ms/step\n"
     ]
    },
    {
     "name": "stderr",
     "output_type": "stream",
     "text": [
      " 10%|█         | 220/2130 [00:22<03:20,  9.54it/s]"
     ]
    },
    {
     "name": "stdout",
     "output_type": "stream",
     "text": [
      "-2kErLFAk5k_30.png\n",
      "1/1 [==============================] - 0s 57ms/step\n",
      "-2KQ62pcmQQ_30.png\n",
      "1/1 [==============================] - 0s 57ms/step\n"
     ]
    },
    {
     "name": "stderr",
     "output_type": "stream",
     "text": [
      " 10%|█         | 222/2130 [00:22<03:12,  9.90it/s]"
     ]
    },
    {
     "name": "stdout",
     "output_type": "stream",
     "text": [
      "-2ksTQGTlLA_30.png\n",
      "1/1 [==============================] - 0s 67ms/step\n"
     ]
    },
    {
     "name": "stderr",
     "output_type": "stream",
     "text": [
      " 10%|█         | 223/2130 [00:22<03:12,  9.92it/s]"
     ]
    },
    {
     "name": "stdout",
     "output_type": "stream",
     "text": [
      "-2m0EljzvK0_190.png\n",
      "1/1 [==============================] - 0s 59ms/step\n",
      "-2NVPmjojzE_190.png\n",
      "1/1 [==============================] - 0s 61ms/step\n"
     ]
    },
    {
     "name": "stderr",
     "output_type": "stream",
     "text": [
      " 11%|█         | 225/2130 [00:22<03:06, 10.24it/s]"
     ]
    },
    {
     "name": "stdout",
     "output_type": "stream",
     "text": [
      "-2OSCM6koU4_7.png\n",
      "1/1 [==============================] - 0s 57ms/step\n",
      "-2qRkifkT08_30.png\n",
      "1/1 [==============================] - 0s 54ms/step\n"
     ]
    },
    {
     "name": "stderr",
     "output_type": "stream",
     "text": [
      " 11%|█         | 227/2130 [00:23<02:59, 10.62it/s]"
     ]
    },
    {
     "name": "stdout",
     "output_type": "stream",
     "text": [
      "-2rYWME9-Ag_30.png\n",
      "1/1 [==============================] - 0s 60ms/step\n",
      "-2spx09XkUM_9.png\n",
      "1/1 [==============================] - 0s 56ms/step\n"
     ]
    },
    {
     "name": "stderr",
     "output_type": "stream",
     "text": [
      " 11%|█         | 229/2130 [00:23<02:57, 10.72it/s]"
     ]
    },
    {
     "name": "stdout",
     "output_type": "stream",
     "text": [
      "-2sT5oBBWWY_30.png\n",
      "1/1 [==============================] - 0s 51ms/step\n",
      "-2TJqtwSysA_30.png\n",
      "1/1 [==============================] - 0s 56ms/step\n"
     ]
    },
    {
     "name": "stderr",
     "output_type": "stream",
     "text": [
      " 11%|█         | 231/2130 [00:23<02:53, 10.97it/s]"
     ]
    },
    {
     "name": "stdout",
     "output_type": "stream",
     "text": [
      "-2uFC-ybxV8_20.png\n",
      "1/1 [==============================] - 0s 57ms/step\n",
      "-2v9WVGdBb0_16.png\n",
      "1/1 [==============================] - 0s 56ms/step\n"
     ]
    },
    {
     "name": "stderr",
     "output_type": "stream",
     "text": [
      " 11%|█         | 233/2130 [00:23<02:53, 10.95it/s]"
     ]
    },
    {
     "name": "stdout",
     "output_type": "stream",
     "text": [
      "-2vScbsCNYA_30.png\n",
      "1/1 [==============================] - 0s 55ms/step\n",
      "-2WeNked2Xs_30.png\n",
      "1/1 [==============================] - 0s 58ms/step\n"
     ]
    },
    {
     "name": "stderr",
     "output_type": "stream",
     "text": [
      " 11%|█         | 235/2130 [00:23<02:52, 10.97it/s]"
     ]
    },
    {
     "name": "stdout",
     "output_type": "stream",
     "text": [
      "-2XBwDNoQ9U_40.png\n",
      "1/1 [==============================] - 0s 63ms/step\n",
      "-2XEfT3k5yg_29.png\n",
      "1/1 [==============================] - 0s 57ms/step\n"
     ]
    },
    {
     "name": "stderr",
     "output_type": "stream",
     "text": [
      " 11%|█         | 237/2130 [00:23<02:53, 10.90it/s]"
     ]
    },
    {
     "name": "stdout",
     "output_type": "stream",
     "text": [
      "-2ymZrww3XA_30.png\n",
      "1/1 [==============================] - 0s 57ms/step\n",
      "-2zcq-oUhQ4_200.png\n",
      "1/1 [==============================] - 0s 58ms/step\n"
     ]
    },
    {
     "name": "stderr",
     "output_type": "stream",
     "text": [
      " 11%|█         | 239/2130 [00:24<02:53, 10.87it/s]"
     ]
    },
    {
     "name": "stdout",
     "output_type": "stream",
     "text": [
      "-30G81KjsKQ_30.png\n",
      "1/1 [==============================] - 0s 56ms/step\n",
      "-30lTvRF2Po_30.png\n",
      "1/1 [==============================] - 0s 55ms/step\n"
     ]
    },
    {
     "name": "stderr",
     "output_type": "stream",
     "text": [
      " 11%|█▏        | 241/2130 [00:24<02:51, 11.03it/s]"
     ]
    },
    {
     "name": "stdout",
     "output_type": "stream",
     "text": [
      "-313pdpHsmU_17.png\n",
      "1/1 [==============================] - 0s 54ms/step\n",
      "-34Wf7kcc9U_340.png\n",
      "1/1 [==============================] - 0s 55ms/step\n"
     ]
    },
    {
     "name": "stderr",
     "output_type": "stream",
     "text": [
      " 11%|█▏        | 243/2130 [00:24<02:50, 11.06it/s]"
     ]
    },
    {
     "name": "stdout",
     "output_type": "stream",
     "text": [
      "-35D3u9ce6w_30.png\n",
      "1/1 [==============================] - 0s 53ms/step\n",
      "-37xjT4JRUA_30.png\n",
      "1/1 [==============================] - 0s 56ms/step\n"
     ]
    },
    {
     "name": "stderr",
     "output_type": "stream",
     "text": [
      " 12%|█▏        | 245/2130 [00:24<02:49, 11.15it/s]"
     ]
    },
    {
     "name": "stdout",
     "output_type": "stream",
     "text": [
      "-39bG3uhNFw_230.png\n",
      "1/1 [==============================] - 0s 53ms/step\n",
      "-3C_2FEFyno_30.png\n",
      "1/1 [==============================] - 0s 62ms/step\n"
     ]
    },
    {
     "name": "stderr",
     "output_type": "stream",
     "text": [
      " 12%|█▏        | 247/2130 [00:24<02:49, 11.12it/s]"
     ]
    },
    {
     "name": "stdout",
     "output_type": "stream",
     "text": [
      "-3d2F1GLG3w_30.png\n",
      "1/1 [==============================] - 0s 56ms/step\n",
      "-3d7_wlVuV8_30.png\n",
      "1/1 [==============================] - 0s 58ms/step\n"
     ]
    },
    {
     "name": "stderr",
     "output_type": "stream",
     "text": [
      " 12%|█▏        | 249/2130 [00:25<02:48, 11.13it/s]"
     ]
    },
    {
     "name": "stdout",
     "output_type": "stream",
     "text": [
      "-3E36nmSffc_16.png\n",
      "1/1 [==============================] - 0s 59ms/step\n",
      "-3EYaEWEfRE_30.png\n",
      "1/1 [==============================] - 0s 75ms/step\n"
     ]
    },
    {
     "name": "stderr",
     "output_type": "stream",
     "text": [
      " 12%|█▏        | 251/2130 [00:25<03:02, 10.32it/s]"
     ]
    },
    {
     "name": "stdout",
     "output_type": "stream",
     "text": [
      "-3FIglJti0s_30.png\n",
      "1/1 [==============================] - 0s 52ms/step\n",
      "-3fka_njlrI_30.png\n",
      "1/1 [==============================] - 0s 60ms/step\n"
     ]
    },
    {
     "name": "stderr",
     "output_type": "stream",
     "text": [
      " 12%|█▏        | 253/2130 [00:25<02:59, 10.44it/s]"
     ]
    },
    {
     "name": "stdout",
     "output_type": "stream",
     "text": [
      "-3G0WLDZDMA_30.png\n",
      "1/1 [==============================] - 0s 54ms/step\n",
      "-3G92ZS_K9Y_30.png\n",
      "1/1 [==============================] - 0s 59ms/step\n"
     ]
    },
    {
     "name": "stderr",
     "output_type": "stream",
     "text": [
      " 12%|█▏        | 255/2130 [00:25<02:56, 10.65it/s]"
     ]
    },
    {
     "name": "stdout",
     "output_type": "stream",
     "text": [
      "-3gY7hSxtzY_30.png\n",
      "1/1 [==============================] - 0s 59ms/step\n",
      "-3Hzgs3AFGg_80.png\n",
      "1/1 [==============================] - 0s 55ms/step\n"
     ]
    },
    {
     "name": "stderr",
     "output_type": "stream",
     "text": [
      " 12%|█▏        | 257/2130 [00:25<02:51, 10.89it/s]"
     ]
    },
    {
     "name": "stdout",
     "output_type": "stream",
     "text": [
      "-3I4GAaRKjg_30.png\n",
      "1/1 [==============================] - 0s 55ms/step\n",
      "-3jEYBO0xLQ_30.png\n",
      "1/1 [==============================] - 0s 54ms/step\n"
     ]
    },
    {
     "name": "stderr",
     "output_type": "stream",
     "text": [
      " 12%|█▏        | 259/2130 [00:25<02:51, 10.89it/s]"
     ]
    },
    {
     "name": "stdout",
     "output_type": "stream",
     "text": [
      "-3jktZrtfus_30.png\n",
      "1/1 [==============================] - 0s 55ms/step\n",
      "-3lYmHGfkX4_250.png\n",
      "1/1 [==============================] - 0s 57ms/step\n"
     ]
    },
    {
     "name": "stderr",
     "output_type": "stream",
     "text": [
      " 12%|█▏        | 261/2130 [00:26<02:49, 11.01it/s]"
     ]
    },
    {
     "name": "stdout",
     "output_type": "stream",
     "text": [
      "-3MHmn2e-x4_30.png\n",
      "1/1 [==============================] - 0s 54ms/step\n",
      "-3nmeq8AV34_120.png\n",
      "1/1 [==============================] - 0s 62ms/step\n"
     ]
    },
    {
     "name": "stderr",
     "output_type": "stream",
     "text": [
      " 12%|█▏        | 263/2130 [00:26<02:52, 10.82it/s]"
     ]
    },
    {
     "name": "stdout",
     "output_type": "stream",
     "text": [
      "-3nUM6ZBUOY_30.png\n",
      "1/1 [==============================] - 0s 54ms/step\n",
      "-3OLyc_NtJY_7.png\n",
      "1/1 [==============================] - 0s 55ms/step\n"
     ]
    },
    {
     "name": "stderr",
     "output_type": "stream",
     "text": [
      " 12%|█▏        | 265/2130 [00:26<02:49, 11.02it/s]"
     ]
    },
    {
     "name": "stdout",
     "output_type": "stream",
     "text": [
      "-3OU3rAbb_k_430.png\n",
      "1/1 [==============================] - 0s 59ms/step\n",
      "-3oUmjZ4b9o_50.png\n",
      "1/1 [==============================] - 0s 59ms/step\n"
     ]
    },
    {
     "name": "stderr",
     "output_type": "stream",
     "text": [
      " 13%|█▎        | 267/2130 [00:26<02:49, 10.99it/s]"
     ]
    },
    {
     "name": "stdout",
     "output_type": "stream",
     "text": [
      "-3pJKeifc_M_30.png\n",
      "1/1 [==============================] - 0s 62ms/step\n",
      "-3qVzrEZ8l0_30.png\n",
      "1/1 [==============================] - 0s 63ms/step\n"
     ]
    },
    {
     "name": "stderr",
     "output_type": "stream",
     "text": [
      " 13%|█▎        | 269/2130 [00:26<02:53, 10.74it/s]"
     ]
    },
    {
     "name": "stdout",
     "output_type": "stream",
     "text": [
      "-3RH-QhVdGc_30.png\n",
      "1/1 [==============================] - 0s 56ms/step\n",
      "-3rHT9Gmimk_20.png\n",
      "1/1 [==============================] - 0s 57ms/step\n"
     ]
    },
    {
     "name": "stderr",
     "output_type": "stream",
     "text": [
      " 13%|█▎        | 271/2130 [00:27<02:51, 10.87it/s]"
     ]
    },
    {
     "name": "stdout",
     "output_type": "stream",
     "text": [
      "-3Tlimy9kJI_240.png\n",
      "1/1 [==============================] - 0s 56ms/step\n",
      "-3uQEoPHwq0_30.png\n",
      "1/1 [==============================] - 0s 54ms/step\n"
     ]
    },
    {
     "name": "stderr",
     "output_type": "stream",
     "text": [
      " 13%|█▎        | 273/2130 [00:27<02:48, 11.01it/s]"
     ]
    },
    {
     "name": "stdout",
     "output_type": "stream",
     "text": [
      "-3ve_zm6Jk8_150.png\n",
      "1/1 [==============================] - 0s 58ms/step\n",
      "-3yaHlpPTuQ_30.png\n",
      "1/1 [==============================] - 0s 60ms/step\n"
     ]
    },
    {
     "name": "stderr",
     "output_type": "stream",
     "text": [
      " 13%|█▎        | 275/2130 [00:27<02:47, 11.10it/s]"
     ]
    },
    {
     "name": "stdout",
     "output_type": "stream",
     "text": [
      "-3yKGKL-6dM_30.png\n",
      "1/1 [==============================] - 0s 56ms/step\n",
      "-3YMCZ2AWW0_30.png\n",
      "1/1 [==============================] - 0s 60ms/step\n"
     ]
    },
    {
     "name": "stderr",
     "output_type": "stream",
     "text": [
      " 13%|█▎        | 277/2130 [00:27<02:48, 11.03it/s]"
     ]
    },
    {
     "name": "stdout",
     "output_type": "stream",
     "text": [
      "-3Z3twSoRcQ_30.png\n",
      "1/1 [==============================] - 0s 61ms/step\n",
      "-3zWoFVPXCk_50.png\n",
      "1/1 [==============================] - 0s 61ms/step\n"
     ]
    },
    {
     "name": "stderr",
     "output_type": "stream",
     "text": [
      " 13%|█▎        | 279/2130 [00:27<02:51, 10.80it/s]"
     ]
    },
    {
     "name": "stdout",
     "output_type": "stream",
     "text": [
      "-3_Z64k3tXE_19.png\n",
      "1/1 [==============================] - 0s 59ms/step\n",
      "-40khhHRY_Q_30.png\n",
      "1/1 [==============================] - 0s 59ms/step\n"
     ]
    },
    {
     "name": "stderr",
     "output_type": "stream",
     "text": [
      " 13%|█▎        | 281/2130 [00:27<02:50, 10.84it/s]"
     ]
    },
    {
     "name": "stdout",
     "output_type": "stream",
     "text": [
      "-450EsuQYao_110.png\n",
      "1/1 [==============================] - 0s 57ms/step\n",
      "-45cKZA7Jww_30.png\n",
      "1/1 [==============================] - 0s 58ms/step\n"
     ]
    },
    {
     "name": "stderr",
     "output_type": "stream",
     "text": [
      " 13%|█▎        | 283/2130 [00:28<02:47, 11.03it/s]"
     ]
    },
    {
     "name": "stdout",
     "output_type": "stream",
     "text": [
      "-46mOzNQICY_21.png\n",
      "1/1 [==============================] - 0s 60ms/step\n",
      "-46xqouqMxA_6.png\n",
      "1/1 [==============================] - 0s 59ms/step\n"
     ]
    },
    {
     "name": "stderr",
     "output_type": "stream",
     "text": [
      " 13%|█▎        | 285/2130 [00:28<02:50, 10.80it/s]"
     ]
    },
    {
     "name": "stdout",
     "output_type": "stream",
     "text": [
      "-4A2_GCaKGg_0.png\n",
      "1/1 [==============================] - 0s 56ms/step\n",
      "-4agUG2j9js_20.png\n",
      "1/1 [==============================] - 0s 60ms/step\n"
     ]
    },
    {
     "name": "stderr",
     "output_type": "stream",
     "text": [
      " 13%|█▎        | 287/2130 [00:28<02:48, 10.95it/s]"
     ]
    },
    {
     "name": "stdout",
     "output_type": "stream",
     "text": [
      "-4ano7snqlI_30.png\n",
      "1/1 [==============================] - 0s 54ms/step\n",
      "-4BrbzkXTXU_30.png\n",
      "1/1 [==============================] - 0s 55ms/step\n"
     ]
    },
    {
     "name": "stderr",
     "output_type": "stream",
     "text": [
      " 14%|█▎        | 289/2130 [00:28<02:46, 11.03it/s]"
     ]
    },
    {
     "name": "stdout",
     "output_type": "stream",
     "text": [
      "-4EgiS-jnnw_30.png\n",
      "1/1 [==============================] - 0s 57ms/step\n",
      "-4FX1ZoU11M_22.png\n",
      "1/1 [==============================] - 0s 56ms/step\n"
     ]
    },
    {
     "name": "stderr",
     "output_type": "stream",
     "text": [
      " 14%|█▎        | 291/2130 [00:28<02:48, 10.91it/s]"
     ]
    },
    {
     "name": "stdout",
     "output_type": "stream",
     "text": [
      "-4gbaSXwssU_250.png\n",
      "1/1 [==============================] - 0s 53ms/step\n",
      "-4hNW1ZXRGY_30.png\n",
      "1/1 [==============================] - 0s 61ms/step\n"
     ]
    },
    {
     "name": "stderr",
     "output_type": "stream",
     "text": [
      " 14%|█▍        | 293/2130 [00:29<02:47, 10.95it/s]"
     ]
    },
    {
     "name": "stdout",
     "output_type": "stream",
     "text": [
      "-4KaOAITnJw_0.png\n",
      "1/1 [==============================] - 0s 56ms/step\n",
      "-4KuJTs3UU8_30.png\n",
      "1/1 [==============================] - 0s 58ms/step\n"
     ]
    },
    {
     "name": "stderr",
     "output_type": "stream",
     "text": [
      " 14%|█▍        | 295/2130 [00:29<02:46, 11.00it/s]"
     ]
    },
    {
     "name": "stdout",
     "output_type": "stream",
     "text": [
      "-4lB2dt4WDE_26.png\n",
      "1/1 [==============================] - 0s 60ms/step\n",
      "-4lQUW1lF1E_0.png\n",
      "1/1 [==============================] - 0s 56ms/step\n"
     ]
    },
    {
     "name": "stderr",
     "output_type": "stream",
     "text": [
      " 14%|█▍        | 297/2130 [00:29<02:46, 11.03it/s]"
     ]
    },
    {
     "name": "stdout",
     "output_type": "stream",
     "text": [
      "-4N3GjgnIQ0_260.png\n",
      "1/1 [==============================] - 0s 54ms/step\n",
      "-4qzG7yZBv4_30.png\n",
      "1/1 [==============================] - 0s 55ms/step\n"
     ]
    },
    {
     "name": "stderr",
     "output_type": "stream",
     "text": [
      " 14%|█▍        | 299/2130 [00:29<02:46, 11.02it/s]"
     ]
    },
    {
     "name": "stdout",
     "output_type": "stream",
     "text": [
      "-4taGA7tl2g_50.png\n",
      "1/1 [==============================] - 0s 62ms/step\n",
      "-4u3DCSJBXI_530.png\n",
      "1/1 [==============================] - 0s 54ms/step\n"
     ]
    },
    {
     "name": "stderr",
     "output_type": "stream",
     "text": [
      " 14%|█▍        | 301/2130 [00:29<02:49, 10.80it/s]"
     ]
    },
    {
     "name": "stdout",
     "output_type": "stream",
     "text": [
      "-4UCjyLOgGQ_30.png\n",
      "1/1 [==============================] - 0s 76ms/step\n",
      "-4uLj3mZZNg_0.png\n",
      "1/1 [==============================] - 0s 61ms/step\n"
     ]
    },
    {
     "name": "stderr",
     "output_type": "stream",
     "text": [
      " 14%|█▍        | 303/2130 [00:30<03:01, 10.08it/s]"
     ]
    },
    {
     "name": "stdout",
     "output_type": "stream",
     "text": [
      "-4wjU1nWdjQ_30.png\n",
      "1/1 [==============================] - 0s 58ms/step\n",
      "-4Y-xf4Dm3I_30.png\n",
      "1/1 [==============================] - 0s 65ms/step\n"
     ]
    },
    {
     "name": "stderr",
     "output_type": "stream",
     "text": [
      " 14%|█▍        | 305/2130 [00:30<02:58, 10.24it/s]"
     ]
    },
    {
     "name": "stdout",
     "output_type": "stream",
     "text": [
      "-4YIeHfuJrU_30.png\n",
      "1/1 [==============================] - 0s 60ms/step\n",
      "-50jQAjJC9A_15.png\n",
      "1/1 [==============================] - 0s 58ms/step\n"
     ]
    },
    {
     "name": "stderr",
     "output_type": "stream",
     "text": [
      " 14%|█▍        | 307/2130 [00:30<02:55, 10.39it/s]"
     ]
    },
    {
     "name": "stdout",
     "output_type": "stream",
     "text": [
      "-57TcR0ABRY_150.png\n",
      "1/1 [==============================] - 0s 59ms/step\n",
      "-58k6MFP1qU_40.png\n",
      "1/1 [==============================] - 0s 58ms/step\n"
     ]
    },
    {
     "name": "stderr",
     "output_type": "stream",
     "text": [
      " 15%|█▍        | 309/2130 [00:30<02:52, 10.53it/s]"
     ]
    },
    {
     "name": "stdout",
     "output_type": "stream",
     "text": [
      "-5DAkVKQlE4_30.png\n",
      "1/1 [==============================] - 0s 53ms/step\n",
      "-5EYBhN62f4_30.png\n",
      "1/1 [==============================] - 0s 53ms/step\n"
     ]
    },
    {
     "name": "stderr",
     "output_type": "stream",
     "text": [
      " 15%|█▍        | 311/2130 [00:30<02:47, 10.84it/s]"
     ]
    },
    {
     "name": "stdout",
     "output_type": "stream",
     "text": [
      "-5FdRWsGZuE_6.png\n",
      "1/1 [==============================] - 0s 61ms/step\n",
      "-5h59-qBpz8_80.png\n",
      "1/1 [==============================] - 0s 56ms/step\n"
     ]
    },
    {
     "name": "stderr",
     "output_type": "stream",
     "text": [
      " 15%|█▍        | 313/2130 [00:30<02:47, 10.83it/s]"
     ]
    },
    {
     "name": "stdout",
     "output_type": "stream",
     "text": [
      "-5hxFmUlOXk_0.png\n",
      "1/1 [==============================] - 0s 53ms/step\n",
      "-5I6XKKdqB4_210.png\n",
      "1/1 [==============================] - 0s 60ms/step\n"
     ]
    },
    {
     "name": "stderr",
     "output_type": "stream",
     "text": [
      " 15%|█▍        | 315/2130 [00:31<02:46, 10.91it/s]"
     ]
    },
    {
     "name": "stdout",
     "output_type": "stream",
     "text": [
      "-5jTPNu2Unc_390.png\n",
      "1/1 [==============================] - 0s 71ms/step\n",
      "-5k-poZXHXs_30.png\n",
      "1/1 [==============================] - 0s 57ms/step\n"
     ]
    },
    {
     "name": "stderr",
     "output_type": "stream",
     "text": [
      " 15%|█▍        | 317/2130 [00:31<02:50, 10.64it/s]"
     ]
    },
    {
     "name": "stdout",
     "output_type": "stream",
     "text": [
      "-5mAijRdfvI_20.png\n",
      "1/1 [==============================] - 0s 63ms/step\n",
      "-5mAzFUlR-U_30.png\n",
      "1/1 [==============================] - 0s 62ms/step\n"
     ]
    },
    {
     "name": "stderr",
     "output_type": "stream",
     "text": [
      " 15%|█▍        | 319/2130 [00:31<02:52, 10.49it/s]"
     ]
    },
    {
     "name": "stdout",
     "output_type": "stream",
     "text": [
      "-5Pbwai6jHQ_40.png\n",
      "1/1 [==============================] - 0s 57ms/step\n",
      "-5Pwv9ExLXc_250.png\n",
      "1/1 [==============================] - 0s 59ms/step\n"
     ]
    },
    {
     "name": "stderr",
     "output_type": "stream",
     "text": [
      " 15%|█▌        | 321/2130 [00:31<02:51, 10.57it/s]"
     ]
    },
    {
     "name": "stdout",
     "output_type": "stream",
     "text": [
      "-5QrBL6MzLg_60.png\n",
      "1/1 [==============================] - 0s 58ms/step\n",
      "-5REafhKzcA_40.png\n",
      "1/1 [==============================] - 0s 59ms/step\n"
     ]
    },
    {
     "name": "stderr",
     "output_type": "stream",
     "text": [
      " 15%|█▌        | 323/2130 [00:31<02:50, 10.62it/s]"
     ]
    },
    {
     "name": "stdout",
     "output_type": "stream",
     "text": [
      "-5T1vlbqMrs_30.png\n",
      "1/1 [==============================] - 0s 55ms/step\n",
      "-5weqk40jaI_17.png\n",
      "1/1 [==============================] - 0s 60ms/step\n"
     ]
    },
    {
     "name": "stderr",
     "output_type": "stream",
     "text": [
      " 15%|█▌        | 325/2130 [00:32<02:47, 10.76it/s]"
     ]
    },
    {
     "name": "stdout",
     "output_type": "stream",
     "text": [
      "-5wR5OfRFxg_40.png\n",
      "1/1 [==============================] - 0s 59ms/step\n",
      "-5Zize54LCE_160.png\n",
      "1/1 [==============================] - 0s 61ms/step\n"
     ]
    },
    {
     "name": "stderr",
     "output_type": "stream",
     "text": [
      " 15%|█▌        | 327/2130 [00:32<02:51, 10.52it/s]"
     ]
    },
    {
     "name": "stdout",
     "output_type": "stream",
     "text": [
      "-61kH6RCNTk_27.png\n",
      "1/1 [==============================] - 0s 61ms/step\n",
      "-65AwWnMCIc_30.png\n",
      "1/1 [==============================] - 0s 63ms/step\n"
     ]
    },
    {
     "name": "stderr",
     "output_type": "stream",
     "text": [
      " 15%|█▌        | 329/2130 [00:32<02:50, 10.56it/s]"
     ]
    },
    {
     "name": "stdout",
     "output_type": "stream",
     "text": [
      "-6893KbRdXA_25.png\n",
      "1/1 [==============================] - 0s 58ms/step\n",
      "-6f7NagQJhY_30.png\n",
      "1/1 [==============================] - 0s 63ms/step\n"
     ]
    },
    {
     "name": "stderr",
     "output_type": "stream",
     "text": [
      " 16%|█▌        | 331/2130 [00:32<02:51, 10.50it/s]"
     ]
    },
    {
     "name": "stdout",
     "output_type": "stream",
     "text": [
      "-6FLs0P1KaQ_30.png\n",
      "1/1 [==============================] - 0s 61ms/step\n",
      "-6gckq1tjWM_30.png\n",
      "1/1 [==============================] - 0s 64ms/step\n"
     ]
    },
    {
     "name": "stderr",
     "output_type": "stream",
     "text": [
      " 16%|█▌        | 333/2130 [00:32<02:51, 10.47it/s]"
     ]
    },
    {
     "name": "stdout",
     "output_type": "stream",
     "text": [
      "-6gxzS2ydY4_100.png\n",
      "1/1 [==============================] - 0s 59ms/step\n",
      "-6iXlO58WKA_7.png\n",
      "1/1 [==============================] - 0s 59ms/step\n"
     ]
    },
    {
     "name": "stderr",
     "output_type": "stream",
     "text": [
      " 16%|█▌        | 335/2130 [00:33<02:50, 10.54it/s]"
     ]
    },
    {
     "name": "stdout",
     "output_type": "stream",
     "text": [
      "-6izN98y0Hk_390.png\n",
      "1/1 [==============================] - 0s 59ms/step\n",
      "-6khz3WJ-b4_30.png\n",
      "1/1 [==============================] - 0s 59ms/step\n"
     ]
    },
    {
     "name": "stderr",
     "output_type": "stream",
     "text": [
      " 16%|█▌        | 337/2130 [00:33<02:49, 10.60it/s]"
     ]
    },
    {
     "name": "stdout",
     "output_type": "stream",
     "text": [
      "-6KOEEiAf9s_19.png\n",
      "1/1 [==============================] - 0s 56ms/step\n",
      "-6MQKGRL--M_30.png\n",
      "1/1 [==============================] - 0s 58ms/step\n"
     ]
    },
    {
     "name": "stderr",
     "output_type": "stream",
     "text": [
      " 16%|█▌        | 339/2130 [00:33<02:46, 10.75it/s]"
     ]
    },
    {
     "name": "stdout",
     "output_type": "stream",
     "text": [
      "-6nIVMWPxb0_150.png\n",
      "1/1 [==============================] - 0s 55ms/step\n",
      "-6oO5OktZVk_110.png\n",
      "1/1 [==============================] - 0s 54ms/step\n"
     ]
    },
    {
     "name": "stderr",
     "output_type": "stream",
     "text": [
      " 16%|█▌        | 341/2130 [00:33<02:43, 10.96it/s]"
     ]
    },
    {
     "name": "stdout",
     "output_type": "stream",
     "text": [
      "-6ud_cE7TEQ_0.png\n",
      "1/1 [==============================] - 0s 60ms/step\n",
      "-6v3UBTptAs_20.png\n",
      "1/1 [==============================] - 0s 72ms/step\n"
     ]
    },
    {
     "name": "stderr",
     "output_type": "stream",
     "text": [
      " 16%|█▌        | 343/2130 [00:33<02:46, 10.72it/s]"
     ]
    },
    {
     "name": "stdout",
     "output_type": "stream",
     "text": [
      "-6vbayl8fE0_30.png\n",
      "1/1 [==============================] - 0s 68ms/step\n",
      "-6W7XwMApL8_18.png\n",
      "1/1 [==============================] - 0s 62ms/step\n"
     ]
    },
    {
     "name": "stderr",
     "output_type": "stream",
     "text": [
      " 16%|█▌        | 345/2130 [00:33<02:47, 10.65it/s]"
     ]
    },
    {
     "name": "stdout",
     "output_type": "stream",
     "text": [
      "-6WzzJImdws_30.png\n",
      "1/1 [==============================] - 0s 55ms/step\n",
      "-6ZYP-9FYmk_370.png\n",
      "1/1 [==============================] - 0s 56ms/step\n"
     ]
    },
    {
     "name": "stderr",
     "output_type": "stream",
     "text": [
      " 16%|█▋        | 347/2130 [00:34<02:45, 10.76it/s]"
     ]
    },
    {
     "name": "stdout",
     "output_type": "stream",
     "text": [
      "-78PJlon8Zs_30.png\n",
      "1/1 [==============================] - 0s 59ms/step\n",
      "-78WDjgfJMI_10.png\n",
      "1/1 [==============================] - 0s 60ms/step\n"
     ]
    },
    {
     "name": "stderr",
     "output_type": "stream",
     "text": [
      " 16%|█▋        | 349/2130 [00:34<02:47, 10.62it/s]"
     ]
    },
    {
     "name": "stdout",
     "output_type": "stream",
     "text": [
      "-7ADuWeUEBY_0.png\n",
      "1/1 [==============================] - 0s 60ms/step\n",
      "-7AVjxxlJRI_2.png\n",
      "1/1 [==============================] - 0s 61ms/step\n"
     ]
    },
    {
     "name": "stderr",
     "output_type": "stream",
     "text": [
      " 16%|█▋        | 351/2130 [00:34<02:55, 10.14it/s]"
     ]
    },
    {
     "name": "stdout",
     "output_type": "stream",
     "text": [
      "-7dcq0-6-dc_90.png\n",
      "1/1 [==============================] - 0s 62ms/step\n",
      "-7dgNx0mdGQ_30.png\n",
      "1/1 [==============================] - 0s 63ms/step\n"
     ]
    },
    {
     "name": "stderr",
     "output_type": "stream",
     "text": [
      " 17%|█▋        | 353/2130 [00:34<02:59,  9.92it/s]"
     ]
    },
    {
     "name": "stdout",
     "output_type": "stream",
     "text": [
      "-7DZifiouoM_14.png\n",
      "1/1 [==============================] - 0s 64ms/step\n"
     ]
    },
    {
     "name": "stderr",
     "output_type": "stream",
     "text": [
      " 17%|█▋        | 354/2130 [00:34<03:03,  9.66it/s]"
     ]
    },
    {
     "name": "stdout",
     "output_type": "stream",
     "text": [
      "-7EGufHWBB8_30.png\n",
      "1/1 [==============================] - 0s 66ms/step\n"
     ]
    },
    {
     "name": "stderr",
     "output_type": "stream",
     "text": [
      " 17%|█▋        | 355/2130 [00:34<03:04,  9.62it/s]"
     ]
    },
    {
     "name": "stdout",
     "output_type": "stream",
     "text": [
      "-7EwLTKmrRI_18.png\n",
      "1/1 [==============================] - 0s 67ms/step\n"
     ]
    },
    {
     "name": "stderr",
     "output_type": "stream",
     "text": [
      " 17%|█▋        | 356/2130 [00:35<03:05,  9.57it/s]"
     ]
    },
    {
     "name": "stdout",
     "output_type": "stream",
     "text": [
      "-7fydlj___c_30.png\n",
      "1/1 [==============================] - 0s 64ms/step\n"
     ]
    },
    {
     "name": "stderr",
     "output_type": "stream",
     "text": [
      " 17%|█▋        | 357/2130 [00:35<03:08,  9.41it/s]"
     ]
    },
    {
     "name": "stdout",
     "output_type": "stream",
     "text": [
      "-7hEpq9YLs8_130.png\n",
      "1/1 [==============================] - 0s 65ms/step\n"
     ]
    },
    {
     "name": "stderr",
     "output_type": "stream",
     "text": [
      " 17%|█▋        | 358/2130 [00:35<03:05,  9.53it/s]"
     ]
    },
    {
     "name": "stdout",
     "output_type": "stream",
     "text": [
      "-7J6ZW597oc_450.png\n",
      "1/1 [==============================] - 0s 70ms/step\n"
     ]
    },
    {
     "name": "stderr",
     "output_type": "stream",
     "text": [
      " 17%|█▋        | 359/2130 [00:35<03:08,  9.39it/s]"
     ]
    },
    {
     "name": "stdout",
     "output_type": "stream",
     "text": [
      "-7jqBdp2pFs_21.png\n",
      "1/1 [==============================] - 0s 68ms/step\n"
     ]
    },
    {
     "name": "stderr",
     "output_type": "stream",
     "text": [
      " 17%|█▋        | 360/2130 [00:35<03:13,  9.16it/s]"
     ]
    },
    {
     "name": "stdout",
     "output_type": "stream",
     "text": [
      "-7NYDNeHiM0_30.png\n",
      "1/1 [==============================] - 0s 65ms/step\n"
     ]
    },
    {
     "name": "stderr",
     "output_type": "stream",
     "text": [
      " 17%|█▋        | 361/2130 [00:35<03:12,  9.21it/s]"
     ]
    },
    {
     "name": "stdout",
     "output_type": "stream",
     "text": [
      "-7N_YhJKJpo_0.png\n",
      "1/1 [==============================] - 0s 69ms/step\n"
     ]
    },
    {
     "name": "stderr",
     "output_type": "stream",
     "text": [
      " 17%|█▋        | 362/2130 [00:35<03:18,  8.89it/s]"
     ]
    },
    {
     "name": "stdout",
     "output_type": "stream",
     "text": [
      "-7ogRI-TL7g_30.png\n",
      "1/1 [==============================] - 0s 68ms/step\n"
     ]
    },
    {
     "name": "stderr",
     "output_type": "stream",
     "text": [
      " 17%|█▋        | 363/2130 [00:35<03:20,  8.81it/s]"
     ]
    },
    {
     "name": "stdout",
     "output_type": "stream",
     "text": [
      "-7pyXMSpqfQ_30.png\n",
      "1/1 [==============================] - 0s 69ms/step\n"
     ]
    },
    {
     "name": "stderr",
     "output_type": "stream",
     "text": [
      " 17%|█▋        | 364/2130 [00:35<03:18,  8.89it/s]"
     ]
    },
    {
     "name": "stdout",
     "output_type": "stream",
     "text": [
      "-7TSyE66q70_90.png\n",
      "1/1 [==============================] - 0s 67ms/step\n"
     ]
    },
    {
     "name": "stderr",
     "output_type": "stream",
     "text": [
      " 17%|█▋        | 365/2130 [00:36<03:16,  9.00it/s]"
     ]
    },
    {
     "name": "stdout",
     "output_type": "stream",
     "text": [
      "-7U9TFPrum8_17.png\n",
      "1/1 [==============================] - 0s 68ms/step\n"
     ]
    },
    {
     "name": "stderr",
     "output_type": "stream",
     "text": [
      " 17%|█▋        | 366/2130 [00:36<03:15,  9.00it/s]"
     ]
    },
    {
     "name": "stdout",
     "output_type": "stream",
     "text": [
      "-7UoRwp2ew4_22.png\n",
      "1/1 [==============================] - 0s 68ms/step\n"
     ]
    },
    {
     "name": "stderr",
     "output_type": "stream",
     "text": [
      " 17%|█▋        | 367/2130 [00:36<03:11,  9.20it/s]"
     ]
    },
    {
     "name": "stdout",
     "output_type": "stream",
     "text": [
      "-7uwQqneg8k_30.png\n",
      "1/1 [==============================] - 0s 67ms/step\n"
     ]
    },
    {
     "name": "stderr",
     "output_type": "stream",
     "text": [
      " 17%|█▋        | 368/2130 [00:36<03:08,  9.35it/s]"
     ]
    },
    {
     "name": "stdout",
     "output_type": "stream",
     "text": [
      "-7vrL4g52tA_30.png\n",
      "1/1 [==============================] - 0s 63ms/step\n"
     ]
    },
    {
     "name": "stderr",
     "output_type": "stream",
     "text": [
      " 17%|█▋        | 369/2130 [00:36<03:06,  9.43it/s]"
     ]
    },
    {
     "name": "stdout",
     "output_type": "stream",
     "text": [
      "-7vTqfW7NP8_30.png\n",
      "1/1 [==============================] - 0s 64ms/step\n"
     ]
    },
    {
     "name": "stderr",
     "output_type": "stream",
     "text": [
      " 17%|█▋        | 370/2130 [00:36<03:04,  9.56it/s]"
     ]
    },
    {
     "name": "stdout",
     "output_type": "stream",
     "text": [
      "-7XMCCzdWrY_0.png\n",
      "1/1 [==============================] - 0s 71ms/step\n"
     ]
    },
    {
     "name": "stderr",
     "output_type": "stream",
     "text": [
      " 17%|█▋        | 371/2130 [00:36<03:05,  9.47it/s]"
     ]
    },
    {
     "name": "stdout",
     "output_type": "stream",
     "text": [
      "-82O6FyjRgk_30.png\n",
      "1/1 [==============================] - 0s 111ms/step\n"
     ]
    },
    {
     "name": "stderr",
     "output_type": "stream",
     "text": [
      " 17%|█▋        | 372/2130 [00:36<03:34,  8.20it/s]"
     ]
    },
    {
     "name": "stdout",
     "output_type": "stream",
     "text": [
      "-88oVAMQsi4_30.png\n",
      "1/1 [==============================] - 0s 72ms/step\n"
     ]
    },
    {
     "name": "stderr",
     "output_type": "stream",
     "text": [
      " 18%|█▊        | 373/2130 [00:36<03:28,  8.41it/s]"
     ]
    },
    {
     "name": "stdout",
     "output_type": "stream",
     "text": [
      "-8CS82SwUb4_30.png\n",
      "1/1 [==============================] - 0s 83ms/step\n"
     ]
    },
    {
     "name": "stderr",
     "output_type": "stream",
     "text": [
      " 18%|█▊        | 374/2130 [00:37<03:29,  8.36it/s]"
     ]
    },
    {
     "name": "stdout",
     "output_type": "stream",
     "text": [
      "-8G21rrfyZw_15.png\n",
      "1/1 [==============================] - 0s 70ms/step\n"
     ]
    },
    {
     "name": "stderr",
     "output_type": "stream",
     "text": [
      " 18%|█▊        | 375/2130 [00:37<03:27,  8.46it/s]"
     ]
    },
    {
     "name": "stdout",
     "output_type": "stream",
     "text": [
      "-8gzhShz-Xs_210.png\n",
      "1/1 [==============================] - 0s 69ms/step\n"
     ]
    },
    {
     "name": "stderr",
     "output_type": "stream",
     "text": [
      " 18%|█▊        | 376/2130 [00:37<03:26,  8.51it/s]"
     ]
    },
    {
     "name": "stdout",
     "output_type": "stream",
     "text": [
      "-8HBJ-nwen4_10.png\n",
      "1/1 [==============================] - 0s 64ms/step\n"
     ]
    },
    {
     "name": "stderr",
     "output_type": "stream",
     "text": [
      " 18%|█▊        | 377/2130 [00:37<03:16,  8.91it/s]"
     ]
    },
    {
     "name": "stdout",
     "output_type": "stream",
     "text": [
      "-8Hc-CKDWak_30.png\n",
      "1/1 [==============================] - 0s 67ms/step\n"
     ]
    },
    {
     "name": "stderr",
     "output_type": "stream",
     "text": [
      " 18%|█▊        | 378/2130 [00:37<03:12,  9.11it/s]"
     ]
    },
    {
     "name": "stdout",
     "output_type": "stream",
     "text": [
      "-8NAgM8SeAI_27.png\n",
      "1/1 [==============================] - 0s 66ms/step\n"
     ]
    },
    {
     "name": "stderr",
     "output_type": "stream",
     "text": [
      " 18%|█▊        | 379/2130 [00:37<03:09,  9.25it/s]"
     ]
    },
    {
     "name": "stdout",
     "output_type": "stream",
     "text": [
      "-8o6m4O-9VM_30.png\n",
      "1/1 [==============================] - 0s 66ms/step\n"
     ]
    },
    {
     "name": "stderr",
     "output_type": "stream",
     "text": [
      " 18%|█▊        | 380/2130 [00:37<03:07,  9.33it/s]"
     ]
    },
    {
     "name": "stdout",
     "output_type": "stream",
     "text": [
      "-8Qb_SMa7LA_0.png\n",
      "1/1 [==============================] - 0s 73ms/step\n"
     ]
    },
    {
     "name": "stderr",
     "output_type": "stream",
     "text": [
      " 18%|█▊        | 381/2130 [00:37<03:10,  9.16it/s]"
     ]
    },
    {
     "name": "stdout",
     "output_type": "stream",
     "text": [
      "-8SZCwkLAyc_40.png\n",
      "1/1 [==============================] - 0s 76ms/step\n"
     ]
    },
    {
     "name": "stderr",
     "output_type": "stream",
     "text": [
      " 18%|█▊        | 382/2130 [00:37<03:14,  8.99it/s]"
     ]
    },
    {
     "name": "stdout",
     "output_type": "stream",
     "text": [
      "-8T9QxBA-nI_70.png\n",
      "1/1 [==============================] - 0s 75ms/step\n"
     ]
    },
    {
     "name": "stderr",
     "output_type": "stream",
     "text": [
      " 18%|█▊        | 383/2130 [00:38<03:14,  8.97it/s]"
     ]
    },
    {
     "name": "stdout",
     "output_type": "stream",
     "text": [
      "-8Th09Uo1-k_0.png\n",
      "1/1 [==============================] - 0s 68ms/step\n"
     ]
    },
    {
     "name": "stderr",
     "output_type": "stream",
     "text": [
      " 18%|█▊        | 384/2130 [00:38<03:11,  9.11it/s]"
     ]
    },
    {
     "name": "stdout",
     "output_type": "stream",
     "text": [
      "-8tskHwTfcQ_30.png\n",
      "1/1 [==============================] - 0s 119ms/step\n"
     ]
    },
    {
     "name": "stderr",
     "output_type": "stream",
     "text": [
      " 18%|█▊        | 385/2130 [00:38<03:34,  8.12it/s]"
     ]
    },
    {
     "name": "stdout",
     "output_type": "stream",
     "text": [
      "-8v36e97eBc_30.png\n",
      "1/1 [==============================] - 0s 73ms/step\n"
     ]
    },
    {
     "name": "stderr",
     "output_type": "stream",
     "text": [
      " 18%|█▊        | 386/2130 [00:38<03:31,  8.25it/s]"
     ]
    },
    {
     "name": "stdout",
     "output_type": "stream",
     "text": [
      "-90y2pY0fZA_200.png\n",
      "1/1 [==============================] - 0s 69ms/step\n"
     ]
    },
    {
     "name": "stderr",
     "output_type": "stream",
     "text": [
      " 18%|█▊        | 387/2130 [00:38<03:23,  8.55it/s]"
     ]
    },
    {
     "name": "stdout",
     "output_type": "stream",
     "text": [
      "-9FNqXff1tE_50.png\n",
      "1/1 [==============================] - 0s 65ms/step\n",
      "-9h9Dbtsy4A_4.png\n",
      "1/1 [==============================] - 0s 64ms/step\n"
     ]
    },
    {
     "name": "stderr",
     "output_type": "stream",
     "text": [
      " 18%|█▊        | 389/2130 [00:38<03:11,  9.10it/s]"
     ]
    },
    {
     "name": "stdout",
     "output_type": "stream",
     "text": [
      "-9IXdpNz0KU_30.png\n",
      "1/1 [==============================] - 0s 64ms/step\n"
     ]
    },
    {
     "name": "stderr",
     "output_type": "stream",
     "text": [
      " 18%|█▊        | 390/2130 [00:38<03:08,  9.23it/s]"
     ]
    },
    {
     "name": "stdout",
     "output_type": "stream",
     "text": [
      "-9izu74FtZo_30.png\n",
      "1/1 [==============================] - 0s 68ms/step\n"
     ]
    },
    {
     "name": "stderr",
     "output_type": "stream",
     "text": [
      " 18%|█▊        | 391/2130 [00:38<03:06,  9.30it/s]"
     ]
    },
    {
     "name": "stdout",
     "output_type": "stream",
     "text": [
      "-9jB1dDAstc_390.png\n",
      "1/1 [==============================] - 0s 67ms/step\n"
     ]
    },
    {
     "name": "stderr",
     "output_type": "stream",
     "text": [
      " 18%|█▊        | 392/2130 [00:39<03:07,  9.29it/s]"
     ]
    },
    {
     "name": "stdout",
     "output_type": "stream",
     "text": [
      "-9Mh5OC-9KU_40.png\n",
      "1/1 [==============================] - 0s 61ms/step\n",
      "-9m_ZmNzBrs_30.png\n",
      "1/1 [==============================] - 0s 62ms/step\n"
     ]
    },
    {
     "name": "stderr",
     "output_type": "stream",
     "text": [
      " 18%|█▊        | 394/2130 [00:39<02:55,  9.90it/s]"
     ]
    },
    {
     "name": "stdout",
     "output_type": "stream",
     "text": [
      "-9nYgBgCTtI_30.png\n",
      "1/1 [==============================] - 0s 68ms/step\n",
      "-9pv1Fzs1-c_110.png\n",
      "1/1 [==============================] - 0s 58ms/step\n"
     ]
    },
    {
     "name": "stderr",
     "output_type": "stream",
     "text": [
      " 19%|█▊        | 396/2130 [00:39<02:53, 10.00it/s]"
     ]
    },
    {
     "name": "stdout",
     "output_type": "stream",
     "text": [
      "-9q6TWP2jEo_30.png\n",
      "1/1 [==============================] - 0s 58ms/step\n",
      "-9qM9_6GMwA_90.png\n",
      "1/1 [==============================] - 0s 58ms/step\n"
     ]
    },
    {
     "name": "stderr",
     "output_type": "stream",
     "text": [
      " 19%|█▊        | 398/2130 [00:39<02:51, 10.10it/s]"
     ]
    },
    {
     "name": "stdout",
     "output_type": "stream",
     "text": [
      "-9YF3qGn4TA_30.png\n",
      "1/1 [==============================] - 0s 61ms/step\n",
      "-A3VeBjeTDs_180.png\n",
      "1/1 [==============================] - 0s 69ms/step\n"
     ]
    },
    {
     "name": "stderr",
     "output_type": "stream",
     "text": [
      " 19%|█▉        | 400/2130 [00:39<02:57,  9.72it/s]"
     ]
    },
    {
     "name": "stdout",
     "output_type": "stream",
     "text": [
      "-A7bqoJb7Ms_30.png\n",
      "1/1 [==============================] - 0s 63ms/step\n",
      "-A8YCVunrGk_0.png\n",
      "1/1 [==============================] - 0s 66ms/step\n"
     ]
    },
    {
     "name": "stderr",
     "output_type": "stream",
     "text": [
      " 19%|█▉        | 402/2130 [00:40<02:54,  9.91it/s]"
     ]
    },
    {
     "name": "stdout",
     "output_type": "stream",
     "text": [
      "-AbW8iQYhG4_140.png\n",
      "1/1 [==============================] - 0s 63ms/step\n",
      "-AcNOyBXLao_30.png\n",
      "1/1 [==============================] - 0s 58ms/step\n"
     ]
    },
    {
     "name": "stderr",
     "output_type": "stream",
     "text": [
      " 19%|█▉        | 404/2130 [00:40<02:51, 10.06it/s]"
     ]
    },
    {
     "name": "stdout",
     "output_type": "stream",
     "text": [
      "-aec_pGW3QE_400.png\n",
      "1/1 [==============================] - 0s 57ms/step\n",
      "-AIgkXmOICs_100.png\n",
      "1/1 [==============================] - 0s 63ms/step\n"
     ]
    },
    {
     "name": "stderr",
     "output_type": "stream",
     "text": [
      " 19%|█▉        | 406/2130 [00:40<02:49, 10.15it/s]"
     ]
    },
    {
     "name": "stdout",
     "output_type": "stream",
     "text": [
      "-AKPcPEoqAg_12.png\n",
      "1/1 [==============================] - 0s 66ms/step\n",
      "-AkYtnUbOVs_90.png\n",
      "1/1 [==============================] - 0s 63ms/step\n"
     ]
    },
    {
     "name": "stderr",
     "output_type": "stream",
     "text": [
      " 19%|█▉        | 408/2130 [00:40<02:51, 10.01it/s]"
     ]
    },
    {
     "name": "stdout",
     "output_type": "stream",
     "text": [
      "-aLZ-3Py9w4_30.png\n",
      "1/1 [==============================] - 0s 70ms/step\n",
      "-aN6onnCTl0_30.png\n",
      "1/1 [==============================] - 0s 62ms/step\n"
     ]
    },
    {
     "name": "stderr",
     "output_type": "stream",
     "text": [
      " 19%|█▉        | 410/2130 [00:40<02:53,  9.93it/s]"
     ]
    },
    {
     "name": "stdout",
     "output_type": "stream",
     "text": [
      "-aNwADnVYMY_0.png\n",
      "1/1 [==============================] - 0s 60ms/step\n",
      "-ArFc7f3GR4_6.png\n",
      "1/1 [==============================] - 0s 63ms/step\n"
     ]
    },
    {
     "name": "stderr",
     "output_type": "stream",
     "text": [
      " 19%|█▉        | 412/2130 [00:41<02:48, 10.20it/s]"
     ]
    },
    {
     "name": "stdout",
     "output_type": "stream",
     "text": [
      "-Au8kEPd8-U_30.png\n",
      "1/1 [==============================] - 0s 64ms/step\n",
      "-AX4UT8h78Y_50.png\n",
      "1/1 [==============================] - 0s 66ms/step\n"
     ]
    },
    {
     "name": "stderr",
     "output_type": "stream",
     "text": [
      " 19%|█▉        | 414/2130 [00:41<02:47, 10.26it/s]"
     ]
    },
    {
     "name": "stdout",
     "output_type": "stream",
     "text": [
      "-AZDejkXwZA_30.png\n",
      "1/1 [==============================] - 0s 60ms/step\n",
      "-Azy5tTojZU_30.png\n",
      "1/1 [==============================] - 0s 61ms/step\n"
     ]
    },
    {
     "name": "stderr",
     "output_type": "stream",
     "text": [
      " 20%|█▉        | 416/2130 [00:41<02:46, 10.29it/s]"
     ]
    },
    {
     "name": "stdout",
     "output_type": "stream",
     "text": [
      "-A_Gt60tfC8_20.png\n",
      "1/1 [==============================] - 0s 61ms/step\n",
      "-b4JMeZ0b7o_10.png\n",
      "1/1 [==============================] - 0s 61ms/step\n"
     ]
    },
    {
     "name": "stderr",
     "output_type": "stream",
     "text": [
      " 20%|█▉        | 418/2130 [00:41<02:45, 10.35it/s]"
     ]
    },
    {
     "name": "stdout",
     "output_type": "stream",
     "text": [
      "-B9XpiViAv0_30.png\n",
      "1/1 [==============================] - 0s 67ms/step\n",
      "-bAXWuhTtS0_30.png\n",
      "1/1 [==============================] - 0s 58ms/step\n"
     ]
    },
    {
     "name": "stderr",
     "output_type": "stream",
     "text": [
      " 20%|█▉        | 420/2130 [00:41<02:46, 10.26it/s]"
     ]
    },
    {
     "name": "stdout",
     "output_type": "stream",
     "text": [
      "-BcQIqmaULo_30.png\n",
      "1/1 [==============================] - 0s 64ms/step\n",
      "-bg3Wc5bBA0_30.png\n",
      "1/1 [==============================] - 0s 68ms/step\n"
     ]
    },
    {
     "name": "stderr",
     "output_type": "stream",
     "text": [
      " 20%|█▉        | 422/2130 [00:42<02:49, 10.07it/s]"
     ]
    },
    {
     "name": "stdout",
     "output_type": "stream",
     "text": [
      "-BJCsQRd4wI_580.png\n",
      "1/1 [==============================] - 0s 64ms/step\n",
      "-BPcjlI7-R4_30.png\n",
      "1/1 [==============================] - 0s 66ms/step\n"
     ]
    },
    {
     "name": "stderr",
     "output_type": "stream",
     "text": [
      " 20%|█▉        | 424/2130 [00:42<02:49, 10.08it/s]"
     ]
    },
    {
     "name": "stdout",
     "output_type": "stream",
     "text": [
      "-BvsUWvbhGU_30.png\n",
      "1/1 [==============================] - 0s 66ms/step\n",
      "-BxGYQqm2Es_3.png\n",
      "1/1 [==============================] - 0s 61ms/step\n"
     ]
    },
    {
     "name": "stderr",
     "output_type": "stream",
     "text": [
      " 20%|██        | 426/2130 [00:42<02:48, 10.10it/s]"
     ]
    },
    {
     "name": "stdout",
     "output_type": "stream",
     "text": [
      "-BxUwY6w6hM_30.png\n",
      "1/1 [==============================] - 0s 63ms/step\n",
      "-Bzkbfg8E5g_5.png\n",
      "1/1 [==============================] - 0s 60ms/step\n"
     ]
    },
    {
     "name": "stderr",
     "output_type": "stream",
     "text": [
      " 20%|██        | 428/2130 [00:42<02:45, 10.26it/s]"
     ]
    },
    {
     "name": "stdout",
     "output_type": "stream",
     "text": [
      "-bZQXW8ABHA_310.png\n",
      "1/1 [==============================] - 0s 57ms/step\n",
      "-B_qwoG8DoY_19.png\n",
      "1/1 [==============================] - 0s 65ms/step\n"
     ]
    },
    {
     "name": "stderr",
     "output_type": "stream",
     "text": [
      " 20%|██        | 430/2130 [00:42<02:42, 10.45it/s]"
     ]
    },
    {
     "name": "stdout",
     "output_type": "stream",
     "text": [
      "-B_yrYDLb9Y_30.png\n",
      "1/1 [==============================] - 0s 60ms/step\n",
      "-C2KamZu1n4_0.png\n",
      "1/1 [==============================] - 0s 63ms/step\n"
     ]
    },
    {
     "name": "stderr",
     "output_type": "stream",
     "text": [
      " 20%|██        | 432/2130 [00:43<02:42, 10.44it/s]"
     ]
    },
    {
     "name": "stdout",
     "output_type": "stream",
     "text": [
      "-C3xrbr-5zg_10.png\n",
      "1/1 [==============================] - 0s 57ms/step\n",
      "-C4v9RHBCRY_30.png\n",
      "1/1 [==============================] - 0s 82ms/step\n"
     ]
    },
    {
     "name": "stderr",
     "output_type": "stream",
     "text": [
      " 20%|██        | 434/2130 [00:43<02:44, 10.29it/s]"
     ]
    },
    {
     "name": "stdout",
     "output_type": "stream",
     "text": [
      "-cBMc6QaYAI_0.png\n",
      "1/1 [==============================] - 0s 71ms/step\n",
      "-CcW5UEfBFw_27.png\n",
      "1/1 [==============================] - 0s 74ms/step\n"
     ]
    },
    {
     "name": "stderr",
     "output_type": "stream",
     "text": [
      " 20%|██        | 436/2130 [00:43<02:52,  9.82it/s]"
     ]
    },
    {
     "name": "stdout",
     "output_type": "stream",
     "text": [
      "-CGRNKyzlzk_0.png\n",
      "1/1 [==============================] - 0s 78ms/step\n"
     ]
    },
    {
     "name": "stderr",
     "output_type": "stream",
     "text": [
      " 21%|██        | 437/2130 [00:43<02:55,  9.62it/s]"
     ]
    },
    {
     "name": "stdout",
     "output_type": "stream",
     "text": [
      "-Chm_TzeYjA_40.png\n",
      "1/1 [==============================] - 0s 77ms/step\n"
     ]
    },
    {
     "name": "stderr",
     "output_type": "stream",
     "text": [
      " 21%|██        | 438/2130 [00:43<03:02,  9.30it/s]"
     ]
    },
    {
     "name": "stdout",
     "output_type": "stream",
     "text": [
      "-cjJn3C4HZ0_21.png\n",
      "1/1 [==============================] - 0s 64ms/step\n"
     ]
    },
    {
     "name": "stderr",
     "output_type": "stream",
     "text": [
      " 21%|██        | 439/2130 [00:43<02:59,  9.40it/s]"
     ]
    },
    {
     "name": "stdout",
     "output_type": "stream",
     "text": [
      "-cl4w-qg3uw_8.png\n",
      "1/1 [==============================] - 0s 67ms/step\n"
     ]
    },
    {
     "name": "stderr",
     "output_type": "stream",
     "text": [
      " 21%|██        | 440/2130 [00:43<03:03,  9.22it/s]"
     ]
    },
    {
     "name": "stdout",
     "output_type": "stream",
     "text": [
      "-CljUN9ziao_30.png\n",
      "1/1 [==============================] - 0s 55ms/step\n",
      "-cmo9r18cAI_30.png\n",
      "1/1 [==============================] - 0s 59ms/step\n"
     ]
    },
    {
     "name": "stderr",
     "output_type": "stream",
     "text": [
      " 21%|██        | 442/2130 [00:44<02:51,  9.83it/s]"
     ]
    },
    {
     "name": "stdout",
     "output_type": "stream",
     "text": [
      "-CMQLYhy2bk_15.png\n",
      "1/1 [==============================] - 0s 69ms/step\n"
     ]
    },
    {
     "name": "stderr",
     "output_type": "stream",
     "text": [
      " 21%|██        | 443/2130 [00:44<02:54,  9.67it/s]"
     ]
    },
    {
     "name": "stdout",
     "output_type": "stream",
     "text": [
      "-CoMUv2igfk_12.png\n",
      "1/1 [==============================] - 0s 64ms/step\n",
      "-COXAwmZkyI_30.png\n",
      "1/1 [==============================] - 0s 77ms/step\n"
     ]
    },
    {
     "name": "stderr",
     "output_type": "stream",
     "text": [
      " 21%|██        | 445/2130 [00:44<03:01,  9.27it/s]"
     ]
    },
    {
     "name": "stdout",
     "output_type": "stream",
     "text": [
      "-Cr07Z14AEI_20.png\n",
      "1/1 [==============================] - 0s 58ms/step\n",
      "-Cw3WhgAtu0_30.png\n",
      "1/1 [==============================] - 0s 56ms/step\n"
     ]
    },
    {
     "name": "stderr",
     "output_type": "stream",
     "text": [
      " 21%|██        | 447/2130 [00:44<02:51,  9.82it/s]"
     ]
    },
    {
     "name": "stdout",
     "output_type": "stream",
     "text": [
      "-CxBkO062Mg_90.png\n",
      "1/1 [==============================] - 0s 63ms/step\n",
      "-Cye32tV68E_30.png\n",
      "1/1 [==============================] - 0s 59ms/step\n"
     ]
    },
    {
     "name": "stderr",
     "output_type": "stream",
     "text": [
      " 21%|██        | 449/2130 [00:44<02:46, 10.10it/s]"
     ]
    },
    {
     "name": "stdout",
     "output_type": "stream",
     "text": [
      "-cZ7a8zMYR0_30.png\n",
      "1/1 [==============================] - 0s 62ms/step\n",
      "-CZfRO3bCXQ_70.png\n",
      "1/1 [==============================] - 0s 66ms/step\n"
     ]
    },
    {
     "name": "stderr",
     "output_type": "stream",
     "text": [
      " 21%|██        | 451/2130 [00:44<02:45, 10.13it/s]"
     ]
    },
    {
     "name": "stdout",
     "output_type": "stream",
     "text": [
      "-CZmqww01QY_0.png\n",
      "1/1 [==============================] - 0s 63ms/step\n",
      "-CZvettHJgI_370.png\n",
      "1/1 [==============================] - 0s 61ms/step\n"
     ]
    },
    {
     "name": "stderr",
     "output_type": "stream",
     "text": [
      " 21%|██▏       | 453/2130 [00:45<02:45, 10.11it/s]"
     ]
    },
    {
     "name": "stdout",
     "output_type": "stream",
     "text": [
      "-C_JSRyjnH8_30.png\n",
      "1/1 [==============================] - 0s 71ms/step\n",
      "-D31xZ8HWEs_30.png\n",
      "1/1 [==============================] - 0s 63ms/step\n"
     ]
    },
    {
     "name": "stderr",
     "output_type": "stream",
     "text": [
      " 21%|██▏       | 455/2130 [00:45<02:49,  9.90it/s]"
     ]
    },
    {
     "name": "stdout",
     "output_type": "stream",
     "text": [
      "-d3cAgaMX4g_360.png\n",
      "1/1 [==============================] - 0s 58ms/step\n",
      "-D8ZGlwZKyo_9.png\n",
      "1/1 [==============================] - 0s 64ms/step\n"
     ]
    },
    {
     "name": "stderr",
     "output_type": "stream",
     "text": [
      " 21%|██▏       | 457/2130 [00:45<02:46, 10.06it/s]"
     ]
    },
    {
     "name": "stdout",
     "output_type": "stream",
     "text": [
      "-D9R_DR_fss_420.png\n",
      "1/1 [==============================] - 0s 63ms/step\n",
      "-DawX3hHBzE_170.png\n",
      "1/1 [==============================] - 0s 59ms/step\n"
     ]
    },
    {
     "name": "stderr",
     "output_type": "stream",
     "text": [
      " 22%|██▏       | 459/2130 [00:45<02:44, 10.16it/s]"
     ]
    },
    {
     "name": "stdout",
     "output_type": "stream",
     "text": [
      "-dAYs8V2h4w_260.png\n",
      "1/1 [==============================] - 0s 60ms/step\n",
      "-DBFZlQf4X4_30.png\n",
      "1/1 [==============================] - 0s 62ms/step\n"
     ]
    },
    {
     "name": "stderr",
     "output_type": "stream",
     "text": [
      " 22%|██▏       | 461/2130 [00:45<02:43, 10.24it/s]"
     ]
    },
    {
     "name": "stdout",
     "output_type": "stream",
     "text": [
      "-dBjc3xGsZ0_30.png\n",
      "1/1 [==============================] - 0s 62ms/step\n",
      "-DCd0XZR1gI_30.png\n",
      "1/1 [==============================] - 0s 57ms/step\n"
     ]
    },
    {
     "name": "stderr",
     "output_type": "stream",
     "text": [
      " 22%|██▏       | 463/2130 [00:46<02:40, 10.39it/s]"
     ]
    },
    {
     "name": "stdout",
     "output_type": "stream",
     "text": [
      "-DFbUZLOaMA_40.png\n",
      "1/1 [==============================] - 0s 61ms/step\n",
      "-dG1FEukHxg_15.png\n",
      "1/1 [==============================] - 0s 62ms/step\n"
     ]
    },
    {
     "name": "stderr",
     "output_type": "stream",
     "text": [
      " 22%|██▏       | 465/2130 [00:46<02:40, 10.36it/s]"
     ]
    },
    {
     "name": "stdout",
     "output_type": "stream",
     "text": [
      "-Dh7FUYZX9Q_80.png\n",
      "1/1 [==============================] - 0s 57ms/step\n",
      "-DhyXRriyNE_560.png\n",
      "1/1 [==============================] - 0s 58ms/step\n"
     ]
    },
    {
     "name": "stderr",
     "output_type": "stream",
     "text": [
      " 22%|██▏       | 467/2130 [00:46<02:35, 10.66it/s]"
     ]
    },
    {
     "name": "stdout",
     "output_type": "stream",
     "text": [
      "-Dja8mOfuH8_130.png\n",
      "1/1 [==============================] - 0s 55ms/step\n",
      "-DKuErIgJJU_0.png\n",
      "1/1 [==============================] - 0s 58ms/step\n"
     ]
    },
    {
     "name": "stderr",
     "output_type": "stream",
     "text": [
      " 22%|██▏       | 469/2130 [00:46<02:32, 10.88it/s]"
     ]
    },
    {
     "name": "stdout",
     "output_type": "stream",
     "text": [
      "-DlUhKaG8eo_80.png\n",
      "1/1 [==============================] - 0s 57ms/step\n",
      "-dLvucMcDGM_260.png\n",
      "1/1 [==============================] - 0s 58ms/step\n"
     ]
    },
    {
     "name": "stderr",
     "output_type": "stream",
     "text": [
      " 22%|██▏       | 471/2130 [00:46<02:31, 10.97it/s]"
     ]
    },
    {
     "name": "stdout",
     "output_type": "stream",
     "text": [
      "-DmQ1NBq0F4_30.png\n",
      "1/1 [==============================] - 0s 60ms/step\n",
      "-DsZ-XfJRCE_2.png\n",
      "1/1 [==============================] - 0s 61ms/step\n"
     ]
    },
    {
     "name": "stderr",
     "output_type": "stream",
     "text": [
      " 22%|██▏       | 473/2130 [00:47<02:32, 10.87it/s]"
     ]
    },
    {
     "name": "stdout",
     "output_type": "stream",
     "text": [
      "-DWgE5OnEVY_150.png\n",
      "1/1 [==============================] - 0s 60ms/step\n",
      "-DXCGE-dkkY_240.png\n",
      "1/1 [==============================] - 0s 61ms/step\n"
     ]
    },
    {
     "name": "stderr",
     "output_type": "stream",
     "text": [
      " 22%|██▏       | 475/2130 [00:47<02:34, 10.69it/s]"
     ]
    },
    {
     "name": "stdout",
     "output_type": "stream",
     "text": [
      "-DxIVqpV9so_110.png\n",
      "1/1 [==============================] - 0s 65ms/step\n",
      "-DXq8b_yfTQ_240.png\n",
      "1/1 [==============================] - 0s 63ms/step\n"
     ]
    },
    {
     "name": "stderr",
     "output_type": "stream",
     "text": [
      " 22%|██▏       | 477/2130 [00:47<02:37, 10.51it/s]"
     ]
    },
    {
     "name": "stdout",
     "output_type": "stream",
     "text": [
      "-e0WYF_USqw_30.png\n",
      "1/1 [==============================] - 0s 65ms/step\n",
      "-e4e8WnY3vQ_0.png\n",
      "1/1 [==============================] - 0s 62ms/step\n"
     ]
    },
    {
     "name": "stderr",
     "output_type": "stream",
     "text": [
      " 22%|██▏       | 479/2130 [00:47<02:39, 10.35it/s]"
     ]
    },
    {
     "name": "stdout",
     "output_type": "stream",
     "text": [
      "-e8jINz8biI_100.png\n",
      "1/1 [==============================] - 0s 67ms/step\n",
      "-EG0W_BTyFE_30.png\n",
      "1/1 [==============================] - 0s 69ms/step\n"
     ]
    },
    {
     "name": "stderr",
     "output_type": "stream",
     "text": [
      " 23%|██▎       | 481/2130 [00:47<02:41, 10.21it/s]"
     ]
    },
    {
     "name": "stdout",
     "output_type": "stream",
     "text": [
      "-egjyoLyd9M_30.png\n",
      "1/1 [==============================] - 0s 60ms/step\n",
      "-EMnuFZSrbU_20.png\n",
      "1/1 [==============================] - 0s 61ms/step\n"
     ]
    },
    {
     "name": "stderr",
     "output_type": "stream",
     "text": [
      " 23%|██▎       | 483/2130 [00:48<02:37, 10.45it/s]"
     ]
    },
    {
     "name": "stdout",
     "output_type": "stream",
     "text": [
      "-EOnS_BJl5A_400.png\n",
      "1/1 [==============================] - 0s 61ms/step\n",
      "-EOvMMrhKjg_0.png\n",
      "1/1 [==============================] - 0s 58ms/step\n"
     ]
    },
    {
     "name": "stderr",
     "output_type": "stream",
     "text": [
      " 23%|██▎       | 485/2130 [00:48<02:38, 10.37it/s]"
     ]
    },
    {
     "name": "stdout",
     "output_type": "stream",
     "text": [
      "-Eo_FlfF6Z4_30.png\n",
      "1/1 [==============================] - 0s 57ms/step\n",
      "-EQByFLFqig_21.png\n",
      "1/1 [==============================] - 0s 55ms/step\n"
     ]
    },
    {
     "name": "stderr",
     "output_type": "stream",
     "text": [
      " 23%|██▎       | 487/2130 [00:48<02:35, 10.59it/s]"
     ]
    },
    {
     "name": "stdout",
     "output_type": "stream",
     "text": [
      "-Er5SvmjJZs_170.png\n",
      "1/1 [==============================] - 0s 60ms/step\n",
      "-ER9KE4n35k_200.png\n",
      "1/1 [==============================] - 0s 63ms/step\n"
     ]
    },
    {
     "name": "stderr",
     "output_type": "stream",
     "text": [
      " 23%|██▎       | 489/2130 [00:48<02:33, 10.69it/s]"
     ]
    },
    {
     "name": "stdout",
     "output_type": "stream",
     "text": [
      "-eyj-CwoHRw_30.png\n",
      "1/1 [==============================] - 0s 55ms/step\n",
      "-EzAO9DrRNE_30.png\n",
      "1/1 [==============================] - 0s 66ms/step\n"
     ]
    },
    {
     "name": "stderr",
     "output_type": "stream",
     "text": [
      " 23%|██▎       | 491/2130 [00:48<02:32, 10.72it/s]"
     ]
    },
    {
     "name": "stdout",
     "output_type": "stream",
     "text": [
      "-F9ztnmCMGE_30.png\n",
      "1/1 [==============================] - 0s 65ms/step\n",
      "-fa0y8XyfKQ_120.png\n",
      "1/1 [==============================] - 0s 56ms/step\n"
     ]
    },
    {
     "name": "stderr",
     "output_type": "stream",
     "text": [
      " 23%|██▎       | 493/2130 [00:48<02:32, 10.73it/s]"
     ]
    },
    {
     "name": "stdout",
     "output_type": "stream",
     "text": [
      "-FIwh0ckUcg_390.png\n",
      "1/1 [==============================] - 0s 56ms/step\n",
      "-FI_F5Lclrg_0.png\n",
      "1/1 [==============================] - 0s 60ms/step\n"
     ]
    },
    {
     "name": "stderr",
     "output_type": "stream",
     "text": [
      " 23%|██▎       | 495/2130 [00:49<02:30, 10.88it/s]"
     ]
    },
    {
     "name": "stdout",
     "output_type": "stream",
     "text": [
      "-FkE7luN1kQ_30.png\n",
      "1/1 [==============================] - 0s 58ms/step\n",
      "-FkJTqTBhDQ_30.png\n",
      "1/1 [==============================] - 0s 60ms/step\n"
     ]
    },
    {
     "name": "stderr",
     "output_type": "stream",
     "text": [
      " 23%|██▎       | 497/2130 [00:49<02:29, 10.91it/s]"
     ]
    },
    {
     "name": "stdout",
     "output_type": "stream",
     "text": [
      "-FL5Ham2C-o_30.png\n",
      "1/1 [==============================] - 0s 58ms/step\n",
      "-FmniYuIbMc_12.png\n",
      "1/1 [==============================] - 0s 106ms/step\n"
     ]
    },
    {
     "name": "stderr",
     "output_type": "stream",
     "text": [
      " 23%|██▎       | 499/2130 [00:49<02:40, 10.18it/s]"
     ]
    },
    {
     "name": "stdout",
     "output_type": "stream",
     "text": [
      "-foOLoEWXJQ_30.png\n",
      "1/1 [==============================] - 0s 57ms/step\n",
      "-FoT1ubbHdA_30.png\n",
      "1/1 [==============================] - 0s 56ms/step\n"
     ]
    },
    {
     "name": "stderr",
     "output_type": "stream",
     "text": [
      " 24%|██▎       | 501/2130 [00:49<02:35, 10.44it/s]"
     ]
    },
    {
     "name": "stdout",
     "output_type": "stream",
     "text": [
      "-FpGTCaiioc_30.png\n",
      "1/1 [==============================] - 0s 62ms/step\n",
      "-fQoPVxYlAw_50.png\n",
      "1/1 [==============================] - 0s 53ms/step\n"
     ]
    },
    {
     "name": "stderr",
     "output_type": "stream",
     "text": [
      " 24%|██▎       | 503/2130 [00:49<02:34, 10.55it/s]"
     ]
    },
    {
     "name": "stdout",
     "output_type": "stream",
     "text": [
      "-fQwY2ae_Iw_50.png\n",
      "1/1 [==============================] - 0s 58ms/step\n",
      "-FVyHbbCECU_120.png\n",
      "1/1 [==============================] - 0s 59ms/step\n"
     ]
    },
    {
     "name": "stderr",
     "output_type": "stream",
     "text": [
      " 24%|██▎       | 505/2130 [00:50<02:33, 10.56it/s]"
     ]
    },
    {
     "name": "stdout",
     "output_type": "stream",
     "text": [
      "-FXIpbWJgVc_20.png\n",
      "1/1 [==============================] - 0s 58ms/step\n",
      "-FyciqeepCU_360.png\n",
      "1/1 [==============================] - 0s 58ms/step\n"
     ]
    },
    {
     "name": "stderr",
     "output_type": "stream",
     "text": [
      " 24%|██▍       | 507/2130 [00:50<02:30, 10.77it/s]"
     ]
    },
    {
     "name": "stdout",
     "output_type": "stream",
     "text": [
      "-g-Sj2jdxrs_30.png\n",
      "1/1 [==============================] - 0s 59ms/step\n",
      "-G1Y835xHDE_10.png\n",
      "1/1 [==============================] - 0s 60ms/step\n"
     ]
    },
    {
     "name": "stderr",
     "output_type": "stream",
     "text": [
      " 24%|██▍       | 509/2130 [00:50<02:30, 10.78it/s]"
     ]
    },
    {
     "name": "stdout",
     "output_type": "stream",
     "text": [
      "-G7kqTc-QMY_30.png\n",
      "1/1 [==============================] - 0s 56ms/step\n",
      "-G7yMx9a3pM_30.png\n",
      "1/1 [==============================] - 0s 66ms/step\n"
     ]
    },
    {
     "name": "stderr",
     "output_type": "stream",
     "text": [
      " 24%|██▍       | 511/2130 [00:50<02:29, 10.81it/s]"
     ]
    },
    {
     "name": "stdout",
     "output_type": "stream",
     "text": [
      "-gaL8PWOIE0_70.png\n",
      "1/1 [==============================] - 0s 61ms/step\n",
      "-gb5uvwsRpI_30.png\n",
      "1/1 [==============================] - 0s 55ms/step\n"
     ]
    },
    {
     "name": "stderr",
     "output_type": "stream",
     "text": [
      " 24%|██▍       | 513/2130 [00:50<02:30, 10.76it/s]"
     ]
    },
    {
     "name": "stdout",
     "output_type": "stream",
     "text": [
      "-GBTtDvsrJ0_570.png\n",
      "1/1 [==============================] - 0s 59ms/step\n",
      "-GdPo_mgk-s_30.png\n",
      "1/1 [==============================] - 0s 56ms/step\n"
     ]
    },
    {
     "name": "stderr",
     "output_type": "stream",
     "text": [
      " 24%|██▍       | 515/2130 [00:51<02:28, 10.84it/s]"
     ]
    },
    {
     "name": "stdout",
     "output_type": "stream",
     "text": [
      "-gFZWpk2Zcw_30.png\n",
      "1/1 [==============================] - 0s 57ms/step\n",
      "-gH_MOvLOJY_30.png\n",
      "1/1 [==============================] - 0s 59ms/step\n"
     ]
    },
    {
     "name": "stderr",
     "output_type": "stream",
     "text": [
      " 24%|██▍       | 517/2130 [00:51<02:26, 10.99it/s]"
     ]
    },
    {
     "name": "stdout",
     "output_type": "stream",
     "text": [
      "-GlyNVaSgtU_30.png\n",
      "1/1 [==============================] - 0s 59ms/step\n",
      "-GUBfR-OWMk_29.png\n",
      "1/1 [==============================] - 0s 57ms/step\n"
     ]
    },
    {
     "name": "stderr",
     "output_type": "stream",
     "text": [
      " 24%|██▍       | 519/2130 [00:51<02:27, 10.90it/s]"
     ]
    },
    {
     "name": "stdout",
     "output_type": "stream",
     "text": [
      "-GvxtfYewXw_60.png\n",
      "1/1 [==============================] - 0s 60ms/step\n",
      "-gYeLk2zZMw_110.png\n",
      "1/1 [==============================] - 0s 64ms/step\n"
     ]
    },
    {
     "name": "stderr",
     "output_type": "stream",
     "text": [
      " 24%|██▍       | 521/2130 [00:51<02:27, 10.89it/s]"
     ]
    },
    {
     "name": "stdout",
     "output_type": "stream",
     "text": [
      "-GzzlXCLgXs_0.png\n",
      "1/1 [==============================] - 0s 63ms/step\n",
      "-H2RaVjQmso_30.png\n",
      "1/1 [==============================] - 0s 59ms/step\n"
     ]
    },
    {
     "name": "stderr",
     "output_type": "stream",
     "text": [
      " 25%|██▍       | 523/2130 [00:51<02:28, 10.80it/s]"
     ]
    },
    {
     "name": "stdout",
     "output_type": "stream",
     "text": [
      "-h6vzQX79fc_30.png\n",
      "1/1 [==============================] - 0s 61ms/step\n",
      "-H8PWsf35Wo_50.png\n",
      "1/1 [==============================] - 0s 57ms/step\n"
     ]
    },
    {
     "name": "stderr",
     "output_type": "stream",
     "text": [
      " 25%|██▍       | 525/2130 [00:51<02:26, 10.93it/s]"
     ]
    },
    {
     "name": "stdout",
     "output_type": "stream",
     "text": [
      "-h8zp9xcDd4_30.png\n",
      "1/1 [==============================] - 0s 65ms/step\n",
      "-hAwmRsxjn0_13.png\n",
      "1/1 [==============================] - 0s 55ms/step\n"
     ]
    },
    {
     "name": "stderr",
     "output_type": "stream",
     "text": [
      " 25%|██▍       | 527/2130 [00:52<02:27, 10.87it/s]"
     ]
    },
    {
     "name": "stdout",
     "output_type": "stream",
     "text": [
      "-Hdgi7H0QZQ_170.png\n",
      "1/1 [==============================] - 0s 60ms/step\n",
      "-HhVLr1M0fY_30.png\n",
      "1/1 [==============================] - 0s 65ms/step\n"
     ]
    },
    {
     "name": "stderr",
     "output_type": "stream",
     "text": [
      " 25%|██▍       | 529/2130 [00:52<02:27, 10.89it/s]"
     ]
    },
    {
     "name": "stdout",
     "output_type": "stream",
     "text": [
      "-hJoXBvt-AI_250.png\n",
      "1/1 [==============================] - 0s 62ms/step\n",
      "-hmbFpuK03E_30.png\n",
      "1/1 [==============================] - 0s 67ms/step\n"
     ]
    },
    {
     "name": "stderr",
     "output_type": "stream",
     "text": [
      " 25%|██▍       | 531/2130 [00:52<02:29, 10.71it/s]"
     ]
    },
    {
     "name": "stdout",
     "output_type": "stream",
     "text": [
      "-HMV5ZZPkFo_10.png\n",
      "1/1 [==============================] - 0s 66ms/step\n",
      "-HmYuZCgM2s_30.png\n",
      "1/1 [==============================] - 0s 59ms/step\n"
     ]
    },
    {
     "name": "stderr",
     "output_type": "stream",
     "text": [
      " 25%|██▌       | 533/2130 [00:52<02:29, 10.65it/s]"
     ]
    },
    {
     "name": "stdout",
     "output_type": "stream",
     "text": [
      "-HNUU7MtNsI_24.png\n",
      "1/1 [==============================] - 0s 59ms/step\n",
      "-HO-r0-bOd8_50.png\n",
      "1/1 [==============================] - 0s 56ms/step\n"
     ]
    },
    {
     "name": "stderr",
     "output_type": "stream",
     "text": [
      " 25%|██▌       | 535/2130 [00:52<02:29, 10.67it/s]"
     ]
    },
    {
     "name": "stdout",
     "output_type": "stream",
     "text": [
      "-HrGgmzOPzA_10.png\n",
      "1/1 [==============================] - 0s 55ms/step\n",
      "-I-UtrFl4m8_10.png\n",
      "1/1 [==============================] - 0s 57ms/step\n"
     ]
    },
    {
     "name": "stderr",
     "output_type": "stream",
     "text": [
      " 25%|██▌       | 537/2130 [00:53<02:25, 10.92it/s]"
     ]
    },
    {
     "name": "stdout",
     "output_type": "stream",
     "text": [
      "-i0Pjt8Ykag_0.png\n",
      "1/1 [==============================] - 0s 62ms/step\n",
      "-I0Qm4Fb4Mk_30.png\n",
      "1/1 [==============================] - 0s 57ms/step\n"
     ]
    },
    {
     "name": "stderr",
     "output_type": "stream",
     "text": [
      " 25%|██▌       | 539/2130 [00:53<02:25, 10.90it/s]"
     ]
    },
    {
     "name": "stdout",
     "output_type": "stream",
     "text": [
      "-I2UgD8y7lA_230.png\n",
      "1/1 [==============================] - 0s 56ms/step\n",
      "-I4dVbgu9ng_430.png\n",
      "1/1 [==============================] - 0s 62ms/step\n"
     ]
    },
    {
     "name": "stderr",
     "output_type": "stream",
     "text": [
      " 25%|██▌       | 541/2130 [00:53<02:25, 10.93it/s]"
     ]
    },
    {
     "name": "stdout",
     "output_type": "stream",
     "text": [
      "-I777qzddsc_30.png\n",
      "1/1 [==============================] - 0s 64ms/step\n",
      "-I95CtfMOLA_420.png\n",
      "1/1 [==============================] - 0s 60ms/step\n"
     ]
    },
    {
     "name": "stderr",
     "output_type": "stream",
     "text": [
      " 25%|██▌       | 543/2130 [00:53<02:26, 10.84it/s]"
     ]
    },
    {
     "name": "stdout",
     "output_type": "stream",
     "text": [
      "-Ia8Lhbgioc_30.png\n",
      "1/1 [==============================] - 0s 53ms/step\n",
      "-IBXTktoom8_30.png\n",
      "1/1 [==============================] - 0s 55ms/step\n"
     ]
    },
    {
     "name": "stderr",
     "output_type": "stream",
     "text": [
      " 26%|██▌       | 545/2130 [00:53<02:25, 10.90it/s]"
     ]
    },
    {
     "name": "stdout",
     "output_type": "stream",
     "text": [
      "-IDcImn6N10_30.png\n",
      "1/1 [==============================] - 0s 63ms/step\n",
      "-IHAaycWLLo_30.png\n",
      "1/1 [==============================] - 0s 64ms/step\n"
     ]
    },
    {
     "name": "stderr",
     "output_type": "stream",
     "text": [
      " 26%|██▌       | 547/2130 [00:53<02:29, 10.62it/s]"
     ]
    },
    {
     "name": "stdout",
     "output_type": "stream",
     "text": [
      "-iHaNyLCLA0_29.png\n",
      "1/1 [==============================] - 0s 64ms/step\n",
      "-ijy4u6Axx8_480.png\n",
      "1/1 [==============================] - 0s 60ms/step\n"
     ]
    },
    {
     "name": "stderr",
     "output_type": "stream",
     "text": [
      " 26%|██▌       | 549/2130 [00:54<02:27, 10.69it/s]"
     ]
    },
    {
     "name": "stdout",
     "output_type": "stream",
     "text": [
      "-IP--naJCP0_28.png\n",
      "1/1 [==============================] - 0s 59ms/step\n",
      "-IpGWTs7ckQ_10.png\n",
      "1/1 [==============================] - 0s 62ms/step\n"
     ]
    },
    {
     "name": "stderr",
     "output_type": "stream",
     "text": [
      " 26%|██▌       | 551/2130 [00:54<02:26, 10.78it/s]"
     ]
    },
    {
     "name": "stdout",
     "output_type": "stream",
     "text": [
      "-IqKCSPH-SE_30.png\n",
      "1/1 [==============================] - 0s 63ms/step\n",
      "-IUWIKR9luM_30.png\n",
      "1/1 [==============================] - 0s 60ms/step\n"
     ]
    },
    {
     "name": "stderr",
     "output_type": "stream",
     "text": [
      " 26%|██▌       | 553/2130 [00:54<02:26, 10.74it/s]"
     ]
    },
    {
     "name": "stdout",
     "output_type": "stream",
     "text": [
      "-iVdPQXgB40_30.png\n",
      "1/1 [==============================] - 0s 56ms/step\n",
      "-iYkfRFM9r4_2.png\n",
      "1/1 [==============================] - 0s 59ms/step\n"
     ]
    },
    {
     "name": "stderr",
     "output_type": "stream",
     "text": [
      " 26%|██▌       | 555/2130 [00:54<02:25, 10.83it/s]"
     ]
    },
    {
     "name": "stdout",
     "output_type": "stream",
     "text": [
      "-IyX4Hjq_j4_0.png\n",
      "1/1 [==============================] - 0s 64ms/step\n",
      "-J33gVrCxPM_30.png\n",
      "1/1 [==============================] - 0s 59ms/step\n"
     ]
    },
    {
     "name": "stderr",
     "output_type": "stream",
     "text": [
      " 26%|██▌       | 557/2130 [00:54<02:26, 10.77it/s]"
     ]
    },
    {
     "name": "stdout",
     "output_type": "stream",
     "text": [
      "-JaQwrOeCYs_0.png\n",
      "1/1 [==============================] - 0s 64ms/step\n",
      "-jdQcklCdx0_210.png\n",
      "1/1 [==============================] - 0s 62ms/step\n"
     ]
    },
    {
     "name": "stderr",
     "output_type": "stream",
     "text": [
      " 26%|██▌       | 559/2130 [00:55<02:25, 10.77it/s]"
     ]
    },
    {
     "name": "stdout",
     "output_type": "stream",
     "text": [
      "-JEBs1JVsLQ_30.png\n",
      "1/1 [==============================] - 0s 62ms/step\n",
      "-JfNfLUTI6E_30.png\n",
      "1/1 [==============================] - 0s 61ms/step\n"
     ]
    },
    {
     "name": "stderr",
     "output_type": "stream",
     "text": [
      " 26%|██▋       | 561/2130 [00:55<02:26, 10.68it/s]"
     ]
    },
    {
     "name": "stdout",
     "output_type": "stream",
     "text": [
      "-JhjPvtWuAk_30.png\n",
      "1/1 [==============================] - 0s 96ms/step\n",
      "-jMKNuSGObA_1.png\n",
      "1/1 [==============================] - 0s 57ms/step\n"
     ]
    },
    {
     "name": "stderr",
     "output_type": "stream",
     "text": [
      " 26%|██▋       | 563/2130 [00:55<02:36,  9.99it/s]"
     ]
    },
    {
     "name": "stdout",
     "output_type": "stream",
     "text": [
      "-JnnJXNz14M_70.png\n",
      "1/1 [==============================] - 0s 60ms/step\n",
      "-Jnns0s8q2g_22.png\n",
      "1/1 [==============================] - 0s 61ms/step\n"
     ]
    },
    {
     "name": "stderr",
     "output_type": "stream",
     "text": [
      " 27%|██▋       | 565/2130 [00:55<02:32, 10.24it/s]"
     ]
    },
    {
     "name": "stdout",
     "output_type": "stream",
     "text": [
      "-Joe8uVaeAA_16.png\n",
      "1/1 [==============================] - 0s 67ms/step\n",
      "-JPMy4jeYD0_20.png\n",
      "1/1 [==============================] - 0s 60ms/step\n"
     ]
    },
    {
     "name": "stderr",
     "output_type": "stream",
     "text": [
      " 27%|██▋       | 567/2130 [00:55<02:32, 10.23it/s]"
     ]
    },
    {
     "name": "stdout",
     "output_type": "stream",
     "text": [
      "-JPx8fg2cSE_20.png\n",
      "1/1 [==============================] - 0s 63ms/step\n",
      "-jQ3_FDdr04_30.png\n",
      "1/1 [==============================] - 0s 60ms/step\n"
     ]
    },
    {
     "name": "stderr",
     "output_type": "stream",
     "text": [
      " 27%|██▋       | 569/2130 [00:56<02:29, 10.43it/s]"
     ]
    },
    {
     "name": "stdout",
     "output_type": "stream",
     "text": [
      "-jRC1LFWF_A_30.png\n",
      "1/1 [==============================] - 0s 61ms/step\n",
      "-JuDkU9T1II_16.png\n",
      "1/1 [==============================] - 0s 60ms/step\n"
     ]
    },
    {
     "name": "stderr",
     "output_type": "stream",
     "text": [
      " 27%|██▋       | 571/2130 [00:56<02:27, 10.56it/s]"
     ]
    },
    {
     "name": "stdout",
     "output_type": "stream",
     "text": [
      "-JUHiMxHyjk_2.png\n",
      "1/1 [==============================] - 0s 56ms/step\n",
      "-k3JwPT51VI_30.png\n",
      "1/1 [==============================] - 0s 59ms/step\n"
     ]
    },
    {
     "name": "stderr",
     "output_type": "stream",
     "text": [
      " 27%|██▋       | 573/2130 [00:56<02:26, 10.63it/s]"
     ]
    },
    {
     "name": "stdout",
     "output_type": "stream",
     "text": [
      "-K63-ElcQiA_30.png\n",
      "1/1 [==============================] - 0s 55ms/step\n",
      "-K6fqZuINVI_30.png\n",
      "1/1 [==============================] - 0s 57ms/step\n"
     ]
    },
    {
     "name": "stderr",
     "output_type": "stream",
     "text": [
      " 27%|██▋       | 575/2130 [00:56<02:24, 10.75it/s]"
     ]
    },
    {
     "name": "stdout",
     "output_type": "stream",
     "text": [
      "-K9xaWm5XYg_30.png\n",
      "1/1 [==============================] - 0s 62ms/step\n",
      "-ke0aYP4qBE_30.png\n",
      "1/1 [==============================] - 0s 58ms/step\n"
     ]
    },
    {
     "name": "stderr",
     "output_type": "stream",
     "text": [
      " 27%|██▋       | 577/2130 [00:56<02:26, 10.63it/s]"
     ]
    },
    {
     "name": "stdout",
     "output_type": "stream",
     "text": [
      "-KEGVoUcwak_30.png\n",
      "1/1 [==============================] - 0s 61ms/step\n",
      "-KhTZFWH81Y_17.png\n",
      "1/1 [==============================] - 0s 55ms/step\n"
     ]
    },
    {
     "name": "stderr",
     "output_type": "stream",
     "text": [
      " 27%|██▋       | 579/2130 [00:57<02:24, 10.70it/s]"
     ]
    },
    {
     "name": "stdout",
     "output_type": "stream",
     "text": [
      "-kkCnNUb1dc_140.png\n",
      "1/1 [==============================] - 0s 63ms/step\n",
      "-KkQYPpJv5g_260.png\n",
      "1/1 [==============================] - 0s 57ms/step\n"
     ]
    },
    {
     "name": "stderr",
     "output_type": "stream",
     "text": [
      " 27%|██▋       | 581/2130 [00:57<02:23, 10.79it/s]"
     ]
    },
    {
     "name": "stdout",
     "output_type": "stream",
     "text": [
      "-KL7EB5dPsA_10.png\n",
      "1/1 [==============================] - 0s 57ms/step\n",
      "-kNBW94eOnM_20.png\n",
      "1/1 [==============================] - 0s 56ms/step\n"
     ]
    },
    {
     "name": "stderr",
     "output_type": "stream",
     "text": [
      " 27%|██▋       | 583/2130 [00:57<02:20, 10.97it/s]"
     ]
    },
    {
     "name": "stdout",
     "output_type": "stream",
     "text": [
      "-kpWOVZ0aUw_30.png\n",
      "1/1 [==============================] - 0s 58ms/step\n",
      "-KqASiDe_2U_40.png\n",
      "1/1 [==============================] - 0s 60ms/step\n"
     ]
    },
    {
     "name": "stderr",
     "output_type": "stream",
     "text": [
      " 27%|██▋       | 585/2130 [00:57<02:21, 10.94it/s]"
     ]
    },
    {
     "name": "stdout",
     "output_type": "stream",
     "text": [
      "-KU0rKvbJsY_30.png\n",
      "1/1 [==============================] - 0s 60ms/step\n",
      "-KU3Ju1Um4I_0.png\n",
      "1/1 [==============================] - 0s 67ms/step\n"
     ]
    },
    {
     "name": "stderr",
     "output_type": "stream",
     "text": [
      " 28%|██▊       | 587/2130 [00:57<02:23, 10.73it/s]"
     ]
    },
    {
     "name": "stdout",
     "output_type": "stream",
     "text": [
      "-KuAGEsmOrU_0.png\n",
      "1/1 [==============================] - 0s 70ms/step\n",
      "-kvlqDpv7BY_240.png\n",
      "1/1 [==============================] - 0s 57ms/step\n"
     ]
    },
    {
     "name": "stderr",
     "output_type": "stream",
     "text": [
      " 28%|██▊       | 589/2130 [00:57<02:26, 10.51it/s]"
     ]
    },
    {
     "name": "stdout",
     "output_type": "stream",
     "text": [
      "-KzfTYWOkd4_30.png\n",
      "1/1 [==============================] - 0s 58ms/step\n",
      "-K_IvMoMLH0_140.png\n",
      "1/1 [==============================] - 0s 65ms/step\n"
     ]
    },
    {
     "name": "stderr",
     "output_type": "stream",
     "text": [
      " 28%|██▊       | 591/2130 [00:58<02:24, 10.62it/s]"
     ]
    },
    {
     "name": "stdout",
     "output_type": "stream",
     "text": [
      "-LBr-n9SMko_30.png\n",
      "1/1 [==============================] - 0s 67ms/step\n",
      "-LDEImm564U_30.png\n",
      "1/1 [==============================] - 0s 60ms/step\n"
     ]
    },
    {
     "name": "stderr",
     "output_type": "stream",
     "text": [
      " 28%|██▊       | 593/2130 [00:58<02:27, 10.44it/s]"
     ]
    },
    {
     "name": "stdout",
     "output_type": "stream",
     "text": [
      "-LFldjDb0P4_90.png\n",
      "1/1 [==============================] - 0s 64ms/step\n",
      "-LFvcpTDEbI_40.png\n",
      "1/1 [==============================] - 0s 61ms/step\n"
     ]
    },
    {
     "name": "stderr",
     "output_type": "stream",
     "text": [
      " 28%|██▊       | 595/2130 [00:58<02:25, 10.55it/s]"
     ]
    },
    {
     "name": "stdout",
     "output_type": "stream",
     "text": [
      "-LLZF4A0MME_30.png\n",
      "1/1 [==============================] - 0s 58ms/step\n",
      "-LQ38hX3Nlo_370.png\n",
      "1/1 [==============================] - 0s 61ms/step\n"
     ]
    },
    {
     "name": "stderr",
     "output_type": "stream",
     "text": [
      " 28%|██▊       | 597/2130 [00:58<02:23, 10.66it/s]"
     ]
    },
    {
     "name": "stdout",
     "output_type": "stream",
     "text": [
      "-lrmsVd4s5c_30.png\n",
      "1/1 [==============================] - 0s 58ms/step\n",
      "-LU-tQ3Zwn0_70.png\n",
      "1/1 [==============================] - 0s 62ms/step\n"
     ]
    },
    {
     "name": "stderr",
     "output_type": "stream",
     "text": [
      " 28%|██▊       | 599/2130 [00:58<02:22, 10.74it/s]"
     ]
    },
    {
     "name": "stdout",
     "output_type": "stream",
     "text": [
      "-LV5Bmz6EpI_10.png\n",
      "1/1 [==============================] - 0s 58ms/step\n",
      "-lVl_chI7No_30.png\n",
      "1/1 [==============================] - 0s 62ms/step\n"
     ]
    },
    {
     "name": "stderr",
     "output_type": "stream",
     "text": [
      " 28%|██▊       | 601/2130 [00:59<02:20, 10.87it/s]"
     ]
    },
    {
     "name": "stdout",
     "output_type": "stream",
     "text": [
      "-Lzo6EOLUng_30.png\n",
      "1/1 [==============================] - 0s 63ms/step\n",
      "-m-xoViODlo_4.png\n",
      "1/1 [==============================] - 0s 59ms/step\n"
     ]
    },
    {
     "name": "stderr",
     "output_type": "stream",
     "text": [
      " 28%|██▊       | 603/2130 [00:59<02:21, 10.81it/s]"
     ]
    },
    {
     "name": "stdout",
     "output_type": "stream",
     "text": [
      "-MaVa-oaB2w_11.png\n",
      "1/1 [==============================] - 0s 58ms/step\n",
      "-Mb4lz3NyRU_140.png\n",
      "1/1 [==============================] - 0s 59ms/step\n"
     ]
    },
    {
     "name": "stderr",
     "output_type": "stream",
     "text": [
      " 28%|██▊       | 605/2130 [00:59<02:21, 10.74it/s]"
     ]
    },
    {
     "name": "stdout",
     "output_type": "stream",
     "text": [
      "-mhFGevxLUg_30.png\n",
      "1/1 [==============================] - 0s 58ms/step\n",
      "-MiUIhsDfkk_30.png\n",
      "1/1 [==============================] - 0s 57ms/step\n"
     ]
    },
    {
     "name": "stderr",
     "output_type": "stream",
     "text": [
      " 28%|██▊       | 607/2130 [00:59<02:20, 10.85it/s]"
     ]
    },
    {
     "name": "stdout",
     "output_type": "stream",
     "text": [
      "-MJA-OO0f6w_170.png\n",
      "1/1 [==============================] - 0s 63ms/step\n",
      "-MLqFPfAFew_30.png\n",
      "1/1 [==============================] - 0s 56ms/step\n"
     ]
    },
    {
     "name": "stderr",
     "output_type": "stream",
     "text": [
      " 29%|██▊       | 609/2130 [00:59<02:19, 10.89it/s]"
     ]
    },
    {
     "name": "stdout",
     "output_type": "stream",
     "text": [
      "-Mo7R6zQ23M_10.png\n",
      "1/1 [==============================] - 0s 76ms/step\n",
      "-MOYXM_gDq8_30.png\n",
      "1/1 [==============================] - 0s 60ms/step\n"
     ]
    },
    {
     "name": "stderr",
     "output_type": "stream",
     "text": [
      " 29%|██▊       | 611/2130 [01:00<02:29, 10.14it/s]"
     ]
    },
    {
     "name": "stdout",
     "output_type": "stream",
     "text": [
      "-mtdKqDp5Hs_100.png\n",
      "1/1 [==============================] - 0s 53ms/step\n",
      "-MVrHKsRBeI_1.png\n",
      "1/1 [==============================] - 0s 57ms/step\n"
     ]
    },
    {
     "name": "stderr",
     "output_type": "stream",
     "text": [
      " 29%|██▉       | 613/2130 [01:00<02:25, 10.43it/s]"
     ]
    },
    {
     "name": "stdout",
     "output_type": "stream",
     "text": [
      "-N16rWtrm2Y_6.png\n",
      "1/1 [==============================] - 0s 57ms/step\n",
      "-n3OoF3gXGQ_23.png\n",
      "1/1 [==============================] - 0s 62ms/step\n"
     ]
    },
    {
     "name": "stderr",
     "output_type": "stream",
     "text": [
      " 29%|██▉       | 615/2130 [01:00<02:22, 10.61it/s]"
     ]
    },
    {
     "name": "stdout",
     "output_type": "stream",
     "text": [
      "-N7JE-7-95g_430.png\n",
      "1/1 [==============================] - 0s 65ms/step\n",
      "-NeYa0y6UwI_440.png\n",
      "1/1 [==============================] - 0s 65ms/step\n"
     ]
    },
    {
     "name": "stderr",
     "output_type": "stream",
     "text": [
      " 29%|██▉       | 617/2130 [01:00<02:25, 10.43it/s]"
     ]
    },
    {
     "name": "stdout",
     "output_type": "stream",
     "text": [
      "-Nf0iMeS7Es_30.png\n",
      "1/1 [==============================] - 0s 68ms/step\n",
      "-NGTv0zfA20_28.png\n",
      "1/1 [==============================] - 0s 73ms/step\n"
     ]
    },
    {
     "name": "stderr",
     "output_type": "stream",
     "text": [
      " 29%|██▉       | 619/2130 [01:00<02:29, 10.08it/s]"
     ]
    },
    {
     "name": "stdout",
     "output_type": "stream",
     "text": [
      "-NOsBnC55CY_50.png\n",
      "1/1 [==============================] - 0s 68ms/step\n",
      "-nPH4D2HAhc_590.png\n",
      "1/1 [==============================] - 0s 65ms/step\n"
     ]
    },
    {
     "name": "stderr",
     "output_type": "stream",
     "text": [
      " 29%|██▉       | 621/2130 [01:01<02:34,  9.79it/s]"
     ]
    },
    {
     "name": "stdout",
     "output_type": "stream",
     "text": [
      "-NtaiX0FpXs_30.png\n",
      "1/1 [==============================] - 0s 63ms/step\n",
      "-O2v_Lj09_0_28.png\n",
      "1/1 [==============================] - 0s 63ms/step\n"
     ]
    },
    {
     "name": "stderr",
     "output_type": "stream",
     "text": [
      " 29%|██▉       | 623/2130 [01:01<02:31,  9.94it/s]"
     ]
    },
    {
     "name": "stdout",
     "output_type": "stream",
     "text": [
      "-O4M30vaA2M_10.png\n",
      "1/1 [==============================] - 0s 68ms/step\n"
     ]
    },
    {
     "name": "stderr",
     "output_type": "stream",
     "text": [
      " 29%|██▉       | 624/2130 [01:01<02:31,  9.95it/s]"
     ]
    },
    {
     "name": "stdout",
     "output_type": "stream",
     "text": [
      "-ofBgHTUrd0_30.png\n",
      "1/1 [==============================] - 0s 70ms/step\n"
     ]
    },
    {
     "name": "stderr",
     "output_type": "stream",
     "text": [
      " 29%|██▉       | 625/2130 [01:01<02:32,  9.86it/s]"
     ]
    },
    {
     "name": "stdout",
     "output_type": "stream",
     "text": [
      "-OGnj7ch-yE_30.png\n",
      "1/1 [==============================] - 0s 70ms/step\n"
     ]
    },
    {
     "name": "stderr",
     "output_type": "stream",
     "text": [
      " 29%|██▉       | 626/2130 [01:01<02:34,  9.76it/s]"
     ]
    },
    {
     "name": "stdout",
     "output_type": "stream",
     "text": [
      "-Ohfdx_PWIs_23.png\n",
      "1/1 [==============================] - 0s 65ms/step\n"
     ]
    },
    {
     "name": "stderr",
     "output_type": "stream",
     "text": [
      " 29%|██▉       | 627/2130 [01:01<02:34,  9.70it/s]"
     ]
    },
    {
     "name": "stdout",
     "output_type": "stream",
     "text": [
      "-OnlaxP4I8w_30.png\n",
      "1/1 [==============================] - 0s 78ms/step\n"
     ]
    },
    {
     "name": "stderr",
     "output_type": "stream",
     "text": [
      " 29%|██▉       | 628/2130 [01:01<02:38,  9.47it/s]"
     ]
    },
    {
     "name": "stdout",
     "output_type": "stream",
     "text": [
      "-OoEbfw9KRo_30.png\n",
      "1/1 [==============================] - 0s 72ms/step\n"
     ]
    },
    {
     "name": "stderr",
     "output_type": "stream",
     "text": [
      " 30%|██▉       | 629/2130 [01:01<02:41,  9.32it/s]"
     ]
    },
    {
     "name": "stdout",
     "output_type": "stream",
     "text": [
      "-OpNj_nOlhM_30.png\n",
      "1/1 [==============================] - 0s 61ms/step\n",
      "-OQhPpnmzRM_30.png\n",
      "1/1 [==============================] - 0s 59ms/step\n"
     ]
    },
    {
     "name": "stderr",
     "output_type": "stream",
     "text": [
      " 30%|██▉       | 631/2130 [01:02<02:35,  9.64it/s]"
     ]
    },
    {
     "name": "stdout",
     "output_type": "stream",
     "text": [
      "-OS7Uno2iCE_30.png\n",
      "1/1 [==============================] - 0s 59ms/step\n",
      "-OUUhJE87mE_300.png\n",
      "1/1 [==============================] - 0s 77ms/step\n"
     ]
    },
    {
     "name": "stderr",
     "output_type": "stream",
     "text": [
      " 30%|██▉       | 633/2130 [01:02<02:37,  9.51it/s]"
     ]
    },
    {
     "name": "stdout",
     "output_type": "stream",
     "text": [
      "-OxMorlDAjM_30.png\n",
      "1/1 [==============================] - 0s 54ms/step\n",
      "-o_yCq0x8TY_15.png\n",
      "1/1 [==============================] - 0s 53ms/step\n"
     ]
    },
    {
     "name": "stderr",
     "output_type": "stream",
     "text": [
      " 30%|██▉       | 635/2130 [01:02<02:27, 10.11it/s]"
     ]
    },
    {
     "name": "stdout",
     "output_type": "stream",
     "text": [
      "-pghNO7CTW4_30.png\n",
      "1/1 [==============================] - 0s 55ms/step\n",
      "-Ph2Igd0ZdU_30.png\n",
      "1/1 [==============================] - 0s 62ms/step\n"
     ]
    },
    {
     "name": "stderr",
     "output_type": "stream",
     "text": [
      " 30%|██▉       | 637/2130 [01:02<02:21, 10.52it/s]"
     ]
    },
    {
     "name": "stdout",
     "output_type": "stream",
     "text": [
      "-pH84a3pVPM_80.png\n",
      "1/1 [==============================] - 0s 60ms/step\n",
      "-pic1ebcF50_0.png\n",
      "1/1 [==============================] - 0s 56ms/step\n"
     ]
    },
    {
     "name": "stderr",
     "output_type": "stream",
     "text": [
      " 30%|███       | 639/2130 [01:02<02:18, 10.76it/s]"
     ]
    },
    {
     "name": "stdout",
     "output_type": "stream",
     "text": [
      "-pMUNgZRe5g_430.png\n",
      "1/1 [==============================] - 0s 65ms/step\n",
      "-PoEazeik4w_30.png\n",
      "1/1 [==============================] - 0s 53ms/step\n"
     ]
    },
    {
     "name": "stderr",
     "output_type": "stream",
     "text": [
      " 30%|███       | 641/2130 [01:02<02:17, 10.81it/s]"
     ]
    },
    {
     "name": "stdout",
     "output_type": "stream",
     "text": [
      "-PTIv-EPE80_190.png\n",
      "1/1 [==============================] - 0s 51ms/step\n",
      "-PUvJ0igvbE_30.png\n",
      "1/1 [==============================] - 0s 54ms/step\n"
     ]
    },
    {
     "name": "stderr",
     "output_type": "stream",
     "text": [
      " 30%|███       | 643/2130 [01:03<02:12, 11.21it/s]"
     ]
    },
    {
     "name": "stdout",
     "output_type": "stream",
     "text": [
      "-PVOPc31MCY_20.png\n",
      "1/1 [==============================] - 0s 53ms/step\n",
      "-Q-jfiZc5f0_21.png\n",
      "1/1 [==============================] - 0s 54ms/step\n"
     ]
    },
    {
     "name": "stderr",
     "output_type": "stream",
     "text": [
      " 30%|███       | 645/2130 [01:03<02:10, 11.37it/s]"
     ]
    },
    {
     "name": "stdout",
     "output_type": "stream",
     "text": [
      "-q71QUXOQS8_30.png\n",
      "1/1 [==============================] - 0s 82ms/step\n",
      "-qBNijwTlwc_20.png\n",
      "1/1 [==============================] - 0s 65ms/step\n"
     ]
    },
    {
     "name": "stderr",
     "output_type": "stream",
     "text": [
      " 30%|███       | 647/2130 [01:03<02:21, 10.51it/s]"
     ]
    },
    {
     "name": "stdout",
     "output_type": "stream",
     "text": [
      "-QdNZv9yEss_50.png\n",
      "1/1 [==============================] - 0s 62ms/step\n",
      "-qdoTL0dM24_4.png\n",
      "1/1 [==============================] - 0s 55ms/step\n"
     ]
    },
    {
     "name": "stderr",
     "output_type": "stream",
     "text": [
      " 30%|███       | 649/2130 [01:03<02:19, 10.58it/s]"
     ]
    },
    {
     "name": "stdout",
     "output_type": "stream",
     "text": [
      "-Qf_VeVAKtk_200.png\n",
      "1/1 [==============================] - 0s 62ms/step\n",
      "-QhVESAjSLg_20.png\n",
      "1/1 [==============================] - 0s 60ms/step\n"
     ]
    },
    {
     "name": "stderr",
     "output_type": "stream",
     "text": [
      " 31%|███       | 651/2130 [01:03<02:18, 10.65it/s]"
     ]
    },
    {
     "name": "stdout",
     "output_type": "stream",
     "text": [
      "-QSiY5WGMDU_120.png\n",
      "1/1 [==============================] - 0s 72ms/step\n",
      "-R0PqXkFvj8_22.png\n",
      "1/1 [==============================] - 0s 64ms/step\n"
     ]
    },
    {
     "name": "stderr",
     "output_type": "stream",
     "text": [
      " 31%|███       | 653/2130 [01:04<02:26, 10.10it/s]"
     ]
    },
    {
     "name": "stdout",
     "output_type": "stream",
     "text": [
      "-R1G6ZLRxYY_20.png\n",
      "1/1 [==============================] - 0s 63ms/step\n",
      "-R6j3fV8fJA_0.png\n",
      "1/1 [==============================] - 0s 69ms/step\n"
     ]
    },
    {
     "name": "stderr",
     "output_type": "stream",
     "text": [
      " 31%|███       | 655/2130 [01:04<02:31,  9.71it/s]"
     ]
    },
    {
     "name": "stdout",
     "output_type": "stream",
     "text": [
      "-RabIkXspXU_230.png\n",
      "1/1 [==============================] - 0s 60ms/step\n",
      "-rAcIrIfhgY_30.png\n",
      "1/1 [==============================] - 0s 74ms/step\n"
     ]
    },
    {
     "name": "stderr",
     "output_type": "stream",
     "text": [
      " 31%|███       | 657/2130 [01:04<02:32,  9.64it/s]"
     ]
    },
    {
     "name": "stdout",
     "output_type": "stream",
     "text": [
      "-RjwH0XGeaI_30.png\n",
      "1/1 [==============================] - 0s 87ms/step\n"
     ]
    },
    {
     "name": "stderr",
     "output_type": "stream",
     "text": [
      " 31%|███       | 658/2130 [01:04<02:38,  9.27it/s]"
     ]
    },
    {
     "name": "stdout",
     "output_type": "stream",
     "text": [
      "-RjyM8V-EDA_30.png\n",
      "1/1 [==============================] - 0s 83ms/step\n"
     ]
    },
    {
     "name": "stderr",
     "output_type": "stream",
     "text": [
      " 31%|███       | 659/2130 [01:04<02:44,  8.95it/s]"
     ]
    },
    {
     "name": "stdout",
     "output_type": "stream",
     "text": [
      "-ROt5_xhcyo_20.png\n",
      "1/1 [==============================] - 0s 96ms/step\n"
     ]
    },
    {
     "name": "stderr",
     "output_type": "stream",
     "text": [
      " 31%|███       | 660/2130 [01:04<03:00,  8.15it/s]"
     ]
    },
    {
     "name": "stdout",
     "output_type": "stream",
     "text": [
      "-rP66T_TsX8_30.png\n",
      "1/1 [==============================] - 0s 65ms/step\n"
     ]
    },
    {
     "name": "stderr",
     "output_type": "stream",
     "text": [
      " 31%|███       | 661/2130 [01:05<03:00,  8.13it/s]"
     ]
    },
    {
     "name": "stdout",
     "output_type": "stream",
     "text": [
      "-RTBaSE1iq8_0.png\n",
      "1/1 [==============================] - 0s 55ms/step\n",
      "-rVuuUeyHGE_30.png\n",
      "1/1 [==============================] - 0s 57ms/step\n"
     ]
    },
    {
     "name": "stderr",
     "output_type": "stream",
     "text": [
      " 31%|███       | 663/2130 [01:05<02:39,  9.20it/s]"
     ]
    },
    {
     "name": "stdout",
     "output_type": "stream",
     "text": [
      "-RXo9ToRMv4_150.png\n",
      "1/1 [==============================] - 0s 55ms/step\n",
      "-RYQN6bHb-E_40.png\n",
      "1/1 [==============================] - 0s 54ms/step\n"
     ]
    },
    {
     "name": "stderr",
     "output_type": "stream",
     "text": [
      " 31%|███       | 665/2130 [01:05<02:25, 10.10it/s]"
     ]
    },
    {
     "name": "stdout",
     "output_type": "stream",
     "text": [
      "-S-5z2vYtxw_10.png\n",
      "1/1 [==============================] - 0s 54ms/step\n",
      "-SB8eC10rwU_30.png\n",
      "1/1 [==============================] - 0s 56ms/step\n"
     ]
    },
    {
     "name": "stderr",
     "output_type": "stream",
     "text": [
      " 31%|███▏      | 667/2130 [01:05<02:17, 10.67it/s]"
     ]
    },
    {
     "name": "stdout",
     "output_type": "stream",
     "text": [
      "-Sb_8qQEjmg_120.png\n",
      "1/1 [==============================] - 0s 55ms/step\n",
      "-Sda2ux0aEM_26.png\n",
      "1/1 [==============================] - 0s 53ms/step\n"
     ]
    },
    {
     "name": "stderr",
     "output_type": "stream",
     "text": [
      " 31%|███▏      | 669/2130 [01:05<02:14, 10.85it/s]"
     ]
    },
    {
     "name": "stdout",
     "output_type": "stream",
     "text": [
      "-sHoyhyfjgs_30.png\n",
      "1/1 [==============================] - 0s 59ms/step\n",
      "-SkiekH5oRk_30.png\n",
      "1/1 [==============================] - 0s 57ms/step\n"
     ]
    },
    {
     "name": "stderr",
     "output_type": "stream",
     "text": [
      " 32%|███▏      | 671/2130 [01:05<02:14, 10.84it/s]"
     ]
    },
    {
     "name": "stdout",
     "output_type": "stream",
     "text": [
      "-SOPwBujmkk_50.png\n",
      "1/1 [==============================] - 0s 55ms/step\n",
      "-StCbgwGpFc_30.png\n",
      "1/1 [==============================] - 0s 51ms/step\n"
     ]
    },
    {
     "name": "stderr",
     "output_type": "stream",
     "text": [
      " 32%|███▏      | 673/2130 [01:06<02:10, 11.15it/s]"
     ]
    },
    {
     "name": "stdout",
     "output_type": "stream",
     "text": [
      "-syKgikPtBo_30.png\n",
      "1/1 [==============================] - 0s 50ms/step\n",
      "-TbFQGQEzv8_30.png\n",
      "1/1 [==============================] - 0s 51ms/step\n"
     ]
    },
    {
     "name": "stderr",
     "output_type": "stream",
     "text": [
      " 32%|███▏      | 675/2130 [01:06<02:05, 11.62it/s]"
     ]
    },
    {
     "name": "stdout",
     "output_type": "stream",
     "text": [
      "-tcw3CYxvwI_30.png\n",
      "1/1 [==============================] - 0s 55ms/step\n",
      "-TEfO1G7Aes_120.png\n",
      "1/1 [==============================] - 0s 55ms/step\n"
     ]
    },
    {
     "name": "stderr",
     "output_type": "stream",
     "text": [
      " 32%|███▏      | 677/2130 [01:06<02:03, 11.81it/s]"
     ]
    },
    {
     "name": "stdout",
     "output_type": "stream",
     "text": [
      "-thiU2hkMNI_260.png\n",
      "1/1 [==============================] - 0s 56ms/step\n",
      "-TkVZGBFTQg_24.png\n",
      "1/1 [==============================] - 0s 55ms/step\n"
     ]
    },
    {
     "name": "stderr",
     "output_type": "stream",
     "text": [
      " 32%|███▏      | 679/2130 [01:06<02:02, 11.84it/s]"
     ]
    },
    {
     "name": "stdout",
     "output_type": "stream",
     "text": [
      "-TkydzAD1rc_100.png\n",
      "1/1 [==============================] - 0s 56ms/step\n",
      "-tLZHXE9BEE_260.png\n",
      "1/1 [==============================] - 0s 54ms/step\n"
     ]
    },
    {
     "name": "stderr",
     "output_type": "stream",
     "text": [
      " 32%|███▏      | 681/2130 [01:06<02:02, 11.80it/s]"
     ]
    },
    {
     "name": "stdout",
     "output_type": "stream",
     "text": [
      "-TnDYy29pRA_30.png\n",
      "1/1 [==============================] - 0s 55ms/step\n",
      "-TO838ZIrV4_0.png\n",
      "1/1 [==============================] - 0s 52ms/step\n"
     ]
    },
    {
     "name": "stderr",
     "output_type": "stream",
     "text": [
      " 32%|███▏      | 683/2130 [01:06<02:01, 11.91it/s]"
     ]
    },
    {
     "name": "stdout",
     "output_type": "stream",
     "text": [
      "-TyaOHEL30U_17.png\n",
      "1/1 [==============================] - 0s 56ms/step\n",
      "-U3yowkUyEY_260.png\n",
      "1/1 [==============================] - 0s 57ms/step\n"
     ]
    },
    {
     "name": "stderr",
     "output_type": "stream",
     "text": [
      " 32%|███▏      | 685/2130 [01:07<02:01, 11.87it/s]"
     ]
    },
    {
     "name": "stdout",
     "output_type": "stream",
     "text": [
      "-Ufl_IweYj4_0.png\n",
      "1/1 [==============================] - 0s 60ms/step\n",
      "-UGI11ws30I_30.png\n",
      "1/1 [==============================] - 0s 60ms/step\n"
     ]
    },
    {
     "name": "stderr",
     "output_type": "stream",
     "text": [
      " 32%|███▏      | 687/2130 [01:07<02:04, 11.61it/s]"
     ]
    },
    {
     "name": "stdout",
     "output_type": "stream",
     "text": [
      "-UpgLo8iBjQ_410.png\n",
      "1/1 [==============================] - 0s 53ms/step\n",
      "-UtXwhu8iyA_30.png\n",
      "1/1 [==============================] - 0s 53ms/step\n"
     ]
    },
    {
     "name": "stderr",
     "output_type": "stream",
     "text": [
      " 32%|███▏      | 689/2130 [01:07<02:02, 11.80it/s]"
     ]
    },
    {
     "name": "stdout",
     "output_type": "stream",
     "text": [
      "-UxPJt3dNKI_14.png\n",
      "1/1 [==============================] - 0s 52ms/step\n",
      "-uY-Eic5y84_30.png\n",
      "1/1 [==============================] - 0s 53ms/step\n"
     ]
    },
    {
     "name": "stderr",
     "output_type": "stream",
     "text": [
      " 32%|███▏      | 691/2130 [01:07<02:00, 11.96it/s]"
     ]
    },
    {
     "name": "stdout",
     "output_type": "stream",
     "text": [
      "-UynAfxjcss_180.png\n",
      "1/1 [==============================] - 0s 52ms/step\n",
      "-UZi5LPjIF4_120.png\n",
      "1/1 [==============================] - 0s 53ms/step\n"
     ]
    },
    {
     "name": "stderr",
     "output_type": "stream",
     "text": [
      " 33%|███▎      | 693/2130 [01:07<01:59, 12.03it/s]"
     ]
    },
    {
     "name": "stdout",
     "output_type": "stream",
     "text": [
      "-V1m7LqqsNk_0.png\n",
      "1/1 [==============================] - 0s 57ms/step\n",
      "-V6EWpcv3Gw_80.png\n",
      "1/1 [==============================] - 0s 54ms/step\n"
     ]
    },
    {
     "name": "stderr",
     "output_type": "stream",
     "text": [
      " 33%|███▎      | 695/2130 [01:07<02:00, 11.93it/s]"
     ]
    },
    {
     "name": "stdout",
     "output_type": "stream",
     "text": [
      "-vbL73sQ88U_210.png\n",
      "1/1 [==============================] - 0s 53ms/step\n",
      "-VbzU94uumE_30.png\n",
      "1/1 [==============================] - 0s 52ms/step\n"
     ]
    },
    {
     "name": "stderr",
     "output_type": "stream",
     "text": [
      " 33%|███▎      | 697/2130 [01:08<01:59, 11.96it/s]"
     ]
    },
    {
     "name": "stdout",
     "output_type": "stream",
     "text": [
      "-Vc88DKbPOE_60.png\n",
      "1/1 [==============================] - 0s 54ms/step\n",
      "-Vcuyrh8BGY_30.png\n",
      "1/1 [==============================] - 0s 55ms/step\n"
     ]
    },
    {
     "name": "stderr",
     "output_type": "stream",
     "text": [
      " 33%|███▎      | 699/2130 [01:08<01:59, 12.01it/s]"
     ]
    },
    {
     "name": "stdout",
     "output_type": "stream",
     "text": [
      "-ViWYj3IAhg_30.png\n",
      "1/1 [==============================] - 0s 54ms/step\n",
      "-vixuXFb0qw_240.png\n",
      "1/1 [==============================] - 0s 51ms/step\n"
     ]
    },
    {
     "name": "stderr",
     "output_type": "stream",
     "text": [
      " 33%|███▎      | 701/2130 [01:08<01:59, 11.98it/s]"
     ]
    },
    {
     "name": "stdout",
     "output_type": "stream",
     "text": [
      "-vNMG5pVRME_100.png\n",
      "1/1 [==============================] - 0s 58ms/step\n",
      "-vqK0-jfy3Y_40.png\n",
      "1/1 [==============================] - 0s 51ms/step\n"
     ]
    },
    {
     "name": "stderr",
     "output_type": "stream",
     "text": [
      " 33%|███▎      | 703/2130 [01:08<01:58, 12.00it/s]"
     ]
    },
    {
     "name": "stdout",
     "output_type": "stream",
     "text": [
      "-vW7rX_-_20_0.png\n",
      "1/1 [==============================] - 0s 52ms/step\n",
      "-W-8t-qTpWk_7.png\n",
      "1/1 [==============================] - 0s 53ms/step\n"
     ]
    },
    {
     "name": "stderr",
     "output_type": "stream",
     "text": [
      " 33%|███▎      | 705/2130 [01:08<01:57, 12.12it/s]"
     ]
    },
    {
     "name": "stdout",
     "output_type": "stream",
     "text": [
      "-w-_tDWYfec_6.png\n",
      "1/1 [==============================] - 0s 67ms/step\n",
      "-w5c3SUHdF8_30.png\n",
      "1/1 [==============================] - 0s 58ms/step\n"
     ]
    },
    {
     "name": "stderr",
     "output_type": "stream",
     "text": [
      " 33%|███▎      | 707/2130 [01:08<02:03, 11.52it/s]"
     ]
    },
    {
     "name": "stdout",
     "output_type": "stream",
     "text": [
      "-WcuRDbnwDc_0.png\n",
      "1/1 [==============================] - 0s 73ms/step\n",
      "-wGdAnJitLU_30.png\n",
      "1/1 [==============================] - 0s 53ms/step\n"
     ]
    },
    {
     "name": "stderr",
     "output_type": "stream",
     "text": [
      " 33%|███▎      | 709/2130 [01:09<02:07, 11.16it/s]"
     ]
    },
    {
     "name": "stdout",
     "output_type": "stream",
     "text": [
      "-WGI8-ViBcU_50.png\n",
      "1/1 [==============================] - 0s 52ms/step\n",
      "-WGWiweF-mc_120.png\n",
      "1/1 [==============================] - 0s 52ms/step\n"
     ]
    },
    {
     "name": "stderr",
     "output_type": "stream",
     "text": [
      " 33%|███▎      | 711/2130 [01:09<02:04, 11.41it/s]"
     ]
    },
    {
     "name": "stdout",
     "output_type": "stream",
     "text": [
      "-WH89J8liZ4_0.png\n",
      "1/1 [==============================] - 0s 65ms/step\n",
      "-Wj-nzWdM7E_30.png\n",
      "1/1 [==============================] - 0s 54ms/step\n"
     ]
    },
    {
     "name": "stderr",
     "output_type": "stream",
     "text": [
      " 33%|███▎      | 713/2130 [01:09<02:04, 11.40it/s]"
     ]
    },
    {
     "name": "stdout",
     "output_type": "stream",
     "text": [
      "-wKqwAJ-ipg_530.png\n",
      "1/1 [==============================] - 0s 55ms/step\n",
      "-WMTRTwH0k8_0.png\n",
      "1/1 [==============================] - 0s 52ms/step\n"
     ]
    },
    {
     "name": "stderr",
     "output_type": "stream",
     "text": [
      " 34%|███▎      | 715/2130 [01:09<02:05, 11.23it/s]"
     ]
    },
    {
     "name": "stdout",
     "output_type": "stream",
     "text": [
      "-WnBs8YuzCQ_320.png\n",
      "1/1 [==============================] - 0s 54ms/step\n",
      "-wrlBku5t8A_200.png\n",
      "1/1 [==============================] - 0s 56ms/step\n"
     ]
    },
    {
     "name": "stderr",
     "output_type": "stream",
     "text": [
      " 34%|███▎      | 717/2130 [01:09<02:04, 11.35it/s]"
     ]
    },
    {
     "name": "stdout",
     "output_type": "stream",
     "text": [
      "-wSyYNwKEho_20.png\n",
      "1/1 [==============================] - 0s 55ms/step\n",
      "-WZRV5I3ytE_30.png\n",
      "1/1 [==============================] - 0s 64ms/step\n"
     ]
    },
    {
     "name": "stderr",
     "output_type": "stream",
     "text": [
      " 34%|███▍      | 719/2130 [01:10<02:08, 10.96it/s]"
     ]
    },
    {
     "name": "stdout",
     "output_type": "stream",
     "text": [
      "-W_rgUXnub8_30.png\n",
      "1/1 [==============================] - 0s 61ms/step\n",
      "-X4Lfh8c1S8_340.png\n",
      "1/1 [==============================] - 0s 101ms/step\n"
     ]
    },
    {
     "name": "stderr",
     "output_type": "stream",
     "text": [
      " 34%|███▍      | 721/2130 [01:10<02:23,  9.79it/s]"
     ]
    },
    {
     "name": "stdout",
     "output_type": "stream",
     "text": [
      "-X4Vh9gB5bk_3.png\n",
      "1/1 [==============================] - 0s 64ms/step\n",
      "-X7xd1R33hQ_30.png\n",
      "1/1 [==============================] - 0s 59ms/step\n"
     ]
    },
    {
     "name": "stderr",
     "output_type": "stream",
     "text": [
      " 34%|███▍      | 723/2130 [01:10<02:23,  9.81it/s]"
     ]
    },
    {
     "name": "stdout",
     "output_type": "stream",
     "text": [
      "-XC0lUYrFlE_0.png\n",
      "1/1 [==============================] - 0s 87ms/step\n"
     ]
    },
    {
     "name": "stderr",
     "output_type": "stream",
     "text": [
      " 34%|███▍      | 724/2130 [01:10<02:31,  9.26it/s]"
     ]
    },
    {
     "name": "stdout",
     "output_type": "stream",
     "text": [
      "-Xg8BYRXowk_23.png\n",
      "1/1 [==============================] - 0s 68ms/step\n"
     ]
    },
    {
     "name": "stderr",
     "output_type": "stream",
     "text": [
      " 34%|███▍      | 725/2130 [01:10<02:31,  9.28it/s]"
     ]
    },
    {
     "name": "stdout",
     "output_type": "stream",
     "text": [
      "-xl-Dd7rDsA_100.png\n",
      "1/1 [==============================] - 0s 58ms/step\n",
      "-XoJN3kzimY_10.png\n",
      "1/1 [==============================] - 0s 80ms/step\n"
     ]
    },
    {
     "name": "stderr",
     "output_type": "stream",
     "text": [
      " 34%|███▍      | 727/2130 [01:10<02:28,  9.42it/s]"
     ]
    },
    {
     "name": "stdout",
     "output_type": "stream",
     "text": [
      "-XSUmbvVmZE_30.png\n",
      "1/1 [==============================] - 0s 68ms/step\n"
     ]
    },
    {
     "name": "stderr",
     "output_type": "stream",
     "text": [
      " 34%|███▍      | 728/2130 [01:11<02:28,  9.46it/s]"
     ]
    },
    {
     "name": "stdout",
     "output_type": "stream",
     "text": [
      "-Y0OHdj6emY_30.png\n",
      "1/1 [==============================] - 0s 56ms/step\n",
      "-yJLJwozKds_270.png\n",
      "1/1 [==============================] - 0s 58ms/step\n"
     ]
    },
    {
     "name": "stderr",
     "output_type": "stream",
     "text": [
      " 34%|███▍      | 730/2130 [01:11<02:21,  9.86it/s]"
     ]
    },
    {
     "name": "stdout",
     "output_type": "stream",
     "text": [
      "-YngCGsl5ww_30.png\n",
      "1/1 [==============================] - 0s 58ms/step\n",
      "-yNZWaqw8ow_30.png\n",
      "1/1 [==============================] - 0s 56ms/step\n"
     ]
    },
    {
     "name": "stderr",
     "output_type": "stream",
     "text": [
      " 34%|███▍      | 732/2130 [01:11<02:14, 10.37it/s]"
     ]
    },
    {
     "name": "stdout",
     "output_type": "stream",
     "text": [
      "-YoXjx-ToZk_30.png\n",
      "1/1 [==============================] - 0s 63ms/step\n",
      "-ypFVVFS0wY_30.png\n",
      "1/1 [==============================] - 0s 61ms/step\n"
     ]
    },
    {
     "name": "stderr",
     "output_type": "stream",
     "text": [
      " 34%|███▍      | 734/2130 [01:11<02:13, 10.42it/s]"
     ]
    },
    {
     "name": "stdout",
     "output_type": "stream",
     "text": [
      "-yssxJSGILo_30.png\n",
      "1/1 [==============================] - 0s 55ms/step\n",
      "-yYVcuZpkBk_30.png\n",
      "1/1 [==============================] - 0s 59ms/step\n"
     ]
    },
    {
     "name": "stderr",
     "output_type": "stream",
     "text": [
      " 35%|███▍      | 736/2130 [01:11<02:11, 10.58it/s]"
     ]
    },
    {
     "name": "stdout",
     "output_type": "stream",
     "text": [
      "-YzRDepdMsc_80.png\n",
      "1/1 [==============================] - 0s 57ms/step\n",
      "-Z0oyUJfD5Y_470.png\n",
      "1/1 [==============================] - 0s 59ms/step\n"
     ]
    },
    {
     "name": "stderr",
     "output_type": "stream",
     "text": [
      " 35%|███▍      | 738/2130 [01:12<02:11, 10.62it/s]"
     ]
    },
    {
     "name": "stdout",
     "output_type": "stream",
     "text": [
      "-Z1zOVmXrRE_20.png\n",
      "1/1 [==============================] - 0s 64ms/step\n",
      "-ZBRZkER6Ts_190.png\n",
      "1/1 [==============================] - 0s 57ms/step\n"
     ]
    },
    {
     "name": "stderr",
     "output_type": "stream",
     "text": [
      " 35%|███▍      | 740/2130 [01:12<02:14, 10.35it/s]"
     ]
    },
    {
     "name": "stdout",
     "output_type": "stream",
     "text": [
      "-ZCEA3ey2_A_0.png\n",
      "1/1 [==============================] - 0s 60ms/step\n",
      "-zH8eWgQXBE_30.png\n",
      "1/1 [==============================] - 0s 57ms/step\n"
     ]
    },
    {
     "name": "stderr",
     "output_type": "stream",
     "text": [
      " 35%|███▍      | 742/2130 [01:12<02:13, 10.42it/s]"
     ]
    },
    {
     "name": "stdout",
     "output_type": "stream",
     "text": [
      "-ZJKYGb_oII_50.png\n",
      "1/1 [==============================] - 0s 67ms/step\n",
      "-ZtvOEZ4YwY_30.png\n",
      "1/1 [==============================] - 0s 67ms/step\n"
     ]
    },
    {
     "name": "stderr",
     "output_type": "stream",
     "text": [
      " 35%|███▍      | 744/2130 [01:12<02:18, 10.04it/s]"
     ]
    },
    {
     "name": "stdout",
     "output_type": "stream",
     "text": [
      "-ztyRz1z6ps_30.png\n",
      "1/1 [==============================] - 0s 60ms/step\n",
      "-ZXQpqCIK5Y_30.png\n",
      "1/1 [==============================] - 0s 65ms/step\n"
     ]
    },
    {
     "name": "stderr",
     "output_type": "stream",
     "text": [
      " 35%|███▌      | 746/2130 [01:12<02:19,  9.95it/s]"
     ]
    },
    {
     "name": "stdout",
     "output_type": "stream",
     "text": [
      "-_18lu7z4r4_25.png\n",
      "1/1 [==============================] - 0s 64ms/step\n"
     ]
    },
    {
     "name": "stderr",
     "output_type": "stream",
     "text": [
      " 35%|███▌      | 747/2130 [01:12<02:19,  9.89it/s]"
     ]
    },
    {
     "name": "stdout",
     "output_type": "stream",
     "text": [
      "-_n9DCzP1Mo_70.png\n",
      "1/1 [==============================] - 0s 63ms/step\n",
      "-_nPg0thx-s_410.png\n",
      "1/1 [==============================] - 0s 66ms/step\n"
     ]
    },
    {
     "name": "stderr",
     "output_type": "stream",
     "text": [
      " 35%|███▌      | 749/2130 [01:13<02:20,  9.83it/s]"
     ]
    },
    {
     "name": "stdout",
     "output_type": "stream",
     "text": [
      "-_pIRawBnDI_30.png\n",
      "1/1 [==============================] - 0s 73ms/step\n"
     ]
    },
    {
     "name": "stderr",
     "output_type": "stream",
     "text": [
      " 35%|███▌      | 750/2130 [01:13<02:23,  9.60it/s]"
     ]
    },
    {
     "name": "stdout",
     "output_type": "stream",
     "text": [
      "-_WRCZ3taFE_30.png\n",
      "1/1 [==============================] - 0s 60ms/step\n",
      "0-jiz7_d-Mg_30.png\n",
      "1/1 [==============================] - 0s 58ms/step\n"
     ]
    },
    {
     "name": "stderr",
     "output_type": "stream",
     "text": [
      " 35%|███▌      | 752/2130 [01:13<02:18,  9.98it/s]"
     ]
    },
    {
     "name": "stdout",
     "output_type": "stream",
     "text": [
      "0-qL7Lt56eM_0.png\n",
      "1/1 [==============================] - 0s 66ms/step\n",
      "0-snzchV3No_170.png\n",
      "1/1 [==============================] - 0s 64ms/step\n"
     ]
    },
    {
     "name": "stderr",
     "output_type": "stream",
     "text": [
      " 35%|███▌      | 754/2130 [01:13<02:16, 10.11it/s]"
     ]
    },
    {
     "name": "stdout",
     "output_type": "stream",
     "text": [
      "00-NeiM3kls_250.png\n",
      "1/1 [==============================] - 0s 66ms/step\n",
      "00LfNXaqSHI_350.png\n",
      "1/1 [==============================] - 0s 67ms/step\n"
     ]
    },
    {
     "name": "stderr",
     "output_type": "stream",
     "text": [
      " 35%|███▌      | 756/2130 [01:13<02:15, 10.14it/s]"
     ]
    },
    {
     "name": "stdout",
     "output_type": "stream",
     "text": [
      "00mHAfZeikU_80.png\n",
      "1/1 [==============================] - 0s 66ms/step\n",
      "00VAtRs-dQI_250.png\n",
      "1/1 [==============================] - 0s 73ms/step\n"
     ]
    },
    {
     "name": "stderr",
     "output_type": "stream",
     "text": [
      " 36%|███▌      | 758/2130 [01:14<02:17,  9.98it/s]"
     ]
    },
    {
     "name": "stdout",
     "output_type": "stream",
     "text": [
      "01iO1Fh1QMQ_0.png\n",
      "1/1 [==============================] - 0s 61ms/step\n"
     ]
    },
    {
     "name": "stderr",
     "output_type": "stream",
     "text": [
      " 36%|███▌      | 759/2130 [01:14<02:19,  9.81it/s]"
     ]
    },
    {
     "name": "stdout",
     "output_type": "stream",
     "text": [
      "02B8szoi8-Q_30.png\n",
      "1/1 [==============================] - 0s 62ms/step\n",
      "02OVH0XAq1Q_30.png\n",
      "1/1 [==============================] - 0s 61ms/step\n"
     ]
    },
    {
     "name": "stderr",
     "output_type": "stream",
     "text": [
      " 36%|███▌      | 761/2130 [01:14<02:15, 10.08it/s]"
     ]
    },
    {
     "name": "stdout",
     "output_type": "stream",
     "text": [
      "037tHJEKzHg_330.png\n",
      "1/1 [==============================] - 0s 64ms/step\n",
      "038ND8d_PPw_20.png\n",
      "1/1 [==============================] - 0s 61ms/step\n"
     ]
    },
    {
     "name": "stderr",
     "output_type": "stream",
     "text": [
      " 36%|███▌      | 763/2130 [01:14<02:14, 10.14it/s]"
     ]
    },
    {
     "name": "stdout",
     "output_type": "stream",
     "text": [
      "03h1QhpcqSM_10.png\n",
      "1/1 [==============================] - 0s 61ms/step\n",
      "041jEcsnoFE_30.png\n",
      "1/1 [==============================] - 0s 60ms/step\n"
     ]
    },
    {
     "name": "stderr",
     "output_type": "stream",
     "text": [
      " 36%|███▌      | 765/2130 [01:14<02:16, 10.03it/s]"
     ]
    },
    {
     "name": "stdout",
     "output_type": "stream",
     "text": [
      "05oYRUh2eQ8_20.png\n",
      "1/1 [==============================] - 0s 66ms/step\n"
     ]
    },
    {
     "name": "stderr",
     "output_type": "stream",
     "text": [
      " 36%|███▌      | 766/2130 [01:14<02:17,  9.91it/s]"
     ]
    },
    {
     "name": "stdout",
     "output_type": "stream",
     "text": [
      "06ezyaeQl3g_30.png\n",
      "1/1 [==============================] - 0s 59ms/step\n"
     ]
    },
    {
     "name": "stderr",
     "output_type": "stream",
     "text": [
      " 36%|███▌      | 767/2130 [01:14<02:17,  9.90it/s]"
     ]
    },
    {
     "name": "stdout",
     "output_type": "stream",
     "text": [
      "06FLfjXwEek_10.png\n",
      "1/1 [==============================] - 0s 57ms/step\n",
      "07DapuA3R1w_30.png\n",
      "1/1 [==============================] - 0s 61ms/step\n"
     ]
    },
    {
     "name": "stderr",
     "output_type": "stream",
     "text": [
      " 36%|███▌      | 769/2130 [01:15<02:14, 10.09it/s]"
     ]
    },
    {
     "name": "stdout",
     "output_type": "stream",
     "text": [
      "07qpnadhV5U_50.png\n",
      "1/1 [==============================] - 0s 55ms/step\n",
      "07taS85XRaM_70.png\n",
      "1/1 [==============================] - 0s 56ms/step\n"
     ]
    },
    {
     "name": "stderr",
     "output_type": "stream",
     "text": [
      " 36%|███▌      | 771/2130 [01:15<02:08, 10.62it/s]"
     ]
    },
    {
     "name": "stdout",
     "output_type": "stream",
     "text": [
      "08DYR-a7g_c_80.png\n",
      "1/1 [==============================] - 0s 67ms/step\n",
      "09TXDUqMAHY_30.png\n",
      "1/1 [==============================] - 0s 56ms/step\n"
     ]
    },
    {
     "name": "stderr",
     "output_type": "stream",
     "text": [
      " 36%|███▋      | 773/2130 [01:15<02:06, 10.70it/s]"
     ]
    },
    {
     "name": "stdout",
     "output_type": "stream",
     "text": [
      "0a4TGL1zBco_80.png\n",
      "1/1 [==============================] - 0s 66ms/step\n",
      "0a5TExuexe0_50.png\n",
      "1/1 [==============================] - 0s 65ms/step\n"
     ]
    },
    {
     "name": "stderr",
     "output_type": "stream",
     "text": [
      " 36%|███▋      | 775/2130 [01:15<02:09, 10.45it/s]"
     ]
    },
    {
     "name": "stdout",
     "output_type": "stream",
     "text": [
      "0aF7e8O2Jac_140.png\n",
      "1/1 [==============================] - 0s 58ms/step\n",
      "0AnLvXAwSNo_200.png\n",
      "1/1 [==============================] - 0s 55ms/step\n"
     ]
    },
    {
     "name": "stderr",
     "output_type": "stream",
     "text": [
      " 36%|███▋      | 777/2130 [01:15<02:06, 10.66it/s]"
     ]
    },
    {
     "name": "stdout",
     "output_type": "stream",
     "text": [
      "0Bc-KW9IzhY_160.png\n",
      "1/1 [==============================] - 0s 55ms/step\n",
      "0bE0nPY-qys_460.png\n",
      "1/1 [==============================] - 0s 56ms/step\n"
     ]
    },
    {
     "name": "stderr",
     "output_type": "stream",
     "text": [
      " 37%|███▋      | 779/2130 [01:16<02:03, 10.90it/s]"
     ]
    },
    {
     "name": "stdout",
     "output_type": "stream",
     "text": [
      "0c6gQjtOAk4_370.png\n",
      "1/1 [==============================] - 0s 54ms/step\n",
      "0cLdDXWDppM_5.png\n",
      "1/1 [==============================] - 0s 55ms/step\n"
     ]
    },
    {
     "name": "stderr",
     "output_type": "stream",
     "text": [
      " 37%|███▋      | 781/2130 [01:16<02:02, 11.04it/s]"
     ]
    },
    {
     "name": "stdout",
     "output_type": "stream",
     "text": [
      "0DzqbxQz5ik_30.png\n",
      "1/1 [==============================] - 0s 55ms/step\n",
      "0Ei-P0bB9iA_30.png\n",
      "1/1 [==============================] - 0s 57ms/step\n"
     ]
    },
    {
     "name": "stderr",
     "output_type": "stream",
     "text": [
      " 37%|███▋      | 783/2130 [01:16<01:59, 11.25it/s]"
     ]
    },
    {
     "name": "stdout",
     "output_type": "stream",
     "text": [
      "0eVAbHnOHMU_19.png\n",
      "1/1 [==============================] - 0s 59ms/step\n",
      "0EYQrIIHEiE_50.png\n",
      "1/1 [==============================] - 0s 56ms/step\n"
     ]
    },
    {
     "name": "stderr",
     "output_type": "stream",
     "text": [
      " 37%|███▋      | 785/2130 [01:16<01:57, 11.40it/s]"
     ]
    },
    {
     "name": "stdout",
     "output_type": "stream",
     "text": [
      "0F1zmrJb1tI_30.png\n",
      "1/1 [==============================] - 0s 56ms/step\n",
      "0fpi2wy81dc_100.png\n",
      "1/1 [==============================] - 0s 67ms/step\n"
     ]
    },
    {
     "name": "stderr",
     "output_type": "stream",
     "text": [
      " 37%|███▋      | 787/2130 [01:16<02:00, 11.12it/s]"
     ]
    },
    {
     "name": "stdout",
     "output_type": "stream",
     "text": [
      "0G43_GxPbto_140.png\n",
      "1/1 [==============================] - 0s 65ms/step\n",
      "0gaWvneDf70_30.png\n",
      "1/1 [==============================] - 0s 58ms/step\n"
     ]
    },
    {
     "name": "stderr",
     "output_type": "stream",
     "text": [
      " 37%|███▋      | 789/2130 [01:16<02:03, 10.90it/s]"
     ]
    },
    {
     "name": "stdout",
     "output_type": "stream",
     "text": [
      "0GOc7n_OSCI_110.png\n",
      "1/1 [==============================] - 0s 54ms/step\n",
      "0gT8AMruEec_30.png\n",
      "1/1 [==============================] - 0s 60ms/step\n"
     ]
    },
    {
     "name": "stderr",
     "output_type": "stream",
     "text": [
      " 37%|███▋      | 791/2130 [01:17<02:00, 11.13it/s]"
     ]
    },
    {
     "name": "stdout",
     "output_type": "stream",
     "text": [
      "0H6mv06CSbw_10.png\n",
      "1/1 [==============================] - 0s 57ms/step\n",
      "0I95tgSzOpM_3.png\n",
      "1/1 [==============================] - 0s 56ms/step\n"
     ]
    },
    {
     "name": "stderr",
     "output_type": "stream",
     "text": [
      " 37%|███▋      | 793/2130 [01:17<01:58, 11.25it/s]"
     ]
    },
    {
     "name": "stdout",
     "output_type": "stream",
     "text": [
      "0iS6k4QoKMk_30.png\n",
      "1/1 [==============================] - 0s 58ms/step\n",
      "0iUnH_eSIYI_250.png\n",
      "1/1 [==============================] - 0s 58ms/step\n"
     ]
    },
    {
     "name": "stderr",
     "output_type": "stream",
     "text": [
      " 37%|███▋      | 795/2130 [01:17<01:57, 11.33it/s]"
     ]
    },
    {
     "name": "stdout",
     "output_type": "stream",
     "text": [
      "0JtHO6k5K8w_30.png\n",
      "1/1 [==============================] - 0s 56ms/step\n",
      "0JxmYWCgGCE_30.png\n",
      "1/1 [==============================] - 0s 57ms/step\n"
     ]
    },
    {
     "name": "stderr",
     "output_type": "stream",
     "text": [
      " 37%|███▋      | 797/2130 [01:17<01:56, 11.45it/s]"
     ]
    },
    {
     "name": "stdout",
     "output_type": "stream",
     "text": [
      "0Ka6CWWpT-8_30.png\n",
      "1/1 [==============================] - 0s 55ms/step\n",
      "0kv9hra33sM_6.png\n",
      "1/1 [==============================] - 0s 57ms/step\n"
     ]
    },
    {
     "name": "stderr",
     "output_type": "stream",
     "text": [
      " 38%|███▊      | 799/2130 [01:17<01:55, 11.51it/s]"
     ]
    },
    {
     "name": "stdout",
     "output_type": "stream",
     "text": [
      "0LceAjRgZb4_0.png\n",
      "1/1 [==============================] - 0s 59ms/step\n",
      "0Lr0d7HoFRQ_30.png\n",
      "1/1 [==============================] - 0s 58ms/step\n"
     ]
    },
    {
     "name": "stderr",
     "output_type": "stream",
     "text": [
      " 38%|███▊      | 801/2130 [01:17<01:56, 11.42it/s]"
     ]
    },
    {
     "name": "stdout",
     "output_type": "stream",
     "text": [
      "0mGdHlqsWI8_150.png\n",
      "1/1 [==============================] - 0s 63ms/step\n",
      "0moqaixfFRU_50.png\n",
      "1/1 [==============================] - 0s 60ms/step\n"
     ]
    },
    {
     "name": "stderr",
     "output_type": "stream",
     "text": [
      " 38%|███▊      | 803/2130 [01:18<01:57, 11.31it/s]"
     ]
    },
    {
     "name": "stdout",
     "output_type": "stream",
     "text": [
      "0nJHEyFiiz8_30.png\n",
      "1/1 [==============================] - 0s 55ms/step\n",
      "0NxC9tGDhK0_470.png\n",
      "1/1 [==============================] - 0s 59ms/step\n"
     ]
    },
    {
     "name": "stderr",
     "output_type": "stream",
     "text": [
      " 38%|███▊      | 805/2130 [01:18<01:56, 11.40it/s]"
     ]
    },
    {
     "name": "stdout",
     "output_type": "stream",
     "text": [
      "0nZzsoe77Zk_30.png\n",
      "1/1 [==============================] - 0s 62ms/step\n",
      "0O6z0bVwZx8_70.png\n",
      "1/1 [==============================] - 0s 61ms/step\n"
     ]
    },
    {
     "name": "stderr",
     "output_type": "stream",
     "text": [
      " 38%|███▊      | 807/2130 [01:18<01:58, 11.20it/s]"
     ]
    },
    {
     "name": "stdout",
     "output_type": "stream",
     "text": [
      "0oy8HWZJyLM_19.png\n",
      "1/1 [==============================] - 0s 54ms/step\n",
      "0Pb7TgtC8MU_30.png\n",
      "1/1 [==============================] - 0s 56ms/step\n"
     ]
    },
    {
     "name": "stderr",
     "output_type": "stream",
     "text": [
      " 38%|███▊      | 809/2130 [01:18<01:56, 11.31it/s]"
     ]
    },
    {
     "name": "stdout",
     "output_type": "stream",
     "text": [
      "0PwMhwdHTKQ_30.png\n",
      "1/1 [==============================] - 0s 54ms/step\n",
      "0qPhoHErDA0_28.png\n",
      "1/1 [==============================] - 0s 54ms/step\n"
     ]
    },
    {
     "name": "stderr",
     "output_type": "stream",
     "text": [
      " 38%|███▊      | 811/2130 [01:18<01:55, 11.44it/s]"
     ]
    },
    {
     "name": "stdout",
     "output_type": "stream",
     "text": [
      "0REH7oc48C0_20.png\n",
      "1/1 [==============================] - 0s 55ms/step\n",
      "0Rm8h5iEEoI_0.png\n",
      "1/1 [==============================] - 0s 64ms/step\n"
     ]
    },
    {
     "name": "stderr",
     "output_type": "stream",
     "text": [
      " 38%|███▊      | 813/2130 [01:19<01:55, 11.36it/s]"
     ]
    },
    {
     "name": "stdout",
     "output_type": "stream",
     "text": [
      "0Rz6XxEiVAs_90.png\n",
      "1/1 [==============================] - 0s 60ms/step\n",
      "0sbz6LzIFkY_40.png\n",
      "1/1 [==============================] - 0s 58ms/step\n"
     ]
    },
    {
     "name": "stderr",
     "output_type": "stream",
     "text": [
      " 38%|███▊      | 815/2130 [01:19<01:56, 11.32it/s]"
     ]
    },
    {
     "name": "stdout",
     "output_type": "stream",
     "text": [
      "0SC_QHdJo_0_10.png\n",
      "1/1 [==============================] - 0s 58ms/step\n",
      "0SKA_5F3EDs_80.png\n",
      "1/1 [==============================] - 0s 54ms/step\n"
     ]
    },
    {
     "name": "stderr",
     "output_type": "stream",
     "text": [
      " 38%|███▊      | 817/2130 [01:19<01:54, 11.51it/s]"
     ]
    },
    {
     "name": "stdout",
     "output_type": "stream",
     "text": [
      "0sl7DJs6wbk_60.png\n",
      "1/1 [==============================] - 0s 60ms/step\n",
      "0sQCaAkLi9c_30.png\n",
      "1/1 [==============================] - 0s 56ms/step\n"
     ]
    },
    {
     "name": "stderr",
     "output_type": "stream",
     "text": [
      " 38%|███▊      | 819/2130 [01:19<01:54, 11.49it/s]"
     ]
    },
    {
     "name": "stdout",
     "output_type": "stream",
     "text": [
      "0t7JttFazLk_20.png\n",
      "1/1 [==============================] - 0s 59ms/step\n",
      "0tdys5F2kdo_70.png\n",
      "1/1 [==============================] - 0s 56ms/step\n"
     ]
    },
    {
     "name": "stderr",
     "output_type": "stream",
     "text": [
      " 39%|███▊      | 821/2130 [01:19<01:53, 11.49it/s]"
     ]
    },
    {
     "name": "stdout",
     "output_type": "stream",
     "text": [
      "0TlWDgFvO2I_14.png\n",
      "1/1 [==============================] - 0s 60ms/step\n",
      "0tq88StfmWk_0.png\n",
      "1/1 [==============================] - 0s 59ms/step\n"
     ]
    },
    {
     "name": "stderr",
     "output_type": "stream",
     "text": [
      " 39%|███▊      | 823/2130 [01:19<01:54, 11.45it/s]"
     ]
    },
    {
     "name": "stdout",
     "output_type": "stream",
     "text": [
      "0tXhozFex1o_330.png\n",
      "1/1 [==============================] - 0s 59ms/step\n",
      "0UUb1iagHCY_200.png\n",
      "1/1 [==============================] - 0s 59ms/step\n"
     ]
    },
    {
     "name": "stderr",
     "output_type": "stream",
     "text": [
      " 39%|███▊      | 825/2130 [01:20<01:55, 11.35it/s]"
     ]
    },
    {
     "name": "stdout",
     "output_type": "stream",
     "text": [
      "0UV2HeZhg5o_220.png\n",
      "1/1 [==============================] - 0s 58ms/step\n",
      "0Vs7nFMvXNY_40.png\n",
      "1/1 [==============================] - 0s 55ms/step\n"
     ]
    },
    {
     "name": "stderr",
     "output_type": "stream",
     "text": [
      " 39%|███▉      | 827/2130 [01:20<01:53, 11.45it/s]"
     ]
    },
    {
     "name": "stdout",
     "output_type": "stream",
     "text": [
      "0XhYJ7SArXc_30.png\n",
      "1/1 [==============================] - 0s 55ms/step\n",
      "0xJENe0_KX4_40.png\n",
      "1/1 [==============================] - 0s 55ms/step\n"
     ]
    },
    {
     "name": "stderr",
     "output_type": "stream",
     "text": [
      " 39%|███▉      | 829/2130 [01:20<01:53, 11.46it/s]"
     ]
    },
    {
     "name": "stdout",
     "output_type": "stream",
     "text": [
      "0Xt4325LSpw_30.png\n",
      "1/1 [==============================] - 0s 53ms/step\n",
      "0XWzv1pLYl8_27.png\n",
      "1/1 [==============================] - 0s 51ms/step\n"
     ]
    },
    {
     "name": "stderr",
     "output_type": "stream",
     "text": [
      " 39%|███▉      | 831/2130 [01:20<01:50, 11.73it/s]"
     ]
    },
    {
     "name": "stdout",
     "output_type": "stream",
     "text": [
      "0Xyq26CSflM_30.png\n",
      "1/1 [==============================] - 0s 55ms/step\n",
      "0y5F-4YenhE_400.png\n",
      "1/1 [==============================] - 0s 52ms/step\n"
     ]
    },
    {
     "name": "stderr",
     "output_type": "stream",
     "text": [
      " 39%|███▉      | 833/2130 [01:20<01:49, 11.87it/s]"
     ]
    },
    {
     "name": "stdout",
     "output_type": "stream",
     "text": [
      "0ytPnXpm_j4_60.png\n",
      "1/1 [==============================] - 0s 58ms/step\n",
      "0ZHXyHWm3Vo_380.png\n",
      "1/1 [==============================] - 0s 56ms/step\n"
     ]
    },
    {
     "name": "stderr",
     "output_type": "stream",
     "text": [
      " 39%|███▉      | 835/2130 [01:20<01:50, 11.71it/s]"
     ]
    },
    {
     "name": "stdout",
     "output_type": "stream",
     "text": [
      "0ZrKs1wPhj4_30.png\n",
      "1/1 [==============================] - 0s 58ms/step\n",
      "0zWEI4f4T0A_40.png\n",
      "1/1 [==============================] - 0s 53ms/step\n"
     ]
    },
    {
     "name": "stderr",
     "output_type": "stream",
     "text": [
      " 39%|███▉      | 837/2130 [01:21<01:50, 11.73it/s]"
     ]
    },
    {
     "name": "stdout",
     "output_type": "stream",
     "text": [
      "1-100032-A-0.png\n",
      "1/1 [==============================] - 0s 59ms/step\n",
      "1-101296-A-19.png\n",
      "1/1 [==============================] - 0s 54ms/step\n"
     ]
    },
    {
     "name": "stderr",
     "output_type": "stream",
     "text": [
      " 39%|███▉      | 839/2130 [01:21<01:51, 11.56it/s]"
     ]
    },
    {
     "name": "stdout",
     "output_type": "stream",
     "text": [
      "1-101296-B-19.png\n",
      "1/1 [==============================] - 0s 54ms/step\n",
      "1-101404-A-34.png\n",
      "1/1 [==============================] - 0s 55ms/step\n"
     ]
    },
    {
     "name": "stderr",
     "output_type": "stream",
     "text": [
      " 39%|███▉      | 841/2130 [01:21<01:50, 11.70it/s]"
     ]
    },
    {
     "name": "stdout",
     "output_type": "stream",
     "text": [
      "1-104089-A-22.png\n",
      "1/1 [==============================] - 0s 57ms/step\n",
      "1-104089-B-22.png\n",
      "1/1 [==============================] - 0s 55ms/step\n"
     ]
    },
    {
     "name": "stderr",
     "output_type": "stream",
     "text": [
      " 40%|███▉      | 843/2130 [01:21<01:50, 11.68it/s]"
     ]
    },
    {
     "name": "stdout",
     "output_type": "stream",
     "text": [
      "1-105224-A-22.png\n",
      "1/1 [==============================] - 0s 59ms/step\n",
      "1-110389-A-0.png\n",
      "1/1 [==============================] - 0s 58ms/step\n"
     ]
    },
    {
     "name": "stderr",
     "output_type": "stream",
     "text": [
      " 40%|███▉      | 845/2130 [01:21<01:50, 11.66it/s]"
     ]
    },
    {
     "name": "stdout",
     "output_type": "stream",
     "text": [
      "1-110537-A-22.png\n",
      "1/1 [==============================] - 0s 56ms/step\n",
      "1-115521-A-19.png\n",
      "1/1 [==============================] - 0s 56ms/step\n"
     ]
    },
    {
     "name": "stderr",
     "output_type": "stream",
     "text": [
      " 40%|███▉      | 847/2130 [01:21<01:50, 11.65it/s]"
     ]
    },
    {
     "name": "stdout",
     "output_type": "stream",
     "text": [
      "1-115920-A-22.png\n",
      "1/1 [==============================] - 0s 53ms/step\n",
      "1-115920-B-22.png\n",
      "1/1 [==============================] - 0s 53ms/step\n"
     ]
    },
    {
     "name": "stderr",
     "output_type": "stream",
     "text": [
      " 40%|███▉      | 849/2130 [01:22<01:49, 11.71it/s]"
     ]
    },
    {
     "name": "stdout",
     "output_type": "stream",
     "text": [
      "1-115921-A-22.png\n",
      "1/1 [==============================] - 0s 55ms/step\n",
      "1-116765-A-41.png\n",
      "1/1 [==============================] - 0s 55ms/step\n"
     ]
    },
    {
     "name": "stderr",
     "output_type": "stream",
     "text": [
      " 40%|███▉      | 851/2130 [01:22<01:49, 11.70it/s]"
     ]
    },
    {
     "name": "stdout",
     "output_type": "stream",
     "text": [
      "1-11687-A-47.png\n",
      "1/1 [==============================] - 0s 60ms/step\n",
      "1-118559-A-17.png\n",
      "1/1 [==============================] - 0s 56ms/step\n"
     ]
    },
    {
     "name": "stderr",
     "output_type": "stream",
     "text": [
      " 40%|████      | 853/2130 [01:22<01:53, 11.21it/s]"
     ]
    },
    {
     "name": "stdout",
     "output_type": "stream",
     "text": [
      "1-119125-A-45.png\n",
      "1/1 [==============================] - 0s 61ms/step\n",
      "1-12653-A-15.png\n",
      "1/1 [==============================] - 0s 60ms/step\n"
     ]
    },
    {
     "name": "stderr",
     "output_type": "stream",
     "text": [
      " 40%|████      | 855/2130 [01:22<01:53, 11.22it/s]"
     ]
    },
    {
     "name": "stdout",
     "output_type": "stream",
     "text": [
      "1-12654-A-15.png\n",
      "1/1 [==============================] - 0s 63ms/step\n",
      "1-12654-B-15.png\n",
      "1/1 [==============================] - 0s 58ms/step\n"
     ]
    },
    {
     "name": "stderr",
     "output_type": "stream",
     "text": [
      " 40%|████      | 857/2130 [01:22<01:54, 11.07it/s]"
     ]
    },
    {
     "name": "stdout",
     "output_type": "stream",
     "text": [
      "1-13613-A-37.png\n",
      "1/1 [==============================] - 0s 58ms/step\n",
      "1-137296-A-16.png\n",
      "1/1 [==============================] - 0s 58ms/step\n"
     ]
    },
    {
     "name": "stderr",
     "output_type": "stream",
     "text": [
      " 40%|████      | 859/2130 [01:23<01:54, 11.10it/s]"
     ]
    },
    {
     "name": "stdout",
     "output_type": "stream",
     "text": [
      "1-14262-A-37.png\n",
      "1/1 [==============================] - 0s 57ms/step\n",
      "1-15689-A-4.png\n",
      "1/1 [==============================] - 0s 56ms/step\n"
     ]
    },
    {
     "name": "stderr",
     "output_type": "stream",
     "text": [
      " 40%|████      | 861/2130 [01:23<01:52, 11.27it/s]"
     ]
    },
    {
     "name": "stdout",
     "output_type": "stream",
     "text": [
      "1-15689-B-4.png\n",
      "1/1 [==============================] - 0s 62ms/step\n",
      "1-16746-A-15.png\n",
      "1/1 [==============================] - 0s 61ms/step\n"
     ]
    },
    {
     "name": "stderr",
     "output_type": "stream",
     "text": [
      " 41%|████      | 863/2130 [01:23<01:53, 11.21it/s]"
     ]
    },
    {
     "name": "stdout",
     "output_type": "stream",
     "text": [
      "1-17124-A-43.png\n",
      "1/1 [==============================] - 0s 60ms/step\n",
      "1-17150-A-12.png\n",
      "1/1 [==============================] - 0s 60ms/step\n"
     ]
    },
    {
     "name": "stderr",
     "output_type": "stream",
     "text": [
      " 41%|████      | 865/2130 [01:23<01:53, 11.14it/s]"
     ]
    },
    {
     "name": "stdout",
     "output_type": "stream",
     "text": [
      "1-172649-A-40.png\n",
      "1/1 [==============================] - 0s 59ms/step\n",
      "1-172649-B-40.png\n",
      "1/1 [==============================] - 0s 55ms/step\n"
     ]
    },
    {
     "name": "stderr",
     "output_type": "stream",
     "text": [
      " 41%|████      | 867/2130 [01:23<01:52, 11.19it/s]"
     ]
    },
    {
     "name": "stdout",
     "output_type": "stream",
     "text": [
      "1-172649-C-40.png\n",
      "1/1 [==============================] - 0s 55ms/step\n",
      "1-172649-D-40.png\n",
      "1/1 [==============================] - 0s 57ms/step\n"
     ]
    },
    {
     "name": "stderr",
     "output_type": "stream",
     "text": [
      " 41%|████      | 869/2130 [01:23<01:50, 11.37it/s]"
     ]
    },
    {
     "name": "stdout",
     "output_type": "stream",
     "text": [
      "1-172649-E-40.png\n",
      "1/1 [==============================] - 0s 54ms/step\n",
      "1-172649-F-40.png\n",
      "1/1 [==============================] - 0s 55ms/step\n"
     ]
    },
    {
     "name": "stderr",
     "output_type": "stream",
     "text": [
      " 41%|████      | 871/2130 [01:24<01:49, 11.51it/s]"
     ]
    },
    {
     "name": "stdout",
     "output_type": "stream",
     "text": [
      "1-17295-A-29.png\n",
      "1/1 [==============================] - 0s 58ms/step\n",
      "1-17367-A-10.png\n",
      "1/1 [==============================] - 0s 60ms/step\n"
     ]
    },
    {
     "name": "stderr",
     "output_type": "stream",
     "text": [
      " 41%|████      | 873/2130 [01:24<01:49, 11.48it/s]"
     ]
    },
    {
     "name": "stdout",
     "output_type": "stream",
     "text": [
      "1-17565-A-12.png\n",
      "1/1 [==============================] - 0s 57ms/step\n",
      "1-17585-A-7.png\n",
      "1/1 [==============================] - 0s 67ms/step\n"
     ]
    },
    {
     "name": "stderr",
     "output_type": "stream",
     "text": [
      " 41%|████      | 875/2130 [01:24<01:50, 11.31it/s]"
     ]
    },
    {
     "name": "stdout",
     "output_type": "stream",
     "text": [
      "1-17742-A-12.png\n",
      "1/1 [==============================] - 0s 59ms/step\n",
      "1-17808-A-12.png\n",
      "1/1 [==============================] - 0s 56ms/step\n"
     ]
    },
    {
     "name": "stderr",
     "output_type": "stream",
     "text": [
      " 41%|████      | 877/2130 [01:24<01:51, 11.21it/s]"
     ]
    },
    {
     "name": "stdout",
     "output_type": "stream",
     "text": [
      "1-17808-B-12.png\n",
      "1/1 [==============================] - 0s 56ms/step\n",
      "1-1791-A-26.png\n",
      "1/1 [==============================] - 0s 58ms/step\n"
     ]
    },
    {
     "name": "stderr",
     "output_type": "stream",
     "text": [
      " 41%|████▏     | 879/2130 [01:24<01:50, 11.33it/s]"
     ]
    },
    {
     "name": "stdout",
     "output_type": "stream",
     "text": [
      "1-17970-A-4.png\n",
      "1/1 [==============================] - 0s 60ms/step\n",
      "1-181071-A-40.png\n",
      "1/1 [==============================] - 0s 57ms/step\n"
     ]
    },
    {
     "name": "stderr",
     "output_type": "stream",
     "text": [
      " 41%|████▏     | 881/2130 [01:24<01:50, 11.34it/s]"
     ]
    },
    {
     "name": "stdout",
     "output_type": "stream",
     "text": [
      "1-181071-B-40.png\n",
      "1/1 [==============================] - 0s 61ms/step\n",
      "1-18527-A-44.png\n",
      "1/1 [==============================] - 0s 54ms/step\n"
     ]
    },
    {
     "name": "stderr",
     "output_type": "stream",
     "text": [
      " 41%|████▏     | 883/2130 [01:25<01:49, 11.35it/s]"
     ]
    },
    {
     "name": "stdout",
     "output_type": "stream",
     "text": [
      "1-18527-B-44.png\n",
      "1/1 [==============================] - 0s 58ms/step\n",
      "1-18631-A-23.png\n",
      "1/1 [==============================] - 0s 62ms/step\n"
     ]
    },
    {
     "name": "stderr",
     "output_type": "stream",
     "text": [
      " 42%|████▏     | 885/2130 [01:25<01:49, 11.35it/s]"
     ]
    },
    {
     "name": "stdout",
     "output_type": "stream",
     "text": [
      "1-18755-A-4.png\n",
      "1/1 [==============================] - 0s 58ms/step\n",
      "1-18755-B-4.png\n",
      "1/1 [==============================] - 0s 57ms/step\n"
     ]
    },
    {
     "name": "stderr",
     "output_type": "stream",
     "text": [
      " 42%|████▏     | 887/2130 [01:25<01:50, 11.28it/s]"
     ]
    },
    {
     "name": "stdout",
     "output_type": "stream",
     "text": [
      "1-18757-A-4.png\n",
      "1/1 [==============================] - 0s 55ms/step\n",
      "1-18810-A-49.png\n",
      "1/1 [==============================] - 0s 57ms/step\n"
     ]
    },
    {
     "name": "stderr",
     "output_type": "stream",
     "text": [
      " 42%|████▏     | 889/2130 [01:25<01:49, 11.38it/s]"
     ]
    },
    {
     "name": "stdout",
     "output_type": "stream",
     "text": [
      "1-19026-A-43.png\n",
      "1/1 [==============================] - 0s 58ms/step\n",
      "1-19111-A-24.png\n",
      "1/1 [==============================] - 0s 65ms/step\n"
     ]
    },
    {
     "name": "stderr",
     "output_type": "stream",
     "text": [
      " 42%|████▏     | 891/2130 [01:25<01:50, 11.19it/s]"
     ]
    },
    {
     "name": "stdout",
     "output_type": "stream",
     "text": [
      "1-19118-A-24.png\n",
      "1/1 [==============================] - 0s 61ms/step\n",
      "1-19501-A-7.png\n",
      "1/1 [==============================] - 0s 59ms/step\n"
     ]
    },
    {
     "name": "stderr",
     "output_type": "stream",
     "text": [
      " 42%|████▏     | 893/2130 [01:26<01:50, 11.18it/s]"
     ]
    },
    {
     "name": "stdout",
     "output_type": "stream",
     "text": [
      "1-19898-A-41.png\n",
      "1/1 [==============================] - 0s 58ms/step\n",
      "1-19898-B-41.png\n",
      "1/1 [==============================] - 0s 63ms/step\n"
     ]
    },
    {
     "name": "stderr",
     "output_type": "stream",
     "text": [
      " 42%|████▏     | 895/2130 [01:26<01:51, 11.10it/s]"
     ]
    },
    {
     "name": "stdout",
     "output_type": "stream",
     "text": [
      "1-19898-C-41.png\n",
      "1/1 [==============================] - 0s 59ms/step\n",
      "1-20545-A-28.png\n",
      "1/1 [==============================] - 0s 52ms/step\n"
     ]
    },
    {
     "name": "stderr",
     "output_type": "stream",
     "text": [
      " 42%|████▏     | 897/2130 [01:26<01:50, 11.20it/s]"
     ]
    },
    {
     "name": "stdout",
     "output_type": "stream",
     "text": [
      "1-21189-A-10.png\n",
      "1/1 [==============================] - 0s 50ms/step\n",
      "1-21934-A-38.png\n",
      "1/1 [==============================] - 0s 56ms/step\n"
     ]
    },
    {
     "name": "stderr",
     "output_type": "stream",
     "text": [
      " 42%|████▏     | 899/2130 [01:26<01:46, 11.52it/s]"
     ]
    },
    {
     "name": "stdout",
     "output_type": "stream",
     "text": [
      "1-21935-A-38.png\n",
      "1/1 [==============================] - 0s 54ms/step\n",
      "1-22882-A-44.png\n",
      "1/1 [==============================] - 0s 56ms/step\n"
     ]
    },
    {
     "name": "stderr",
     "output_type": "stream",
     "text": [
      " 42%|████▏     | 901/2130 [01:26<01:46, 11.59it/s]"
     ]
    },
    {
     "name": "stdout",
     "output_type": "stream",
     "text": [
      "1-23094-A-15.png\n",
      "1/1 [==============================] - 0s 60ms/step\n",
      "1-23094-B-15.png\n",
      "1/1 [==============================] - 0s 57ms/step\n"
     ]
    },
    {
     "name": "stderr",
     "output_type": "stream",
     "text": [
      " 42%|████▏     | 903/2130 [01:26<01:47, 11.40it/s]"
     ]
    },
    {
     "name": "stdout",
     "output_type": "stream",
     "text": [
      "1-23222-A-19.png\n",
      "1/1 [==============================] - 0s 62ms/step\n",
      "1-23222-B-19.png\n",
      "1/1 [==============================] - 0s 64ms/step\n"
     ]
    },
    {
     "name": "stderr",
     "output_type": "stream",
     "text": [
      " 42%|████▏     | 905/2130 [01:27<01:49, 11.16it/s]"
     ]
    },
    {
     "name": "stdout",
     "output_type": "stream",
     "text": [
      "1-23706-A-49.png\n",
      "1/1 [==============================] - 0s 65ms/step\n",
      "1-24074-A-43.png\n",
      "1/1 [==============================] - 0s 57ms/step\n"
     ]
    },
    {
     "name": "stderr",
     "output_type": "stream",
     "text": [
      " 43%|████▎     | 907/2130 [01:27<01:54, 10.67it/s]"
     ]
    },
    {
     "name": "stdout",
     "output_type": "stream",
     "text": [
      "1-24076-A-43.png\n",
      "1/1 [==============================] - 0s 57ms/step\n",
      "1-24524-A-19.png\n",
      "1/1 [==============================] - 0s 63ms/step\n"
     ]
    },
    {
     "name": "stderr",
     "output_type": "stream",
     "text": [
      " 43%|████▎     | 909/2130 [01:27<01:52, 10.83it/s]"
     ]
    },
    {
     "name": "stdout",
     "output_type": "stream",
     "text": [
      "1-24524-B-19.png\n",
      "1/1 [==============================] - 0s 59ms/step\n",
      "1-24524-C-19.png\n",
      "1/1 [==============================] - 0s 55ms/step\n"
     ]
    },
    {
     "name": "stderr",
     "output_type": "stream",
     "text": [
      " 43%|████▎     | 911/2130 [01:27<01:51, 10.93it/s]"
     ]
    },
    {
     "name": "stdout",
     "output_type": "stream",
     "text": [
      "1-24796-A-47.png\n",
      "1/1 [==============================] - 0s 56ms/step\n",
      "1-254507-A-43.png\n",
      "1/1 [==============================] - 0s 61ms/step\n"
     ]
    },
    {
     "name": "stderr",
     "output_type": "stream",
     "text": [
      " 43%|████▎     | 913/2130 [01:27<01:50, 10.97it/s]"
     ]
    },
    {
     "name": "stdout",
     "output_type": "stream",
     "text": [
      "1-26143-A-21.png\n",
      "1/1 [==============================] - 0s 57ms/step\n",
      "1-26176-A-43.png\n",
      "1/1 [==============================] - 0s 60ms/step\n"
     ]
    },
    {
     "name": "stderr",
     "output_type": "stream",
     "text": [
      " 43%|████▎     | 915/2130 [01:28<01:49, 11.10it/s]"
     ]
    },
    {
     "name": "stdout",
     "output_type": "stream",
     "text": [
      "1-26177-A-43.png\n",
      "1/1 [==============================] - 0s 61ms/step\n",
      "1-26222-A-10.png\n",
      "1/1 [==============================] - 0s 59ms/step\n"
     ]
    },
    {
     "name": "stderr",
     "output_type": "stream",
     "text": [
      " 43%|████▎     | 917/2130 [01:28<01:50, 10.96it/s]"
     ]
    },
    {
     "name": "stdout",
     "output_type": "stream",
     "text": [
      "1-27403-A-28.png\n",
      "1/1 [==============================] - 0s 57ms/step\n",
      "1-27405-A-28.png\n",
      "1/1 [==============================] - 0s 59ms/step\n"
     ]
    },
    {
     "name": "stderr",
     "output_type": "stream",
     "text": [
      " 43%|████▎     | 919/2130 [01:28<01:49, 11.10it/s]"
     ]
    },
    {
     "name": "stdout",
     "output_type": "stream",
     "text": [
      "1-28135-A-11.png\n",
      "1/1 [==============================] - 0s 57ms/step\n",
      "1-28135-B-11.png\n",
      "1/1 [==============================] - 0s 64ms/step\n"
     ]
    },
    {
     "name": "stderr",
     "output_type": "stream",
     "text": [
      " 43%|████▎     | 921/2130 [01:28<01:49, 11.06it/s]"
     ]
    },
    {
     "name": "stdout",
     "output_type": "stream",
     "text": [
      "1-28808-A-43.png\n",
      "1/1 [==============================] - 0s 74ms/step\n",
      "1-29532-A-16.png\n",
      "1/1 [==============================] - 0s 58ms/step\n"
     ]
    },
    {
     "name": "stderr",
     "output_type": "stream",
     "text": [
      " 43%|████▎     | 923/2130 [01:28<01:52, 10.74it/s]"
     ]
    },
    {
     "name": "stdout",
     "output_type": "stream",
     "text": [
      "1-29561-A-10.png\n",
      "1/1 [==============================] - 0s 59ms/step\n",
      "1-29680-A-21.png\n",
      "1/1 [==============================] - 0s 57ms/step\n"
     ]
    },
    {
     "name": "stderr",
     "output_type": "stream",
     "text": [
      " 43%|████▎     | 925/2130 [01:28<01:49, 10.95it/s]"
     ]
    },
    {
     "name": "stdout",
     "output_type": "stream",
     "text": [
      "1-30039-A-26.png\n",
      "1/1 [==============================] - 0s 58ms/step\n",
      "1-30043-A-26.png\n",
      "1/1 [==============================] - 0s 57ms/step\n"
     ]
    },
    {
     "name": "stderr",
     "output_type": "stream",
     "text": [
      " 44%|████▎     | 927/2130 [01:29<01:48, 11.04it/s]"
     ]
    },
    {
     "name": "stdout",
     "output_type": "stream",
     "text": [
      "1-30226-A-0.png\n",
      "1/1 [==============================] - 0s 56ms/step\n",
      "1-30344-A-0.png\n",
      "1/1 [==============================] - 0s 83ms/step\n"
     ]
    },
    {
     "name": "stderr",
     "output_type": "stream",
     "text": [
      " 44%|████▎     | 929/2130 [01:29<01:51, 10.76it/s]"
     ]
    },
    {
     "name": "stdout",
     "output_type": "stream",
     "text": [
      "1-30709-A-23.png\n",
      "1/1 [==============================] - 0s 64ms/step\n",
      "1-30709-B-23.png\n",
      "1/1 [==============================] - 0s 64ms/step\n"
     ]
    },
    {
     "name": "stderr",
     "output_type": "stream",
     "text": [
      " 44%|████▎     | 931/2130 [01:29<01:54, 10.47it/s]"
     ]
    },
    {
     "name": "stdout",
     "output_type": "stream",
     "text": [
      "1-30709-C-23.png\n",
      "1/1 [==============================] - 0s 60ms/step\n",
      "1-30830-A-24.png\n",
      "1/1 [==============================] - 0s 54ms/step\n"
     ]
    },
    {
     "name": "stderr",
     "output_type": "stream",
     "text": [
      " 44%|████▍     | 933/2130 [01:29<01:51, 10.77it/s]"
     ]
    },
    {
     "name": "stdout",
     "output_type": "stream",
     "text": [
      "1-31748-A-21.png\n",
      "1/1 [==============================] - 0s 60ms/step\n",
      "1-31836-A-4.png\n",
      "1/1 [==============================] - 0s 64ms/step\n"
     ]
    },
    {
     "name": "stderr",
     "output_type": "stream",
     "text": [
      " 44%|████▍     | 935/2130 [01:29<01:50, 10.77it/s]"
     ]
    },
    {
     "name": "stdout",
     "output_type": "stream",
     "text": [
      "1-31836-B-4.png\n",
      "1/1 [==============================] - 0s 73ms/step\n",
      "1-32318-A-0.png\n",
      "1/1 [==============================] - 0s 56ms/step\n"
     ]
    },
    {
     "name": "stderr",
     "output_type": "stream",
     "text": [
      " 44%|████▍     | 937/2130 [01:30<01:52, 10.64it/s]"
     ]
    },
    {
     "name": "stdout",
     "output_type": "stream",
     "text": [
      "1-32579-A-29.png\n",
      "1/1 [==============================] - 0s 56ms/step\n",
      "1-33658-A-26.png\n",
      "1/1 [==============================] - 0s 57ms/step\n"
     ]
    },
    {
     "name": "stderr",
     "output_type": "stream",
     "text": [
      " 44%|████▍     | 939/2130 [01:30<01:48, 10.97it/s]"
     ]
    },
    {
     "name": "stdout",
     "output_type": "stream",
     "text": [
      "1-34094-A-5.png\n",
      "1/1 [==============================] - 0s 61ms/step\n",
      "1-34094-B-5.png\n",
      "1/1 [==============================] - 0s 56ms/step\n"
     ]
    },
    {
     "name": "stderr",
     "output_type": "stream",
     "text": [
      " 44%|████▍     | 941/2130 [01:30<01:47, 11.07it/s]"
     ]
    },
    {
     "name": "stdout",
     "output_type": "stream",
     "text": [
      "1-34853-A-37.png\n",
      "1/1 [==============================] - 0s 58ms/step\n",
      "1-35687-A-38.png\n",
      "1/1 [==============================] - 0s 65ms/step\n"
     ]
    },
    {
     "name": "stderr",
     "output_type": "stream",
     "text": [
      " 44%|████▍     | 943/2130 [01:30<01:47, 10.99it/s]"
     ]
    },
    {
     "name": "stdout",
     "output_type": "stream",
     "text": [
      "1-36164-A-26.png\n",
      "1/1 [==============================] - 0s 59ms/step\n",
      "1-36164-B-26.png\n",
      "1/1 [==============================] - 0s 56ms/step\n"
     ]
    },
    {
     "name": "stderr",
     "output_type": "stream",
     "text": [
      " 44%|████▍     | 945/2130 [01:30<01:46, 11.10it/s]"
     ]
    },
    {
     "name": "stdout",
     "output_type": "stream",
     "text": [
      "1-36393-A-23.png\n",
      "1/1 [==============================] - 0s 57ms/step\n",
      "1-36397-A-23.png\n",
      "1/1 [==============================] - 0s 58ms/step\n"
     ]
    },
    {
     "name": "stderr",
     "output_type": "stream",
     "text": [
      " 44%|████▍     | 947/2130 [01:30<01:47, 11.05it/s]"
     ]
    },
    {
     "name": "stdout",
     "output_type": "stream",
     "text": [
      "1-36400-A-23.png\n",
      "1/1 [==============================] - 0s 58ms/step\n",
      "1-36402-A-23.png\n",
      "1/1 [==============================] - 0s 60ms/step\n"
     ]
    },
    {
     "name": "stderr",
     "output_type": "stream",
     "text": [
      " 45%|████▍     | 949/2130 [01:31<01:46, 11.09it/s]"
     ]
    },
    {
     "name": "stdout",
     "output_type": "stream",
     "text": [
      "1-36929-A-47.png\n",
      "1/1 [==============================] - 0s 54ms/step\n",
      "1-37226-A-29.png\n",
      "1/1 [==============================] - 0s 63ms/step\n"
     ]
    },
    {
     "name": "stderr",
     "output_type": "stream",
     "text": [
      " 45%|████▍     | 951/2130 [01:31<01:45, 11.17it/s]"
     ]
    },
    {
     "name": "stdout",
     "output_type": "stream",
     "text": [
      "1-39901-A-11.png\n",
      "1/1 [==============================] - 0s 59ms/step\n",
      "1-39901-B-11.png\n",
      "1/1 [==============================] - 0s 55ms/step\n"
     ]
    },
    {
     "name": "stderr",
     "output_type": "stream",
     "text": [
      " 45%|████▍     | 953/2130 [01:31<01:44, 11.24it/s]"
     ]
    },
    {
     "name": "stdout",
     "output_type": "stream",
     "text": [
      "1-39937-A-28.png\n",
      "1/1 [==============================] - 0s 55ms/step\n",
      "1-40621-A-28.png\n",
      "1/1 [==============================] - 0s 57ms/step\n"
     ]
    },
    {
     "name": "stderr",
     "output_type": "stream",
     "text": [
      " 45%|████▍     | 955/2130 [01:31<01:43, 11.40it/s]"
     ]
    },
    {
     "name": "stdout",
     "output_type": "stream",
     "text": [
      "1-40967-A-28.png\n",
      "1/1 [==============================] - 0s 55ms/step\n",
      "1-41615-A-34.png\n",
      "1/1 [==============================] - 0s 58ms/step\n"
     ]
    },
    {
     "name": "stderr",
     "output_type": "stream",
     "text": [
      " 45%|████▍     | 957/2130 [01:31<01:43, 11.37it/s]"
     ]
    },
    {
     "name": "stdout",
     "output_type": "stream",
     "text": [
      "1-4211-A-12.png\n",
      "1/1 [==============================] - 0s 69ms/step\n",
      "1-42139-A-38.png\n",
      "1/1 [==============================] - 0s 55ms/step\n"
     ]
    },
    {
     "name": "stderr",
     "output_type": "stream",
     "text": [
      " 45%|████▌     | 959/2130 [01:32<01:44, 11.19it/s]"
     ]
    },
    {
     "name": "stdout",
     "output_type": "stream",
     "text": [
      "1-43760-A-11.png\n",
      "1/1 [==============================] - 0s 56ms/step\n",
      "1-43764-A-34.png\n",
      "1/1 [==============================] - 0s 55ms/step\n"
     ]
    },
    {
     "name": "stderr",
     "output_type": "stream",
     "text": [
      " 45%|████▌     | 961/2130 [01:32<01:42, 11.38it/s]"
     ]
    },
    {
     "name": "stdout",
     "output_type": "stream",
     "text": [
      "1-43807-A-47.png\n",
      "1/1 [==============================] - 0s 55ms/step\n",
      "1-43807-B-47.png\n",
      "1/1 [==============================] - 0s 56ms/step\n"
     ]
    },
    {
     "name": "stderr",
     "output_type": "stream",
     "text": [
      " 45%|████▌     | 963/2130 [01:32<01:42, 11.43it/s]"
     ]
    },
    {
     "name": "stdout",
     "output_type": "stream",
     "text": [
      "1-43807-C-47.png\n",
      "1/1 [==============================] - 0s 58ms/step\n",
      "1-43807-D-47.png\n",
      "1/1 [==============================] - 0s 62ms/step\n"
     ]
    },
    {
     "name": "stderr",
     "output_type": "stream",
     "text": [
      " 45%|████▌     | 965/2130 [01:32<01:43, 11.30it/s]"
     ]
    },
    {
     "name": "stdout",
     "output_type": "stream",
     "text": [
      "1-46272-A-12.png\n",
      "1/1 [==============================] - 0s 61ms/step\n",
      "1-46353-A-49.png\n",
      "1/1 [==============================] - 0s 55ms/step\n"
     ]
    },
    {
     "name": "stderr",
     "output_type": "stream",
     "text": [
      " 45%|████▌     | 967/2130 [01:32<01:46, 10.87it/s]"
     ]
    },
    {
     "name": "stdout",
     "output_type": "stream",
     "text": [
      "1-46938-A-7.png\n",
      "1/1 [==============================] - 0s 57ms/step\n",
      "1-46938-B-7.png\n",
      "1/1 [==============================] - 0s 60ms/step\n"
     ]
    },
    {
     "name": "stderr",
     "output_type": "stream",
     "text": [
      " 45%|████▌     | 969/2130 [01:32<01:46, 10.94it/s]"
     ]
    },
    {
     "name": "stdout",
     "output_type": "stream",
     "text": [
      "1-47250-A-41.png\n",
      "1/1 [==============================] - 0s 59ms/step\n",
      "1-47250-B-41.png\n",
      "1/1 [==============================] - 0s 62ms/step\n"
     ]
    },
    {
     "name": "stderr",
     "output_type": "stream",
     "text": [
      " 46%|████▌     | 971/2130 [01:33<01:45, 10.96it/s]"
     ]
    },
    {
     "name": "stdout",
     "output_type": "stream",
     "text": [
      "1-47273-A-21.png\n",
      "1/1 [==============================] - 0s 56ms/step\n",
      "1-47274-A-21.png\n",
      "1/1 [==============================] - 0s 57ms/step\n"
     ]
    },
    {
     "name": "stderr",
     "output_type": "stream",
     "text": [
      " 46%|████▌     | 973/2130 [01:33<01:44, 11.11it/s]"
     ]
    },
    {
     "name": "stdout",
     "output_type": "stream",
     "text": [
      "1-47709-A-16.png\n",
      "1/1 [==============================] - 0s 54ms/step\n",
      "1-47714-A-16.png\n",
      "1/1 [==============================] - 0s 55ms/step\n"
     ]
    },
    {
     "name": "stderr",
     "output_type": "stream",
     "text": [
      " 46%|████▌     | 975/2130 [01:33<01:43, 11.11it/s]"
     ]
    },
    {
     "name": "stdout",
     "output_type": "stream",
     "text": [
      "1-47819-A-5.png\n",
      "1/1 [==============================] - 0s 54ms/step\n",
      "1-47819-B-5.png\n",
      "1/1 [==============================] - 0s 57ms/step\n"
     ]
    },
    {
     "name": "stderr",
     "output_type": "stream",
     "text": [
      " 46%|████▌     | 977/2130 [01:33<01:41, 11.38it/s]"
     ]
    },
    {
     "name": "stdout",
     "output_type": "stream",
     "text": [
      "1-47819-C-5.png\n",
      "1/1 [==============================] - 0s 54ms/step\n",
      "1-47923-A-28.png\n",
      "1/1 [==============================] - 0s 52ms/step\n"
     ]
    },
    {
     "name": "stderr",
     "output_type": "stream",
     "text": [
      " 46%|████▌     | 979/2130 [01:33<01:39, 11.55it/s]"
     ]
    },
    {
     "name": "stdout",
     "output_type": "stream",
     "text": [
      "1-48413-A-38.png\n",
      "1/1 [==============================] - 0s 55ms/step\n",
      "1-50060-A-10.png\n",
      "1/1 [==============================] - 0s 52ms/step\n"
     ]
    },
    {
     "name": "stderr",
     "output_type": "stream",
     "text": [
      " 46%|████▌     | 981/2130 [01:33<01:38, 11.63it/s]"
     ]
    },
    {
     "name": "stdout",
     "output_type": "stream",
     "text": [
      "1-50454-A-44.png\n",
      "1/1 [==============================] - 0s 55ms/step\n",
      "1-50455-A-44.png\n",
      "1/1 [==============================] - 0s 58ms/step\n"
     ]
    },
    {
     "name": "stderr",
     "output_type": "stream",
     "text": [
      " 46%|████▌     | 983/2130 [01:34<01:38, 11.65it/s]"
     ]
    },
    {
     "name": "stdout",
     "output_type": "stream",
     "text": [
      "1-50623-A-15.png\n",
      "1/1 [==============================] - 0s 61ms/step\n",
      "1-50625-A-17.png\n",
      "1/1 [==============================] - 0s 59ms/step\n"
     ]
    },
    {
     "name": "stderr",
     "output_type": "stream",
     "text": [
      " 46%|████▌     | 985/2130 [01:34<01:40, 11.45it/s]"
     ]
    },
    {
     "name": "stdout",
     "output_type": "stream",
     "text": [
      "1-50661-A-44.png\n",
      "1/1 [==============================] - 0s 57ms/step\n",
      "1-50688-A-17.png\n",
      "1/1 [==============================] - 0s 54ms/step\n"
     ]
    },
    {
     "name": "stderr",
     "output_type": "stream",
     "text": [
      " 46%|████▋     | 987/2130 [01:34<01:39, 11.52it/s]"
     ]
    },
    {
     "name": "stdout",
     "output_type": "stream",
     "text": [
      "1-51035-A-16.png\n",
      "1/1 [==============================] - 0s 61ms/step\n",
      "1-51036-A-16.png\n",
      "1/1 [==============================] - 0s 60ms/step\n"
     ]
    },
    {
     "name": "stderr",
     "output_type": "stream",
     "text": [
      " 46%|████▋     | 989/2130 [01:34<01:40, 11.35it/s]"
     ]
    },
    {
     "name": "stdout",
     "output_type": "stream",
     "text": [
      "1-51037-A-16.png\n",
      "1/1 [==============================] - 0s 60ms/step\n",
      "1-51433-A-17.png\n",
      "1/1 [==============================] - 0s 61ms/step\n"
     ]
    },
    {
     "name": "stderr",
     "output_type": "stream",
     "text": [
      " 47%|████▋     | 991/2130 [01:34<01:41, 11.22it/s]"
     ]
    },
    {
     "name": "stdout",
     "output_type": "stream",
     "text": [
      "1-51436-A-17.png\n",
      "1/1 [==============================] - 0s 61ms/step\n",
      "1-52266-A-24.png\n",
      "1/1 [==============================] - 0s 62ms/step\n"
     ]
    },
    {
     "name": "stderr",
     "output_type": "stream",
     "text": [
      " 47%|████▋     | 993/2130 [01:35<01:42, 11.13it/s]"
     ]
    },
    {
     "name": "stdout",
     "output_type": "stream",
     "text": [
      "1-52323-A-24.png\n",
      "1/1 [==============================] - 0s 63ms/step\n",
      "1-53444-A-28.png\n",
      "1/1 [==============================] - 0s 58ms/step\n"
     ]
    },
    {
     "name": "stderr",
     "output_type": "stream",
     "text": [
      " 47%|████▋     | 995/2130 [01:35<01:43, 11.00it/s]"
     ]
    },
    {
     "name": "stdout",
     "output_type": "stream",
     "text": [
      "1-53467-A-47.png\n",
      "1/1 [==============================] - 0s 55ms/step\n",
      "1-53663-A-24.png\n",
      "1/1 [==============================] - 0s 54ms/step\n"
     ]
    },
    {
     "name": "stderr",
     "output_type": "stream",
     "text": [
      " 47%|████▋     | 997/2130 [01:35<01:41, 11.12it/s]"
     ]
    },
    {
     "name": "stdout",
     "output_type": "stream",
     "text": [
      "1-54065-A-45.png\n",
      "1/1 [==============================] - 0s 57ms/step\n",
      "1-54065-B-45.png\n",
      "1/1 [==============================] - 0s 57ms/step\n"
     ]
    },
    {
     "name": "stderr",
     "output_type": "stream",
     "text": [
      " 47%|████▋     | 999/2130 [01:35<01:40, 11.29it/s]"
     ]
    },
    {
     "name": "stdout",
     "output_type": "stream",
     "text": [
      "1-54505-A-21.png\n",
      "1/1 [==============================] - 0s 59ms/step\n",
      "1-54958-A-10.png\n",
      "1/1 [==============================] - 0s 59ms/step\n"
     ]
    },
    {
     "name": "stderr",
     "output_type": "stream",
     "text": [
      " 47%|████▋     | 1001/2130 [01:35<01:39, 11.31it/s]"
     ]
    },
    {
     "name": "stdout",
     "output_type": "stream",
     "text": [
      "1-56270-A-29.png\n",
      "1/1 [==============================] - 0s 64ms/step\n",
      "1-56311-A-10.png\n",
      "1/1 [==============================] - 0s 69ms/step\n"
     ]
    },
    {
     "name": "stderr",
     "output_type": "stream",
     "text": [
      " 47%|████▋     | 1003/2130 [01:35<01:42, 10.97it/s]"
     ]
    },
    {
     "name": "stdout",
     "output_type": "stream",
     "text": [
      "1-56380-A-5.png\n",
      "1/1 [==============================] - 0s 62ms/step\n",
      "1-56380-B-5.png\n",
      "1/1 [==============================] - 0s 54ms/step\n"
     ]
    },
    {
     "name": "stderr",
     "output_type": "stream",
     "text": [
      " 47%|████▋     | 1005/2130 [01:36<01:42, 10.96it/s]"
     ]
    },
    {
     "name": "stdout",
     "output_type": "stream",
     "text": [
      "1-57163-A-38.png\n",
      "1/1 [==============================] - 0s 54ms/step\n",
      "1-57316-A-13.png\n",
      "1/1 [==============================] - 0s 56ms/step\n"
     ]
    },
    {
     "name": "stderr",
     "output_type": "stream",
     "text": [
      " 47%|████▋     | 1007/2130 [01:36<01:39, 11.27it/s]"
     ]
    },
    {
     "name": "stdout",
     "output_type": "stream",
     "text": [
      "1-57318-A-13.png\n",
      "1/1 [==============================] - 0s 58ms/step\n",
      "1-58792-A-24.png\n",
      "1/1 [==============================] - 0s 60ms/step\n"
     ]
    },
    {
     "name": "stderr",
     "output_type": "stream",
     "text": [
      " 47%|████▋     | 1009/2130 [01:36<01:42, 10.96it/s]"
     ]
    },
    {
     "name": "stdout",
     "output_type": "stream",
     "text": [
      "1-58846-A-34.png\n",
      "1/1 [==============================] - 0s 59ms/step\n",
      "1-59102-A-13.png\n",
      "1/1 [==============================] - 0s 60ms/step\n"
     ]
    },
    {
     "name": "stderr",
     "output_type": "stream",
     "text": [
      " 47%|████▋     | 1011/2130 [01:36<01:41, 11.01it/s]"
     ]
    },
    {
     "name": "stdout",
     "output_type": "stream",
     "text": [
      "1-59324-A-21.png\n",
      "1/1 [==============================] - 0s 59ms/step\n",
      "1-59513-A-0.png\n",
      "1/1 [==============================] - 0s 60ms/step\n"
     ]
    },
    {
     "name": "stderr",
     "output_type": "stream",
     "text": [
      " 48%|████▊     | 1013/2130 [01:36<01:40, 11.07it/s]"
     ]
    },
    {
     "name": "stdout",
     "output_type": "stream",
     "text": [
      "1-60676-A-34.png\n",
      "1/1 [==============================] - 0s 59ms/step\n",
      "1-61221-A-17.png\n",
      "1/1 [==============================] - 0s 53ms/step\n"
     ]
    },
    {
     "name": "stderr",
     "output_type": "stream",
     "text": [
      " 48%|████▊     | 1015/2130 [01:37<01:39, 11.16it/s]"
     ]
    },
    {
     "name": "stdout",
     "output_type": "stream",
     "text": [
      "1-61252-A-11.png\n",
      "1/1 [==============================] - 0s 54ms/step\n",
      "1-61261-A-44.png\n",
      "1/1 [==============================] - 0s 58ms/step\n"
     ]
    },
    {
     "name": "stderr",
     "output_type": "stream",
     "text": [
      " 48%|████▊     | 1017/2130 [01:37<01:37, 11.37it/s]"
     ]
    },
    {
     "name": "stdout",
     "output_type": "stream",
     "text": [
      "1-62509-A-45.png\n",
      "1/1 [==============================] - 0s 58ms/step\n",
      "1-62565-A-44.png\n",
      "1/1 [==============================] - 0s 56ms/step\n"
     ]
    },
    {
     "name": "stderr",
     "output_type": "stream",
     "text": [
      " 48%|████▊     | 1019/2130 [01:37<01:36, 11.47it/s]"
     ]
    },
    {
     "name": "stdout",
     "output_type": "stream",
     "text": [
      "1-62849-A-38.png\n",
      "1/1 [==============================] - 0s 55ms/step\n",
      "1-62850-A-38.png\n",
      "1/1 [==============================] - 0s 57ms/step\n"
     ]
    },
    {
     "name": "stderr",
     "output_type": "stream",
     "text": [
      " 48%|████▊     | 1021/2130 [01:37<01:36, 11.52it/s]"
     ]
    },
    {
     "name": "stdout",
     "output_type": "stream",
     "text": [
      "1-63679-A-24.png\n",
      "1/1 [==============================] - 0s 57ms/step\n",
      "1-63871-A-10.png\n",
      "1/1 [==============================] - 0s 55ms/step\n"
     ]
    },
    {
     "name": "stderr",
     "output_type": "stream",
     "text": [
      " 48%|████▊     | 1023/2130 [01:37<01:37, 11.41it/s]"
     ]
    },
    {
     "name": "stdout",
     "output_type": "stream",
     "text": [
      "1-64398-A-41.png\n",
      "1/1 [==============================] - 0s 59ms/step\n",
      "1-64398-B-41.png\n",
      "1/1 [==============================] - 0s 56ms/step\n"
     ]
    },
    {
     "name": "stderr",
     "output_type": "stream",
     "text": [
      " 48%|████▊     | 1025/2130 [01:37<01:37, 11.28it/s]"
     ]
    },
    {
     "name": "stdout",
     "output_type": "stream",
     "text": [
      "1-64473-A-45.png\n",
      "1/1 [==============================] - 0s 62ms/step\n",
      "1-65483-A-13.png\n",
      "1/1 [==============================] - 0s 51ms/step\n"
     ]
    },
    {
     "name": "stderr",
     "output_type": "stream",
     "text": [
      " 48%|████▊     | 1027/2130 [01:38<01:40, 11.01it/s]"
     ]
    },
    {
     "name": "stdout",
     "output_type": "stream",
     "text": [
      "1-67033-A-37.png\n",
      "1/1 [==============================] - 0s 53ms/step\n",
      "1-67152-A-17.png\n",
      "1/1 [==============================] - 0s 54ms/step\n"
     ]
    },
    {
     "name": "stderr",
     "output_type": "stream",
     "text": [
      " 48%|████▊     | 1029/2130 [01:38<01:36, 11.36it/s]"
     ]
    },
    {
     "name": "stdout",
     "output_type": "stream",
     "text": [
      "1-67230-A-29.png\n",
      "1/1 [==============================] - 0s 56ms/step\n",
      "1-68670-A-34.png\n",
      "1/1 [==============================] - 0s 55ms/step\n"
     ]
    },
    {
     "name": "stderr",
     "output_type": "stream",
     "text": [
      " 48%|████▊     | 1031/2130 [01:38<01:35, 11.56it/s]"
     ]
    },
    {
     "name": "stdout",
     "output_type": "stream",
     "text": [
      "1-68734-A-34.png\n",
      "1/1 [==============================] - 0s 57ms/step\n",
      "1-69165-A-34.png\n",
      "1/1 [==============================] - 0s 53ms/step\n"
     ]
    },
    {
     "name": "stderr",
     "output_type": "stream",
     "text": [
      " 48%|████▊     | 1033/2130 [01:38<01:35, 11.54it/s]"
     ]
    },
    {
     "name": "stdout",
     "output_type": "stream",
     "text": [
      "1-69760-A-16.png\n",
      "1/1 [==============================] - 0s 56ms/step\n",
      "1-70300-A-45.png\n",
      "1/1 [==============================] - 0s 53ms/step\n"
     ]
    },
    {
     "name": "stderr",
     "output_type": "stream",
     "text": [
      " 49%|████▊     | 1035/2130 [01:38<01:34, 11.56it/s]"
     ]
    },
    {
     "name": "stdout",
     "output_type": "stream",
     "text": [
      "1-7057-A-12.png\n",
      "1/1 [==============================] - 0s 57ms/step\n",
      "1-72195-A-37.png\n",
      "1/1 [==============================] - 0s 57ms/step\n"
     ]
    },
    {
     "name": "stderr",
     "output_type": "stream",
     "text": [
      " 49%|████▊     | 1037/2130 [01:38<01:34, 11.52it/s]"
     ]
    },
    {
     "name": "stdout",
     "output_type": "stream",
     "text": [
      "1-72195-B-37.png\n",
      "1/1 [==============================] - 0s 54ms/step\n",
      "1-72695-A-26.png\n",
      "1/1 [==============================] - 0s 56ms/step\n"
     ]
    },
    {
     "name": "stderr",
     "output_type": "stream",
     "text": [
      " 49%|████▉     | 1039/2130 [01:39<01:34, 11.59it/s]"
     ]
    },
    {
     "name": "stdout",
     "output_type": "stream",
     "text": [
      "1-73123-A-26.png\n",
      "1/1 [==============================] - 0s 59ms/step\n",
      "1-73585-A-7.png\n",
      "1/1 [==============================] - 0s 56ms/step\n"
     ]
    },
    {
     "name": "stderr",
     "output_type": "stream",
     "text": [
      " 49%|████▉     | 1041/2130 [01:39<01:34, 11.58it/s]"
     ]
    },
    {
     "name": "stdout",
     "output_type": "stream",
     "text": [
      "1-74517-A-37.png\n",
      "1/1 [==============================] - 0s 54ms/step\n",
      "1-7456-A-13.png\n",
      "1/1 [==============================] - 0s 56ms/step\n"
     ]
    },
    {
     "name": "stderr",
     "output_type": "stream",
     "text": [
      " 49%|████▉     | 1043/2130 [01:39<01:32, 11.70it/s]"
     ]
    },
    {
     "name": "stdout",
     "output_type": "stream",
     "text": [
      "1-75189-A-7.png\n",
      "1/1 [==============================] - 0s 54ms/step\n",
      "1-79113-A-5.png\n",
      "1/1 [==============================] - 0s 53ms/step\n"
     ]
    },
    {
     "name": "stderr",
     "output_type": "stream",
     "text": [
      " 49%|████▉     | 1045/2130 [01:39<01:32, 11.72it/s]"
     ]
    },
    {
     "name": "stdout",
     "output_type": "stream",
     "text": [
      "1-79146-A-29.png\n",
      "1/1 [==============================] - 0s 53ms/step\n",
      "1-79220-A-17.png\n",
      "1/1 [==============================] - 0s 56ms/step\n"
     ]
    },
    {
     "name": "stderr",
     "output_type": "stream",
     "text": [
      " 49%|████▉     | 1047/2130 [01:39<01:31, 11.79it/s]"
     ]
    },
    {
     "name": "stdout",
     "output_type": "stream",
     "text": [
      "1-7973-A-7.png\n",
      "1/1 [==============================] - 0s 57ms/step\n",
      "1-7974-A-49.png\n",
      "1/1 [==============================] - 0s 56ms/step\n"
     ]
    },
    {
     "name": "stderr",
     "output_type": "stream",
     "text": [
      " 49%|████▉     | 1049/2130 [01:39<01:32, 11.72it/s]"
     ]
    },
    {
     "name": "stdout",
     "output_type": "stream",
     "text": [
      "1-7974-B-49.png\n",
      "1/1 [==============================] - 0s 58ms/step\n",
      "1-80785-A-7.png\n",
      "1/1 [==============================] - 0s 57ms/step\n"
     ]
    },
    {
     "name": "stderr",
     "output_type": "stream",
     "text": [
      " 49%|████▉     | 1051/2130 [01:40<01:32, 11.69it/s]"
     ]
    },
    {
     "name": "stdout",
     "output_type": "stream",
     "text": [
      "1-80840-A-13.png\n",
      "1/1 [==============================] - 0s 60ms/step\n",
      "1-80841-A-13.png\n",
      "1/1 [==============================] - 0s 58ms/step\n"
     ]
    },
    {
     "name": "stderr",
     "output_type": "stream",
     "text": [
      " 49%|████▉     | 1053/2130 [01:40<01:32, 11.63it/s]"
     ]
    },
    {
     "name": "stdout",
     "output_type": "stream",
     "text": [
      "1-81883-A-21.png\n",
      "1/1 [==============================] - 0s 57ms/step\n",
      "1-85362-A-0.png\n",
      "1/1 [==============================] - 0s 55ms/step\n"
     ]
    },
    {
     "name": "stderr",
     "output_type": "stream",
     "text": [
      " 50%|████▉     | 1055/2130 [01:40<01:32, 11.59it/s]"
     ]
    },
    {
     "name": "stdout",
     "output_type": "stream",
     "text": [
      "1-85909-A-29.png\n",
      "1/1 [==============================] - 0s 58ms/step\n",
      "1-87565-A-29.png\n",
      "1/1 [==============================] - 0s 58ms/step\n"
     ]
    },
    {
     "name": "stderr",
     "output_type": "stream",
     "text": [
      " 50%|████▉     | 1057/2130 [01:40<01:33, 11.52it/s]"
     ]
    },
    {
     "name": "stdout",
     "output_type": "stream",
     "text": [
      "1-88409-A-45.png\n",
      "1/1 [==============================] - 0s 57ms/step\n",
      "1-88409-B-45.png\n",
      "1/1 [==============================] - 0s 57ms/step\n"
     ]
    },
    {
     "name": "stderr",
     "output_type": "stream",
     "text": [
      " 50%|████▉     | 1059/2130 [01:40<01:33, 11.51it/s]"
     ]
    },
    {
     "name": "stdout",
     "output_type": "stream",
     "text": [
      "1-90797-A-15.png\n",
      "1/1 [==============================] - 0s 57ms/step\n",
      "1-91359-A-11.png\n",
      "1/1 [==============================] - 0s 60ms/step\n"
     ]
    },
    {
     "name": "stderr",
     "output_type": "stream",
     "text": [
      " 50%|████▉     | 1061/2130 [01:41<01:33, 11.49it/s]"
     ]
    },
    {
     "name": "stdout",
     "output_type": "stream",
     "text": [
      "1-91359-B-11.png\n",
      "1/1 [==============================] - 0s 58ms/step\n",
      "1-94036-A-22.png\n",
      "1/1 [==============================] - 0s 56ms/step\n"
     ]
    },
    {
     "name": "stderr",
     "output_type": "stream",
     "text": [
      " 50%|████▉     | 1063/2130 [01:41<01:32, 11.49it/s]"
     ]
    },
    {
     "name": "stdout",
     "output_type": "stream",
     "text": [
      "1-96890-A-37.png\n",
      "1/1 [==============================] - 0s 54ms/step\n",
      "1-97392-A-0.png\n",
      "1/1 [==============================] - 0s 62ms/step\n"
     ]
    },
    {
     "name": "stderr",
     "output_type": "stream",
     "text": [
      " 50%|█████     | 1065/2130 [01:41<02:02,  8.67it/s]"
     ]
    },
    {
     "name": "stdout",
     "output_type": "stream",
     "text": [
      "1-9841-A-13.png\n",
      "1/1 [==============================] - 0s 57ms/step\n",
      "1-9886-A-49.png\n",
      "1/1 [==============================] - 0s 57ms/step\n"
     ]
    },
    {
     "name": "stderr",
     "output_type": "stream",
     "text": [
      " 50%|█████     | 1067/2130 [01:41<01:52,  9.41it/s]"
     ]
    },
    {
     "name": "stdout",
     "output_type": "stream",
     "text": [
      "1-9887-A-49.png\n",
      "1/1 [==============================] - 0s 60ms/step\n",
      "1-9887-B-49.png\n",
      "1/1 [==============================] - 0s 59ms/step\n"
     ]
    },
    {
     "name": "stderr",
     "output_type": "stream",
     "text": [
      " 50%|█████     | 1069/2130 [01:41<01:47,  9.88it/s]"
     ]
    },
    {
     "name": "stdout",
     "output_type": "stream",
     "text": [
      "115lvttxyOw_110.png\n",
      "1/1 [==============================] - 0s 60ms/step\n",
      "13xZgRl9XD4_30.png\n",
      "1/1 [==============================] - 0s 62ms/step\n"
     ]
    },
    {
     "name": "stderr",
     "output_type": "stream",
     "text": [
      " 50%|█████     | 1071/2130 [01:42<01:43, 10.23it/s]"
     ]
    },
    {
     "name": "stdout",
     "output_type": "stream",
     "text": [
      "14H_7Qkhdqc_6.png\n",
      "1/1 [==============================] - 0s 60ms/step\n",
      "14oBbVkEeUw_30.png\n",
      "1/1 [==============================] - 0s 59ms/step\n"
     ]
    },
    {
     "name": "stderr",
     "output_type": "stream",
     "text": [
      " 50%|█████     | 1073/2130 [01:42<01:40, 10.47it/s]"
     ]
    },
    {
     "name": "stdout",
     "output_type": "stream",
     "text": [
      "166dHnfJCQs_30.png\n",
      "1/1 [==============================] - 0s 59ms/step\n",
      "17NT_JgDqBU_60.png\n",
      "1/1 [==============================] - 0s 67ms/step\n"
     ]
    },
    {
     "name": "stderr",
     "output_type": "stream",
     "text": [
      " 50%|█████     | 1075/2130 [01:42<01:43, 10.16it/s]"
     ]
    },
    {
     "name": "stdout",
     "output_type": "stream",
     "text": [
      "17scnb0ic9U_30.png\n",
      "1/1 [==============================] - 0s 58ms/step\n",
      "1a9IBDWNv2k_130.png\n",
      "1/1 [==============================] - 0s 59ms/step\n"
     ]
    },
    {
     "name": "stderr",
     "output_type": "stream",
     "text": [
      " 51%|█████     | 1077/2130 [01:42<01:42, 10.30it/s]"
     ]
    },
    {
     "name": "stdout",
     "output_type": "stream",
     "text": [
      "1aJK75652Ns_10.png\n",
      "1/1 [==============================] - 0s 56ms/step\n",
      "1an5mPqrMyo_320.png\n",
      "1/1 [==============================] - 0s 57ms/step\n"
     ]
    },
    {
     "name": "stderr",
     "output_type": "stream",
     "text": [
      " 51%|█████     | 1079/2130 [01:42<01:38, 10.67it/s]"
     ]
    },
    {
     "name": "stdout",
     "output_type": "stream",
     "text": [
      "1D2q6StYdtY_0.png\n",
      "1/1 [==============================] - 0s 62ms/step\n",
      "1D9G8puoO_8_120.png\n",
      "1/1 [==============================] - 0s 61ms/step\n"
     ]
    },
    {
     "name": "stderr",
     "output_type": "stream",
     "text": [
      " 51%|█████     | 1081/2130 [01:43<01:38, 10.69it/s]"
     ]
    },
    {
     "name": "stdout",
     "output_type": "stream",
     "text": [
      "1eeg6ssaAP0_40.png\n",
      "1/1 [==============================] - 0s 60ms/step\n",
      "1EiH6wnud90_30.png\n",
      "1/1 [==============================] - 0s 56ms/step\n"
     ]
    },
    {
     "name": "stderr",
     "output_type": "stream",
     "text": [
      " 51%|█████     | 1083/2130 [01:43<01:36, 10.90it/s]"
     ]
    },
    {
     "name": "stdout",
     "output_type": "stream",
     "text": [
      "1epsIs09uCQ_20.png\n",
      "1/1 [==============================] - 0s 58ms/step\n",
      "1FF_PjIL4l4_10.png\n",
      "1/1 [==============================] - 0s 60ms/step\n"
     ]
    },
    {
     "name": "stderr",
     "output_type": "stream",
     "text": [
      " 51%|█████     | 1085/2130 [01:43<01:35, 10.93it/s]"
     ]
    },
    {
     "name": "stdout",
     "output_type": "stream",
     "text": [
      "1fKTavkzUbU_30.png\n",
      "1/1 [==============================] - 0s 60ms/step\n",
      "1GVDBZ-zarg_30.png\n",
      "1/1 [==============================] - 0s 67ms/step\n"
     ]
    },
    {
     "name": "stderr",
     "output_type": "stream",
     "text": [
      " 51%|█████     | 1087/2130 [01:43<01:35, 10.88it/s]"
     ]
    },
    {
     "name": "stdout",
     "output_type": "stream",
     "text": [
      "1hNwQMJtGew_30.png\n",
      "1/1 [==============================] - 0s 58ms/step\n",
      "1ieuc9kzT38_19.png\n",
      "1/1 [==============================] - 0s 60ms/step\n"
     ]
    },
    {
     "name": "stderr",
     "output_type": "stream",
     "text": [
      " 51%|█████     | 1089/2130 [01:43<01:34, 11.02it/s]"
     ]
    },
    {
     "name": "stdout",
     "output_type": "stream",
     "text": [
      "1iJ4yan8puc_40.png\n",
      "1/1 [==============================] - 0s 65ms/step\n",
      "1IKNrkbWVrg_10.png\n",
      "1/1 [==============================] - 0s 55ms/step\n"
     ]
    },
    {
     "name": "stderr",
     "output_type": "stream",
     "text": [
      " 51%|█████     | 1091/2130 [01:43<01:35, 10.90it/s]"
     ]
    },
    {
     "name": "stdout",
     "output_type": "stream",
     "text": [
      "1jEtPMUdPXM_10.png\n",
      "1/1 [==============================] - 0s 57ms/step\n",
      "1JMP-GrKETs_160.png\n",
      "1/1 [==============================] - 0s 59ms/step\n"
     ]
    },
    {
     "name": "stderr",
     "output_type": "stream",
     "text": [
      " 51%|█████▏    | 1093/2130 [01:44<01:33, 11.11it/s]"
     ]
    },
    {
     "name": "stdout",
     "output_type": "stream",
     "text": [
      "1kpACW26nwQ_30.png\n",
      "1/1 [==============================] - 0s 59ms/step\n",
      "1lDurLJF-d8_30.png\n",
      "1/1 [==============================] - 0s 56ms/step\n"
     ]
    },
    {
     "name": "stderr",
     "output_type": "stream",
     "text": [
      " 51%|█████▏    | 1095/2130 [01:44<01:32, 11.20it/s]"
     ]
    },
    {
     "name": "stdout",
     "output_type": "stream",
     "text": [
      "1oH7EmcORMk_30.png\n",
      "1/1 [==============================] - 0s 58ms/step\n",
      "1ovUTXTNc3M_30.png\n",
      "1/1 [==============================] - 0s 57ms/step\n"
     ]
    },
    {
     "name": "stderr",
     "output_type": "stream",
     "text": [
      " 52%|█████▏    | 1097/2130 [01:44<01:31, 11.35it/s]"
     ]
    },
    {
     "name": "stdout",
     "output_type": "stream",
     "text": [
      "1Q5zEg8gSD8_30.png\n",
      "1/1 [==============================] - 0s 58ms/step\n",
      "1QIW3E1dsoE_3.png\n",
      "1/1 [==============================] - 0s 56ms/step\n"
     ]
    },
    {
     "name": "stderr",
     "output_type": "stream",
     "text": [
      " 52%|█████▏    | 1099/2130 [01:44<01:30, 11.39it/s]"
     ]
    },
    {
     "name": "stdout",
     "output_type": "stream",
     "text": [
      "1R4MFmmGXsY_330.png\n",
      "1/1 [==============================] - 0s 58ms/step\n",
      "1srx5Nc_N4A_30.png\n",
      "1/1 [==============================] - 0s 58ms/step\n"
     ]
    },
    {
     "name": "stderr",
     "output_type": "stream",
     "text": [
      " 52%|█████▏    | 1101/2130 [01:44<01:30, 11.36it/s]"
     ]
    },
    {
     "name": "stdout",
     "output_type": "stream",
     "text": [
      "1T36oTHUJzE_0.png\n",
      "1/1 [==============================] - 0s 58ms/step\n",
      "1tgQbwMjX_o_29.png\n",
      "1/1 [==============================] - 0s 58ms/step\n"
     ]
    },
    {
     "name": "stderr",
     "output_type": "stream",
     "text": [
      " 52%|█████▏    | 1103/2130 [01:44<01:30, 11.31it/s]"
     ]
    },
    {
     "name": "stdout",
     "output_type": "stream",
     "text": [
      "1uGB5ZLoLeQ_30.png\n",
      "1/1 [==============================] - 0s 57ms/step\n",
      "1UxJ28li_q8_10.png\n",
      "1/1 [==============================] - 0s 56ms/step\n"
     ]
    },
    {
     "name": "stderr",
     "output_type": "stream",
     "text": [
      " 52%|█████▏    | 1105/2130 [01:45<01:30, 11.34it/s]"
     ]
    },
    {
     "name": "stdout",
     "output_type": "stream",
     "text": [
      "1uxxf4Q7x94_30.png\n",
      "1/1 [==============================] - 0s 58ms/step\n",
      "1vUH3A7V8x0_8.png\n",
      "1/1 [==============================] - 0s 58ms/step\n"
     ]
    },
    {
     "name": "stderr",
     "output_type": "stream",
     "text": [
      " 52%|█████▏    | 1107/2130 [01:45<01:30, 11.35it/s]"
     ]
    },
    {
     "name": "stdout",
     "output_type": "stream",
     "text": [
      "1WdJGpNHVS4_50.png\n",
      "1/1 [==============================] - 0s 59ms/step\n",
      "1WfxQZqQnxM_160.png\n",
      "1/1 [==============================] - 0s 57ms/step\n"
     ]
    },
    {
     "name": "stderr",
     "output_type": "stream",
     "text": [
      " 52%|█████▏    | 1109/2130 [01:45<01:30, 11.33it/s]"
     ]
    },
    {
     "name": "stdout",
     "output_type": "stream",
     "text": [
      "1XuW_nv2XPI_30.png\n",
      "1/1 [==============================] - 0s 57ms/step\n",
      "1Y6VeYpbjTc_20.png\n",
      "1/1 [==============================] - 0s 56ms/step\n"
     ]
    },
    {
     "name": "stderr",
     "output_type": "stream",
     "text": [
      " 52%|█████▏    | 1111/2130 [01:45<01:29, 11.40it/s]"
     ]
    },
    {
     "name": "stdout",
     "output_type": "stream",
     "text": [
      "1YZj_ch-kU4_8.png\n",
      "1/1 [==============================] - 0s 54ms/step\n",
      "2-100648-A-43.png\n",
      "1/1 [==============================] - 0s 57ms/step\n"
     ]
    },
    {
     "name": "stderr",
     "output_type": "stream",
     "text": [
      " 52%|█████▏    | 1113/2130 [01:45<01:28, 11.43it/s]"
     ]
    },
    {
     "name": "stdout",
     "output_type": "stream",
     "text": [
      "2-101676-A-10.png\n",
      "1/1 [==============================] - 0s 59ms/step\n",
      "2-102414-A-17.png\n",
      "1/1 [==============================] - 0s 55ms/step\n"
     ]
    },
    {
     "name": "stderr",
     "output_type": "stream",
     "text": [
      " 52%|█████▏    | 1115/2130 [01:46<01:28, 11.41it/s]"
     ]
    },
    {
     "name": "stdout",
     "output_type": "stream",
     "text": [
      "2-102414-B-17.png\n",
      "1/1 [==============================] - 0s 60ms/step\n",
      "2-102414-C-17.png\n",
      "1/1 [==============================] - 0s 57ms/step\n"
     ]
    },
    {
     "name": "stderr",
     "output_type": "stream",
     "text": [
      " 52%|█████▏    | 1117/2130 [01:46<01:28, 11.43it/s]"
     ]
    },
    {
     "name": "stdout",
     "output_type": "stream",
     "text": [
      "2-102414-D-17.png\n",
      "1/1 [==============================] - 0s 59ms/step\n",
      "2-102414-E-17.png\n",
      "1/1 [==============================] - 0s 57ms/step\n"
     ]
    },
    {
     "name": "stderr",
     "output_type": "stream",
     "text": [
      " 53%|█████▎    | 1119/2130 [01:46<01:28, 11.47it/s]"
     ]
    },
    {
     "name": "stdout",
     "output_type": "stream",
     "text": [
      "2-102414-F-17.png\n",
      "1/1 [==============================] - 0s 60ms/step\n",
      "2-102414-G-17.png\n",
      "1/1 [==============================] - 0s 61ms/step\n"
     ]
    },
    {
     "name": "stderr",
     "output_type": "stream",
     "text": [
      " 53%|█████▎    | 1121/2130 [01:46<01:28, 11.38it/s]"
     ]
    },
    {
     "name": "stdout",
     "output_type": "stream",
     "text": [
      "2-102435-A-37.png\n",
      "1/1 [==============================] - 0s 58ms/step\n",
      "2-102581-A-29.png\n",
      "1/1 [==============================] - 0s 57ms/step\n"
     ]
    },
    {
     "name": "stderr",
     "output_type": "stream",
     "text": [
      " 53%|█████▎    | 1123/2130 [01:46<01:28, 11.36it/s]"
     ]
    },
    {
     "name": "stdout",
     "output_type": "stream",
     "text": [
      "2-102581-B-29.png\n",
      "1/1 [==============================] - 0s 59ms/step\n",
      "2-102852-A-11.png\n",
      "1/1 [==============================] - 0s 58ms/step\n"
     ]
    },
    {
     "name": "stderr",
     "output_type": "stream",
     "text": [
      " 53%|█████▎    | 1125/2130 [01:46<01:28, 11.34it/s]"
     ]
    },
    {
     "name": "stdout",
     "output_type": "stream",
     "text": [
      "2-104105-A-19.png\n",
      "1/1 [==============================] - 0s 62ms/step\n",
      "2-104105-B-19.png\n",
      "1/1 [==============================] - 0s 66ms/step\n"
     ]
    },
    {
     "name": "stderr",
     "output_type": "stream",
     "text": [
      " 53%|█████▎    | 1127/2130 [01:47<01:31, 10.95it/s]"
     ]
    },
    {
     "name": "stdout",
     "output_type": "stream",
     "text": [
      "2-104475-A-37.png\n",
      "1/1 [==============================] - 0s 55ms/step\n",
      "2-104476-A-37.png\n",
      "1/1 [==============================] - 0s 57ms/step\n"
     ]
    },
    {
     "name": "stderr",
     "output_type": "stream",
     "text": [
      " 53%|█████▎    | 1129/2130 [01:47<01:29, 11.24it/s]"
     ]
    },
    {
     "name": "stdout",
     "output_type": "stream",
     "text": [
      "2-104952-A-16.png\n",
      "1/1 [==============================] - 0s 63ms/step\n",
      "2-104952-B-16.png\n",
      "1/1 [==============================] - 0s 59ms/step\n"
     ]
    },
    {
     "name": "stderr",
     "output_type": "stream",
     "text": [
      " 53%|█████▎    | 1131/2130 [01:47<01:30, 11.07it/s]"
     ]
    },
    {
     "name": "stdout",
     "output_type": "stream",
     "text": [
      "2-105270-A-47.png\n",
      "1/1 [==============================] - 0s 58ms/step\n",
      "2-106014-A-44.png\n",
      "1/1 [==============================] - 0s 62ms/step\n"
     ]
    },
    {
     "name": "stderr",
     "output_type": "stream",
     "text": [
      " 53%|█████▎    | 1133/2130 [01:47<01:30, 11.01it/s]"
     ]
    },
    {
     "name": "stdout",
     "output_type": "stream",
     "text": [
      "2-106015-A-44.png\n",
      "1/1 [==============================] - 0s 61ms/step\n",
      "2-106015-B-44.png\n",
      "1/1 [==============================] - 0s 58ms/step\n"
     ]
    },
    {
     "name": "stderr",
     "output_type": "stream",
     "text": [
      " 53%|█████▎    | 1135/2130 [01:47<01:29, 11.06it/s]"
     ]
    },
    {
     "name": "stdout",
     "output_type": "stream",
     "text": [
      "2-106019-A-13.png\n",
      "1/1 [==============================] - 0s 59ms/step\n",
      "2-106486-A-44.png\n",
      "1/1 [==============================] - 0s 60ms/step\n"
     ]
    },
    {
     "name": "stderr",
     "output_type": "stream",
     "text": [
      " 53%|█████▎    | 1137/2130 [01:47<01:29, 11.09it/s]"
     ]
    },
    {
     "name": "stdout",
     "output_type": "stream",
     "text": [
      "2-106487-A-44.png\n",
      "1/1 [==============================] - 0s 61ms/step\n",
      "2-106849-A-47.png\n",
      "1/1 [==============================] - 0s 62ms/step\n"
     ]
    },
    {
     "name": "stderr",
     "output_type": "stream",
     "text": [
      " 53%|█████▎    | 1139/2130 [01:48<01:29, 11.03it/s]"
     ]
    },
    {
     "name": "stdout",
     "output_type": "stream",
     "text": [
      "2-107228-A-44.png\n",
      "1/1 [==============================] - 0s 56ms/step\n",
      "2-107228-B-44.png\n",
      "1/1 [==============================] - 0s 53ms/step\n"
     ]
    },
    {
     "name": "stderr",
     "output_type": "stream",
     "text": [
      " 54%|█████▎    | 1141/2130 [01:48<01:27, 11.29it/s]"
     ]
    },
    {
     "name": "stdout",
     "output_type": "stream",
     "text": [
      "2-108017-A-24.png\n",
      "1/1 [==============================] - 0s 60ms/step\n",
      "2-109371-A-16.png\n",
      "1/1 [==============================] - 0s 61ms/step\n"
     ]
    },
    {
     "name": "stderr",
     "output_type": "stream",
     "text": [
      " 54%|█████▎    | 1143/2130 [01:48<01:28, 11.18it/s]"
     ]
    },
    {
     "name": "stdout",
     "output_type": "stream",
     "text": [
      "2-109371-B-16.png\n",
      "1/1 [==============================] - 0s 60ms/step\n",
      "2-109371-C-16.png\n",
      "1/1 [==============================] - 0s 60ms/step\n"
     ]
    },
    {
     "name": "stderr",
     "output_type": "stream",
     "text": [
      " 54%|█████▍    | 1145/2130 [01:48<01:28, 11.10it/s]"
     ]
    },
    {
     "name": "stdout",
     "output_type": "stream",
     "text": [
      "2-109371-D-16.png\n",
      "1/1 [==============================] - 0s 59ms/step\n",
      "2-109374-A-16.png\n",
      "1/1 [==============================] - 0s 58ms/step\n"
     ]
    },
    {
     "name": "stderr",
     "output_type": "stream",
     "text": [
      " 54%|█████▍    | 1147/2130 [01:48<01:28, 11.11it/s]"
     ]
    },
    {
     "name": "stdout",
     "output_type": "stream",
     "text": [
      "2-109505-A-21.png\n",
      "1/1 [==============================] - 0s 58ms/step\n",
      "2-109759-A-26.png\n",
      "1/1 [==============================] - 0s 63ms/step\n"
     ]
    },
    {
     "name": "stderr",
     "output_type": "stream",
     "text": [
      " 54%|█████▍    | 1149/2130 [01:49<01:28, 11.13it/s]"
     ]
    },
    {
     "name": "stdout",
     "output_type": "stream",
     "text": [
      "2-109759-B-26.png\n",
      "1/1 [==============================] - 0s 61ms/step\n",
      "2-110010-A-5.png\n",
      "1/1 [==============================] - 0s 60ms/step\n"
     ]
    },
    {
     "name": "stderr",
     "output_type": "stream",
     "text": [
      " 54%|█████▍    | 1151/2130 [01:49<01:29, 10.96it/s]"
     ]
    },
    {
     "name": "stdout",
     "output_type": "stream",
     "text": [
      "2-110011-A-5.png\n",
      "1/1 [==============================] - 0s 59ms/step\n",
      "2-110417-A-28.png\n",
      "1/1 [==============================] - 0s 59ms/step\n"
     ]
    },
    {
     "name": "stderr",
     "output_type": "stream",
     "text": [
      " 54%|█████▍    | 1153/2130 [01:49<01:29, 10.93it/s]"
     ]
    },
    {
     "name": "stdout",
     "output_type": "stream",
     "text": [
      "2-110417-B-28.png\n",
      "1/1 [==============================] - 0s 58ms/step\n",
      "2-110613-A-13.png\n",
      "1/1 [==============================] - 0s 57ms/step\n"
     ]
    },
    {
     "name": "stderr",
     "output_type": "stream",
     "text": [
      " 54%|█████▍    | 1155/2130 [01:49<01:27, 11.11it/s]"
     ]
    },
    {
     "name": "stdout",
     "output_type": "stream",
     "text": [
      "2-114280-A-0.png\n",
      "1/1 [==============================] - 0s 58ms/step\n",
      "2-114587-A-0.png\n",
      "1/1 [==============================] - 0s 57ms/step\n"
     ]
    },
    {
     "name": "stderr",
     "output_type": "stream",
     "text": [
      " 54%|█████▍    | 1157/2130 [01:49<01:26, 11.26it/s]"
     ]
    },
    {
     "name": "stdout",
     "output_type": "stream",
     "text": [
      "2-114609-A-28.png\n",
      "1/1 [==============================] - 0s 64ms/step\n",
      "2-114609-B-28.png\n",
      "1/1 [==============================] - 0s 62ms/step\n"
     ]
    },
    {
     "name": "stderr",
     "output_type": "stream",
     "text": [
      " 54%|█████▍    | 1159/2130 [01:49<01:27, 11.10it/s]"
     ]
    },
    {
     "name": "stdout",
     "output_type": "stream",
     "text": [
      "2-116400-A-0.png\n",
      "1/1 [==============================] - 0s 59ms/step\n",
      "2-117116-A-37.png\n",
      "1/1 [==============================] - 0s 60ms/step\n"
     ]
    },
    {
     "name": "stderr",
     "output_type": "stream",
     "text": [
      " 55%|█████▍    | 1161/2130 [01:50<01:27, 11.12it/s]"
     ]
    },
    {
     "name": "stdout",
     "output_type": "stream",
     "text": [
      "2-117271-A-0.png\n",
      "1/1 [==============================] - 0s 60ms/step\n",
      "2-117330-A-28.png\n",
      "1/1 [==============================] - 0s 58ms/step\n"
     ]
    },
    {
     "name": "stderr",
     "output_type": "stream",
     "text": [
      " 55%|█████▍    | 1163/2130 [01:50<01:26, 11.14it/s]"
     ]
    },
    {
     "name": "stdout",
     "output_type": "stream",
     "text": [
      "2-117625-A-10.png\n",
      "1/1 [==============================] - 0s 56ms/step\n",
      "2-118072-A-0.png\n",
      "1/1 [==============================] - 0s 59ms/step\n"
     ]
    },
    {
     "name": "stderr",
     "output_type": "stream",
     "text": [
      " 55%|█████▍    | 1165/2130 [01:50<01:25, 11.22it/s]"
     ]
    },
    {
     "name": "stdout",
     "output_type": "stream",
     "text": [
      "2-118104-A-21.png\n",
      "1/1 [==============================] - 0s 58ms/step\n",
      "2-118964-A-0.png\n",
      "1/1 [==============================] - 0s 58ms/step\n"
     ]
    },
    {
     "name": "stderr",
     "output_type": "stream",
     "text": [
      " 55%|█████▍    | 1167/2130 [01:50<01:24, 11.36it/s]"
     ]
    },
    {
     "name": "stdout",
     "output_type": "stream",
     "text": [
      "2-119102-A-21.png\n",
      "1/1 [==============================] - 0s 62ms/step\n",
      "2-119748-A-38.png\n",
      "1/1 [==============================] - 0s 64ms/step\n"
     ]
    },
    {
     "name": "stderr",
     "output_type": "stream",
     "text": [
      " 55%|█████▍    | 1169/2130 [01:50<01:26, 11.14it/s]"
     ]
    },
    {
     "name": "stdout",
     "output_type": "stream",
     "text": [
      "2-121978-A-29.png\n",
      "1/1 [==============================] - 0s 56ms/step\n",
      "2-122066-A-45.png\n",
      "1/1 [==============================] - 0s 60ms/step\n"
     ]
    },
    {
     "name": "stderr",
     "output_type": "stream",
     "text": [
      " 55%|█████▍    | 1171/2130 [01:51<01:25, 11.21it/s]"
     ]
    },
    {
     "name": "stdout",
     "output_type": "stream",
     "text": [
      "2-122066-B-45.png\n",
      "1/1 [==============================] - 0s 63ms/step\n",
      "2-122067-A-45.png\n",
      "1/1 [==============================] - 0s 62ms/step\n"
     ]
    },
    {
     "name": "stderr",
     "output_type": "stream",
     "text": [
      " 55%|█████▌    | 1173/2130 [01:51<01:27, 10.92it/s]"
     ]
    },
    {
     "name": "stdout",
     "output_type": "stream",
     "text": [
      "2-122067-B-45.png\n",
      "1/1 [==============================] - 0s 57ms/step\n",
      "2-122104-A-0.png\n",
      "1/1 [==============================] - 0s 55ms/step\n"
     ]
    },
    {
     "name": "stderr",
     "output_type": "stream",
     "text": [
      " 55%|█████▌    | 1175/2130 [01:51<01:25, 11.16it/s]"
     ]
    },
    {
     "name": "stdout",
     "output_type": "stream",
     "text": [
      "2-122104-B-0.png\n",
      "1/1 [==============================] - 0s 56ms/step\n",
      "2-122763-A-29.png\n",
      "1/1 [==============================] - 0s 56ms/step\n"
     ]
    },
    {
     "name": "stderr",
     "output_type": "stream",
     "text": [
      " 55%|█████▌    | 1177/2130 [01:51<01:24, 11.28it/s]"
     ]
    },
    {
     "name": "stdout",
     "output_type": "stream",
     "text": [
      "2-122763-B-29.png\n",
      "1/1 [==============================] - 0s 70ms/step\n",
      "2-123896-A-24.png\n",
      "1/1 [==============================] - 0s 58ms/step\n"
     ]
    },
    {
     "name": "stderr",
     "output_type": "stream",
     "text": [
      " 55%|█████▌    | 1179/2130 [01:51<01:26, 11.01it/s]"
     ]
    },
    {
     "name": "stdout",
     "output_type": "stream",
     "text": [
      "2-124564-A-15.png\n",
      "1/1 [==============================] - 0s 64ms/step\n",
      "2-124662-A-11.png\n",
      "1/1 [==============================] - 0s 57ms/step\n"
     ]
    },
    {
     "name": "stderr",
     "output_type": "stream",
     "text": [
      " 55%|█████▌    | 1181/2130 [01:51<01:26, 11.02it/s]"
     ]
    },
    {
     "name": "stdout",
     "output_type": "stream",
     "text": [
      "2-125520-A-43.png\n",
      "1/1 [==============================] - 0s 65ms/step\n",
      "2-125821-A-13.png\n",
      "1/1 [==============================] - 0s 63ms/step\n"
     ]
    },
    {
     "name": "stderr",
     "output_type": "stream",
     "text": [
      " 56%|█████▌    | 1183/2130 [01:52<01:28, 10.71it/s]"
     ]
    },
    {
     "name": "stdout",
     "output_type": "stream",
     "text": [
      "2-125875-A-13.png\n",
      "1/1 [==============================] - 0s 57ms/step\n",
      "2-125966-A-11.png\n",
      "1/1 [==============================] - 0s 59ms/step\n"
     ]
    },
    {
     "name": "stderr",
     "output_type": "stream",
     "text": [
      " 56%|█████▌    | 1185/2130 [01:52<01:26, 10.97it/s]"
     ]
    },
    {
     "name": "stdout",
     "output_type": "stream",
     "text": [
      "2-126433-A-17.png\n",
      "1/1 [==============================] - 0s 58ms/step\n",
      "2-126756-A-29.png\n",
      "1/1 [==============================] - 0s 56ms/step\n"
     ]
    },
    {
     "name": "stderr",
     "output_type": "stream",
     "text": [
      " 56%|█████▌    | 1187/2130 [01:52<01:24, 11.18it/s]"
     ]
    },
    {
     "name": "stdout",
     "output_type": "stream",
     "text": [
      "2-127108-A-38.png\n",
      "1/1 [==============================] - 0s 60ms/step\n",
      "2-128465-A-43.png\n",
      "1/1 [==============================] - 0s 55ms/step\n"
     ]
    },
    {
     "name": "stderr",
     "output_type": "stream",
     "text": [
      " 56%|█████▌    | 1189/2130 [01:52<01:23, 11.33it/s]"
     ]
    },
    {
     "name": "stdout",
     "output_type": "stream",
     "text": [
      "2-128465-B-43.png\n",
      "1/1 [==============================] - 0s 55ms/step\n",
      "2-128631-A-21.png\n",
      "1/1 [==============================] - 0s 60ms/step\n"
     ]
    },
    {
     "name": "stderr",
     "output_type": "stream",
     "text": [
      " 56%|█████▌    | 1191/2130 [01:52<01:22, 11.41it/s]"
     ]
    },
    {
     "name": "stdout",
     "output_type": "stream",
     "text": [
      "2-130245-A-34.png\n",
      "1/1 [==============================] - 0s 56ms/step\n",
      "2-130978-A-21.png\n",
      "1/1 [==============================] - 0s 57ms/step\n"
     ]
    },
    {
     "name": "stderr",
     "output_type": "stream",
     "text": [
      " 56%|█████▌    | 1193/2130 [01:53<01:22, 11.36it/s]"
     ]
    },
    {
     "name": "stdout",
     "output_type": "stream",
     "text": [
      "2-130979-A-21.png\n",
      "1/1 [==============================] - 0s 57ms/step\n",
      "2-131943-A-38.png\n",
      "1/1 [==============================] - 0s 65ms/step\n"
     ]
    },
    {
     "name": "stderr",
     "output_type": "stream",
     "text": [
      " 56%|█████▌    | 1195/2130 [01:53<01:23, 11.23it/s]"
     ]
    },
    {
     "name": "stdout",
     "output_type": "stream",
     "text": [
      "2-132157-A-11.png\n",
      "1/1 [==============================] - 0s 60ms/step\n",
      "2-132157-B-11.png\n",
      "1/1 [==============================] - 0s 60ms/step\n"
     ]
    },
    {
     "name": "stderr",
     "output_type": "stream",
     "text": [
      " 56%|█████▌    | 1197/2130 [01:53<01:23, 11.17it/s]"
     ]
    },
    {
     "name": "stdout",
     "output_type": "stream",
     "text": [
      "2-133863-A-11.png\n",
      "1/1 [==============================] - 0s 58ms/step\n",
      "2-134700-A-38.png\n",
      "1/1 [==============================] - 0s 55ms/step\n"
     ]
    },
    {
     "name": "stderr",
     "output_type": "stream",
     "text": [
      " 56%|█████▋    | 1199/2130 [01:53<01:22, 11.29it/s]"
     ]
    },
    {
     "name": "stdout",
     "output_type": "stream",
     "text": [
      "2-135649-A-45.png\n",
      "1/1 [==============================] - 0s 57ms/step\n",
      "2-135649-B-45.png\n",
      "1/1 [==============================] - 0s 56ms/step\n"
     ]
    },
    {
     "name": "stderr",
     "output_type": "stream",
     "text": [
      " 56%|█████▋    | 1201/2130 [01:53<01:21, 11.35it/s]"
     ]
    },
    {
     "name": "stdout",
     "output_type": "stream",
     "text": [
      "2-135649-C-45.png\n",
      "1/1 [==============================] - 0s 58ms/step\n",
      "2-135728-A-38.png\n",
      "1/1 [==============================] - 0s 61ms/step\n"
     ]
    },
    {
     "name": "stderr",
     "output_type": "stream",
     "text": [
      " 56%|█████▋    | 1203/2130 [01:53<01:22, 11.28it/s]"
     ]
    },
    {
     "name": "stdout",
     "output_type": "stream",
     "text": [
      "2-135860-A-49.png\n",
      "1/1 [==============================] - 0s 57ms/step\n",
      "2-137162-A-11.png\n",
      "1/1 [==============================] - 0s 58ms/step\n"
     ]
    },
    {
     "name": "stderr",
     "output_type": "stream",
     "text": [
      " 57%|█████▋    | 1205/2130 [01:54<01:21, 11.38it/s]"
     ]
    },
    {
     "name": "stdout",
     "output_type": "stream",
     "text": [
      "2-138465-A-43.png\n",
      "1/1 [==============================] - 0s 60ms/step\n",
      "2-139748-A-15.png\n",
      "1/1 [==============================] - 0s 56ms/step\n"
     ]
    },
    {
     "name": "stderr",
     "output_type": "stream",
     "text": [
      " 57%|█████▋    | 1207/2130 [01:54<01:20, 11.43it/s]"
     ]
    },
    {
     "name": "stdout",
     "output_type": "stream",
     "text": [
      "2-139748-B-15.png\n",
      "1/1 [==============================] - 0s 59ms/step\n",
      "2-139749-A-15.png\n",
      "1/1 [==============================] - 0s 56ms/step\n"
     ]
    },
    {
     "name": "stderr",
     "output_type": "stream",
     "text": [
      " 57%|█████▋    | 1209/2130 [01:54<01:20, 11.49it/s]"
     ]
    },
    {
     "name": "stdout",
     "output_type": "stream",
     "text": [
      "2-140147-A-38.png\n",
      "1/1 [==============================] - 0s 59ms/step\n",
      "2-141584-A-38.png\n",
      "1/1 [==============================] - 0s 56ms/step\n"
     ]
    },
    {
     "name": "stderr",
     "output_type": "stream",
     "text": [
      " 57%|█████▋    | 1211/2130 [01:54<01:20, 11.47it/s]"
     ]
    },
    {
     "name": "stdout",
     "output_type": "stream",
     "text": [
      "2-144031-A-34.png\n",
      "1/1 [==============================] - 0s 55ms/step\n",
      "2-144137-A-43.png\n",
      "1/1 [==============================] - 0s 56ms/step\n"
     ]
    },
    {
     "name": "stderr",
     "output_type": "stream",
     "text": [
      " 57%|█████▋    | 1213/2130 [01:54<01:18, 11.62it/s]"
     ]
    },
    {
     "name": "stdout",
     "output_type": "stream",
     "text": [
      "2-155801-A-11.png\n",
      "1/1 [==============================] - 0s 60ms/step\n",
      "2-160128-A-7.png\n",
      "1/1 [==============================] - 0s 58ms/step\n"
     ]
    },
    {
     "name": "stderr",
     "output_type": "stream",
     "text": [
      " 57%|█████▋    | 1215/2130 [01:54<01:19, 11.48it/s]"
     ]
    },
    {
     "name": "stdout",
     "output_type": "stream",
     "text": [
      "2-160888-A-47.png\n",
      "1/1 [==============================] - 0s 57ms/step\n",
      "2-184077-A-49.png\n",
      "1/1 [==============================] - 0s 59ms/step\n"
     ]
    },
    {
     "name": "stderr",
     "output_type": "stream",
     "text": [
      " 57%|█████▋    | 1217/2130 [01:55<01:19, 11.46it/s]"
     ]
    },
    {
     "name": "stdout",
     "output_type": "stream",
     "text": [
      "2-18766-A-12.png\n",
      "1/1 [==============================] - 0s 58ms/step\n",
      "2-18766-B-12.png\n",
      "1/1 [==============================] - 0s 60ms/step\n"
     ]
    },
    {
     "name": "stderr",
     "output_type": "stream",
     "text": [
      " 57%|█████▋    | 1219/2130 [01:55<01:19, 11.41it/s]"
     ]
    },
    {
     "name": "stdout",
     "output_type": "stream",
     "text": [
      "2-188822-A-40.png\n",
      "1/1 [==============================] - 0s 61ms/step\n",
      "2-188822-B-40.png\n",
      "1/1 [==============================] - 0s 58ms/step\n"
     ]
    },
    {
     "name": "stderr",
     "output_type": "stream",
     "text": [
      " 57%|█████▋    | 1221/2130 [01:55<01:20, 11.28it/s]"
     ]
    },
    {
     "name": "stdout",
     "output_type": "stream",
     "text": [
      "2-188822-C-40.png\n",
      "1/1 [==============================] - 0s 56ms/step\n",
      "2-188822-D-40.png\n",
      "1/1 [==============================] - 0s 58ms/step\n"
     ]
    },
    {
     "name": "stderr",
     "output_type": "stream",
     "text": [
      " 57%|█████▋    | 1223/2130 [01:55<01:19, 11.36it/s]"
     ]
    },
    {
     "name": "stdout",
     "output_type": "stream",
     "text": [
      "2-205966-A-16.png\n",
      "1/1 [==============================] - 0s 56ms/step\n",
      "2-25292-A-22.png\n",
      "1/1 [==============================] - 0s 56ms/step\n"
     ]
    },
    {
     "name": "stderr",
     "output_type": "stream",
     "text": [
      " 58%|█████▊    | 1225/2130 [01:55<01:18, 11.46it/s]"
     ]
    },
    {
     "name": "stdout",
     "output_type": "stream",
     "text": [
      "2-25293-A-22.png\n",
      "1/1 [==============================] - 0s 57ms/step\n",
      "2-262579-A-45.png\n",
      "1/1 [==============================] - 0s 56ms/step\n"
     ]
    },
    {
     "name": "stderr",
     "output_type": "stream",
     "text": [
      " 58%|█████▊    | 1227/2130 [01:55<01:18, 11.53it/s]"
     ]
    },
    {
     "name": "stdout",
     "output_type": "stream",
     "text": [
      "2-28314-A-12.png\n",
      "1/1 [==============================] - 0s 57ms/step\n",
      "2-28314-B-12.png\n",
      "1/1 [==============================] - 0s 59ms/step\n"
     ]
    },
    {
     "name": "stderr",
     "output_type": "stream",
     "text": [
      " 58%|█████▊    | 1229/2130 [01:56<01:18, 11.54it/s]"
     ]
    },
    {
     "name": "stdout",
     "output_type": "stream",
     "text": [
      "2-30322-A-12.png\n",
      "1/1 [==============================] - 0s 62ms/step\n",
      "2-30322-B-12.png\n",
      "1/1 [==============================] - 0s 60ms/step\n"
     ]
    },
    {
     "name": "stderr",
     "output_type": "stream",
     "text": [
      " 58%|█████▊    | 1231/2130 [01:56<01:19, 11.33it/s]"
     ]
    },
    {
     "name": "stdout",
     "output_type": "stream",
     "text": [
      "2-32515-A-4.png\n",
      "1/1 [==============================] - 0s 59ms/step\n",
      "2-32515-B-4.png\n",
      "1/1 [==============================] - 0s 65ms/step\n"
     ]
    },
    {
     "name": "stderr",
     "output_type": "stream",
     "text": [
      " 58%|█████▊    | 1233/2130 [01:56<01:19, 11.23it/s]"
     ]
    },
    {
     "name": "stdout",
     "output_type": "stream",
     "text": [
      "2-32515-C-4.png\n",
      "1/1 [==============================] - 0s 64ms/step\n",
      "2-32515-D-4.png\n",
      "1/1 [==============================] - 0s 70ms/step\n"
     ]
    },
    {
     "name": "stderr",
     "output_type": "stream",
     "text": [
      " 58%|█████▊    | 1235/2130 [01:56<01:23, 10.74it/s]"
     ]
    },
    {
     "name": "stdout",
     "output_type": "stream",
     "text": [
      "2-32834-A-4.png\n",
      "1/1 [==============================] - 0s 77ms/step\n",
      "2-37806-A-40.png\n",
      "1/1 [==============================] - 0s 58ms/step\n"
     ]
    },
    {
     "name": "stderr",
     "output_type": "stream",
     "text": [
      " 58%|█████▊    | 1237/2130 [01:56<01:25, 10.49it/s]"
     ]
    },
    {
     "name": "stdout",
     "output_type": "stream",
     "text": [
      "2-37806-B-40.png\n",
      "1/1 [==============================] - 0s 55ms/step\n",
      "2-37806-C-40.png\n",
      "1/1 [==============================] - 0s 56ms/step\n"
     ]
    },
    {
     "name": "stderr",
     "output_type": "stream",
     "text": [
      " 58%|█████▊    | 1239/2130 [01:57<01:22, 10.86it/s]"
     ]
    },
    {
     "name": "stdout",
     "output_type": "stream",
     "text": [
      "2-37806-D-40.png\n",
      "1/1 [==============================] - 0s 57ms/step\n",
      "2-39441-A-19.png\n",
      "1/1 [==============================] - 0s 55ms/step\n"
     ]
    },
    {
     "name": "stderr",
     "output_type": "stream",
     "text": [
      " 58%|█████▊    | 1241/2130 [01:57<01:20, 11.04it/s]"
     ]
    },
    {
     "name": "stdout",
     "output_type": "stream",
     "text": [
      "2-39443-A-19.png\n",
      "1/1 [==============================] - 0s 61ms/step\n",
      "2-39443-B-19.png\n",
      "1/1 [==============================] - 0s 58ms/step\n"
     ]
    },
    {
     "name": "stderr",
     "output_type": "stream",
     "text": [
      " 58%|█████▊    | 1243/2130 [01:57<01:19, 11.12it/s]"
     ]
    },
    {
     "name": "stdout",
     "output_type": "stream",
     "text": [
      "2-39945-A-19.png\n",
      "1/1 [==============================] - 0s 60ms/step\n",
      "2-39945-B-19.png\n",
      "1/1 [==============================] - 0s 60ms/step\n"
     ]
    },
    {
     "name": "stderr",
     "output_type": "stream",
     "text": [
      " 58%|█████▊    | 1245/2130 [01:57<01:19, 11.15it/s]"
     ]
    },
    {
     "name": "stdout",
     "output_type": "stream",
     "text": [
      "2-39945-C-19.png\n",
      "1/1 [==============================] - 0s 58ms/step\n",
      "2-42101-A-43.png\n",
      "1/1 [==============================] - 0s 57ms/step\n"
     ]
    },
    {
     "name": "stderr",
     "output_type": "stream",
     "text": [
      " 59%|█████▊    | 1247/2130 [01:57<01:18, 11.25it/s]"
     ]
    },
    {
     "name": "stdout",
     "output_type": "stream",
     "text": [
      "2-50667-A-41.png\n",
      "1/1 [==============================] - 0s 62ms/step\n",
      "2-50667-B-41.png\n",
      "1/1 [==============================] - 0s 65ms/step\n"
     ]
    },
    {
     "name": "stderr",
     "output_type": "stream",
     "text": [
      " 59%|█████▊    | 1249/2130 [01:58<01:21, 10.79it/s]"
     ]
    },
    {
     "name": "stdout",
     "output_type": "stream",
     "text": [
      "2-50668-A-41.png\n",
      "1/1 [==============================] - 0s 58ms/step\n",
      "2-50668-B-41.png\n",
      "1/1 [==============================] - 0s 56ms/step\n"
     ]
    },
    {
     "name": "stderr",
     "output_type": "stream",
     "text": [
      " 59%|█████▊    | 1251/2130 [01:58<01:20, 10.96it/s]"
     ]
    },
    {
     "name": "stdout",
     "output_type": "stream",
     "text": [
      "2-50774-A-23.png\n",
      "1/1 [==============================] - 0s 59ms/step\n",
      "2-51630-A-49.png\n",
      "1/1 [==============================] - 0s 56ms/step\n"
     ]
    },
    {
     "name": "stderr",
     "output_type": "stream",
     "text": [
      " 59%|█████▉    | 1253/2130 [01:58<01:18, 11.13it/s]"
     ]
    },
    {
     "name": "stdout",
     "output_type": "stream",
     "text": [
      "2-51630-B-49.png\n",
      "1/1 [==============================] - 0s 59ms/step\n",
      "2-52001-A-28.png\n",
      "1/1 [==============================] - 0s 57ms/step\n"
     ]
    },
    {
     "name": "stderr",
     "output_type": "stream",
     "text": [
      " 59%|█████▉    | 1255/2130 [01:58<01:18, 11.20it/s]"
     ]
    },
    {
     "name": "stdout",
     "output_type": "stream",
     "text": [
      "2-52001-B-28.png\n",
      "1/1 [==============================] - 0s 56ms/step\n",
      "2-52085-A-4.png\n",
      "1/1 [==============================] - 0s 56ms/step\n"
     ]
    },
    {
     "name": "stderr",
     "output_type": "stream",
     "text": [
      " 59%|█████▉    | 1257/2130 [01:58<01:17, 11.33it/s]"
     ]
    },
    {
     "name": "stdout",
     "output_type": "stream",
     "text": [
      "2-52085-B-4.png\n",
      "1/1 [==============================] - 0s 61ms/step\n",
      "2-52789-A-4.png\n",
      "1/1 [==============================] - 0s 58ms/step\n"
     ]
    },
    {
     "name": "stderr",
     "output_type": "stream",
     "text": [
      " 59%|█████▉    | 1259/2130 [01:58<01:17, 11.28it/s]"
     ]
    },
    {
     "name": "stdout",
     "output_type": "stream",
     "text": [
      "2-54086-A-43.png\n",
      "1/1 [==============================] - 0s 56ms/step\n",
      "2-54961-A-23.png\n",
      "1/1 [==============================] - 0s 57ms/step\n"
     ]
    },
    {
     "name": "stderr",
     "output_type": "stream",
     "text": [
      " 59%|█████▉    | 1261/2130 [01:59<01:16, 11.38it/s]"
     ]
    },
    {
     "name": "stdout",
     "output_type": "stream",
     "text": [
      "2-54962-A-23.png\n",
      "1/1 [==============================] - 0s 57ms/step\n",
      "2-57733-A-22.png\n",
      "1/1 [==============================] - 0s 61ms/step\n"
     ]
    },
    {
     "name": "stderr",
     "output_type": "stream",
     "text": [
      " 59%|█████▉    | 1263/2130 [01:59<01:16, 11.34it/s]"
     ]
    },
    {
     "name": "stdout",
     "output_type": "stream",
     "text": [
      "2-59321-A-49.png\n",
      "1/1 [==============================] - 0s 58ms/step\n",
      "2-60180-A-49.png\n",
      "1/1 [==============================] - 0s 57ms/step\n"
     ]
    },
    {
     "name": "stderr",
     "output_type": "stream",
     "text": [
      " 59%|█████▉    | 1265/2130 [01:59<01:15, 11.42it/s]"
     ]
    },
    {
     "name": "stdout",
     "output_type": "stream",
     "text": [
      "2-60180-B-49.png\n",
      "1/1 [==============================] - 0s 57ms/step\n",
      "2-60791-A-26.png\n",
      "1/1 [==============================] - 0s 61ms/step\n"
     ]
    },
    {
     "name": "stderr",
     "output_type": "stream",
     "text": [
      " 59%|█████▉    | 1267/2130 [01:59<01:16, 11.31it/s]"
     ]
    },
    {
     "name": "stdout",
     "output_type": "stream",
     "text": [
      "2-60794-A-26.png\n",
      "1/1 [==============================] - 0s 57ms/step\n",
      "2-60795-A-26.png\n",
      "1/1 [==============================] - 0s 60ms/step\n"
     ]
    },
    {
     "name": "stderr",
     "output_type": "stream",
     "text": [
      " 60%|█████▉    | 1269/2130 [01:59<01:16, 11.32it/s]"
     ]
    },
    {
     "name": "stdout",
     "output_type": "stream",
     "text": [
      "2-60900-A-22.png\n",
      "1/1 [==============================] - 0s 60ms/step\n",
      "2-61311-A-12.png\n",
      "1/1 [==============================] - 0s 58ms/step\n"
     ]
    },
    {
     "name": "stderr",
     "output_type": "stream",
     "text": [
      " 60%|█████▉    | 1271/2130 [01:59<01:16, 11.22it/s]"
     ]
    },
    {
     "name": "stdout",
     "output_type": "stream",
     "text": [
      "2-62226-A-26.png\n",
      "1/1 [==============================] - 0s 55ms/step\n",
      "2-64962-A-15.png\n",
      "1/1 [==============================] - 0s 58ms/step\n"
     ]
    },
    {
     "name": "stderr",
     "output_type": "stream",
     "text": [
      " 60%|█████▉    | 1273/2130 [02:00<01:15, 11.32it/s]"
     ]
    },
    {
     "name": "stdout",
     "output_type": "stream",
     "text": [
      "2-64963-A-15.png\n",
      "1/1 [==============================] - 0s 57ms/step\n",
      "2-65747-A-12.png\n",
      "1/1 [==============================] - 0s 57ms/step\n"
     ]
    },
    {
     "name": "stderr",
     "output_type": "stream",
     "text": [
      " 60%|█████▉    | 1275/2130 [02:00<01:14, 11.43it/s]"
     ]
    },
    {
     "name": "stdout",
     "output_type": "stream",
     "text": [
      "2-66205-A-23.png\n",
      "1/1 [==============================] - 0s 58ms/step\n",
      "2-68391-A-41.png\n",
      "1/1 [==============================] - 0s 57ms/step\n"
     ]
    },
    {
     "name": "stderr",
     "output_type": "stream",
     "text": [
      " 60%|█████▉    | 1277/2130 [02:00<01:14, 11.49it/s]"
     ]
    },
    {
     "name": "stdout",
     "output_type": "stream",
     "text": [
      "2-68391-B-41.png\n",
      "1/1 [==============================] - 0s 59ms/step\n",
      "2-68595-A-15.png\n",
      "1/1 [==============================] - 0s 58ms/step\n"
     ]
    },
    {
     "name": "stderr",
     "output_type": "stream",
     "text": [
      " 60%|██████    | 1279/2130 [02:00<01:14, 11.47it/s]"
     ]
    },
    {
     "name": "stdout",
     "output_type": "stream",
     "text": [
      "2-68595-B-15.png\n",
      "1/1 [==============================] - 0s 69ms/step\n",
      "2-69131-A-5.png\n",
      "1/1 [==============================] - 0s 58ms/step\n"
     ]
    },
    {
     "name": "stderr",
     "output_type": "stream",
     "text": [
      " 60%|██████    | 1281/2130 [02:00<01:16, 11.06it/s]"
     ]
    },
    {
     "name": "stdout",
     "output_type": "stream",
     "text": [
      "2-69131-B-5.png\n",
      "1/1 [==============================] - 0s 57ms/step\n",
      "2-72970-A-10.png\n",
      "1/1 [==============================] - 0s 60ms/step\n"
     ]
    },
    {
     "name": "stderr",
     "output_type": "stream",
     "text": [
      " 60%|██████    | 1283/2130 [02:01<01:15, 11.16it/s]"
     ]
    },
    {
     "name": "stdout",
     "output_type": "stream",
     "text": [
      "2-73027-A-10.png\n",
      "1/1 [==============================] - 0s 59ms/step\n",
      "2-73260-A-10.png\n",
      "1/1 [==============================] - 0s 58ms/step\n"
     ]
    },
    {
     "name": "stderr",
     "output_type": "stream",
     "text": [
      " 60%|██████    | 1285/2130 [02:01<01:15, 11.22it/s]"
     ]
    },
    {
     "name": "stdout",
     "output_type": "stream",
     "text": [
      "2-74361-A-47.png\n",
      "1/1 [==============================] - 0s 57ms/step\n",
      "2-76408-A-22.png\n",
      "1/1 [==============================] - 0s 57ms/step\n"
     ]
    },
    {
     "name": "stderr",
     "output_type": "stream",
     "text": [
      " 60%|██████    | 1287/2130 [02:01<01:14, 11.34it/s]"
     ]
    },
    {
     "name": "stdout",
     "output_type": "stream",
     "text": [
      "2-76408-B-22.png\n",
      "1/1 [==============================] - 0s 60ms/step\n",
      "2-76408-C-22.png\n",
      "1/1 [==============================] - 0s 69ms/step\n"
     ]
    },
    {
     "name": "stderr",
     "output_type": "stream",
     "text": [
      " 61%|██████    | 1289/2130 [02:01<01:16, 11.03it/s]"
     ]
    },
    {
     "name": "stdout",
     "output_type": "stream",
     "text": [
      "2-76408-D-22.png\n",
      "1/1 [==============================] - 0s 58ms/step\n",
      "2-77945-A-41.png\n",
      "1/1 [==============================] - 0s 56ms/step\n"
     ]
    },
    {
     "name": "stderr",
     "output_type": "stream",
     "text": [
      " 61%|██████    | 1291/2130 [02:01<01:15, 11.13it/s]"
     ]
    },
    {
     "name": "stdout",
     "output_type": "stream",
     "text": [
      "2-77945-B-41.png\n",
      "1/1 [==============================] - 0s 64ms/step\n",
      "2-78562-A-37.png\n",
      "1/1 [==============================] - 0s 62ms/step\n"
     ]
    },
    {
     "name": "stderr",
     "output_type": "stream",
     "text": [
      " 61%|██████    | 1293/2130 [02:01<01:16, 10.96it/s]"
     ]
    },
    {
     "name": "stdout",
     "output_type": "stream",
     "text": [
      "2-78562-B-37.png\n",
      "1/1 [==============================] - 0s 68ms/step\n",
      "2-78651-A-44.png\n",
      "1/1 [==============================] - 0s 59ms/step\n"
     ]
    },
    {
     "name": "stderr",
     "output_type": "stream",
     "text": [
      " 61%|██████    | 1295/2130 [02:02<01:19, 10.50it/s]"
     ]
    },
    {
     "name": "stdout",
     "output_type": "stream",
     "text": [
      "2-78781-A-47.png\n",
      "1/1 [==============================] - 0s 61ms/step\n",
      "2-78799-A-47.png\n",
      "1/1 [==============================] - 0s 59ms/step\n"
     ]
    },
    {
     "name": "stderr",
     "output_type": "stream",
     "text": [
      " 61%|██████    | 1297/2130 [02:02<01:18, 10.64it/s]"
     ]
    },
    {
     "name": "stdout",
     "output_type": "stream",
     "text": [
      "2-79769-A-26.png\n",
      "1/1 [==============================] - 0s 57ms/step\n",
      "2-79775-A-26.png\n",
      "1/1 [==============================] - 0s 57ms/step\n"
     ]
    },
    {
     "name": "stderr",
     "output_type": "stream",
     "text": [
      " 61%|██████    | 1299/2130 [02:02<01:16, 10.83it/s]"
     ]
    },
    {
     "name": "stdout",
     "output_type": "stream",
     "text": [
      "2-80313-A-28.png\n",
      "1/1 [==============================] - 0s 64ms/step\n",
      "2-80844-A-13.png\n",
      "1/1 [==============================] - 0s 59ms/step\n"
     ]
    },
    {
     "name": "stderr",
     "output_type": "stream",
     "text": [
      " 61%|██████    | 1301/2130 [02:02<01:16, 10.84it/s]"
     ]
    },
    {
     "name": "stdout",
     "output_type": "stream",
     "text": [
      "2-81112-A-34.png\n",
      "1/1 [==============================] - 0s 58ms/step\n",
      "2-81190-A-34.png\n",
      "1/1 [==============================] - 0s 59ms/step\n"
     ]
    },
    {
     "name": "stderr",
     "output_type": "stream",
     "text": [
      " 61%|██████    | 1303/2130 [02:02<01:15, 10.98it/s]"
     ]
    },
    {
     "name": "stdout",
     "output_type": "stream",
     "text": [
      "2-81731-A-10.png\n",
      "1/1 [==============================] - 0s 59ms/step\n",
      "2-81970-A-7.png\n",
      "1/1 [==============================] - 0s 64ms/step\n"
     ]
    },
    {
     "name": "stderr",
     "output_type": "stream",
     "text": [
      " 61%|██████▏   | 1305/2130 [02:03<01:15, 10.93it/s]"
     ]
    },
    {
     "name": "stdout",
     "output_type": "stream",
     "text": [
      "2-81970-B-7.png\n",
      "1/1 [==============================] - 0s 62ms/step\n",
      "2-81970-C-7.png\n",
      "1/1 [==============================] - 0s 60ms/step\n"
     ]
    },
    {
     "name": "stderr",
     "output_type": "stream",
     "text": [
      " 61%|██████▏   | 1307/2130 [02:03<01:15, 10.95it/s]"
     ]
    },
    {
     "name": "stdout",
     "output_type": "stream",
     "text": [
      "2-82077-A-7.png\n",
      "1/1 [==============================] - 0s 61ms/step\n",
      "2-82274-A-5.png\n",
      "1/1 [==============================] - 0s 59ms/step\n"
     ]
    },
    {
     "name": "stderr",
     "output_type": "stream",
     "text": [
      " 61%|██████▏   | 1309/2130 [02:03<01:14, 10.99it/s]"
     ]
    },
    {
     "name": "stdout",
     "output_type": "stream",
     "text": [
      "2-82274-B-5.png\n",
      "1/1 [==============================] - 0s 56ms/step\n",
      "2-82367-A-10.png\n",
      "1/1 [==============================] - 0s 56ms/step\n"
     ]
    },
    {
     "name": "stderr",
     "output_type": "stream",
     "text": [
      " 62%|██████▏   | 1311/2130 [02:03<01:13, 11.20it/s]"
     ]
    },
    {
     "name": "stdout",
     "output_type": "stream",
     "text": [
      "2-82455-A-23.png\n",
      "1/1 [==============================] - 0s 58ms/step\n",
      "2-82538-A-21.png\n",
      "1/1 [==============================] - 0s 60ms/step\n"
     ]
    },
    {
     "name": "stderr",
     "output_type": "stream",
     "text": [
      " 62%|██████▏   | 1313/2130 [02:03<01:12, 11.25it/s]"
     ]
    },
    {
     "name": "stdout",
     "output_type": "stream",
     "text": [
      "2-83270-A-13.png\n",
      "1/1 [==============================] - 0s 61ms/step\n",
      "2-83667-A-34.png\n",
      "1/1 [==============================] - 0s 59ms/step\n"
     ]
    },
    {
     "name": "stderr",
     "output_type": "stream",
     "text": [
      " 62%|██████▏   | 1315/2130 [02:03<01:12, 11.22it/s]"
     ]
    },
    {
     "name": "stdout",
     "output_type": "stream",
     "text": [
      "2-83688-A-34.png\n",
      "1/1 [==============================] - 0s 59ms/step\n",
      "2-83934-A-5.png\n",
      "1/1 [==============================] - 0s 63ms/step\n"
     ]
    },
    {
     "name": "stderr",
     "output_type": "stream",
     "text": [
      " 62%|██████▏   | 1317/2130 [02:04<01:12, 11.23it/s]"
     ]
    },
    {
     "name": "stdout",
     "output_type": "stream",
     "text": [
      "2-83934-B-5.png\n",
      "1/1 [==============================] - 0s 58ms/step\n",
      "2-84693-A-49.png\n",
      "1/1 [==============================] - 0s 58ms/step\n"
     ]
    },
    {
     "name": "stderr",
     "output_type": "stream",
     "text": [
      " 62%|██████▏   | 1319/2130 [02:04<01:12, 11.19it/s]"
     ]
    },
    {
     "name": "stdout",
     "output_type": "stream",
     "text": [
      "2-84965-A-23.png\n",
      "1/1 [==============================] - 0s 56ms/step\n",
      "2-85139-A-13.png\n",
      "1/1 [==============================] - 0s 58ms/step\n"
     ]
    },
    {
     "name": "stderr",
     "output_type": "stream",
     "text": [
      " 62%|██████▏   | 1321/2130 [02:04<01:11, 11.34it/s]"
     ]
    },
    {
     "name": "stdout",
     "output_type": "stream",
     "text": [
      "2-85292-A-24.png\n",
      "1/1 [==============================] - 0s 57ms/step\n",
      "2-85471-A-34.png\n",
      "1/1 [==============================] - 0s 56ms/step\n"
     ]
    },
    {
     "name": "stderr",
     "output_type": "stream",
     "text": [
      " 62%|██████▏   | 1323/2130 [02:04<01:10, 11.40it/s]"
     ]
    },
    {
     "name": "stdout",
     "output_type": "stream",
     "text": [
      "2-87282-A-34.png\n",
      "1/1 [==============================] - 0s 57ms/step\n",
      "2-87412-A-24.png\n",
      "1/1 [==============================] - 0s 55ms/step\n"
     ]
    },
    {
     "name": "stderr",
     "output_type": "stream",
     "text": [
      " 62%|██████▏   | 1325/2130 [02:04<01:09, 11.53it/s]"
     ]
    },
    {
     "name": "stdout",
     "output_type": "stream",
     "text": [
      "2-87781-A-10.png\n",
      "1/1 [==============================] - 0s 60ms/step\n",
      "2-87794-A-24.png\n",
      "1/1 [==============================] - 0s 59ms/step\n"
     ]
    },
    {
     "name": "stderr",
     "output_type": "stream",
     "text": [
      " 62%|██████▏   | 1327/2130 [02:04<01:09, 11.50it/s]"
     ]
    },
    {
     "name": "stdout",
     "output_type": "stream",
     "text": [
      "2-87795-A-24.png\n",
      "1/1 [==============================] - 0s 60ms/step\n",
      "2-87799-A-24.png\n",
      "1/1 [==============================] - 0s 55ms/step\n"
     ]
    },
    {
     "name": "stderr",
     "output_type": "stream",
     "text": [
      " 62%|██████▏   | 1329/2130 [02:05<01:10, 11.40it/s]"
     ]
    },
    {
     "name": "stdout",
     "output_type": "stream",
     "text": [
      "2-88724-A-38.png\n",
      "1/1 [==============================] - 0s 59ms/step\n",
      "2-89516-A-37.png\n",
      "1/1 [==============================] - 0s 60ms/step\n"
     ]
    },
    {
     "name": "stderr",
     "output_type": "stream",
     "text": [
      " 62%|██████▏   | 1331/2130 [02:05<01:10, 11.33it/s]"
     ]
    },
    {
     "name": "stdout",
     "output_type": "stream",
     "text": [
      "2-92978-A-29.png\n",
      "1/1 [==============================] - 0s 62ms/step\n",
      "2-93030-A-21.png\n",
      "1/1 [==============================] - 0s 61ms/step\n"
     ]
    },
    {
     "name": "stderr",
     "output_type": "stream",
     "text": [
      " 63%|██████▎   | 1333/2130 [02:05<01:10, 11.26it/s]"
     ]
    },
    {
     "name": "stdout",
     "output_type": "stream",
     "text": [
      "2-94807-A-29.png\n",
      "1/1 [==============================] - 0s 58ms/step\n",
      "2-95567-A-23.png\n",
      "1/1 [==============================] - 0s 59ms/step\n"
     ]
    },
    {
     "name": "stderr",
     "output_type": "stream",
     "text": [
      " 63%|██████▎   | 1335/2130 [02:05<01:10, 11.31it/s]"
     ]
    },
    {
     "name": "stdout",
     "output_type": "stream",
     "text": [
      "2-96033-A-13.png\n",
      "1/1 [==============================] - 0s 62ms/step\n",
      "2-96063-A-37.png\n",
      "1/1 [==============================] - 0s 65ms/step\n"
     ]
    },
    {
     "name": "stderr",
     "output_type": "stream",
     "text": [
      " 63%|██████▎   | 1337/2130 [02:05<01:11, 11.10it/s]"
     ]
    },
    {
     "name": "stdout",
     "output_type": "stream",
     "text": [
      "2-96654-A-47.png\n",
      "1/1 [==============================] - 0s 60ms/step\n",
      "2-98392-A-23.png\n",
      "1/1 [==============================] - 0s 59ms/step\n"
     ]
    },
    {
     "name": "stderr",
     "output_type": "stream",
     "text": [
      " 63%|██████▎   | 1339/2130 [02:06<01:12, 10.98it/s]"
     ]
    },
    {
     "name": "stdout",
     "output_type": "stream",
     "text": [
      "2-98676-A-24.png\n",
      "1/1 [==============================] - 0s 55ms/step\n",
      "2-98866-A-47.png\n",
      "1/1 [==============================] - 0s 59ms/step\n"
     ]
    },
    {
     "name": "stderr",
     "output_type": "stream",
     "text": [
      " 63%|██████▎   | 1341/2130 [02:06<01:10, 11.16it/s]"
     ]
    },
    {
     "name": "stdout",
     "output_type": "stream",
     "text": [
      "2-99955-A-7.png\n",
      "1/1 [==============================] - 0s 65ms/step\n",
      "2-99955-B-7.png\n",
      "1/1 [==============================] - 0s 61ms/step\n"
     ]
    },
    {
     "name": "stderr",
     "output_type": "stream",
     "text": [
      " 63%|██████▎   | 1343/2130 [02:06<01:11, 11.00it/s]"
     ]
    },
    {
     "name": "stdout",
     "output_type": "stream",
     "text": [
      "2-99955-C-7.png\n",
      "1/1 [==============================] - 0s 61ms/step\n",
      "22BokUl1Y4Q_30.png\n",
      "1/1 [==============================] - 0s 58ms/step\n"
     ]
    },
    {
     "name": "stderr",
     "output_type": "stream",
     "text": [
      " 63%|██████▎   | 1345/2130 [02:06<01:10, 11.07it/s]"
     ]
    },
    {
     "name": "stdout",
     "output_type": "stream",
     "text": [
      "26WzdoqUtw8_0.png\n",
      "1/1 [==============================] - 0s 58ms/step\n",
      "27DFza83HCU_30.png\n",
      "1/1 [==============================] - 0s 63ms/step\n"
     ]
    },
    {
     "name": "stderr",
     "output_type": "stream",
     "text": [
      " 63%|██████▎   | 1347/2130 [02:06<01:10, 11.16it/s]"
     ]
    },
    {
     "name": "stdout",
     "output_type": "stream",
     "text": [
      "27h5ta6pEwM_30.png\n",
      "1/1 [==============================] - 0s 61ms/step\n",
      "29XwqPqrmb8_130.png\n",
      "1/1 [==============================] - 0s 59ms/step\n"
     ]
    },
    {
     "name": "stderr",
     "output_type": "stream",
     "text": [
      " 63%|██████▎   | 1349/2130 [02:06<01:11, 10.91it/s]"
     ]
    },
    {
     "name": "stdout",
     "output_type": "stream",
     "text": [
      "2Bbg7q0mYKk_30.png\n",
      "1/1 [==============================] - 0s 58ms/step\n",
      "2BUCZdOduvs_9.png\n",
      "1/1 [==============================] - 0s 68ms/step\n"
     ]
    },
    {
     "name": "stderr",
     "output_type": "stream",
     "text": [
      " 63%|██████▎   | 1351/2130 [02:07<01:13, 10.60it/s]"
     ]
    },
    {
     "name": "stdout",
     "output_type": "stream",
     "text": [
      "2dsezkN4udk_110.png\n",
      "1/1 [==============================] - 0s 61ms/step\n",
      "2EqYnML_e2c_330.png\n",
      "1/1 [==============================] - 0s 59ms/step\n"
     ]
    },
    {
     "name": "stderr",
     "output_type": "stream",
     "text": [
      " 64%|██████▎   | 1353/2130 [02:07<01:12, 10.65it/s]"
     ]
    },
    {
     "name": "stdout",
     "output_type": "stream",
     "text": [
      "2I98UAPOUqs_390.png\n",
      "1/1 [==============================] - 0s 59ms/step\n",
      "2JOJ2uZC7QM_170.png\n",
      "1/1 [==============================] - 0s 59ms/step\n"
     ]
    },
    {
     "name": "stderr",
     "output_type": "stream",
     "text": [
      " 64%|██████▎   | 1355/2130 [02:07<01:12, 10.71it/s]"
     ]
    },
    {
     "name": "stdout",
     "output_type": "stream",
     "text": [
      "2lzi4wnKJT0_0.png\n",
      "1/1 [==============================] - 0s 57ms/step\n",
      "2QGQZnr3v9M_20.png\n",
      "1/1 [==============================] - 0s 60ms/step\n"
     ]
    },
    {
     "name": "stderr",
     "output_type": "stream",
     "text": [
      " 64%|██████▎   | 1357/2130 [02:07<01:10, 10.95it/s]"
     ]
    },
    {
     "name": "stdout",
     "output_type": "stream",
     "text": [
      "2sGAX154rVw_180.png\n",
      "1/1 [==============================] - 0s 60ms/step\n",
      "2UzZivsqIyQ_390.png\n",
      "1/1 [==============================] - 0s 61ms/step\n"
     ]
    },
    {
     "name": "stderr",
     "output_type": "stream",
     "text": [
      " 64%|██████▍   | 1359/2130 [02:07<01:11, 10.73it/s]"
     ]
    },
    {
     "name": "stdout",
     "output_type": "stream",
     "text": [
      "2z94T9hfCwY_0.png\n",
      "1/1 [==============================] - 0s 57ms/step\n",
      "3-102583-A-49.png\n",
      "1/1 [==============================] - 0s 58ms/step\n"
     ]
    },
    {
     "name": "stderr",
     "output_type": "stream",
     "text": [
      " 64%|██████▍   | 1361/2130 [02:08<01:10, 10.97it/s]"
     ]
    },
    {
     "name": "stdout",
     "output_type": "stream",
     "text": [
      "3-102583-B-49.png\n",
      "1/1 [==============================] - 0s 58ms/step\n",
      "3-102583-C-49.png\n",
      "1/1 [==============================] - 0s 60ms/step\n"
     ]
    },
    {
     "name": "stderr",
     "output_type": "stream",
     "text": [
      " 64%|██████▍   | 1363/2130 [02:08<01:09, 11.05it/s]"
     ]
    },
    {
     "name": "stdout",
     "output_type": "stream",
     "text": [
      "3-102908-A-4.png\n",
      "1/1 [==============================] - 0s 61ms/step\n",
      "3-103050-A-19.png\n",
      "1/1 [==============================] - 0s 60ms/step\n"
     ]
    },
    {
     "name": "stderr",
     "output_type": "stream",
     "text": [
      " 64%|██████▍   | 1365/2130 [02:08<01:09, 11.05it/s]"
     ]
    },
    {
     "name": "stdout",
     "output_type": "stream",
     "text": [
      "3-103051-A-19.png\n",
      "1/1 [==============================] - 0s 64ms/step\n",
      "3-103051-B-19.png\n",
      "1/1 [==============================] - 0s 66ms/step\n"
     ]
    },
    {
     "name": "stderr",
     "output_type": "stream",
     "text": [
      " 64%|██████▍   | 1367/2130 [02:08<01:10, 10.87it/s]"
     ]
    },
    {
     "name": "stdout",
     "output_type": "stream",
     "text": [
      "3-103051-C-19.png\n",
      "1/1 [==============================] - 0s 59ms/step\n",
      "3-104632-A-12.png\n",
      "1/1 [==============================] - 0s 60ms/step\n"
     ]
    },
    {
     "name": "stderr",
     "output_type": "stream",
     "text": [
      " 64%|██████▍   | 1369/2130 [02:08<01:10, 10.83it/s]"
     ]
    },
    {
     "name": "stdout",
     "output_type": "stream",
     "text": [
      "3-104761-A-7.png\n",
      "1/1 [==============================] - 0s 60ms/step\n",
      "3-104761-B-7.png\n",
      "1/1 [==============================] - 0s 58ms/step\n"
     ]
    },
    {
     "name": "stderr",
     "output_type": "stream",
     "text": [
      " 64%|██████▍   | 1371/2130 [02:08<01:08, 11.01it/s]"
     ]
    },
    {
     "name": "stdout",
     "output_type": "stream",
     "text": [
      "3-104958-A-12.png\n",
      "1/1 [==============================] - 0s 64ms/step\n",
      "3-105235-A-7.png\n",
      "1/1 [==============================] - 0s 60ms/step\n"
     ]
    },
    {
     "name": "stderr",
     "output_type": "stream",
     "text": [
      " 64%|██████▍   | 1373/2130 [02:09<01:09, 10.89it/s]"
     ]
    },
    {
     "name": "stdout",
     "output_type": "stream",
     "text": [
      "3-105236-A-7.png\n",
      "1/1 [==============================] - 0s 61ms/step\n",
      "3-107123-A-26.png\n",
      "1/1 [==============================] - 0s 63ms/step\n"
     ]
    },
    {
     "name": "stderr",
     "output_type": "stream",
     "text": [
      " 65%|██████▍   | 1375/2130 [02:09<01:09, 10.92it/s]"
     ]
    },
    {
     "name": "stdout",
     "output_type": "stream",
     "text": [
      "3-108160-A-23.png\n",
      "1/1 [==============================] - 0s 59ms/step\n",
      "3-108451-A-17.png\n",
      "1/1 [==============================] - 0s 64ms/step\n"
     ]
    },
    {
     "name": "stderr",
     "output_type": "stream",
     "text": [
      " 65%|██████▍   | 1377/2130 [02:09<01:08, 10.96it/s]"
     ]
    },
    {
     "name": "stdout",
     "output_type": "stream",
     "text": [
      "3-108451-B-17.png\n",
      "1/1 [==============================] - 0s 60ms/step\n",
      "3-110536-A-26.png\n",
      "1/1 [==============================] - 0s 56ms/step\n"
     ]
    },
    {
     "name": "stderr",
     "output_type": "stream",
     "text": [
      " 65%|██████▍   | 1379/2130 [02:09<01:08, 10.98it/s]"
     ]
    },
    {
     "name": "stdout",
     "output_type": "stream",
     "text": [
      "3-110913-A-7.png\n",
      "1/1 [==============================] - 0s 64ms/step\n",
      "3-110913-B-7.png\n",
      "1/1 [==============================] - 0s 67ms/step\n"
     ]
    },
    {
     "name": "stderr",
     "output_type": "stream",
     "text": [
      " 65%|██████▍   | 1381/2130 [02:09<01:09, 10.79it/s]"
     ]
    },
    {
     "name": "stdout",
     "output_type": "stream",
     "text": [
      "3-110913-C-7.png\n",
      "1/1 [==============================] - 0s 68ms/step\n",
      "3-110913-D-7.png\n",
      "1/1 [==============================] - 0s 64ms/step\n"
     ]
    },
    {
     "name": "stderr",
     "output_type": "stream",
     "text": [
      " 65%|██████▍   | 1383/2130 [02:10<01:10, 10.62it/s]"
     ]
    },
    {
     "name": "stdout",
     "output_type": "stream",
     "text": [
      "3-112557-A-23.png\n",
      "1/1 [==============================] - 0s 65ms/step\n",
      "3-112557-B-23.png\n",
      "1/1 [==============================] - 0s 61ms/step\n"
     ]
    },
    {
     "name": "stderr",
     "output_type": "stream",
     "text": [
      " 65%|██████▌   | 1385/2130 [02:10<01:10, 10.63it/s]"
     ]
    },
    {
     "name": "stdout",
     "output_type": "stream",
     "text": [
      "3-115382-A-44.png\n",
      "1/1 [==============================] - 0s 65ms/step\n",
      "3-115387-A-47.png\n",
      "1/1 [==============================] - 0s 57ms/step\n"
     ]
    },
    {
     "name": "stderr",
     "output_type": "stream",
     "text": [
      " 65%|██████▌   | 1387/2130 [02:10<01:09, 10.68it/s]"
     ]
    },
    {
     "name": "stdout",
     "output_type": "stream",
     "text": [
      "3-115387-B-47.png\n",
      "1/1 [==============================] - 0s 59ms/step\n",
      "3-115387-C-47.png\n",
      "1/1 [==============================] - 0s 62ms/step\n"
     ]
    },
    {
     "name": "stderr",
     "output_type": "stream",
     "text": [
      " 65%|██████▌   | 1389/2130 [02:10<01:08, 10.82it/s]"
     ]
    },
    {
     "name": "stdout",
     "output_type": "stream",
     "text": [
      "3-117504-A-16.png\n",
      "1/1 [==============================] - 0s 68ms/step\n",
      "3-117504-B-16.png\n",
      "1/1 [==============================] - 0s 60ms/step\n"
     ]
    },
    {
     "name": "stderr",
     "output_type": "stream",
     "text": [
      " 65%|██████▌   | 1391/2130 [02:10<01:09, 10.70it/s]"
     ]
    },
    {
     "name": "stdout",
     "output_type": "stream",
     "text": [
      "3-117793-A-37.png\n",
      "1/1 [==============================] - 0s 58ms/step\n",
      "3-117883-A-37.png\n",
      "1/1 [==============================] - 0s 58ms/step\n"
     ]
    },
    {
     "name": "stderr",
     "output_type": "stream",
     "text": [
      " 65%|██████▌   | 1393/2130 [02:11<01:07, 10.93it/s]"
     ]
    },
    {
     "name": "stdout",
     "output_type": "stream",
     "text": [
      "3-118487-A-26.png\n",
      "1/1 [==============================] - 0s 63ms/step\n",
      "3-118656-A-41.png\n",
      "1/1 [==============================] - 0s 63ms/step\n"
     ]
    },
    {
     "name": "stderr",
     "output_type": "stream",
     "text": [
      " 65%|██████▌   | 1395/2130 [02:11<01:07, 10.82it/s]"
     ]
    },
    {
     "name": "stdout",
     "output_type": "stream",
     "text": [
      "3-118657-A-41.png\n",
      "1/1 [==============================] - 0s 60ms/step\n",
      "3-118657-B-41.png\n",
      "1/1 [==============================] - 0s 62ms/step\n"
     ]
    },
    {
     "name": "stderr",
     "output_type": "stream",
     "text": [
      " 66%|██████▌   | 1397/2130 [02:11<01:07, 10.80it/s]"
     ]
    },
    {
     "name": "stdout",
     "output_type": "stream",
     "text": [
      "3-118658-A-41.png\n",
      "1/1 [==============================] - 0s 57ms/step\n",
      "3-118658-B-41.png\n",
      "1/1 [==============================] - 0s 57ms/step\n"
     ]
    },
    {
     "name": "stderr",
     "output_type": "stream",
     "text": [
      " 66%|██████▌   | 1399/2130 [02:11<01:06, 11.04it/s]"
     ]
    },
    {
     "name": "stdout",
     "output_type": "stream",
     "text": [
      "3-118972-A-41.png\n",
      "1/1 [==============================] - 0s 57ms/step\n",
      "3-118972-B-41.png\n",
      "1/1 [==============================] - 0s 56ms/step\n"
     ]
    },
    {
     "name": "stderr",
     "output_type": "stream",
     "text": [
      " 66%|██████▌   | 1401/2130 [02:11<01:05, 11.21it/s]"
     ]
    },
    {
     "name": "stdout",
     "output_type": "stream",
     "text": [
      "3-119455-A-44.png\n",
      "1/1 [==============================] - 0s 59ms/step\n",
      "3-119459-A-26.png\n",
      "1/1 [==============================] - 0s 58ms/step\n"
     ]
    },
    {
     "name": "stderr",
     "output_type": "stream",
     "text": [
      " 66%|██████▌   | 1403/2130 [02:11<01:05, 11.10it/s]"
     ]
    },
    {
     "name": "stdout",
     "output_type": "stream",
     "text": [
      "3-120526-A-37.png\n",
      "1/1 [==============================] - 0s 60ms/step\n",
      "3-120526-B-37.png\n",
      "1/1 [==============================] - 0s 56ms/step\n"
     ]
    },
    {
     "name": "stderr",
     "output_type": "stream",
     "text": [
      " 66%|██████▌   | 1405/2130 [02:12<01:05, 11.14it/s]"
     ]
    },
    {
     "name": "stdout",
     "output_type": "stream",
     "text": [
      "3-120644-A-12.png\n",
      "1/1 [==============================] - 0s 56ms/step\n",
      "3-123086-A-28.png\n",
      "1/1 [==============================] - 0s 62ms/step\n"
     ]
    },
    {
     "name": "stderr",
     "output_type": "stream",
     "text": [
      " 66%|██████▌   | 1407/2130 [02:12<01:07, 10.79it/s]"
     ]
    },
    {
     "name": "stdout",
     "output_type": "stream",
     "text": [
      "3-123224-A-19.png\n",
      "1/1 [==============================] - 0s 56ms/step\n",
      "3-124600-A-19.png\n",
      "1/1 [==============================] - 0s 60ms/step\n"
     ]
    },
    {
     "name": "stderr",
     "output_type": "stream",
     "text": [
      " 66%|██████▌   | 1409/2130 [02:12<01:05, 10.99it/s]"
     ]
    },
    {
     "name": "stdout",
     "output_type": "stream",
     "text": [
      "3-124795-A-28.png\n",
      "1/1 [==============================] - 0s 64ms/step\n",
      "3-124958-A-28.png\n",
      "1/1 [==============================] - 0s 61ms/step\n"
     ]
    },
    {
     "name": "stderr",
     "output_type": "stream",
     "text": [
      " 66%|██████▌   | 1411/2130 [02:12<01:06, 10.85it/s]"
     ]
    },
    {
     "name": "stdout",
     "output_type": "stream",
     "text": [
      "3-125418-A-24.png\n",
      "1/1 [==============================] - 0s 59ms/step\n",
      "3-126113-A-26.png\n",
      "1/1 [==============================] - 0s 63ms/step\n"
     ]
    },
    {
     "name": "stderr",
     "output_type": "stream",
     "text": [
      " 66%|██████▋   | 1413/2130 [02:12<01:06, 10.78it/s]"
     ]
    },
    {
     "name": "stdout",
     "output_type": "stream",
     "text": [
      "3-127874-A-17.png\n",
      "1/1 [==============================] - 0s 56ms/step\n",
      "3-128160-A-44.png\n",
      "1/1 [==============================] - 0s 62ms/step\n"
     ]
    },
    {
     "name": "stderr",
     "output_type": "stream",
     "text": [
      " 66%|██████▋   | 1415/2130 [02:13<01:05, 10.92it/s]"
     ]
    },
    {
     "name": "stdout",
     "output_type": "stream",
     "text": [
      "3-128512-A-47.png\n",
      "1/1 [==============================] - 0s 64ms/step\n",
      "3-128512-B-47.png\n",
      "1/1 [==============================] - 0s 60ms/step\n"
     ]
    },
    {
     "name": "stderr",
     "output_type": "stream",
     "text": [
      " 67%|██████▋   | 1417/2130 [02:13<01:06, 10.78it/s]"
     ]
    },
    {
     "name": "stdout",
     "output_type": "stream",
     "text": [
      "3-129338-A-13.png\n",
      "1/1 [==============================] - 0s 60ms/step\n",
      "3-129678-A-13.png\n",
      "1/1 [==============================] - 0s 56ms/step\n"
     ]
    },
    {
     "name": "stderr",
     "output_type": "stream",
     "text": [
      " 67%|██████▋   | 1419/2130 [02:13<01:04, 10.97it/s]"
     ]
    },
    {
     "name": "stdout",
     "output_type": "stream",
     "text": [
      "3-130330-A-22.png\n",
      "1/1 [==============================] - 0s 58ms/step\n",
      "3-130998-A-28.png\n",
      "1/1 [==============================] - 0s 63ms/step\n"
     ]
    },
    {
     "name": "stderr",
     "output_type": "stream",
     "text": [
      " 67%|██████▋   | 1421/2130 [02:13<01:04, 10.97it/s]"
     ]
    },
    {
     "name": "stdout",
     "output_type": "stream",
     "text": [
      "3-130998-B-28.png\n",
      "1/1 [==============================] - 0s 62ms/step\n",
      "3-131943-A-37.png\n",
      "1/1 [==============================] - 0s 59ms/step\n"
     ]
    },
    {
     "name": "stderr",
     "output_type": "stream",
     "text": [
      " 67%|██████▋   | 1423/2130 [02:13<01:04, 10.98it/s]"
     ]
    },
    {
     "name": "stdout",
     "output_type": "stream",
     "text": [
      "3-132340-A-37.png\n",
      "1/1 [==============================] - 0s 59ms/step\n",
      "3-132601-A-24.png\n",
      "1/1 [==============================] - 0s 62ms/step\n"
     ]
    },
    {
     "name": "stderr",
     "output_type": "stream",
     "text": [
      " 67%|██████▋   | 1425/2130 [02:13<01:04, 10.96it/s]"
     ]
    },
    {
     "name": "stdout",
     "output_type": "stream",
     "text": [
      "3-132747-A-26.png\n",
      "1/1 [==============================] - 0s 62ms/step\n",
      "3-132852-A-10.png\n",
      "1/1 [==============================] - 0s 60ms/step\n"
     ]
    },
    {
     "name": "stderr",
     "output_type": "stream",
     "text": [
      " 67%|██████▋   | 1427/2130 [02:14<01:05, 10.79it/s]"
     ]
    },
    {
     "name": "stdout",
     "output_type": "stream",
     "text": [
      "3-133977-A-29.png\n",
      "1/1 [==============================] - 0s 57ms/step\n",
      "3-134699-A-16.png\n",
      "1/1 [==============================] - 0s 61ms/step\n"
     ]
    },
    {
     "name": "stderr",
     "output_type": "stream",
     "text": [
      " 67%|██████▋   | 1429/2130 [02:14<01:03, 10.98it/s]"
     ]
    },
    {
     "name": "stdout",
     "output_type": "stream",
     "text": [
      "3-134699-B-16.png\n",
      "1/1 [==============================] - 0s 62ms/step\n",
      "3-134699-C-16.png\n",
      "1/1 [==============================] - 0s 58ms/step\n"
     ]
    },
    {
     "name": "stderr",
     "output_type": "stream",
     "text": [
      " 67%|██████▋   | 1431/2130 [02:14<01:03, 11.03it/s]"
     ]
    },
    {
     "name": "stdout",
     "output_type": "stream",
     "text": [
      "3-134802-A-13.png\n",
      "1/1 [==============================] - 0s 65ms/step\n",
      "3-135650-A-45.png\n",
      "1/1 [==============================] - 0s 62ms/step\n"
     ]
    },
    {
     "name": "stderr",
     "output_type": "stream",
     "text": [
      " 67%|██████▋   | 1433/2130 [02:14<01:03, 10.97it/s]"
     ]
    },
    {
     "name": "stdout",
     "output_type": "stream",
     "text": [
      "3-135650-B-45.png\n",
      "1/1 [==============================] - 0s 55ms/step\n",
      "3-136288-A-0.png\n",
      "1/1 [==============================] - 0s 65ms/step\n"
     ]
    },
    {
     "name": "stderr",
     "output_type": "stream",
     "text": [
      " 67%|██████▋   | 1435/2130 [02:14<01:02, 11.10it/s]"
     ]
    },
    {
     "name": "stdout",
     "output_type": "stream",
     "text": [
      "3-136451-A-45.png\n",
      "1/1 [==============================] - 0s 62ms/step\n",
      "3-136608-A-16.png\n",
      "1/1 [==============================] - 0s 58ms/step\n"
     ]
    },
    {
     "name": "stderr",
     "output_type": "stream",
     "text": [
      " 67%|██████▋   | 1437/2130 [02:15<01:03, 10.98it/s]"
     ]
    },
    {
     "name": "stdout",
     "output_type": "stream",
     "text": [
      "3-138114-A-22.png\n",
      "1/1 [==============================] - 0s 58ms/step\n",
      "3-138212-A-45.png\n",
      "1/1 [==============================] - 0s 57ms/step\n"
     ]
    },
    {
     "name": "stderr",
     "output_type": "stream",
     "text": [
      " 68%|██████▊   | 1439/2130 [02:15<01:01, 11.16it/s]"
     ]
    },
    {
     "name": "stdout",
     "output_type": "stream",
     "text": [
      "3-139958-A-37.png\n",
      "1/1 [==============================] - 0s 58ms/step\n",
      "3-140323-A-29.png\n",
      "1/1 [==============================] - 0s 60ms/step\n"
     ]
    },
    {
     "name": "stderr",
     "output_type": "stream",
     "text": [
      " 68%|██████▊   | 1441/2130 [02:15<01:01, 11.19it/s]"
     ]
    },
    {
     "name": "stdout",
     "output_type": "stream",
     "text": [
      "3-140774-A-10.png\n",
      "1/1 [==============================] - 0s 65ms/step\n",
      "3-141240-A-44.png\n",
      "1/1 [==============================] - 0s 68ms/step\n"
     ]
    },
    {
     "name": "stderr",
     "output_type": "stream",
     "text": [
      " 68%|██████▊   | 1443/2130 [02:15<01:02, 10.91it/s]"
     ]
    },
    {
     "name": "stdout",
     "output_type": "stream",
     "text": [
      "3-141240-B-44.png\n",
      "1/1 [==============================] - 0s 63ms/step\n",
      "3-141559-A-45.png\n",
      "1/1 [==============================] - 0s 59ms/step\n"
     ]
    },
    {
     "name": "stderr",
     "output_type": "stream",
     "text": [
      " 68%|██████▊   | 1445/2130 [02:15<01:02, 10.93it/s]"
     ]
    },
    {
     "name": "stdout",
     "output_type": "stream",
     "text": [
      "3-141684-A-21.png\n",
      "1/1 [==============================] - 0s 64ms/step\n",
      "3-142005-A-10.png\n",
      "1/1 [==============================] - 0s 62ms/step\n"
     ]
    },
    {
     "name": "stderr",
     "output_type": "stream",
     "text": [
      " 68%|██████▊   | 1447/2130 [02:15<01:04, 10.67it/s]"
     ]
    },
    {
     "name": "stdout",
     "output_type": "stream",
     "text": [
      "3-142006-A-10.png\n",
      "1/1 [==============================] - 0s 63ms/step\n",
      "3-142349-A-17.png\n",
      "1/1 [==============================] - 0s 64ms/step\n"
     ]
    },
    {
     "name": "stderr",
     "output_type": "stream",
     "text": [
      " 68%|██████▊   | 1449/2130 [02:16<01:03, 10.66it/s]"
     ]
    },
    {
     "name": "stdout",
     "output_type": "stream",
     "text": [
      "3-142593-A-38.png\n",
      "1/1 [==============================] - 0s 67ms/step\n",
      "3-142601-A-21.png\n",
      "1/1 [==============================] - 0s 62ms/step\n"
     ]
    },
    {
     "name": "stderr",
     "output_type": "stream",
     "text": [
      " 68%|██████▊   | 1451/2130 [02:16<01:03, 10.65it/s]"
     ]
    },
    {
     "name": "stdout",
     "output_type": "stream",
     "text": [
      "3-142604-A-24.png\n",
      "1/1 [==============================] - 0s 58ms/step\n",
      "3-142605-A-21.png\n",
      "1/1 [==============================] - 0s 57ms/step\n"
     ]
    },
    {
     "name": "stderr",
     "output_type": "stream",
     "text": [
      " 68%|██████▊   | 1453/2130 [02:16<01:01, 10.93it/s]"
     ]
    },
    {
     "name": "stdout",
     "output_type": "stream",
     "text": [
      "3-143119-A-21.png\n",
      "1/1 [==============================] - 0s 60ms/step\n",
      "3-143560-A-47.png\n",
      "1/1 [==============================] - 0s 64ms/step\n"
     ]
    },
    {
     "name": "stderr",
     "output_type": "stream",
     "text": [
      " 68%|██████▊   | 1455/2130 [02:16<01:01, 10.95it/s]"
     ]
    },
    {
     "name": "stdout",
     "output_type": "stream",
     "text": [
      "3-143562-A-47.png\n",
      "1/1 [==============================] - 0s 69ms/step\n",
      "3-143929-A-10.png\n",
      "1/1 [==============================] - 0s 58ms/step\n"
     ]
    },
    {
     "name": "stderr",
     "output_type": "stream",
     "text": [
      " 68%|██████▊   | 1457/2130 [02:16<01:02, 10.75it/s]"
     ]
    },
    {
     "name": "stdout",
     "output_type": "stream",
     "text": [
      "3-143933-A-38.png\n",
      "1/1 [==============================] - 0s 58ms/step\n",
      "3-144028-A-0.png\n",
      "1/1 [==============================] - 0s 72ms/step\n"
     ]
    },
    {
     "name": "stderr",
     "output_type": "stream",
     "text": [
      " 68%|██████▊   | 1459/2130 [02:17<01:02, 10.71it/s]"
     ]
    },
    {
     "name": "stdout",
     "output_type": "stream",
     "text": [
      "3-144128-A-23.png\n",
      "1/1 [==============================] - 0s 72ms/step\n",
      "3-144128-B-23.png\n",
      "1/1 [==============================] - 0s 67ms/step\n"
     ]
    },
    {
     "name": "stderr",
     "output_type": "stream",
     "text": [
      " 69%|██████▊   | 1461/2130 [02:17<01:03, 10.51it/s]"
     ]
    },
    {
     "name": "stdout",
     "output_type": "stream",
     "text": [
      "3-144253-A-29.png\n",
      "1/1 [==============================] - 0s 63ms/step\n",
      "3-144259-A-29.png\n",
      "1/1 [==============================] - 0s 65ms/step\n"
     ]
    },
    {
     "name": "stderr",
     "output_type": "stream",
     "text": [
      " 69%|██████▊   | 1463/2130 [02:17<01:03, 10.55it/s]"
     ]
    },
    {
     "name": "stdout",
     "output_type": "stream",
     "text": [
      "3-144692-A-21.png\n",
      "1/1 [==============================] - 0s 63ms/step\n",
      "3-144827-A-11.png\n",
      "1/1 [==============================] - 0s 78ms/step\n"
     ]
    },
    {
     "name": "stderr",
     "output_type": "stream",
     "text": [
      " 69%|██████▉   | 1465/2130 [02:17<01:06, 10.03it/s]"
     ]
    },
    {
     "name": "stdout",
     "output_type": "stream",
     "text": [
      "3-144827-B-11.png\n",
      "1/1 [==============================] - 0s 60ms/step\n",
      "3-144891-A-19.png\n",
      "1/1 [==============================] - 0s 53ms/step\n"
     ]
    },
    {
     "name": "stderr",
     "output_type": "stream",
     "text": [
      " 69%|██████▉   | 1467/2130 [02:17<01:04, 10.27it/s]"
     ]
    },
    {
     "name": "stdout",
     "output_type": "stream",
     "text": [
      "3-144891-B-19.png\n",
      "1/1 [==============================] - 0s 55ms/step\n",
      "3-145387-A-29.png\n",
      "1/1 [==============================] - 0s 62ms/step\n"
     ]
    },
    {
     "name": "stderr",
     "output_type": "stream",
     "text": [
      " 69%|██████▉   | 1469/2130 [02:18<01:02, 10.52it/s]"
     ]
    },
    {
     "name": "stdout",
     "output_type": "stream",
     "text": [
      "3-145487-A-24.png\n",
      "1/1 [==============================] - 0s 61ms/step\n",
      "3-145577-A-43.png\n",
      "1/1 [==============================] - 0s 58ms/step\n"
     ]
    },
    {
     "name": "stderr",
     "output_type": "stream",
     "text": [
      " 69%|██████▉   | 1471/2130 [02:18<01:01, 10.69it/s]"
     ]
    },
    {
     "name": "stdout",
     "output_type": "stream",
     "text": [
      "3-145719-A-17.png\n",
      "1/1 [==============================] - 0s 58ms/step\n",
      "3-145774-A-12.png\n",
      "1/1 [==============================] - 0s 58ms/step\n"
     ]
    },
    {
     "name": "stderr",
     "output_type": "stream",
     "text": [
      " 69%|██████▉   | 1473/2130 [02:18<01:00, 10.87it/s]"
     ]
    },
    {
     "name": "stdout",
     "output_type": "stream",
     "text": [
      "3-146033-A-13.png\n",
      "1/1 [==============================] - 0s 58ms/step\n",
      "3-146186-A-44.png\n",
      "1/1 [==============================] - 0s 67ms/step\n"
     ]
    },
    {
     "name": "stderr",
     "output_type": "stream",
     "text": [
      " 69%|██████▉   | 1475/2130 [02:18<01:00, 10.85it/s]"
     ]
    },
    {
     "name": "stdout",
     "output_type": "stream",
     "text": [
      "3-146697-A-43.png\n",
      "1/1 [==============================] - 0s 64ms/step\n",
      "3-146873-A-24.png\n",
      "1/1 [==============================] - 0s 61ms/step\n"
     ]
    },
    {
     "name": "stderr",
     "output_type": "stream",
     "text": [
      " 69%|██████▉   | 1477/2130 [02:18<01:00, 10.73it/s]"
     ]
    },
    {
     "name": "stdout",
     "output_type": "stream",
     "text": [
      "3-146964-A-5.png\n",
      "1/1 [==============================] - 0s 61ms/step\n",
      "3-146965-A-5.png\n",
      "1/1 [==============================] - 0s 59ms/step\n"
     ]
    },
    {
     "name": "stderr",
     "output_type": "stream",
     "text": [
      " 69%|██████▉   | 1479/2130 [02:18<00:59, 10.86it/s]"
     ]
    },
    {
     "name": "stdout",
     "output_type": "stream",
     "text": [
      "3-146972-A-5.png\n",
      "1/1 [==============================] - 0s 58ms/step\n",
      "3-147342-A-34.png\n",
      "1/1 [==============================] - 0s 58ms/step\n"
     ]
    },
    {
     "name": "stderr",
     "output_type": "stream",
     "text": [
      " 70%|██████▉   | 1481/2130 [02:19<00:58, 11.08it/s]"
     ]
    },
    {
     "name": "stdout",
     "output_type": "stream",
     "text": [
      "3-147343-A-34.png\n",
      "1/1 [==============================] - 0s 58ms/step\n",
      "3-147965-A-12.png\n",
      "1/1 [==============================] - 0s 59ms/step\n"
     ]
    },
    {
     "name": "stderr",
     "output_type": "stream",
     "text": [
      " 70%|██████▉   | 1483/2130 [02:19<00:57, 11.20it/s]"
     ]
    },
    {
     "name": "stdout",
     "output_type": "stream",
     "text": [
      "3-148297-A-37.png\n",
      "1/1 [==============================] - 0s 63ms/step\n",
      "3-148330-A-21.png\n",
      "1/1 [==============================] - 0s 61ms/step\n"
     ]
    },
    {
     "name": "stderr",
     "output_type": "stream",
     "text": [
      " 70%|██████▉   | 1485/2130 [02:19<00:58, 11.10it/s]"
     ]
    },
    {
     "name": "stdout",
     "output_type": "stream",
     "text": [
      "3-148932-A-34.png\n",
      "1/1 [==============================] - 0s 60ms/step\n",
      "3-149042-A-24.png\n",
      "1/1 [==============================] - 0s 59ms/step\n"
     ]
    },
    {
     "name": "stderr",
     "output_type": "stream",
     "text": [
      " 70%|██████▉   | 1487/2130 [02:19<00:58, 11.06it/s]"
     ]
    },
    {
     "name": "stdout",
     "output_type": "stream",
     "text": [
      "3-149448-A-17.png\n",
      "1/1 [==============================] - 0s 64ms/step\n",
      "3-149465-A-22.png\n",
      "1/1 [==============================] - 0s 66ms/step\n"
     ]
    },
    {
     "name": "stderr",
     "output_type": "stream",
     "text": [
      " 70%|██████▉   | 1489/2130 [02:19<00:59, 10.86it/s]"
     ]
    },
    {
     "name": "stdout",
     "output_type": "stream",
     "text": [
      "3-150231-A-21.png\n",
      "1/1 [==============================] - 0s 63ms/step\n",
      "3-150363-A-38.png\n",
      "1/1 [==============================] - 0s 57ms/step\n"
     ]
    },
    {
     "name": "stderr",
     "output_type": "stream",
     "text": [
      " 70%|███████   | 1491/2130 [02:20<00:58, 10.88it/s]"
     ]
    },
    {
     "name": "stdout",
     "output_type": "stream",
     "text": [
      "3-150979-A-40.png\n",
      "1/1 [==============================] - 0s 60ms/step\n",
      "3-150979-B-40.png\n",
      "1/1 [==============================] - 0s 68ms/step\n"
     ]
    },
    {
     "name": "stderr",
     "output_type": "stream",
     "text": [
      " 70%|███████   | 1493/2130 [02:20<00:58, 10.84it/s]"
     ]
    },
    {
     "name": "stdout",
     "output_type": "stream",
     "text": [
      "3-150979-C-40.png\n",
      "1/1 [==============================] - 0s 70ms/step\n",
      "3-151206-A-23.png\n",
      "1/1 [==============================] - 0s 66ms/step\n"
     ]
    },
    {
     "name": "stderr",
     "output_type": "stream",
     "text": [
      " 70%|███████   | 1495/2130 [02:20<00:59, 10.66it/s]"
     ]
    },
    {
     "name": "stdout",
     "output_type": "stream",
     "text": [
      "3-151212-A-24.png\n",
      "1/1 [==============================] - 0s 59ms/step\n",
      "3-151213-A-24.png\n",
      "1/1 [==============================] - 0s 58ms/step\n"
     ]
    },
    {
     "name": "stderr",
     "output_type": "stream",
     "text": [
      " 70%|███████   | 1497/2130 [02:20<00:58, 10.77it/s]"
     ]
    },
    {
     "name": "stdout",
     "output_type": "stream",
     "text": [
      "3-151255-A-28.png\n",
      "1/1 [==============================] - 0s 57ms/step\n",
      "3-151557-A-28.png\n",
      "1/1 [==============================] - 0s 64ms/step\n"
     ]
    },
    {
     "name": "stderr",
     "output_type": "stream",
     "text": [
      " 70%|███████   | 1499/2130 [02:20<00:58, 10.87it/s]"
     ]
    },
    {
     "name": "stdout",
     "output_type": "stream",
     "text": [
      "3-151557-B-28.png\n",
      "1/1 [==============================] - 0s 62ms/step\n",
      "3-152912-A-26.png\n",
      "1/1 [==============================] - 0s 58ms/step\n"
     ]
    },
    {
     "name": "stderr",
     "output_type": "stream",
     "text": [
      " 70%|███████   | 1501/2130 [02:20<00:57, 10.98it/s]"
     ]
    },
    {
     "name": "stdout",
     "output_type": "stream",
     "text": [
      "3-152997-A-26.png\n",
      "1/1 [==============================] - 0s 60ms/step\n",
      "3-153057-A-43.png\n",
      "1/1 [==============================] - 0s 65ms/step\n"
     ]
    },
    {
     "name": "stderr",
     "output_type": "stream",
     "text": [
      " 71%|███████   | 1503/2130 [02:21<00:57, 10.94it/s]"
     ]
    },
    {
     "name": "stdout",
     "output_type": "stream",
     "text": [
      "3-154439-A-17.png\n",
      "1/1 [==============================] - 0s 75ms/step\n",
      "3-154758-A-44.png\n",
      "1/1 [==============================] - 0s 58ms/step\n"
     ]
    },
    {
     "name": "stderr",
     "output_type": "stream",
     "text": [
      " 71%|███████   | 1505/2130 [02:21<00:58, 10.71it/s]"
     ]
    },
    {
     "name": "stdout",
     "output_type": "stream",
     "text": [
      "3-154926-A-40.png\n",
      "1/1 [==============================] - 0s 56ms/step\n",
      "3-154926-B-40.png\n",
      "1/1 [==============================] - 0s 58ms/step\n"
     ]
    },
    {
     "name": "stderr",
     "output_type": "stream",
     "text": [
      " 71%|███████   | 1507/2130 [02:21<00:57, 10.88it/s]"
     ]
    },
    {
     "name": "stdout",
     "output_type": "stream",
     "text": [
      "3-155130-A-43.png\n",
      "1/1 [==============================] - 0s 59ms/step\n",
      "3-155234-A-43.png\n",
      "1/1 [==============================] - 0s 63ms/step\n"
     ]
    },
    {
     "name": "stderr",
     "output_type": "stream",
     "text": [
      " 71%|███████   | 1509/2130 [02:21<00:57, 10.84it/s]"
     ]
    },
    {
     "name": "stdout",
     "output_type": "stream",
     "text": [
      "3-155312-A-0.png\n",
      "1/1 [==============================] - 0s 62ms/step\n",
      "3-155642-A-11.png\n",
      "1/1 [==============================] - 0s 65ms/step\n"
     ]
    },
    {
     "name": "stderr",
     "output_type": "stream",
     "text": [
      " 71%|███████   | 1511/2130 [02:21<00:57, 10.69it/s]"
     ]
    },
    {
     "name": "stdout",
     "output_type": "stream",
     "text": [
      "3-155642-B-11.png\n",
      "1/1 [==============================] - 0s 94ms/step\n",
      "3-155659-A-34.png\n",
      "1/1 [==============================] - 0s 92ms/step\n"
     ]
    },
    {
     "name": "stderr",
     "output_type": "stream",
     "text": [
      " 71%|███████   | 1513/2130 [02:22<01:05,  9.40it/s]"
     ]
    },
    {
     "name": "stdout",
     "output_type": "stream",
     "text": [
      "3-155766-A-13.png\n",
      "1/1 [==============================] - 0s 74ms/step\n"
     ]
    },
    {
     "name": "stderr",
     "output_type": "stream",
     "text": [
      " 71%|███████   | 1514/2130 [02:22<01:05,  9.36it/s]"
     ]
    },
    {
     "name": "stdout",
     "output_type": "stream",
     "text": [
      "3-156558-A-21.png\n",
      "1/1 [==============================] - 0s 60ms/step\n",
      "3-156907-A-15.png\n",
      "1/1 [==============================] - 0s 57ms/step\n"
     ]
    },
    {
     "name": "stderr",
     "output_type": "stream",
     "text": [
      " 71%|███████   | 1516/2130 [02:22<01:03,  9.72it/s]"
     ]
    },
    {
     "name": "stdout",
     "output_type": "stream",
     "text": [
      "3-157149-A-10.png\n",
      "1/1 [==============================] - 0s 63ms/step\n",
      "3-157187-A-12.png\n",
      "1/1 [==============================] - 0s 71ms/step\n"
     ]
    },
    {
     "name": "stderr",
     "output_type": "stream",
     "text": [
      " 71%|███████▏  | 1518/2130 [02:22<01:03,  9.61it/s]"
     ]
    },
    {
     "name": "stdout",
     "output_type": "stream",
     "text": [
      "3-157487-A-10.png\n",
      "1/1 [==============================] - 0s 71ms/step\n"
     ]
    },
    {
     "name": "stderr",
     "output_type": "stream",
     "text": [
      " 71%|███████▏  | 1519/2130 [02:22<01:04,  9.44it/s]"
     ]
    },
    {
     "name": "stdout",
     "output_type": "stream",
     "text": [
      "3-157492-A-45.png\n",
      "1/1 [==============================] - 0s 60ms/step\n"
     ]
    },
    {
     "name": "stderr",
     "output_type": "stream",
     "text": [
      " 71%|███████▏  | 1520/2130 [02:22<01:04,  9.40it/s]"
     ]
    },
    {
     "name": "stdout",
     "output_type": "stream",
     "text": [
      "3-157615-A-10.png\n",
      "1/1 [==============================] - 0s 57ms/step\n",
      "3-157695-A-0.png\n",
      "1/1 [==============================] - 0s 59ms/step\n"
     ]
    },
    {
     "name": "stderr",
     "output_type": "stream",
     "text": [
      " 71%|███████▏  | 1522/2130 [02:23<01:00,  9.98it/s]"
     ]
    },
    {
     "name": "stdout",
     "output_type": "stream",
     "text": [
      "3-158476-A-12.png\n",
      "1/1 [==============================] - 0s 62ms/step\n",
      "3-159445-A-45.png\n",
      "1/1 [==============================] - 0s 59ms/step\n"
     ]
    },
    {
     "name": "stderr",
     "output_type": "stream",
     "text": [
      " 72%|███████▏  | 1524/2130 [02:23<00:58, 10.33it/s]"
     ]
    },
    {
     "name": "stdout",
     "output_type": "stream",
     "text": [
      "3-159445-B-45.png\n",
      "1/1 [==============================] - 0s 59ms/step\n",
      "3-160119-A-15.png\n",
      "1/1 [==============================] - 0s 57ms/step\n"
     ]
    },
    {
     "name": "stderr",
     "output_type": "stream",
     "text": [
      " 72%|███████▏  | 1526/2130 [02:23<00:57, 10.54it/s]"
     ]
    },
    {
     "name": "stdout",
     "output_type": "stream",
     "text": [
      "3-161010-A-43.png\n",
      "1/1 [==============================] - 0s 60ms/step\n",
      "3-161500-A-17.png\n",
      "1/1 [==============================] - 0s 55ms/step\n"
     ]
    },
    {
     "name": "stderr",
     "output_type": "stream",
     "text": [
      " 72%|███████▏  | 1528/2130 [02:23<00:55, 10.85it/s]"
     ]
    },
    {
     "name": "stdout",
     "output_type": "stream",
     "text": [
      "3-162786-A-13.png\n",
      "1/1 [==============================] - 0s 60ms/step\n",
      "3-163459-A-0.png\n",
      "1/1 [==============================] - 0s 56ms/step\n"
     ]
    },
    {
     "name": "stderr",
     "output_type": "stream",
     "text": [
      " 72%|███████▏  | 1530/2130 [02:23<00:54, 11.04it/s]"
     ]
    },
    {
     "name": "stdout",
     "output_type": "stream",
     "text": [
      "3-163607-A-13.png\n",
      "1/1 [==============================] - 0s 61ms/step\n",
      "3-163607-B-13.png\n",
      "1/1 [==============================] - 0s 59ms/step\n"
     ]
    },
    {
     "name": "stderr",
     "output_type": "stream",
     "text": [
      " 72%|███████▏  | 1532/2130 [02:23<00:53, 11.08it/s]"
     ]
    },
    {
     "name": "stdout",
     "output_type": "stream",
     "text": [
      "3-164120-A-11.png\n",
      "1/1 [==============================] - 0s 58ms/step\n",
      "3-164592-A-15.png\n",
      "1/1 [==============================] - 0s 62ms/step\n"
     ]
    },
    {
     "name": "stderr",
     "output_type": "stream",
     "text": [
      " 72%|███████▏  | 1534/2130 [02:24<00:53, 11.17it/s]"
     ]
    },
    {
     "name": "stdout",
     "output_type": "stream",
     "text": [
      "3-164593-A-15.png\n",
      "1/1 [==============================] - 0s 61ms/step\n",
      "3-164594-A-15.png\n",
      "1/1 [==============================] - 0s 60ms/step\n"
     ]
    },
    {
     "name": "stderr",
     "output_type": "stream",
     "text": [
      " 72%|███████▏  | 1536/2130 [02:24<00:53, 11.08it/s]"
     ]
    },
    {
     "name": "stdout",
     "output_type": "stream",
     "text": [
      "3-164595-A-15.png\n",
      "1/1 [==============================] - 0s 60ms/step\n",
      "3-164630-A-11.png\n",
      "1/1 [==============================] - 0s 61ms/step\n"
     ]
    },
    {
     "name": "stderr",
     "output_type": "stream",
     "text": [
      " 72%|███████▏  | 1538/2130 [02:24<00:53, 11.12it/s]"
     ]
    },
    {
     "name": "stdout",
     "output_type": "stream",
     "text": [
      "3-164688-A-38.png\n",
      "1/1 [==============================] - 0s 59ms/step\n",
      "3-165856-A-41.png\n",
      "1/1 [==============================] - 0s 56ms/step\n"
     ]
    },
    {
     "name": "stderr",
     "output_type": "stream",
     "text": [
      " 72%|███████▏  | 1540/2130 [02:24<00:52, 11.29it/s]"
     ]
    },
    {
     "name": "stdout",
     "output_type": "stream",
     "text": [
      "3-166125-A-23.png\n",
      "1/1 [==============================] - 0s 61ms/step\n",
      "3-166125-B-23.png\n",
      "1/1 [==============================] - 0s 62ms/step\n"
     ]
    },
    {
     "name": "stderr",
     "output_type": "stream",
     "text": [
      " 72%|███████▏  | 1542/2130 [02:24<00:52, 11.22it/s]"
     ]
    },
    {
     "name": "stdout",
     "output_type": "stream",
     "text": [
      "3-166324-A-15.png\n",
      "1/1 [==============================] - 0s 62ms/step\n",
      "3-166326-A-15.png\n",
      "1/1 [==============================] - 0s 62ms/step\n"
     ]
    },
    {
     "name": "stderr",
     "output_type": "stream",
     "text": [
      " 72%|███████▏  | 1544/2130 [02:25<00:52, 11.15it/s]"
     ]
    },
    {
     "name": "stdout",
     "output_type": "stream",
     "text": [
      "3-166422-A-11.png\n",
      "1/1 [==============================] - 0s 62ms/step\n",
      "3-166546-A-34.png\n",
      "1/1 [==============================] - 0s 56ms/step\n"
     ]
    },
    {
     "name": "stderr",
     "output_type": "stream",
     "text": [
      " 73%|███████▎  | 1546/2130 [02:25<00:52, 11.03it/s]"
     ]
    },
    {
     "name": "stdout",
     "output_type": "stream",
     "text": [
      "3-166546-B-34.png\n",
      "1/1 [==============================] - 0s 55ms/step\n",
      "3-169907-A-29.png\n",
      "1/1 [==============================] - 0s 57ms/step\n"
     ]
    },
    {
     "name": "stderr",
     "output_type": "stream",
     "text": [
      " 73%|███████▎  | 1548/2130 [02:25<00:51, 11.26it/s]"
     ]
    },
    {
     "name": "stdout",
     "output_type": "stream",
     "text": [
      "3-170002-A-34.png\n",
      "1/1 [==============================] - 0s 61ms/step\n",
      "3-170015-A-0.png\n",
      "1/1 [==============================] - 0s 57ms/step\n"
     ]
    },
    {
     "name": "stderr",
     "output_type": "stream",
     "text": [
      " 73%|███████▎  | 1550/2130 [02:25<00:51, 11.29it/s]"
     ]
    },
    {
     "name": "stdout",
     "output_type": "stream",
     "text": [
      "3-170377-A-38.png\n",
      "1/1 [==============================] - 0s 62ms/step\n",
      "3-170383-A-38.png\n",
      "1/1 [==============================] - 0s 62ms/step\n"
     ]
    },
    {
     "name": "stderr",
     "output_type": "stream",
     "text": [
      " 73%|███████▎  | 1552/2130 [02:25<00:51, 11.18it/s]"
     ]
    },
    {
     "name": "stdout",
     "output_type": "stream",
     "text": [
      "3-171012-A-38.png\n",
      "1/1 [==============================] - 0s 63ms/step\n",
      "3-171041-A-38.png\n",
      "1/1 [==============================] - 0s 65ms/step\n"
     ]
    },
    {
     "name": "stderr",
     "output_type": "stream",
     "text": [
      " 73%|███████▎  | 1554/2130 [02:25<00:52, 11.01it/s]"
     ]
    },
    {
     "name": "stdout",
     "output_type": "stream",
     "text": [
      "3-171937-A-34.png\n",
      "1/1 [==============================] - 0s 59ms/step\n",
      "3-174840-A-43.png\n",
      "1/1 [==============================] - 0s 57ms/step\n"
     ]
    },
    {
     "name": "stderr",
     "output_type": "stream",
     "text": [
      " 73%|███████▎  | 1556/2130 [02:26<00:51, 11.06it/s]"
     ]
    },
    {
     "name": "stdout",
     "output_type": "stream",
     "text": [
      "3-174866-A-29.png\n",
      "1/1 [==============================] - 0s 58ms/step\n",
      "3-177082-A-22.png\n",
      "1/1 [==============================] - 0s 57ms/step\n"
     ]
    },
    {
     "name": "stderr",
     "output_type": "stream",
     "text": [
      " 73%|███████▎  | 1558/2130 [02:26<00:50, 11.24it/s]"
     ]
    },
    {
     "name": "stdout",
     "output_type": "stream",
     "text": [
      "3-177083-A-22.png\n",
      "1/1 [==============================] - 0s 57ms/step\n",
      "3-180256-A-0.png\n",
      "1/1 [==============================] - 0s 57ms/step\n"
     ]
    },
    {
     "name": "stderr",
     "output_type": "stream",
     "text": [
      " 73%|███████▎  | 1560/2130 [02:26<00:50, 11.34it/s]"
     ]
    },
    {
     "name": "stdout",
     "output_type": "stream",
     "text": [
      "3-180977-A-0.png\n",
      "1/1 [==============================] - 0s 58ms/step\n",
      "3-181278-A-22.png\n",
      "1/1 [==============================] - 0s 54ms/step\n"
     ]
    },
    {
     "name": "stderr",
     "output_type": "stream",
     "text": [
      " 73%|███████▎  | 1562/2130 [02:26<00:49, 11.50it/s]"
     ]
    },
    {
     "name": "stdout",
     "output_type": "stream",
     "text": [
      "3-185456-A-29.png\n",
      "1/1 [==============================] - 0s 63ms/step\n",
      "3-187710-A-11.png\n",
      "1/1 [==============================] - 0s 67ms/step\n"
     ]
    },
    {
     "name": "stderr",
     "output_type": "stream",
     "text": [
      " 73%|███████▎  | 1564/2130 [02:26<00:51, 10.99it/s]"
     ]
    },
    {
     "name": "stdout",
     "output_type": "stream",
     "text": [
      "3-193767-A-47.png\n",
      "1/1 [==============================] - 0s 67ms/step\n",
      "3-197435-A-22.png\n",
      "1/1 [==============================] - 0s 68ms/step\n"
     ]
    },
    {
     "name": "stderr",
     "output_type": "stream",
     "text": [
      " 74%|███████▎  | 1566/2130 [02:27<00:55, 10.20it/s]"
     ]
    },
    {
     "name": "stdout",
     "output_type": "stream",
     "text": [
      "3-197435-B-22.png\n",
      "1/1 [==============================] - 0s 59ms/step\n",
      "3-208820-A-49.png\n",
      "1/1 [==============================] - 0s 68ms/step\n"
     ]
    },
    {
     "name": "stderr",
     "output_type": "stream",
     "text": [
      " 74%|███████▎  | 1568/2130 [02:27<00:54, 10.25it/s]"
     ]
    },
    {
     "name": "stdout",
     "output_type": "stream",
     "text": [
      "3-243726-A-43.png\n",
      "1/1 [==============================] - 0s 58ms/step\n",
      "3-246513-A-16.png\n",
      "1/1 [==============================] - 0s 61ms/step\n"
     ]
    },
    {
     "name": "stderr",
     "output_type": "stream",
     "text": [
      " 74%|███████▎  | 1570/2130 [02:27<00:53, 10.51it/s]"
     ]
    },
    {
     "name": "stdout",
     "output_type": "stream",
     "text": [
      "3-246513-B-16.png\n",
      "1/1 [==============================] - 0s 68ms/step\n",
      "3-259622-A-44.png\n",
      "1/1 [==============================] - 0s 61ms/step\n"
     ]
    },
    {
     "name": "stderr",
     "output_type": "stream",
     "text": [
      " 74%|███████▍  | 1572/2130 [02:27<00:52, 10.58it/s]"
     ]
    },
    {
     "name": "stdout",
     "output_type": "stream",
     "text": [
      "3-65748-A-12.png\n",
      "1/1 [==============================] - 0s 60ms/step\n",
      "3-68630-A-40.png\n",
      "1/1 [==============================] - 0s 61ms/step\n"
     ]
    },
    {
     "name": "stderr",
     "output_type": "stream",
     "text": [
      " 74%|███████▍  | 1574/2130 [02:27<00:51, 10.70it/s]"
     ]
    },
    {
     "name": "stdout",
     "output_type": "stream",
     "text": [
      "3-68630-B-40.png\n",
      "1/1 [==============================] - 0s 57ms/step\n",
      "3-68630-C-40.png\n",
      "1/1 [==============================] - 0s 59ms/step\n"
     ]
    },
    {
     "name": "stderr",
     "output_type": "stream",
     "text": [
      " 74%|███████▍  | 1576/2130 [02:27<00:51, 10.80it/s]"
     ]
    },
    {
     "name": "stdout",
     "output_type": "stream",
     "text": [
      "3-70962-A-4.png\n",
      "1/1 [==============================] - 0s 55ms/step\n",
      "3-70962-B-4.png\n",
      "1/1 [==============================] - 0s 59ms/step\n"
     ]
    },
    {
     "name": "stderr",
     "output_type": "stream",
     "text": [
      " 74%|███████▍  | 1578/2130 [02:28<00:49, 11.07it/s]"
     ]
    },
    {
     "name": "stdout",
     "output_type": "stream",
     "text": [
      "3-70962-C-4.png\n",
      "1/1 [==============================] - 0s 63ms/step\n",
      "3-71964-A-4.png\n",
      "1/1 [==============================] - 0s 61ms/step\n"
     ]
    },
    {
     "name": "stderr",
     "output_type": "stream",
     "text": [
      " 74%|███████▍  | 1580/2130 [02:28<00:49, 11.05it/s]"
     ]
    },
    {
     "name": "stdout",
     "output_type": "stream",
     "text": [
      "3-71964-B-4.png\n",
      "1/1 [==============================] - 0s 64ms/step\n",
      "3-71964-C-4.png\n",
      "1/1 [==============================] - 0s 61ms/step\n"
     ]
    },
    {
     "name": "stderr",
     "output_type": "stream",
     "text": [
      " 74%|███████▍  | 1582/2130 [02:28<00:50, 10.93it/s]"
     ]
    },
    {
     "name": "stdout",
     "output_type": "stream",
     "text": [
      "3-83527-A-4.png\n",
      "1/1 [==============================] - 0s 62ms/step\n",
      "3-95694-A-5.png\n",
      "1/1 [==============================] - 0s 60ms/step\n"
     ]
    },
    {
     "name": "stderr",
     "output_type": "stream",
     "text": [
      " 74%|███████▍  | 1584/2130 [02:28<00:49, 11.04it/s]"
     ]
    },
    {
     "name": "stdout",
     "output_type": "stream",
     "text": [
      "3-95695-A-5.png\n",
      "1/1 [==============================] - 0s 61ms/step\n",
      "3-95695-B-5.png\n",
      "1/1 [==============================] - 0s 57ms/step\n"
     ]
    },
    {
     "name": "stderr",
     "output_type": "stream",
     "text": [
      " 74%|███████▍  | 1586/2130 [02:28<00:49, 11.01it/s]"
     ]
    },
    {
     "name": "stdout",
     "output_type": "stream",
     "text": [
      "3-95697-A-5.png\n",
      "1/1 [==============================] - 0s 57ms/step\n",
      "3-95698-A-5.png\n",
      "1/1 [==============================] - 0s 56ms/step\n"
     ]
    },
    {
     "name": "stderr",
     "output_type": "stream",
     "text": [
      " 75%|███████▍  | 1588/2130 [02:29<00:48, 11.22it/s]"
     ]
    },
    {
     "name": "stdout",
     "output_type": "stream",
     "text": [
      "3-96606-A-49.png\n",
      "1/1 [==============================] - 0s 56ms/step\n",
      "3-96606-B-49.png\n",
      "1/1 [==============================] - 0s 58ms/step\n"
     ]
    },
    {
     "name": "stderr",
     "output_type": "stream",
     "text": [
      " 75%|███████▍  | 1590/2130 [02:29<00:47, 11.30it/s]"
     ]
    },
    {
     "name": "stdout",
     "output_type": "stream",
     "text": [
      "3-97909-A-49.png\n",
      "1/1 [==============================] - 0s 68ms/step\n",
      "3-97909-B-49.png\n",
      "1/1 [==============================] - 0s 65ms/step\n"
     ]
    },
    {
     "name": "stderr",
     "output_type": "stream",
     "text": [
      " 75%|███████▍  | 1592/2130 [02:29<00:48, 11.00it/s]"
     ]
    },
    {
     "name": "stdout",
     "output_type": "stream",
     "text": [
      "3-d11jbDta4_70.png\n",
      "1/1 [==============================] - 0s 69ms/step\n",
      "349pBSodrrw_30.png\n",
      "1/1 [==============================] - 0s 69ms/step\n"
     ]
    },
    {
     "name": "stderr",
     "output_type": "stream",
     "text": [
      " 75%|███████▍  | 1594/2130 [02:29<00:50, 10.65it/s]"
     ]
    },
    {
     "name": "stdout",
     "output_type": "stream",
     "text": [
      "36psxyCUNs4_320.png\n",
      "1/1 [==============================] - 0s 66ms/step\n",
      "3BFAycqkDww_60.png\n",
      "1/1 [==============================] - 0s 56ms/step\n"
     ]
    },
    {
     "name": "stderr",
     "output_type": "stream",
     "text": [
      " 75%|███████▍  | 1596/2130 [02:29<00:50, 10.51it/s]"
     ]
    },
    {
     "name": "stdout",
     "output_type": "stream",
     "text": [
      "3f0ZCi8O_IA_30.png\n",
      "1/1 [==============================] - 0s 57ms/step\n",
      "3hAVsCwWmlM_30.png\n",
      "1/1 [==============================] - 0s 59ms/step\n"
     ]
    },
    {
     "name": "stderr",
     "output_type": "stream",
     "text": [
      " 75%|███████▌  | 1598/2130 [02:29<00:49, 10.79it/s]"
     ]
    },
    {
     "name": "stdout",
     "output_type": "stream",
     "text": [
      "3ksfrj-2Cl4_0.png\n",
      "1/1 [==============================] - 0s 66ms/step\n",
      "3LhckUFtg98_50.png\n",
      "1/1 [==============================] - 0s 61ms/step\n"
     ]
    },
    {
     "name": "stderr",
     "output_type": "stream",
     "text": [
      " 75%|███████▌  | 1600/2130 [02:30<00:49, 10.79it/s]"
     ]
    },
    {
     "name": "stdout",
     "output_type": "stream",
     "text": [
      "3q2iV3MlDkw_30.png\n",
      "1/1 [==============================] - 0s 60ms/step\n",
      "3SspqRANJtU_0.png\n",
      "1/1 [==============================] - 0s 59ms/step\n"
     ]
    },
    {
     "name": "stderr",
     "output_type": "stream",
     "text": [
      " 75%|███████▌  | 1602/2130 [02:30<00:48, 10.98it/s]"
     ]
    },
    {
     "name": "stdout",
     "output_type": "stream",
     "text": [
      "3usZCRPluRY_580.png\n",
      "1/1 [==============================] - 0s 63ms/step\n",
      "3W6ovRy3YH8_260.png\n",
      "1/1 [==============================] - 0s 59ms/step\n"
     ]
    },
    {
     "name": "stderr",
     "output_type": "stream",
     "text": [
      " 75%|███████▌  | 1604/2130 [02:30<00:48, 10.89it/s]"
     ]
    },
    {
     "name": "stdout",
     "output_type": "stream",
     "text": [
      "3yfMPjCNsGw_150.png\n",
      "1/1 [==============================] - 0s 58ms/step\n",
      "3_G1sByIru4_20.png\n",
      "1/1 [==============================] - 0s 58ms/step\n"
     ]
    },
    {
     "name": "stderr",
     "output_type": "stream",
     "text": [
      " 75%|███████▌  | 1606/2130 [02:30<00:47, 11.07it/s]"
     ]
    },
    {
     "name": "stdout",
     "output_type": "stream",
     "text": [
      "4-102844-A-49.png\n",
      "1/1 [==============================] - 0s 58ms/step\n",
      "4-102844-B-49.png\n",
      "1/1 [==============================] - 0s 61ms/step\n"
     ]
    },
    {
     "name": "stderr",
     "output_type": "stream",
     "text": [
      " 75%|███████▌  | 1608/2130 [02:30<00:47, 11.08it/s]"
     ]
    },
    {
     "name": "stdout",
     "output_type": "stream",
     "text": [
      "4-102844-C-49.png\n",
      "1/1 [==============================] - 0s 58ms/step\n",
      "4-120160-A-5.png\n",
      "1/1 [==============================] - 0s 55ms/step\n"
     ]
    },
    {
     "name": "stderr",
     "output_type": "stream",
     "text": [
      " 76%|███████▌  | 1610/2130 [02:31<00:46, 11.26it/s]"
     ]
    },
    {
     "name": "stdout",
     "output_type": "stream",
     "text": [
      "4-125070-A-19.png\n",
      "1/1 [==============================] - 0s 58ms/step\n",
      "4-125071-A-19.png\n",
      "1/1 [==============================] - 0s 60ms/step\n"
     ]
    },
    {
     "name": "stderr",
     "output_type": "stream",
     "text": [
      " 76%|███████▌  | 1612/2130 [02:31<00:45, 11.35it/s]"
     ]
    },
    {
     "name": "stdout",
     "output_type": "stream",
     "text": [
      "4-125072-A-19.png\n",
      "1/1 [==============================] - 0s 61ms/step\n",
      "4-125072-B-19.png\n",
      "1/1 [==============================] - 0s 58ms/step\n"
     ]
    },
    {
     "name": "stderr",
     "output_type": "stream",
     "text": [
      " 76%|███████▌  | 1614/2130 [02:31<00:46, 11.16it/s]"
     ]
    },
    {
     "name": "stdout",
     "output_type": "stream",
     "text": [
      "4-125929-A-40.png\n",
      "1/1 [==============================] - 0s 58ms/step\n",
      "4-130584-A-4.png\n",
      "1/1 [==============================] - 0s 63ms/step\n"
     ]
    },
    {
     "name": "stderr",
     "output_type": "stream",
     "text": [
      " 76%|███████▌  | 1616/2130 [02:31<00:46, 11.17it/s]"
     ]
    },
    {
     "name": "stdout",
     "output_type": "stream",
     "text": [
      "4-130891-A-7.png\n",
      "1/1 [==============================] - 0s 79ms/step\n",
      "4-132803-A-26.png\n",
      "1/1 [==============================] - 0s 66ms/step\n"
     ]
    },
    {
     "name": "stderr",
     "output_type": "stream",
     "text": [
      " 76%|███████▌  | 1618/2130 [02:31<00:50, 10.19it/s]"
     ]
    },
    {
     "name": "stdout",
     "output_type": "stream",
     "text": [
      "4-132810-A-26.png\n",
      "1/1 [==============================] - 0s 59ms/step\n",
      "4-132816-A-26.png\n",
      "1/1 [==============================] - 0s 64ms/step\n"
     ]
    },
    {
     "name": "stderr",
     "output_type": "stream",
     "text": [
      " 76%|███████▌  | 1620/2130 [02:32<00:49, 10.36it/s]"
     ]
    },
    {
     "name": "stdout",
     "output_type": "stream",
     "text": [
      "4-133047-A-5.png\n",
      "1/1 [==============================] - 0s 61ms/step\n",
      "4-133047-B-5.png\n",
      "1/1 [==============================] - 0s 60ms/step\n"
     ]
    },
    {
     "name": "stderr",
     "output_type": "stream",
     "text": [
      " 76%|███████▌  | 1622/2130 [02:32<00:47, 10.62it/s]"
     ]
    },
    {
     "name": "stdout",
     "output_type": "stream",
     "text": [
      "4-133047-C-5.png\n",
      "1/1 [==============================] - 0s 59ms/step\n",
      "4-133674-A-26.png\n",
      "1/1 [==============================] - 0s 63ms/step\n"
     ]
    },
    {
     "name": "stderr",
     "output_type": "stream",
     "text": [
      " 76%|███████▌  | 1624/2130 [02:32<00:47, 10.58it/s]"
     ]
    },
    {
     "name": "stdout",
     "output_type": "stream",
     "text": [
      "4-133895-A-7.png\n",
      "1/1 [==============================] - 0s 59ms/step\n",
      "4-143118-A-7.png\n",
      "1/1 [==============================] - 0s 57ms/step\n"
     ]
    },
    {
     "name": "stderr",
     "output_type": "stream",
     "text": [
      " 76%|███████▋  | 1626/2130 [02:32<00:46, 10.89it/s]"
     ]
    },
    {
     "name": "stdout",
     "output_type": "stream",
     "text": [
      "4-143118-B-7.png\n",
      "1/1 [==============================] - 0s 59ms/step\n",
      "4-144083-A-16.png\n",
      "1/1 [==============================] - 0s 61ms/step\n"
     ]
    },
    {
     "name": "stderr",
     "output_type": "stream",
     "text": [
      " 76%|███████▋  | 1628/2130 [02:32<00:45, 10.99it/s]"
     ]
    },
    {
     "name": "stdout",
     "output_type": "stream",
     "text": [
      "4-144083-B-16.png\n",
      "1/1 [==============================] - 0s 67ms/step\n",
      "4-144083-C-16.png\n",
      "1/1 [==============================] - 0s 60ms/step\n"
     ]
    },
    {
     "name": "stderr",
     "output_type": "stream",
     "text": [
      " 77%|███████▋  | 1630/2130 [02:32<00:45, 10.88it/s]"
     ]
    },
    {
     "name": "stdout",
     "output_type": "stream",
     "text": [
      "4-144085-A-16.png\n",
      "1/1 [==============================] - 0s 58ms/step\n",
      "4-149294-A-41.png\n",
      "1/1 [==============================] - 0s 59ms/step\n"
     ]
    },
    {
     "name": "stderr",
     "output_type": "stream",
     "text": [
      " 77%|███████▋  | 1632/2130 [02:33<00:45, 11.06it/s]"
     ]
    },
    {
     "name": "stdout",
     "output_type": "stream",
     "text": [
      "4-149294-B-41.png\n",
      "1/1 [==============================] - 0s 60ms/step\n",
      "4-149940-A-5.png\n",
      "1/1 [==============================] - 0s 57ms/step\n"
     ]
    },
    {
     "name": "stderr",
     "output_type": "stream",
     "text": [
      " 77%|███████▋  | 1634/2130 [02:33<00:44, 11.09it/s]"
     ]
    },
    {
     "name": "stdout",
     "output_type": "stream",
     "text": [
      "4-149940-B-5.png\n",
      "1/1 [==============================] - 0s 58ms/step\n",
      "4-151242-A-37.png\n",
      "1/1 [==============================] - 0s 60ms/step\n"
     ]
    },
    {
     "name": "stderr",
     "output_type": "stream",
     "text": [
      " 77%|███████▋  | 1636/2130 [02:33<00:44, 11.17it/s]"
     ]
    },
    {
     "name": "stdout",
     "output_type": "stream",
     "text": [
      "4-152995-A-24.png\n",
      "1/1 [==============================] - 0s 61ms/step\n",
      "4-154443-A-24.png\n",
      "1/1 [==============================] - 0s 60ms/step\n"
     ]
    },
    {
     "name": "stderr",
     "output_type": "stream",
     "text": [
      " 77%|███████▋  | 1638/2130 [02:33<00:44, 11.14it/s]"
     ]
    },
    {
     "name": "stdout",
     "output_type": "stream",
     "text": [
      "4-154793-A-4.png\n",
      "1/1 [==============================] - 0s 61ms/step\n",
      "4-155650-A-24.png\n",
      "1/1 [==============================] - 0s 64ms/step\n"
     ]
    },
    {
     "name": "stderr",
     "output_type": "stream",
     "text": [
      " 77%|███████▋  | 1640/2130 [02:33<00:44, 10.96it/s]"
     ]
    },
    {
     "name": "stdout",
     "output_type": "stream",
     "text": [
      "4-155650-B-24.png\n",
      "1/1 [==============================] - 0s 61ms/step\n",
      "4-155670-A-26.png\n",
      "1/1 [==============================] - 0s 87ms/step\n"
     ]
    },
    {
     "name": "stderr",
     "output_type": "stream",
     "text": [
      " 77%|███████▋  | 1642/2130 [02:34<00:48, 10.05it/s]"
     ]
    },
    {
     "name": "stdout",
     "output_type": "stream",
     "text": [
      "4-156843-A-21.png\n",
      "1/1 [==============================] - 0s 68ms/step\n",
      "4-156844-A-21.png\n",
      "1/1 [==============================] - 0s 63ms/step\n"
     ]
    },
    {
     "name": "stderr",
     "output_type": "stream",
     "text": [
      " 77%|███████▋  | 1644/2130 [02:34<00:49,  9.91it/s]"
     ]
    },
    {
     "name": "stdout",
     "output_type": "stream",
     "text": [
      "4-156993-A-19.png\n",
      "1/1 [==============================] - 0s 62ms/step\n",
      "4-157296-A-24.png\n",
      "1/1 [==============================] - 0s 59ms/step\n"
     ]
    },
    {
     "name": "stderr",
     "output_type": "stream",
     "text": [
      " 77%|███████▋  | 1646/2130 [02:34<00:47, 10.21it/s]"
     ]
    },
    {
     "name": "stdout",
     "output_type": "stream",
     "text": [
      "4-157297-A-21.png\n",
      "1/1 [==============================] - 0s 61ms/step\n",
      "4-157611-A-41.png\n",
      "1/1 [==============================] - 0s 61ms/step\n"
     ]
    },
    {
     "name": "stderr",
     "output_type": "stream",
     "text": [
      " 77%|███████▋  | 1648/2130 [02:34<00:46, 10.43it/s]"
     ]
    },
    {
     "name": "stdout",
     "output_type": "stream",
     "text": [
      "4-157611-B-41.png\n",
      "1/1 [==============================] - 0s 64ms/step\n",
      "4-160999-A-10.png\n",
      "1/1 [==============================] - 0s 79ms/step\n"
     ]
    },
    {
     "name": "stderr",
     "output_type": "stream",
     "text": [
      " 77%|███████▋  | 1650/2130 [02:34<00:47, 10.19it/s]"
     ]
    },
    {
     "name": "stdout",
     "output_type": "stream",
     "text": [
      "4-161099-A-47.png\n",
      "1/1 [==============================] - 0s 76ms/step\n",
      "4-161099-B-47.png\n",
      "1/1 [==============================] - 0s 65ms/step\n"
     ]
    },
    {
     "name": "stderr",
     "output_type": "stream",
     "text": [
      " 78%|███████▊  | 1652/2130 [02:35<00:48,  9.78it/s]"
     ]
    },
    {
     "name": "stdout",
     "output_type": "stream",
     "text": [
      "4-161100-A-47.png\n",
      "1/1 [==============================] - 0s 65ms/step\n"
     ]
    },
    {
     "name": "stderr",
     "output_type": "stream",
     "text": [
      " 78%|███████▊  | 1653/2130 [02:35<00:48,  9.75it/s]"
     ]
    },
    {
     "name": "stdout",
     "output_type": "stream",
     "text": [
      "4-161103-A-47.png\n",
      "1/1 [==============================] - 0s 77ms/step\n"
     ]
    },
    {
     "name": "stderr",
     "output_type": "stream",
     "text": [
      " 78%|███████▊  | 1654/2130 [02:35<00:50,  9.35it/s]"
     ]
    },
    {
     "name": "stdout",
     "output_type": "stream",
     "text": [
      "4-161105-A-47.png\n",
      "1/1 [==============================] - 0s 64ms/step\n"
     ]
    },
    {
     "name": "stderr",
     "output_type": "stream",
     "text": [
      " 78%|███████▊  | 1655/2130 [02:35<00:50,  9.45it/s]"
     ]
    },
    {
     "name": "stdout",
     "output_type": "stream",
     "text": [
      "4-161105-B-47.png\n",
      "1/1 [==============================] - 0s 63ms/step\n",
      "4-161127-A-10.png\n",
      "1/1 [==============================] - 0s 63ms/step\n"
     ]
    },
    {
     "name": "stderr",
     "output_type": "stream",
     "text": [
      " 78%|███████▊  | 1657/2130 [02:35<00:49,  9.50it/s]"
     ]
    },
    {
     "name": "stdout",
     "output_type": "stream",
     "text": [
      "4-161303-A-5.png\n",
      "1/1 [==============================] - 0s 72ms/step\n"
     ]
    },
    {
     "name": "stderr",
     "output_type": "stream",
     "text": [
      " 78%|███████▊  | 1658/2130 [02:35<00:49,  9.50it/s]"
     ]
    },
    {
     "name": "stdout",
     "output_type": "stream",
     "text": [
      "4-161303-B-5.png\n",
      "1/1 [==============================] - 0s 78ms/step\n"
     ]
    },
    {
     "name": "stderr",
     "output_type": "stream",
     "text": [
      " 78%|███████▊  | 1659/2130 [02:35<00:51,  9.06it/s]"
     ]
    },
    {
     "name": "stdout",
     "output_type": "stream",
     "text": [
      "4-161519-A-19.png\n",
      "1/1 [==============================] - 0s 79ms/step\n"
     ]
    },
    {
     "name": "stderr",
     "output_type": "stream",
     "text": [
      " 78%|███████▊  | 1660/2130 [02:35<00:54,  8.69it/s]"
     ]
    },
    {
     "name": "stdout",
     "output_type": "stream",
     "text": [
      "4-161579-A-40.png\n",
      "1/1 [==============================] - 0s 175ms/step\n"
     ]
    },
    {
     "name": "stderr",
     "output_type": "stream",
     "text": [
      " 78%|███████▊  | 1661/2130 [02:36<01:09,  6.77it/s]"
     ]
    },
    {
     "name": "stdout",
     "output_type": "stream",
     "text": [
      "4-161579-B-40.png\n",
      "1/1 [==============================] - 0s 106ms/step\n"
     ]
    },
    {
     "name": "stderr",
     "output_type": "stream",
     "text": [
      " 78%|███████▊  | 1662/2130 [02:36<01:12,  6.46it/s]"
     ]
    },
    {
     "name": "stdout",
     "output_type": "stream",
     "text": [
      "4-163264-A-10.png\n",
      "1/1 [==============================] - 0s 91ms/step\n"
     ]
    },
    {
     "name": "stderr",
     "output_type": "stream",
     "text": [
      " 78%|███████▊  | 1663/2130 [02:36<01:10,  6.65it/s]"
     ]
    },
    {
     "name": "stdout",
     "output_type": "stream",
     "text": [
      "4-163606-A-16.png\n",
      "1/1 [==============================] - 0s 107ms/step\n"
     ]
    },
    {
     "name": "stderr",
     "output_type": "stream",
     "text": [
      " 78%|███████▊  | 1664/2130 [02:36<01:14,  6.22it/s]"
     ]
    },
    {
     "name": "stdout",
     "output_type": "stream",
     "text": [
      "4-163608-B-16.png\n",
      "1/1 [==============================] - 0s 90ms/step\n"
     ]
    },
    {
     "name": "stderr",
     "output_type": "stream",
     "text": [
      " 78%|███████▊  | 1665/2130 [02:36<01:19,  5.86it/s]"
     ]
    },
    {
     "name": "stdout",
     "output_type": "stream",
     "text": [
      "4-163609-A-16.png\n",
      "1/1 [==============================] - 0s 74ms/step\n"
     ]
    },
    {
     "name": "stderr",
     "output_type": "stream",
     "text": [
      " 78%|███████▊  | 1666/2130 [02:37<01:11,  6.45it/s]"
     ]
    },
    {
     "name": "stdout",
     "output_type": "stream",
     "text": [
      "4-163609-B-16.png\n",
      "1/1 [==============================] - 0s 74ms/step\n"
     ]
    },
    {
     "name": "stderr",
     "output_type": "stream",
     "text": [
      " 78%|███████▊  | 1667/2130 [02:37<01:05,  7.09it/s]"
     ]
    },
    {
     "name": "stdout",
     "output_type": "stream",
     "text": [
      "4-163697-A-13.png\n",
      "1/1 [==============================] - 0s 65ms/step\n"
     ]
    },
    {
     "name": "stderr",
     "output_type": "stream",
     "text": [
      " 78%|███████▊  | 1668/2130 [02:37<00:59,  7.74it/s]"
     ]
    },
    {
     "name": "stdout",
     "output_type": "stream",
     "text": [
      "4-164206-A-10.png\n",
      "1/1 [==============================] - 0s 64ms/step\n",
      "4-164243-A-26.png\n",
      "1/1 [==============================] - 0s 73ms/step\n"
     ]
    },
    {
     "name": "stderr",
     "output_type": "stream",
     "text": [
      " 78%|███████▊  | 1670/2130 [02:37<00:53,  8.65it/s]"
     ]
    },
    {
     "name": "stdout",
     "output_type": "stream",
     "text": [
      "4-164661-A-12.png\n",
      "1/1 [==============================] - 0s 61ms/step\n",
      "4-164661-B-12.png\n",
      "1/1 [==============================] - 0s 65ms/step\n"
     ]
    },
    {
     "name": "stderr",
     "output_type": "stream",
     "text": [
      " 78%|███████▊  | 1672/2130 [02:37<00:48,  9.38it/s]"
     ]
    },
    {
     "name": "stdout",
     "output_type": "stream",
     "text": [
      "4-165606-A-45.png\n",
      "1/1 [==============================] - 0s 58ms/step\n"
     ]
    },
    {
     "name": "stderr",
     "output_type": "stream",
     "text": [
      " 79%|███████▊  | 1673/2130 [02:37<00:48,  9.49it/s]"
     ]
    },
    {
     "name": "stdout",
     "output_type": "stream",
     "text": [
      "4-165791-A-45.png\n",
      "1/1 [==============================] - 0s 63ms/step\n",
      "4-165791-B-45.png\n",
      "1/1 [==============================] - 0s 65ms/step\n"
     ]
    },
    {
     "name": "stderr",
     "output_type": "stream",
     "text": [
      " 79%|███████▊  | 1675/2130 [02:37<00:45,  9.90it/s]"
     ]
    },
    {
     "name": "stdout",
     "output_type": "stream",
     "text": [
      "4-165813-A-19.png\n",
      "1/1 [==============================] - 0s 63ms/step\n",
      "4-165813-B-19.png\n",
      "1/1 [==============================] - 0s 63ms/step\n"
     ]
    },
    {
     "name": "stderr",
     "output_type": "stream",
     "text": [
      " 79%|███████▊  | 1677/2130 [02:38<00:45, 10.06it/s]"
     ]
    },
    {
     "name": "stdout",
     "output_type": "stream",
     "text": [
      "4-165823-A-41.png\n",
      "1/1 [==============================] - 0s 68ms/step\n",
      "4-165823-B-41.png\n",
      "1/1 [==============================] - 0s 71ms/step\n"
     ]
    },
    {
     "name": "stderr",
     "output_type": "stream",
     "text": [
      " 79%|███████▉  | 1679/2130 [02:38<00:45,  9.97it/s]"
     ]
    },
    {
     "name": "stdout",
     "output_type": "stream",
     "text": [
      "4-165845-A-45.png\n",
      "1/1 [==============================] - 0s 65ms/step\n",
      "4-165845-B-45.png\n",
      "1/1 [==============================] - 0s 65ms/step\n"
     ]
    },
    {
     "name": "stderr",
     "output_type": "stream",
     "text": [
      " 79%|███████▉  | 1681/2130 [02:38<00:44, 10.06it/s]"
     ]
    },
    {
     "name": "stdout",
     "output_type": "stream",
     "text": [
      "4-165933-A-45.png\n",
      "1/1 [==============================] - 0s 64ms/step\n",
      "4-166661-A-10.png\n",
      "1/1 [==============================] - 0s 63ms/step\n"
     ]
    },
    {
     "name": "stderr",
     "output_type": "stream",
     "text": [
      " 79%|███████▉  | 1683/2130 [02:38<00:44, 10.06it/s]"
     ]
    },
    {
     "name": "stdout",
     "output_type": "stream",
     "text": [
      "4-167063-A-11.png\n",
      "1/1 [==============================] - 0s 63ms/step\n",
      "4-167063-B-11.png\n",
      "1/1 [==============================] - 0s 61ms/step\n"
     ]
    },
    {
     "name": "stderr",
     "output_type": "stream",
     "text": [
      " 79%|███████▉  | 1685/2130 [02:38<00:43, 10.22it/s]"
     ]
    },
    {
     "name": "stdout",
     "output_type": "stream",
     "text": [
      "4-167063-C-11.png\n",
      "1/1 [==============================] - 0s 61ms/step\n",
      "4-167571-A-26.png\n",
      "1/1 [==============================] - 0s 58ms/step\n"
     ]
    },
    {
     "name": "stderr",
     "output_type": "stream",
     "text": [
      " 79%|███████▉  | 1687/2130 [02:39<00:42, 10.51it/s]"
     ]
    },
    {
     "name": "stdout",
     "output_type": "stream",
     "text": [
      "4-167642-A-21.png\n",
      "1/1 [==============================] - 0s 58ms/step\n",
      "4-168155-A-15.png\n",
      "1/1 [==============================] - 0s 59ms/step\n"
     ]
    },
    {
     "name": "stderr",
     "output_type": "stream",
     "text": [
      " 79%|███████▉  | 1689/2130 [02:39<00:41, 10.72it/s]"
     ]
    },
    {
     "name": "stdout",
     "output_type": "stream",
     "text": [
      "4-168446-A-45.png\n",
      "1/1 [==============================] - 0s 58ms/step\n",
      "4-168868-A-17.png\n",
      "1/1 [==============================] - 0s 62ms/step\n"
     ]
    },
    {
     "name": "stderr",
     "output_type": "stream",
     "text": [
      " 79%|███████▉  | 1691/2130 [02:39<00:40, 10.80it/s]"
     ]
    },
    {
     "name": "stdout",
     "output_type": "stream",
     "text": [
      "4-169127-A-41.png\n",
      "1/1 [==============================] - 0s 70ms/step\n",
      "4-169127-B-41.png\n",
      "1/1 [==============================] - 0s 88ms/step\n"
     ]
    },
    {
     "name": "stderr",
     "output_type": "stream",
     "text": [
      " 79%|███████▉  | 1693/2130 [02:39<00:44,  9.93it/s]"
     ]
    },
    {
     "name": "stdout",
     "output_type": "stream",
     "text": [
      "4-169508-A-37.png\n",
      "1/1 [==============================] - 0s 57ms/step\n",
      "4-169726-A-24.png\n",
      "1/1 [==============================] - 0s 57ms/step\n"
     ]
    },
    {
     "name": "stderr",
     "output_type": "stream",
     "text": [
      " 80%|███████▉  | 1695/2130 [02:39<00:42, 10.31it/s]"
     ]
    },
    {
     "name": "stdout",
     "output_type": "stream",
     "text": [
      "4-170247-A-12.png\n",
      "1/1 [==============================] - 0s 67ms/step\n",
      "4-170247-B-12.png\n",
      "1/1 [==============================] - 0s 82ms/step\n"
     ]
    },
    {
     "name": "stderr",
     "output_type": "stream",
     "text": [
      " 80%|███████▉  | 1697/2130 [02:40<00:43,  9.94it/s]"
     ]
    },
    {
     "name": "stdout",
     "output_type": "stream",
     "text": [
      "4-171207-A-12.png\n",
      "1/1 [==============================] - 0s 64ms/step\n",
      "4-171396-A-24.png\n",
      "1/1 [==============================] - 0s 63ms/step\n"
     ]
    },
    {
     "name": "stderr",
     "output_type": "stream",
     "text": [
      " 80%|███████▉  | 1699/2130 [02:40<00:43, 10.00it/s]"
     ]
    },
    {
     "name": "stdout",
     "output_type": "stream",
     "text": [
      "4-171519-A-21.png\n",
      "1/1 [==============================] - 0s 71ms/step\n",
      "4-171652-A-44.png\n",
      "1/1 [==============================] - 0s 64ms/step\n"
     ]
    },
    {
     "name": "stderr",
     "output_type": "stream",
     "text": [
      " 80%|███████▉  | 1701/2130 [02:40<00:42, 10.02it/s]"
     ]
    },
    {
     "name": "stdout",
     "output_type": "stream",
     "text": [
      "4-171706-A-23.png\n",
      "1/1 [==============================] - 0s 70ms/step\n",
      "4-171823-A-13.png\n",
      "1/1 [==============================] - 0s 75ms/step\n"
     ]
    },
    {
     "name": "stderr",
     "output_type": "stream",
     "text": [
      " 80%|███████▉  | 1703/2130 [02:40<00:44,  9.58it/s]"
     ]
    },
    {
     "name": "stdout",
     "output_type": "stream",
     "text": [
      "4-172143-A-13.png\n",
      "1/1 [==============================] - 0s 63ms/step\n",
      "4-172366-A-37.png\n",
      "1/1 [==============================] - 0s 61ms/step\n"
     ]
    },
    {
     "name": "stderr",
     "output_type": "stream",
     "text": [
      " 80%|████████  | 1705/2130 [02:40<00:43,  9.77it/s]"
     ]
    },
    {
     "name": "stdout",
     "output_type": "stream",
     "text": [
      "4-172377-A-17.png\n",
      "1/1 [==============================] - 0s 59ms/step\n",
      "4-174797-A-15.png\n",
      "1/1 [==============================] - 0s 67ms/step\n"
     ]
    },
    {
     "name": "stderr",
     "output_type": "stream",
     "text": [
      " 80%|████████  | 1707/2130 [02:41<00:42,  9.99it/s]"
     ]
    },
    {
     "name": "stdout",
     "output_type": "stream",
     "text": [
      "4-175000-A-40.png\n",
      "1/1 [==============================] - 0s 64ms/step\n",
      "4-175000-B-40.png\n",
      "1/1 [==============================] - 0s 65ms/step\n"
     ]
    },
    {
     "name": "stderr",
     "output_type": "stream",
     "text": [
      " 80%|████████  | 1709/2130 [02:41<00:41, 10.04it/s]"
     ]
    },
    {
     "name": "stdout",
     "output_type": "stream",
     "text": [
      "4-175000-C-40.png\n",
      "1/1 [==============================] - 0s 59ms/step\n",
      "4-175025-A-34.png\n",
      "1/1 [==============================] - 0s 59ms/step\n"
     ]
    },
    {
     "name": "stderr",
     "output_type": "stream",
     "text": [
      " 80%|████████  | 1711/2130 [02:41<00:40, 10.30it/s]"
     ]
    },
    {
     "name": "stdout",
     "output_type": "stream",
     "text": [
      "4-175845-A-43.png\n",
      "1/1 [==============================] - 0s 60ms/step\n",
      "4-175846-A-43.png\n",
      "1/1 [==============================] - 0s 61ms/step\n"
     ]
    },
    {
     "name": "stderr",
     "output_type": "stream",
     "text": [
      " 80%|████████  | 1713/2130 [02:41<00:39, 10.48it/s]"
     ]
    },
    {
     "name": "stdout",
     "output_type": "stream",
     "text": [
      "4-175855-A-43.png\n",
      "1/1 [==============================] - 0s 56ms/step\n",
      "4-175856-A-43.png\n",
      "1/1 [==============================] - 0s 61ms/step\n"
     ]
    },
    {
     "name": "stderr",
     "output_type": "stream",
     "text": [
      " 81%|████████  | 1715/2130 [02:41<00:38, 10.72it/s]"
     ]
    },
    {
     "name": "stdout",
     "output_type": "stream",
     "text": [
      "4-175945-A-38.png\n",
      "1/1 [==============================] - 0s 76ms/step\n",
      "4-176631-A-43.png\n",
      "1/1 [==============================] - 0s 76ms/step\n"
     ]
    },
    {
     "name": "stderr",
     "output_type": "stream",
     "text": [
      " 81%|████████  | 1717/2130 [02:42<00:41,  9.93it/s]"
     ]
    },
    {
     "name": "stdout",
     "output_type": "stream",
     "text": [
      "4-176638-A-43.png\n",
      "1/1 [==============================] - 0s 64ms/step\n",
      "4-176914-A-23.png\n",
      "1/1 [==============================] - 0s 61ms/step\n"
     ]
    },
    {
     "name": "stderr",
     "output_type": "stream",
     "text": [
      " 81%|████████  | 1719/2130 [02:42<00:41,  9.99it/s]"
     ]
    },
    {
     "name": "stdout",
     "output_type": "stream",
     "text": [
      "4-177250-A-10.png\n",
      "1/1 [==============================] - 0s 72ms/step\n",
      "4-177835-A-24.png\n",
      "1/1 [==============================] - 0s 73ms/step\n"
     ]
    },
    {
     "name": "stderr",
     "output_type": "stream",
     "text": [
      " 81%|████████  | 1721/2130 [02:42<00:41,  9.85it/s]"
     ]
    },
    {
     "name": "stdout",
     "output_type": "stream",
     "text": [
      "4-178402-A-43.png\n",
      "1/1 [==============================] - 0s 78ms/step\n"
     ]
    },
    {
     "name": "stderr",
     "output_type": "stream",
     "text": [
      " 81%|████████  | 1722/2130 [02:42<00:42,  9.61it/s]"
     ]
    },
    {
     "name": "stdout",
     "output_type": "stream",
     "text": [
      "4-178881-A-45.png\n",
      "1/1 [==============================] - 0s 73ms/step\n"
     ]
    },
    {
     "name": "stderr",
     "output_type": "stream",
     "text": [
      " 81%|████████  | 1723/2130 [02:42<00:43,  9.43it/s]"
     ]
    },
    {
     "name": "stdout",
     "output_type": "stream",
     "text": [
      "4-179836-A-34.png\n",
      "1/1 [==============================] - 0s 62ms/step\n",
      "4-179984-A-38.png\n",
      "1/1 [==============================] - 0s 65ms/step\n"
     ]
    },
    {
     "name": "stderr",
     "output_type": "stream",
     "text": [
      " 81%|████████  | 1725/2130 [02:42<00:41,  9.66it/s]"
     ]
    },
    {
     "name": "stdout",
     "output_type": "stream",
     "text": [
      "4-180337-A-28.png\n",
      "1/1 [==============================] - 0s 62ms/step\n",
      "4-180380-A-10.png\n",
      "1/1 [==============================] - 0s 62ms/step\n"
     ]
    },
    {
     "name": "stderr",
     "output_type": "stream",
     "text": [
      " 81%|████████  | 1727/2130 [02:43<00:40,  9.91it/s]"
     ]
    },
    {
     "name": "stdout",
     "output_type": "stream",
     "text": [
      "4-180453-A-17.png\n",
      "1/1 [==============================] - 0s 60ms/step\n",
      "4-181035-A-38.png\n",
      "1/1 [==============================] - 0s 65ms/step\n"
     ]
    },
    {
     "name": "stderr",
     "output_type": "stream",
     "text": [
      " 81%|████████  | 1729/2130 [02:43<00:39, 10.09it/s]"
     ]
    },
    {
     "name": "stdout",
     "output_type": "stream",
     "text": [
      "4-181286-A-10.png\n",
      "1/1 [==============================] - 0s 72ms/step\n",
      "4-181362-A-13.png\n",
      "1/1 [==============================] - 0s 69ms/step\n"
     ]
    },
    {
     "name": "stderr",
     "output_type": "stream",
     "text": [
      " 81%|████████▏ | 1731/2130 [02:43<00:39,  9.98it/s]"
     ]
    },
    {
     "name": "stdout",
     "output_type": "stream",
     "text": [
      "4-181563-A-12.png\n",
      "1/1 [==============================] - 0s 55ms/step\n",
      "4-181599-A-26.png\n",
      "1/1 [==============================] - 0s 58ms/step\n"
     ]
    },
    {
     "name": "stderr",
     "output_type": "stream",
     "text": [
      " 81%|████████▏ | 1733/2130 [02:43<00:38, 10.31it/s]"
     ]
    },
    {
     "name": "stdout",
     "output_type": "stream",
     "text": [
      "4-181628-A-17.png\n",
      "1/1 [==============================] - 0s 56ms/step\n",
      "4-181865-A-38.png\n",
      "1/1 [==============================] - 0s 61ms/step\n"
     ]
    },
    {
     "name": "stderr",
     "output_type": "stream",
     "text": [
      " 81%|████████▏ | 1735/2130 [02:43<00:37, 10.60it/s]"
     ]
    },
    {
     "name": "stdout",
     "output_type": "stream",
     "text": [
      "4-182314-A-7.png\n",
      "1/1 [==============================] - 0s 70ms/step\n",
      "4-182314-B-7.png\n",
      "1/1 [==============================] - 0s 68ms/step\n"
     ]
    },
    {
     "name": "stderr",
     "output_type": "stream",
     "text": [
      " 82%|████████▏ | 1737/2130 [02:44<00:37, 10.42it/s]"
     ]
    },
    {
     "name": "stdout",
     "output_type": "stream",
     "text": [
      "4-182368-A-12.png\n",
      "1/1 [==============================] - 0s 66ms/step\n",
      "4-182369-A-12.png\n",
      "1/1 [==============================] - 0s 66ms/step\n"
     ]
    },
    {
     "name": "stderr",
     "output_type": "stream",
     "text": [
      " 82%|████████▏ | 1739/2130 [02:44<00:37, 10.37it/s]"
     ]
    },
    {
     "name": "stdout",
     "output_type": "stream",
     "text": [
      "4-182395-A-0.png\n",
      "1/1 [==============================] - 0s 64ms/step\n",
      "4-182613-A-11.png\n",
      "1/1 [==============================] - 0s 64ms/step\n"
     ]
    },
    {
     "name": "stderr",
     "output_type": "stream",
     "text": [
      " 82%|████████▏ | 1741/2130 [02:44<00:37, 10.45it/s]"
     ]
    },
    {
     "name": "stdout",
     "output_type": "stream",
     "text": [
      "4-182613-B-11.png\n",
      "1/1 [==============================] - 0s 63ms/step\n",
      "4-182839-A-17.png\n",
      "1/1 [==============================] - 0s 66ms/step\n"
     ]
    },
    {
     "name": "stderr",
     "output_type": "stream",
     "text": [
      " 82%|████████▏ | 1743/2130 [02:44<00:37, 10.34it/s]"
     ]
    },
    {
     "name": "stdout",
     "output_type": "stream",
     "text": [
      "4-183882-A-28.png\n",
      "1/1 [==============================] - 0s 64ms/step\n",
      "4-183882-B-28.png\n",
      "1/1 [==============================] - 0s 62ms/step\n"
     ]
    },
    {
     "name": "stderr",
     "output_type": "stream",
     "text": [
      " 82%|████████▏ | 1745/2130 [02:44<00:37, 10.21it/s]"
     ]
    },
    {
     "name": "stdout",
     "output_type": "stream",
     "text": [
      "4-183992-A-0.png\n",
      "1/1 [==============================] - 0s 100ms/step\n",
      "4-184235-A-28.png\n",
      "1/1 [==============================] - 0s 62ms/step\n"
     ]
    },
    {
     "name": "stderr",
     "output_type": "stream",
     "text": [
      " 82%|████████▏ | 1747/2130 [02:45<00:39,  9.64it/s]"
     ]
    },
    {
     "name": "stdout",
     "output_type": "stream",
     "text": [
      "4-184237-A-28.png\n",
      "1/1 [==============================] - 0s 58ms/step\n",
      "4-184434-A-21.png\n",
      "1/1 [==============================] - 0s 60ms/step\n"
     ]
    },
    {
     "name": "stderr",
     "output_type": "stream",
     "text": [
      " 82%|████████▏ | 1749/2130 [02:45<00:37, 10.09it/s]"
     ]
    },
    {
     "name": "stdout",
     "output_type": "stream",
     "text": [
      "4-184575-A-0.png\n",
      "1/1 [==============================] - 0s 73ms/step\n",
      "4-185415-A-21.png\n",
      "1/1 [==============================] - 0s 74ms/step\n"
     ]
    },
    {
     "name": "stderr",
     "output_type": "stream",
     "text": [
      " 82%|████████▏ | 1751/2130 [02:45<00:38,  9.91it/s]"
     ]
    },
    {
     "name": "stdout",
     "output_type": "stream",
     "text": [
      "4-185619-A-21.png\n",
      "1/1 [==============================] - 0s 63ms/step\n"
     ]
    },
    {
     "name": "stderr",
     "output_type": "stream",
     "text": [
      " 82%|████████▏ | 1752/2130 [02:45<00:38,  9.87it/s]"
     ]
    },
    {
     "name": "stdout",
     "output_type": "stream",
     "text": [
      "4-186693-A-17.png\n",
      "1/1 [==============================] - 0s 67ms/step\n"
     ]
    },
    {
     "name": "stderr",
     "output_type": "stream",
     "text": [
      " 82%|████████▏ | 1753/2130 [02:45<00:38,  9.90it/s]"
     ]
    },
    {
     "name": "stdout",
     "output_type": "stream",
     "text": [
      "4-186935-A-44.png\n",
      "1/1 [==============================] - 0s 66ms/step\n",
      "4-186936-A-44.png\n",
      "1/1 [==============================] - 0s 71ms/step\n"
     ]
    },
    {
     "name": "stderr",
     "output_type": "stream",
     "text": [
      " 82%|████████▏ | 1755/2130 [02:45<00:38,  9.66it/s]"
     ]
    },
    {
     "name": "stdout",
     "output_type": "stream",
     "text": [
      "4-186938-A-44.png\n",
      "1/1 [==============================] - 0s 58ms/step\n",
      "4-186940-A-44.png\n",
      "1/1 [==============================] - 0s 57ms/step\n"
     ]
    },
    {
     "name": "stderr",
     "output_type": "stream",
     "text": [
      " 82%|████████▏ | 1757/2130 [02:46<00:36, 10.11it/s]"
     ]
    },
    {
     "name": "stdout",
     "output_type": "stream",
     "text": [
      "4-186962-A-44.png\n",
      "1/1 [==============================] - 0s 64ms/step\n",
      "4-187384-A-34.png\n",
      "1/1 [==============================] - 0s 62ms/step\n"
     ]
    },
    {
     "name": "stderr",
     "output_type": "stream",
     "text": [
      " 83%|████████▎ | 1759/2130 [02:46<00:36, 10.30it/s]"
     ]
    },
    {
     "name": "stdout",
     "output_type": "stream",
     "text": [
      "4-187504-A-17.png\n",
      "1/1 [==============================] - 0s 66ms/step\n",
      "4-187504-B-17.png\n",
      "1/1 [==============================] - 0s 59ms/step\n"
     ]
    },
    {
     "name": "stderr",
     "output_type": "stream",
     "text": [
      " 83%|████████▎ | 1761/2130 [02:46<00:35, 10.45it/s]"
     ]
    },
    {
     "name": "stdout",
     "output_type": "stream",
     "text": [
      "4-188003-A-34.png\n",
      "1/1 [==============================] - 0s 62ms/step\n",
      "4-188033-A-38.png\n",
      "1/1 [==============================] - 0s 63ms/step\n"
     ]
    },
    {
     "name": "stderr",
     "output_type": "stream",
     "text": [
      " 83%|████████▎ | 1763/2130 [02:46<00:35, 10.48it/s]"
     ]
    },
    {
     "name": "stdout",
     "output_type": "stream",
     "text": [
      "4-188191-A-29.png\n",
      "1/1 [==============================] - 0s 62ms/step\n",
      "4-188191-B-29.png\n",
      "1/1 [==============================] - 0s 61ms/step\n"
     ]
    },
    {
     "name": "stderr",
     "output_type": "stream",
     "text": [
      " 83%|████████▎ | 1765/2130 [02:46<00:34, 10.60it/s]"
     ]
    },
    {
     "name": "stdout",
     "output_type": "stream",
     "text": [
      "4-188191-C-29.png\n",
      "1/1 [==============================] - 0s 64ms/step\n",
      "4-188293-A-15.png\n",
      "1/1 [==============================] - 0s 64ms/step\n"
     ]
    },
    {
     "name": "stderr",
     "output_type": "stream",
     "text": [
      " 83%|████████▎ | 1767/2130 [02:46<00:34, 10.64it/s]"
     ]
    },
    {
     "name": "stdout",
     "output_type": "stream",
     "text": [
      "4-188293-B-15.png\n",
      "1/1 [==============================] - 0s 60ms/step\n",
      "4-188595-A-29.png\n",
      "1/1 [==============================] - 0s 68ms/step\n"
     ]
    },
    {
     "name": "stderr",
     "output_type": "stream",
     "text": [
      " 83%|████████▎ | 1769/2130 [02:47<00:33, 10.68it/s]"
     ]
    },
    {
     "name": "stdout",
     "output_type": "stream",
     "text": [
      "4-189332-A-37.png\n",
      "1/1 [==============================] - 0s 64ms/step\n",
      "4-189828-A-22.png\n",
      "1/1 [==============================] - 0s 65ms/step\n"
     ]
    },
    {
     "name": "stderr",
     "output_type": "stream",
     "text": [
      " 83%|████████▎ | 1771/2130 [02:47<00:33, 10.63it/s]"
     ]
    },
    {
     "name": "stdout",
     "output_type": "stream",
     "text": [
      "4-189830-A-22.png\n",
      "1/1 [==============================] - 0s 61ms/step\n",
      "4-189832-A-22.png\n",
      "1/1 [==============================] - 0s 64ms/step\n"
     ]
    },
    {
     "name": "stderr",
     "output_type": "stream",
     "text": [
      " 83%|████████▎ | 1773/2130 [02:47<00:33, 10.55it/s]"
     ]
    },
    {
     "name": "stdout",
     "output_type": "stream",
     "text": [
      "4-189832-B-22.png\n",
      "1/1 [==============================] - 0s 61ms/step\n",
      "4-189833-A-22.png\n",
      "1/1 [==============================] - 0s 57ms/step\n"
     ]
    },
    {
     "name": "stderr",
     "output_type": "stream",
     "text": [
      " 83%|████████▎ | 1775/2130 [02:47<00:33, 10.46it/s]"
     ]
    },
    {
     "name": "stdout",
     "output_type": "stream",
     "text": [
      "4-189836-A-22.png\n",
      "1/1 [==============================] - 0s 57ms/step\n",
      "4-189838-A-22.png\n",
      "1/1 [==============================] - 0s 60ms/step\n"
     ]
    },
    {
     "name": "stderr",
     "output_type": "stream",
     "text": [
      " 83%|████████▎ | 1777/2130 [02:47<00:33, 10.66it/s]"
     ]
    },
    {
     "name": "stdout",
     "output_type": "stream",
     "text": [
      "4-191015-A-43.png\n",
      "1/1 [==============================] - 0s 67ms/step\n",
      "4-191246-A-7.png\n",
      "1/1 [==============================] - 0s 64ms/step\n"
     ]
    },
    {
     "name": "stderr",
     "output_type": "stream",
     "text": [
      " 84%|████████▎ | 1779/2130 [02:48<00:33, 10.50it/s]"
     ]
    },
    {
     "name": "stdout",
     "output_type": "stream",
     "text": [
      "4-191246-B-7.png\n",
      "1/1 [==============================] - 0s 66ms/step\n",
      "4-191297-A-28.png\n",
      "1/1 [==============================] - 0s 64ms/step\n"
     ]
    },
    {
     "name": "stderr",
     "output_type": "stream",
     "text": [
      " 84%|████████▎ | 1781/2130 [02:48<00:33, 10.43it/s]"
     ]
    },
    {
     "name": "stdout",
     "output_type": "stream",
     "text": [
      "4-191327-A-38.png\n",
      "1/1 [==============================] - 0s 67ms/step\n",
      "4-191687-A-0.png\n",
      "1/1 [==============================] - 0s 69ms/step\n"
     ]
    },
    {
     "name": "stderr",
     "output_type": "stream",
     "text": [
      " 84%|████████▎ | 1783/2130 [02:48<00:34, 10.17it/s]"
     ]
    },
    {
     "name": "stdout",
     "output_type": "stream",
     "text": [
      "4-192236-A-0.png\n",
      "1/1 [==============================] - 0s 55ms/step\n",
      "4-193480-A-40.png\n",
      "1/1 [==============================] - 0s 58ms/step\n"
     ]
    },
    {
     "name": "stderr",
     "output_type": "stream",
     "text": [
      " 84%|████████▍ | 1785/2130 [02:48<00:32, 10.57it/s]"
     ]
    },
    {
     "name": "stdout",
     "output_type": "stream",
     "text": [
      "4-193480-B-40.png\n",
      "1/1 [==============================] - 0s 61ms/step\n",
      "4-194246-A-13.png\n",
      "1/1 [==============================] - 0s 58ms/step\n"
     ]
    },
    {
     "name": "stderr",
     "output_type": "stream",
     "text": [
      " 84%|████████▍ | 1787/2130 [02:48<00:31, 10.79it/s]"
     ]
    },
    {
     "name": "stdout",
     "output_type": "stream",
     "text": [
      "4-194711-A-38.png\n",
      "1/1 [==============================] - 0s 56ms/step\n",
      "4-194754-A-0.png\n",
      "1/1 [==============================] - 0s 63ms/step\n"
     ]
    },
    {
     "name": "stderr",
     "output_type": "stream",
     "text": [
      " 84%|████████▍ | 1789/2130 [02:49<00:31, 10.89it/s]"
     ]
    },
    {
     "name": "stdout",
     "output_type": "stream",
     "text": [
      "4-194808-A-29.png\n",
      "1/1 [==============================] - 0s 60ms/step\n",
      "4-195451-A-44.png\n",
      "1/1 [==============================] - 0s 56ms/step\n"
     ]
    },
    {
     "name": "stderr",
     "output_type": "stream",
     "text": [
      " 84%|████████▍ | 1791/2130 [02:49<00:30, 10.94it/s]"
     ]
    },
    {
     "name": "stdout",
     "output_type": "stream",
     "text": [
      "4-195497-A-11.png\n",
      "1/1 [==============================] - 0s 64ms/step\n",
      "4-195497-B-11.png\n",
      "1/1 [==============================] - 0s 61ms/step\n"
     ]
    },
    {
     "name": "stderr",
     "output_type": "stream",
     "text": [
      " 84%|████████▍ | 1793/2130 [02:49<00:31, 10.59it/s]"
     ]
    },
    {
     "name": "stdout",
     "output_type": "stream",
     "text": [
      "4-195707-A-13.png\n",
      "1/1 [==============================] - 0s 56ms/step\n",
      "4-195805-A-13.png\n",
      "1/1 [==============================] - 0s 58ms/step\n"
     ]
    },
    {
     "name": "stderr",
     "output_type": "stream",
     "text": [
      " 84%|████████▍ | 1795/2130 [02:49<00:30, 10.90it/s]"
     ]
    },
    {
     "name": "stdout",
     "output_type": "stream",
     "text": [
      "4-197454-A-28.png\n",
      "1/1 [==============================] - 0s 60ms/step\n",
      "4-197454-B-28.png\n",
      "1/1 [==============================] - 0s 68ms/step\n"
     ]
    },
    {
     "name": "stderr",
     "output_type": "stream",
     "text": [
      " 84%|████████▍ | 1797/2130 [02:49<00:30, 10.75it/s]"
     ]
    },
    {
     "name": "stdout",
     "output_type": "stream",
     "text": [
      "4-197871-A-15.png\n",
      "1/1 [==============================] - 0s 66ms/step\n",
      "4-198025-A-23.png\n",
      "1/1 [==============================] - 0s 57ms/step\n"
     ]
    },
    {
     "name": "stderr",
     "output_type": "stream",
     "text": [
      " 84%|████████▍ | 1799/2130 [02:49<00:30, 10.73it/s]"
     ]
    },
    {
     "name": "stdout",
     "output_type": "stream",
     "text": [
      "4-198360-A-49.png\n",
      "1/1 [==============================] - 0s 56ms/step\n",
      "4-198360-B-49.png\n",
      "1/1 [==============================] - 0s 62ms/step\n"
     ]
    },
    {
     "name": "stderr",
     "output_type": "stream",
     "text": [
      " 85%|████████▍ | 1801/2130 [02:50<00:30, 10.90it/s]"
     ]
    },
    {
     "name": "stdout",
     "output_type": "stream",
     "text": [
      "4-198360-C-49.png\n",
      "1/1 [==============================] - 0s 62ms/step\n",
      "4-198841-A-37.png\n",
      "1/1 [==============================] - 0s 64ms/step\n"
     ]
    },
    {
     "name": "stderr",
     "output_type": "stream",
     "text": [
      " 85%|████████▍ | 1803/2130 [02:50<00:30, 10.84it/s]"
     ]
    },
    {
     "name": "stdout",
     "output_type": "stream",
     "text": [
      "4-198965-A-38.png\n",
      "1/1 [==============================] - 0s 68ms/step\n",
      "4-199261-A-0.png\n",
      "1/1 [==============================] - 0s 65ms/step\n"
     ]
    },
    {
     "name": "stderr",
     "output_type": "stream",
     "text": [
      " 85%|████████▍ | 1805/2130 [02:50<00:30, 10.64it/s]"
     ]
    },
    {
     "name": "stdout",
     "output_type": "stream",
     "text": [
      "4-201988-A-44.png\n",
      "1/1 [==============================] - 0s 57ms/step\n",
      "4-202749-A-13.png\n",
      "1/1 [==============================] - 0s 62ms/step\n"
     ]
    },
    {
     "name": "stderr",
     "output_type": "stream",
     "text": [
      " 85%|████████▍ | 1807/2130 [02:50<00:29, 10.83it/s]"
     ]
    },
    {
     "name": "stdout",
     "output_type": "stream",
     "text": [
      "4-204202-A-29.png\n",
      "1/1 [==============================] - 0s 83ms/step\n",
      "4-204618-A-11.png\n",
      "1/1 [==============================] - 0s 60ms/step\n"
     ]
    },
    {
     "name": "stderr",
     "output_type": "stream",
     "text": [
      " 85%|████████▍ | 1809/2130 [02:50<00:32,  9.98it/s]"
     ]
    },
    {
     "name": "stdout",
     "output_type": "stream",
     "text": [
      "4-204684-A-37.png\n",
      "1/1 [==============================] - 0s 58ms/step\n",
      "4-205526-A-23.png\n",
      "1/1 [==============================] - 0s 58ms/step\n"
     ]
    },
    {
     "name": "stderr",
     "output_type": "stream",
     "text": [
      " 85%|████████▌ | 1811/2130 [02:51<00:30, 10.31it/s]"
     ]
    },
    {
     "name": "stdout",
     "output_type": "stream",
     "text": [
      "4-205526-B-23.png\n",
      "1/1 [==============================] - 0s 61ms/step\n",
      "4-205738-A-22.png\n",
      "1/1 [==============================] - 0s 59ms/step\n"
     ]
    },
    {
     "name": "stderr",
     "output_type": "stream",
     "text": [
      " 85%|████████▌ | 1813/2130 [02:51<00:29, 10.59it/s]"
     ]
    },
    {
     "name": "stdout",
     "output_type": "stream",
     "text": [
      "4-207116-A-23.png\n",
      "1/1 [==============================] - 0s 65ms/step\n",
      "4-207124-A-0.png\n",
      "1/1 [==============================] - 0s 66ms/step\n"
     ]
    },
    {
     "name": "stderr",
     "output_type": "stream",
     "text": [
      " 85%|████████▌ | 1815/2130 [02:51<00:29, 10.54it/s]"
     ]
    },
    {
     "name": "stdout",
     "output_type": "stream",
     "text": [
      "4-209536-A-37.png\n",
      "1/1 [==============================] - 0s 59ms/step\n",
      "4-209698-A-37.png\n",
      "1/1 [==============================] - 0s 68ms/step\n"
     ]
    },
    {
     "name": "stderr",
     "output_type": "stream",
     "text": [
      " 85%|████████▌ | 1817/2130 [02:51<00:29, 10.50it/s]"
     ]
    },
    {
     "name": "stdout",
     "output_type": "stream",
     "text": [
      "4-210000-A-23.png\n",
      "1/1 [==============================] - 0s 60ms/step\n",
      "4-210000-B-23.png\n",
      "1/1 [==============================] - 0s 57ms/step\n"
     ]
    },
    {
     "name": "stderr",
     "output_type": "stream",
     "text": [
      " 85%|████████▌ | 1819/2130 [02:51<00:28, 10.73it/s]"
     ]
    },
    {
     "name": "stdout",
     "output_type": "stream",
     "text": [
      "4-210593-A-29.png\n",
      "1/1 [==============================] - 0s 69ms/step\n",
      "4-212604-A-15.png\n",
      "1/1 [==============================] - 0s 63ms/step\n"
     ]
    },
    {
     "name": "stderr",
     "output_type": "stream",
     "text": [
      " 85%|████████▌ | 1821/2130 [02:52<00:29, 10.40it/s]"
     ]
    },
    {
     "name": "stdout",
     "output_type": "stream",
     "text": [
      "4-212604-B-15.png\n",
      "1/1 [==============================] - 0s 61ms/step\n",
      "4-212604-C-15.png\n",
      "1/1 [==============================] - 0s 56ms/step\n"
     ]
    },
    {
     "name": "stderr",
     "output_type": "stream",
     "text": [
      " 86%|████████▌ | 1823/2130 [02:52<00:29, 10.55it/s]"
     ]
    },
    {
     "name": "stdout",
     "output_type": "stream",
     "text": [
      "4-212728-A-34.png\n",
      "1/1 [==============================] - 0s 65ms/step\n",
      "4-213193-A-29.png\n",
      "1/1 [==============================] - 0s 69ms/step\n"
     ]
    },
    {
     "name": "stderr",
     "output_type": "stream",
     "text": [
      " 86%|████████▌ | 1825/2130 [02:52<00:29, 10.43it/s]"
     ]
    },
    {
     "name": "stdout",
     "output_type": "stream",
     "text": [
      "4-215635-A-34.png\n",
      "1/1 [==============================] - 0s 62ms/step\n",
      "4-216349-A-34.png\n",
      "1/1 [==============================] - 0s 68ms/step\n"
     ]
    },
    {
     "name": "stderr",
     "output_type": "stream",
     "text": [
      " 86%|████████▌ | 1827/2130 [02:52<00:29, 10.39it/s]"
     ]
    },
    {
     "name": "stdout",
     "output_type": "stream",
     "text": [
      "4-251645-A-49.png\n",
      "1/1 [==============================] - 0s 71ms/step\n",
      "4-251645-B-49.png\n",
      "1/1 [==============================] - 0s 66ms/step\n"
     ]
    },
    {
     "name": "stderr",
     "output_type": "stream",
     "text": [
      " 86%|████████▌ | 1829/2130 [02:52<00:29, 10.16it/s]"
     ]
    },
    {
     "name": "stdout",
     "output_type": "stream",
     "text": [
      "4-251959-A-47.png\n",
      "1/1 [==============================] - 0s 59ms/step\n",
      "4-255371-A-47.png\n",
      "1/1 [==============================] - 0s 63ms/step\n"
     ]
    },
    {
     "name": "stderr",
     "output_type": "stream",
     "text": [
      " 86%|████████▌ | 1831/2130 [02:53<00:29, 10.25it/s]"
     ]
    },
    {
     "name": "stdout",
     "output_type": "stream",
     "text": [
      "4-264453-A-34.png\n",
      "1/1 [==============================] - 0s 60ms/step\n",
      "4-99193-A-4.png\n",
      "1/1 [==============================] - 0s 58ms/step\n"
     ]
    },
    {
     "name": "stderr",
     "output_type": "stream",
     "text": [
      " 86%|████████▌ | 1833/2130 [02:53<00:27, 10.61it/s]"
     ]
    },
    {
     "name": "stdout",
     "output_type": "stream",
     "text": [
      "4-99193-B-4.png\n",
      "1/1 [==============================] - 0s 70ms/step\n",
      "4-99644-A-4.png\n",
      "1/1 [==============================] - 0s 64ms/step\n"
     ]
    },
    {
     "name": "stderr",
     "output_type": "stream",
     "text": [
      " 86%|████████▌ | 1835/2130 [02:53<00:28, 10.44it/s]"
     ]
    },
    {
     "name": "stdout",
     "output_type": "stream",
     "text": [
      "4-99644-B-4.png\n",
      "1/1 [==============================] - 0s 62ms/step\n",
      "4-99644-C-4.png\n",
      "1/1 [==============================] - 0s 65ms/step\n"
     ]
    },
    {
     "name": "stderr",
     "output_type": "stream",
     "text": [
      " 86%|████████▌ | 1837/2130 [02:53<00:27, 10.50it/s]"
     ]
    },
    {
     "name": "stdout",
     "output_type": "stream",
     "text": [
      "4-99644-D-4.png\n",
      "1/1 [==============================] - 0s 63ms/step\n",
      "45otZgvE0z4_60.png\n",
      "1/1 [==============================] - 0s 65ms/step\n"
     ]
    },
    {
     "name": "stderr",
     "output_type": "stream",
     "text": [
      " 86%|████████▋ | 1839/2130 [02:53<00:27, 10.57it/s]"
     ]
    },
    {
     "name": "stdout",
     "output_type": "stream",
     "text": [
      "49NTOtWuT7c_10.png\n",
      "1/1 [==============================] - 0s 62ms/step\n",
      "4GmyYIKuuR0_25.png\n",
      "1/1 [==============================] - 0s 61ms/step\n"
     ]
    },
    {
     "name": "stderr",
     "output_type": "stream",
     "text": [
      " 86%|████████▋ | 1841/2130 [02:53<00:27, 10.63it/s]"
     ]
    },
    {
     "name": "stdout",
     "output_type": "stream",
     "text": [
      "4ISxifnaOz0_30.png\n",
      "1/1 [==============================] - 0s 62ms/step\n",
      "4vAanhLFpeY_30.png\n",
      "1/1 [==============================] - 0s 55ms/step\n"
     ]
    },
    {
     "name": "stderr",
     "output_type": "stream",
     "text": [
      " 87%|████████▋ | 1843/2130 [02:54<00:26, 10.84it/s]"
     ]
    },
    {
     "name": "stdout",
     "output_type": "stream",
     "text": [
      "4Ybccwj--jo_340.png\n",
      "1/1 [==============================] - 0s 59ms/step\n",
      "4ytinqkOXUc_10.png\n",
      "1/1 [==============================] - 0s 58ms/step\n"
     ]
    },
    {
     "name": "stderr",
     "output_type": "stream",
     "text": [
      " 87%|████████▋ | 1845/2130 [02:54<00:25, 10.97it/s]"
     ]
    },
    {
     "name": "stdout",
     "output_type": "stream",
     "text": [
      "5-117773-A-16.png\n",
      "1/1 [==============================] - 0s 63ms/step\n",
      "5-156026-A-4.png\n",
      "1/1 [==============================] - 0s 69ms/step\n"
     ]
    },
    {
     "name": "stderr",
     "output_type": "stream",
     "text": [
      " 87%|████████▋ | 1847/2130 [02:54<00:26, 10.80it/s]"
     ]
    },
    {
     "name": "stdout",
     "output_type": "stream",
     "text": [
      "5-156026-B-4.png\n",
      "1/1 [==============================] - 0s 66ms/step\n",
      "5-156026-C-4.png\n",
      "1/1 [==============================] - 0s 59ms/step\n"
     ]
    },
    {
     "name": "stderr",
     "output_type": "stream",
     "text": [
      " 87%|████████▋ | 1849/2130 [02:54<00:26, 10.79it/s]"
     ]
    },
    {
     "name": "stdout",
     "output_type": "stream",
     "text": [
      "5-156026-D-4.png\n",
      "1/1 [==============================] - 0s 57ms/step\n",
      "5-156999-A-19.png\n",
      "1/1 [==============================] - 0s 57ms/step\n"
     ]
    },
    {
     "name": "stderr",
     "output_type": "stream",
     "text": [
      " 87%|████████▋ | 1851/2130 [02:54<00:25, 10.88it/s]"
     ]
    },
    {
     "name": "stdout",
     "output_type": "stream",
     "text": [
      "5-156999-B-19.png\n",
      "1/1 [==============================] - 0s 65ms/step\n",
      "5-156999-C-19.png\n",
      "1/1 [==============================] - 0s 67ms/step\n"
     ]
    },
    {
     "name": "stderr",
     "output_type": "stream",
     "text": [
      " 87%|████████▋ | 1853/2130 [02:55<00:25, 10.67it/s]"
     ]
    },
    {
     "name": "stdout",
     "output_type": "stream",
     "text": [
      "5-156999-D-19.png\n",
      "1/1 [==============================] - 0s 63ms/step\n",
      "5-156999-E-19.png\n",
      "1/1 [==============================] - 0s 58ms/step\n"
     ]
    },
    {
     "name": "stderr",
     "output_type": "stream",
     "text": [
      " 87%|████████▋ | 1855/2130 [02:55<00:25, 10.71it/s]"
     ]
    },
    {
     "name": "stdout",
     "output_type": "stream",
     "text": [
      "5-157204-A-16.png\n",
      "1/1 [==============================] - 0s 65ms/step\n",
      "5-157204-B-16.png\n",
      "1/1 [==============================] - 0s 68ms/step\n"
     ]
    },
    {
     "name": "stderr",
     "output_type": "stream",
     "text": [
      " 87%|████████▋ | 1857/2130 [02:55<00:26, 10.36it/s]"
     ]
    },
    {
     "name": "stdout",
     "output_type": "stream",
     "text": [
      "5-169983-A-5.png\n",
      "1/1 [==============================] - 0s 64ms/step\n",
      "5-170338-A-41.png\n",
      "1/1 [==============================] - 0s 72ms/step\n"
     ]
    },
    {
     "name": "stderr",
     "output_type": "stream",
     "text": [
      " 87%|████████▋ | 1859/2130 [02:55<00:26, 10.18it/s]"
     ]
    },
    {
     "name": "stdout",
     "output_type": "stream",
     "text": [
      "5-170338-B-41.png\n",
      "1/1 [==============================] - 0s 62ms/step\n",
      "5-171118-A-26.png\n",
      "1/1 [==============================] - 0s 67ms/step\n"
     ]
    },
    {
     "name": "stderr",
     "output_type": "stream",
     "text": [
      " 87%|████████▋ | 1861/2130 [02:55<00:26, 10.16it/s]"
     ]
    },
    {
     "name": "stdout",
     "output_type": "stream",
     "text": [
      "5-171653-A-41.png\n",
      "1/1 [==============================] - 0s 66ms/step\n",
      "5-172299-A-5.png\n",
      "1/1 [==============================] - 0s 59ms/step\n"
     ]
    },
    {
     "name": "stderr",
     "output_type": "stream",
     "text": [
      " 87%|████████▋ | 1863/2130 [02:56<00:25, 10.30it/s]"
     ]
    },
    {
     "name": "stdout",
     "output_type": "stream",
     "text": [
      "5-172639-A-5.png\n",
      "1/1 [==============================] - 0s 56ms/step\n",
      "5-177614-A-5.png\n",
      "1/1 [==============================] - 0s 56ms/step\n"
     ]
    },
    {
     "name": "stderr",
     "output_type": "stream",
     "text": [
      " 88%|████████▊ | 1865/2130 [02:56<00:24, 10.65it/s]"
     ]
    },
    {
     "name": "stdout",
     "output_type": "stream",
     "text": [
      "5-177957-A-40.png\n",
      "1/1 [==============================] - 0s 60ms/step\n",
      "5-177957-B-40.png\n",
      "1/1 [==============================] - 0s 65ms/step\n"
     ]
    },
    {
     "name": "stderr",
     "output_type": "stream",
     "text": [
      " 88%|████████▊ | 1867/2130 [02:56<00:24, 10.73it/s]"
     ]
    },
    {
     "name": "stdout",
     "output_type": "stream",
     "text": [
      "5-177957-C-40.png\n",
      "1/1 [==============================] - 0s 69ms/step\n",
      "5-177957-D-40.png\n",
      "1/1 [==============================] - 0s 65ms/step\n"
     ]
    },
    {
     "name": "stderr",
     "output_type": "stream",
     "text": [
      " 88%|████████▊ | 1869/2130 [02:56<00:24, 10.52it/s]"
     ]
    },
    {
     "name": "stdout",
     "output_type": "stream",
     "text": [
      "5-177957-E-40.png\n",
      "1/1 [==============================] - 0s 62ms/step\n",
      "5-178997-A-24.png\n",
      "1/1 [==============================] - 0s 60ms/step\n"
     ]
    },
    {
     "name": "stderr",
     "output_type": "stream",
     "text": [
      " 88%|████████▊ | 1871/2130 [02:56<00:24, 10.52it/s]"
     ]
    },
    {
     "name": "stdout",
     "output_type": "stream",
     "text": [
      "5-179496-A-16.png\n",
      "1/1 [==============================] - 0s 65ms/step\n",
      "5-179496-B-16.png\n",
      "1/1 [==============================] - 0s 68ms/step\n"
     ]
    },
    {
     "name": "stderr",
     "output_type": "stream",
     "text": [
      " 88%|████████▊ | 1873/2130 [02:56<00:24, 10.37it/s]"
     ]
    },
    {
     "name": "stdout",
     "output_type": "stream",
     "text": [
      "5-179860-A-43.png\n",
      "1/1 [==============================] - 0s 61ms/step\n",
      "5-179863-A-43.png\n",
      "1/1 [==============================] - 0s 58ms/step\n"
     ]
    },
    {
     "name": "stderr",
     "output_type": "stream",
     "text": [
      " 88%|████████▊ | 1875/2130 [02:57<00:24, 10.55it/s]"
     ]
    },
    {
     "name": "stdout",
     "output_type": "stream",
     "text": [
      "5-179865-A-43.png\n",
      "1/1 [==============================] - 0s 60ms/step\n",
      "5-179866-A-43.png\n",
      "1/1 [==============================] - 0s 61ms/step\n"
     ]
    },
    {
     "name": "stderr",
     "output_type": "stream",
     "text": [
      " 88%|████████▊ | 1877/2130 [02:57<00:23, 10.78it/s]"
     ]
    },
    {
     "name": "stdout",
     "output_type": "stream",
     "text": [
      "5-179868-A-43.png\n",
      "1/1 [==============================] - 0s 59ms/step\n",
      "5-180156-A-43.png\n",
      "1/1 [==============================] - 0s 58ms/step\n"
     ]
    },
    {
     "name": "stderr",
     "output_type": "stream",
     "text": [
      " 88%|████████▊ | 1879/2130 [02:57<00:22, 10.91it/s]"
     ]
    },
    {
     "name": "stdout",
     "output_type": "stream",
     "text": [
      "5-180156-B-43.png\n",
      "1/1 [==============================] - 0s 59ms/step\n",
      "5-180156-C-43.png\n",
      "1/1 [==============================] - 0s 67ms/step\n"
     ]
    },
    {
     "name": "stderr",
     "output_type": "stream",
     "text": [
      " 88%|████████▊ | 1881/2130 [02:57<00:22, 10.92it/s]"
     ]
    },
    {
     "name": "stdout",
     "output_type": "stream",
     "text": [
      "5-181766-A-10.png\n",
      "1/1 [==============================] - 0s 64ms/step\n",
      "5-184871-A-24.png\n",
      "1/1 [==============================] - 0s 61ms/step\n"
     ]
    },
    {
     "name": "stderr",
     "output_type": "stream",
     "text": [
      " 88%|████████▊ | 1883/2130 [02:57<00:22, 10.83it/s]"
     ]
    },
    {
     "name": "stdout",
     "output_type": "stream",
     "text": [
      "5-185579-A-41.png\n",
      "1/1 [==============================] - 0s 61ms/step\n",
      "5-185579-B-41.png\n",
      "1/1 [==============================] - 0s 58ms/step\n"
     ]
    },
    {
     "name": "stderr",
     "output_type": "stream",
     "text": [
      " 88%|████████▊ | 1885/2130 [02:58<00:22, 10.95it/s]"
     ]
    },
    {
     "name": "stdout",
     "output_type": "stream",
     "text": [
      "5-186924-A-12.png\n",
      "1/1 [==============================] - 0s 61ms/step\n",
      "5-187201-A-4.png\n",
      "1/1 [==============================] - 0s 63ms/step\n"
     ]
    },
    {
     "name": "stderr",
     "output_type": "stream",
     "text": [
      " 89%|████████▊ | 1887/2130 [02:58<00:22, 10.96it/s]"
     ]
    },
    {
     "name": "stdout",
     "output_type": "stream",
     "text": [
      "5-187201-B-4.png\n",
      "1/1 [==============================] - 0s 66ms/step\n",
      "5-187979-A-21.png\n",
      "1/1 [==============================] - 0s 58ms/step\n"
     ]
    },
    {
     "name": "stderr",
     "output_type": "stream",
     "text": [
      " 89%|████████▊ | 1889/2130 [02:58<00:22, 10.81it/s]"
     ]
    },
    {
     "name": "stdout",
     "output_type": "stream",
     "text": [
      "5-188495-A-19.png\n",
      "1/1 [==============================] - 0s 63ms/step\n",
      "5-188655-A-10.png\n",
      "1/1 [==============================] - 0s 60ms/step\n"
     ]
    },
    {
     "name": "stderr",
     "output_type": "stream",
     "text": [
      " 89%|████████▉ | 1891/2130 [02:58<00:21, 10.90it/s]"
     ]
    },
    {
     "name": "stdout",
     "output_type": "stream",
     "text": [
      "5-188796-A-45.png\n",
      "1/1 [==============================] - 0s 60ms/step\n",
      "5-188945-A-45.png\n",
      "1/1 [==============================] - 0s 60ms/step\n"
     ]
    },
    {
     "name": "stderr",
     "output_type": "stream",
     "text": [
      " 89%|████████▉ | 1893/2130 [02:58<00:21, 11.02it/s]"
     ]
    },
    {
     "name": "stdout",
     "output_type": "stream",
     "text": [
      "5-189212-A-12.png\n",
      "1/1 [==============================] - 0s 61ms/step\n",
      "5-189237-A-12.png\n",
      "1/1 [==============================] - 0s 61ms/step\n"
     ]
    },
    {
     "name": "stderr",
     "output_type": "stream",
     "text": [
      " 89%|████████▉ | 1895/2130 [02:58<00:21, 11.04it/s]"
     ]
    },
    {
     "name": "stdout",
     "output_type": "stream",
     "text": [
      "5-189795-A-4.png\n",
      "1/1 [==============================] - 0s 64ms/step\n",
      "5-191131-A-40.png\n",
      "1/1 [==============================] - 0s 63ms/step\n"
     ]
    },
    {
     "name": "stderr",
     "output_type": "stream",
     "text": [
      " 89%|████████▉ | 1897/2130 [02:59<00:21, 10.96it/s]"
     ]
    },
    {
     "name": "stdout",
     "output_type": "stream",
     "text": [
      "5-192191-A-19.png\n",
      "1/1 [==============================] - 0s 63ms/step\n",
      "5-193339-A-10.png\n",
      "1/1 [==============================] - 0s 58ms/step\n"
     ]
    },
    {
     "name": "stderr",
     "output_type": "stream",
     "text": [
      " 89%|████████▉ | 1899/2130 [02:59<00:21, 10.97it/s]"
     ]
    },
    {
     "name": "stdout",
     "output_type": "stream",
     "text": [
      "5-193473-A-12.png\n",
      "1/1 [==============================] - 0s 63ms/step\n",
      "5-193473-B-12.png\n",
      "1/1 [==============================] - 0s 60ms/step\n"
     ]
    },
    {
     "name": "stderr",
     "output_type": "stream",
     "text": [
      " 89%|████████▉ | 1901/2130 [02:59<00:20, 10.99it/s]"
     ]
    },
    {
     "name": "stdout",
     "output_type": "stream",
     "text": [
      "5-194533-A-21.png\n",
      "1/1 [==============================] - 0s 59ms/step\n",
      "5-194892-A-10.png\n",
      "1/1 [==============================] - 0s 61ms/step\n"
     ]
    },
    {
     "name": "stderr",
     "output_type": "stream",
     "text": [
      " 89%|████████▉ | 1903/2130 [02:59<00:20, 11.10it/s]"
     ]
    },
    {
     "name": "stdout",
     "output_type": "stream",
     "text": [
      "5-194932-A-7.png\n",
      "1/1 [==============================] - 0s 67ms/step\n",
      "5-195517-A-7.png\n",
      "1/1 [==============================] - 0s 69ms/step\n"
     ]
    },
    {
     "name": "stderr",
     "output_type": "stream",
     "text": [
      " 89%|████████▉ | 1905/2130 [02:59<00:21, 10.59it/s]"
     ]
    },
    {
     "name": "stdout",
     "output_type": "stream",
     "text": [
      "5-195518-A-7.png\n",
      "1/1 [==============================] - 0s 66ms/step\n",
      "5-195557-A-19.png\n",
      "1/1 [==============================] - 0s 70ms/step\n"
     ]
    },
    {
     "name": "stderr",
     "output_type": "stream",
     "text": [
      " 90%|████████▉ | 1907/2130 [03:00<00:21, 10.26it/s]"
     ]
    },
    {
     "name": "stdout",
     "output_type": "stream",
     "text": [
      "5-195710-A-10.png\n",
      "1/1 [==============================] - 0s 59ms/step\n",
      "5-197118-A-45.png\n",
      "1/1 [==============================] - 0s 65ms/step\n"
     ]
    },
    {
     "name": "stderr",
     "output_type": "stream",
     "text": [
      " 90%|████████▉ | 1909/2130 [03:00<00:21, 10.34it/s]"
     ]
    },
    {
     "name": "stdout",
     "output_type": "stream",
     "text": [
      "5-197121-A-45.png\n",
      "1/1 [==============================] - 0s 63ms/step\n",
      "5-197121-B-45.png\n",
      "1/1 [==============================] - 0s 65ms/step\n"
     ]
    },
    {
     "name": "stderr",
     "output_type": "stream",
     "text": [
      " 90%|████████▉ | 1911/2130 [03:00<00:21, 10.43it/s]"
     ]
    },
    {
     "name": "stdout",
     "output_type": "stream",
     "text": [
      "5-197446-A-7.png\n",
      "1/1 [==============================] - 0s 64ms/step\n",
      "5-198278-A-7.png\n",
      "1/1 [==============================] - 0s 59ms/step\n"
     ]
    },
    {
     "name": "stderr",
     "output_type": "stream",
     "text": [
      " 90%|████████▉ | 1913/2130 [03:00<00:20, 10.56it/s]"
     ]
    },
    {
     "name": "stdout",
     "output_type": "stream",
     "text": [
      "5-198278-B-7.png\n",
      "1/1 [==============================] - 0s 59ms/step\n",
      "5-198278-C-7.png\n",
      "1/1 [==============================] - 0s 66ms/step\n"
     ]
    },
    {
     "name": "stderr",
     "output_type": "stream",
     "text": [
      " 90%|████████▉ | 1915/2130 [03:00<00:20, 10.65it/s]"
     ]
    },
    {
     "name": "stdout",
     "output_type": "stream",
     "text": [
      "5-198321-A-10.png\n",
      "1/1 [==============================] - 0s 60ms/step\n",
      "5-198600-A-45.png\n",
      "1/1 [==============================] - 0s 60ms/step\n"
     ]
    },
    {
     "name": "stderr",
     "output_type": "stream",
     "text": [
      " 90%|█████████ | 1917/2130 [03:01<00:19, 10.71it/s]"
     ]
    },
    {
     "name": "stdout",
     "output_type": "stream",
     "text": [
      "5-199284-A-45.png\n",
      "1/1 [==============================] - 0s 62ms/step\n",
      "5-199284-B-45.png\n",
      "1/1 [==============================] - 0s 65ms/step\n"
     ]
    },
    {
     "name": "stderr",
     "output_type": "stream",
     "text": [
      " 90%|█████████ | 1919/2130 [03:01<00:19, 10.56it/s]"
     ]
    },
    {
     "name": "stdout",
     "output_type": "stream",
     "text": [
      "5-200461-A-11.png\n",
      "1/1 [==============================] - 0s 72ms/step\n",
      "5-200461-B-11.png\n",
      "1/1 [==============================] - 0s 60ms/step\n"
     ]
    },
    {
     "name": "stderr",
     "output_type": "stream",
     "text": [
      " 90%|█████████ | 1921/2130 [03:01<00:20, 10.13it/s]"
     ]
    },
    {
     "name": "stdout",
     "output_type": "stream",
     "text": [
      "5-201194-A-38.png\n",
      "1/1 [==============================] - 0s 56ms/step\n",
      "5-201274-A-21.png\n",
      "1/1 [==============================] - 0s 57ms/step\n"
     ]
    },
    {
     "name": "stderr",
     "output_type": "stream",
     "text": [
      " 90%|█████████ | 1923/2130 [03:01<00:20, 10.34it/s]"
     ]
    },
    {
     "name": "stdout",
     "output_type": "stream",
     "text": [
      "5-202220-A-21.png\n",
      "1/1 [==============================] - 0s 60ms/step\n",
      "5-202898-A-10.png\n",
      "1/1 [==============================] - 0s 64ms/step\n"
     ]
    },
    {
     "name": "stderr",
     "output_type": "stream",
     "text": [
      " 90%|█████████ | 1925/2130 [03:01<00:19, 10.54it/s]"
     ]
    },
    {
     "name": "stdout",
     "output_type": "stream",
     "text": [
      "5-203128-A-0.png\n",
      "1/1 [==============================] - 0s 61ms/step\n",
      "5-203128-B-0.png\n",
      "1/1 [==============================] - 0s 54ms/step\n"
     ]
    },
    {
     "name": "stderr",
     "output_type": "stream",
     "text": [
      " 90%|█████████ | 1927/2130 [03:02<00:18, 10.78it/s]"
     ]
    },
    {
     "name": "stdout",
     "output_type": "stream",
     "text": [
      "5-203739-A-10.png\n",
      "1/1 [==============================] - 0s 59ms/step\n",
      "5-204114-A-29.png\n",
      "1/1 [==============================] - 0s 57ms/step\n"
     ]
    },
    {
     "name": "stderr",
     "output_type": "stream",
     "text": [
      " 91%|█████████ | 1929/2130 [03:02<00:18, 10.91it/s]"
     ]
    },
    {
     "name": "stdout",
     "output_type": "stream",
     "text": [
      "5-204352-A-13.png\n",
      "1/1 [==============================] - 0s 67ms/step\n",
      "5-204352-B-13.png\n",
      "1/1 [==============================] - 0s 58ms/step\n"
     ]
    },
    {
     "name": "stderr",
     "output_type": "stream",
     "text": [
      " 91%|█████████ | 1931/2130 [03:02<00:18, 10.88it/s]"
     ]
    },
    {
     "name": "stdout",
     "output_type": "stream",
     "text": [
      "5-204604-A-24.png\n",
      "1/1 [==============================] - 0s 59ms/step\n",
      "5-205589-A-17.png\n",
      "1/1 [==============================] - 0s 61ms/step\n"
     ]
    },
    {
     "name": "stderr",
     "output_type": "stream",
     "text": [
      " 91%|█████████ | 1933/2130 [03:02<00:17, 11.06it/s]"
     ]
    },
    {
     "name": "stdout",
     "output_type": "stream",
     "text": [
      "5-205589-B-17.png\n",
      "1/1 [==============================] - 0s 59ms/step\n",
      "5-205898-A-40.png\n",
      "1/1 [==============================] - 0s 59ms/step\n"
     ]
    },
    {
     "name": "stderr",
     "output_type": "stream",
     "text": [
      " 91%|█████████ | 1935/2130 [03:02<00:17, 11.11it/s]"
     ]
    },
    {
     "name": "stdout",
     "output_type": "stream",
     "text": [
      "5-207681-A-24.png\n",
      "1/1 [==============================] - 0s 66ms/step\n",
      "5-207781-A-17.png\n",
      "1/1 [==============================] - 0s 61ms/step\n"
     ]
    },
    {
     "name": "stderr",
     "output_type": "stream",
     "text": [
      " 91%|█████████ | 1937/2130 [03:02<00:17, 11.00it/s]"
     ]
    },
    {
     "name": "stdout",
     "output_type": "stream",
     "text": [
      "5-207836-A-29.png\n",
      "1/1 [==============================] - 0s 62ms/step\n",
      "5-207836-B-29.png\n",
      "1/1 [==============================] - 0s 61ms/step\n"
     ]
    },
    {
     "name": "stderr",
     "output_type": "stream",
     "text": [
      " 91%|█████████ | 1939/2130 [03:03<00:17, 10.98it/s]"
     ]
    },
    {
     "name": "stdout",
     "output_type": "stream",
     "text": [
      "5-207836-C-29.png\n",
      "1/1 [==============================] - 0s 57ms/step\n",
      "5-207836-D-29.png\n",
      "1/1 [==============================] - 0s 63ms/step\n"
     ]
    },
    {
     "name": "stderr",
     "output_type": "stream",
     "text": [
      " 91%|█████████ | 1941/2130 [03:03<00:17, 11.05it/s]"
     ]
    },
    {
     "name": "stdout",
     "output_type": "stream",
     "text": [
      "5-208030-A-0.png\n",
      "1/1 [==============================] - 0s 61ms/step\n",
      "5-208624-A-38.png\n",
      "1/1 [==============================] - 0s 57ms/step\n"
     ]
    },
    {
     "name": "stderr",
     "output_type": "stream",
     "text": [
      " 91%|█████████ | 1943/2130 [03:03<00:16, 11.09it/s]"
     ]
    },
    {
     "name": "stdout",
     "output_type": "stream",
     "text": [
      "5-208761-A-24.png\n",
      "1/1 [==============================] - 0s 59ms/step\n",
      "5-208810-A-11.png\n",
      "1/1 [==============================] - 0s 66ms/step\n"
     ]
    },
    {
     "name": "stderr",
     "output_type": "stream",
     "text": [
      " 91%|█████████▏| 1945/2130 [03:03<00:16, 11.04it/s]"
     ]
    },
    {
     "name": "stdout",
     "output_type": "stream",
     "text": [
      "5-208810-B-11.png\n",
      "1/1 [==============================] - 0s 62ms/step\n",
      "5-209698-A-38.png\n",
      "1/1 [==============================] - 0s 63ms/step\n"
     ]
    },
    {
     "name": "stderr",
     "output_type": "stream",
     "text": [
      " 91%|█████████▏| 1947/2130 [03:03<00:16, 10.99it/s]"
     ]
    },
    {
     "name": "stdout",
     "output_type": "stream",
     "text": [
      "5-209719-A-24.png\n",
      "1/1 [==============================] - 0s 61ms/step\n",
      "5-209833-A-38.png\n",
      "1/1 [==============================] - 0s 59ms/step\n"
     ]
    },
    {
     "name": "stderr",
     "output_type": "stream",
     "text": [
      " 92%|█████████▏| 1949/2130 [03:04<00:16, 11.01it/s]"
     ]
    },
    {
     "name": "stdout",
     "output_type": "stream",
     "text": [
      "5-209989-A-22.png\n",
      "1/1 [==============================] - 0s 61ms/step\n",
      "5-209992-A-44.png\n",
      "1/1 [==============================] - 0s 61ms/step\n"
     ]
    },
    {
     "name": "stderr",
     "output_type": "stream",
     "text": [
      " 92%|█████████▏| 1951/2130 [03:04<00:16, 11.07it/s]"
     ]
    },
    {
     "name": "stdout",
     "output_type": "stream",
     "text": [
      "5-209992-B-44.png\n",
      "1/1 [==============================] - 0s 61ms/step\n",
      "5-210540-A-13.png\n",
      "1/1 [==============================] - 0s 63ms/step\n"
     ]
    },
    {
     "name": "stderr",
     "output_type": "stream",
     "text": [
      " 92%|█████████▏| 1953/2130 [03:04<00:16, 10.98it/s]"
     ]
    },
    {
     "name": "stdout",
     "output_type": "stream",
     "text": [
      "5-210571-A-38.png\n",
      "1/1 [==============================] - 0s 65ms/step\n",
      "5-210612-A-37.png\n",
      "1/1 [==============================] - 0s 62ms/step\n"
     ]
    },
    {
     "name": "stderr",
     "output_type": "stream",
     "text": [
      " 92%|█████████▏| 1955/2130 [03:04<00:16, 10.91it/s]"
     ]
    },
    {
     "name": "stdout",
     "output_type": "stream",
     "text": [
      "5-211197-A-24.png\n",
      "1/1 [==============================] - 0s 61ms/step\n",
      "5-211408-A-37.png\n",
      "1/1 [==============================] - 0s 60ms/step\n"
     ]
    },
    {
     "name": "stderr",
     "output_type": "stream",
     "text": [
      " 92%|█████████▏| 1957/2130 [03:04<00:15, 11.02it/s]"
     ]
    },
    {
     "name": "stdout",
     "output_type": "stream",
     "text": [
      "5-212181-A-38.png\n",
      "1/1 [==============================] - 0s 61ms/step\n",
      "5-212454-A-0.png\n",
      "1/1 [==============================] - 0s 58ms/step\n"
     ]
    },
    {
     "name": "stderr",
     "output_type": "stream",
     "text": [
      " 92%|█████████▏| 1959/2130 [03:04<00:15, 11.03it/s]"
     ]
    },
    {
     "name": "stdout",
     "output_type": "stream",
     "text": [
      "5-212730-A-17.png\n",
      "1/1 [==============================] - 0s 58ms/step\n",
      "5-212734-A-17.png\n",
      "1/1 [==============================] - 0s 56ms/step\n"
     ]
    },
    {
     "name": "stderr",
     "output_type": "stream",
     "text": [
      " 92%|█████████▏| 1961/2130 [03:05<00:15, 11.22it/s]"
     ]
    },
    {
     "name": "stdout",
     "output_type": "stream",
     "text": [
      "5-212736-A-17.png\n",
      "1/1 [==============================] - 0s 61ms/step\n",
      "5-213077-A-11.png\n",
      "1/1 [==============================] - 0s 69ms/step\n"
     ]
    },
    {
     "name": "stderr",
     "output_type": "stream",
     "text": [
      " 92%|█████████▏| 1963/2130 [03:05<00:15, 10.76it/s]"
     ]
    },
    {
     "name": "stdout",
     "output_type": "stream",
     "text": [
      "5-213293-A-23.png\n",
      "1/1 [==============================] - 0s 60ms/step\n",
      "5-213802-A-12.png\n",
      "1/1 [==============================] - 0s 60ms/step\n"
     ]
    },
    {
     "name": "stderr",
     "output_type": "stream",
     "text": [
      " 92%|█████████▏| 1965/2130 [03:05<00:15, 10.79it/s]"
     ]
    },
    {
     "name": "stdout",
     "output_type": "stream",
     "text": [
      "5-213855-A-0.png\n",
      "1/1 [==============================] - 0s 60ms/step\n",
      "5-214362-A-17.png\n",
      "1/1 [==============================] - 0s 61ms/step\n"
     ]
    },
    {
     "name": "stderr",
     "output_type": "stream",
     "text": [
      " 92%|█████████▏| 1967/2130 [03:05<00:15, 10.71it/s]"
     ]
    },
    {
     "name": "stdout",
     "output_type": "stream",
     "text": [
      "5-214759-A-5.png\n",
      "1/1 [==============================] - 0s 62ms/step\n",
      "5-214759-B-5.png\n",
      "1/1 [==============================] - 0s 60ms/step\n"
     ]
    },
    {
     "name": "stderr",
     "output_type": "stream",
     "text": [
      " 92%|█████████▏| 1969/2130 [03:05<00:14, 10.88it/s]"
     ]
    },
    {
     "name": "stdout",
     "output_type": "stream",
     "text": [
      "5-215172-A-13.png\n",
      "1/1 [==============================] - 0s 59ms/step\n",
      "5-215179-A-13.png\n",
      "1/1 [==============================] - 0s 61ms/step\n"
     ]
    },
    {
     "name": "stderr",
     "output_type": "stream",
     "text": [
      " 93%|█████████▎| 1971/2130 [03:06<00:14, 10.97it/s]"
     ]
    },
    {
     "name": "stdout",
     "output_type": "stream",
     "text": [
      "5-215445-A-47.png\n",
      "1/1 [==============================] - 0s 59ms/step\n",
      "5-215447-A-47.png\n",
      "1/1 [==============================] - 0s 65ms/step\n"
     ]
    },
    {
     "name": "stderr",
     "output_type": "stream",
     "text": [
      " 93%|█████████▎| 1973/2130 [03:06<00:14, 10.99it/s]"
     ]
    },
    {
     "name": "stdout",
     "output_type": "stream",
     "text": [
      "5-215449-A-47.png\n",
      "1/1 [==============================] - 0s 61ms/step\n",
      "5-215634-A-17.png\n",
      "1/1 [==============================] - 0s 58ms/step\n"
     ]
    },
    {
     "name": "stderr",
     "output_type": "stream",
     "text": [
      " 93%|█████████▎| 1975/2130 [03:06<00:13, 11.12it/s]"
     ]
    },
    {
     "name": "stdout",
     "output_type": "stream",
     "text": [
      "5-215658-A-12.png\n",
      "1/1 [==============================] - 0s 62ms/step\n",
      "5-215658-B-12.png\n",
      "1/1 [==============================] - 0s 59ms/step\n"
     ]
    },
    {
     "name": "stderr",
     "output_type": "stream",
     "text": [
      " 93%|█████████▎| 1977/2130 [03:06<00:13, 11.02it/s]"
     ]
    },
    {
     "name": "stdout",
     "output_type": "stream",
     "text": [
      "5-216213-A-13.png\n",
      "1/1 [==============================] - 0s 58ms/step\n",
      "5-216214-A-13.png\n",
      "1/1 [==============================] - 0s 62ms/step\n"
     ]
    },
    {
     "name": "stderr",
     "output_type": "stream",
     "text": [
      " 93%|█████████▎| 1979/2130 [03:06<00:13, 11.14it/s]"
     ]
    },
    {
     "name": "stdout",
     "output_type": "stream",
     "text": [
      "5-216216-A-13.png\n",
      "1/1 [==============================] - 0s 65ms/step\n",
      "5-216368-A-28.png\n",
      "1/1 [==============================] - 0s 61ms/step\n"
     ]
    },
    {
     "name": "stderr",
     "output_type": "stream",
     "text": [
      " 93%|█████████▎| 1981/2130 [03:06<00:13, 11.04it/s]"
     ]
    },
    {
     "name": "stdout",
     "output_type": "stream",
     "text": [
      "5-216370-A-41.png\n",
      "1/1 [==============================] - 0s 59ms/step\n",
      "5-216370-B-41.png\n",
      "1/1 [==============================] - 0s 63ms/step\n"
     ]
    },
    {
     "name": "stderr",
     "output_type": "stream",
     "text": [
      " 93%|█████████▎| 1983/2130 [03:07<00:13, 11.03it/s]"
     ]
    },
    {
     "name": "stdout",
     "output_type": "stream",
     "text": [
      "5-217158-A-0.png\n",
      "1/1 [==============================] - 0s 63ms/step\n",
      "5-217186-A-16.png\n",
      "1/1 [==============================] - 0s 61ms/step\n"
     ]
    },
    {
     "name": "stderr",
     "output_type": "stream",
     "text": [
      " 93%|█████████▎| 1985/2130 [03:07<00:13, 11.05it/s]"
     ]
    },
    {
     "name": "stdout",
     "output_type": "stream",
     "text": [
      "5-217186-B-16.png\n",
      "1/1 [==============================] - 0s 63ms/step\n",
      "5-217186-C-16.png\n",
      "1/1 [==============================] - 0s 57ms/step\n"
     ]
    },
    {
     "name": "stderr",
     "output_type": "stream",
     "text": [
      " 93%|█████████▎| 1987/2130 [03:07<00:13, 10.98it/s]"
     ]
    },
    {
     "name": "stdout",
     "output_type": "stream",
     "text": [
      "5-218494-A-22.png\n",
      "1/1 [==============================] - 0s 57ms/step\n",
      "5-219242-A-37.png\n",
      "1/1 [==============================] - 0s 57ms/step\n"
     ]
    },
    {
     "name": "stderr",
     "output_type": "stream",
     "text": [
      " 93%|█████████▎| 1989/2130 [03:07<00:12, 11.04it/s]"
     ]
    },
    {
     "name": "stdout",
     "output_type": "stream",
     "text": [
      "5-219242-B-37.png\n",
      "1/1 [==============================] - 0s 56ms/step\n",
      "5-219342-A-38.png\n",
      "1/1 [==============================] - 0s 62ms/step\n"
     ]
    },
    {
     "name": "stderr",
     "output_type": "stream",
     "text": [
      " 93%|█████████▎| 1991/2130 [03:07<00:12, 11.15it/s]"
     ]
    },
    {
     "name": "stdout",
     "output_type": "stream",
     "text": [
      "5-219379-A-11.png\n",
      "1/1 [==============================] - 0s 65ms/step\n",
      "5-219379-B-11.png\n",
      "1/1 [==============================] - 0s 57ms/step\n"
     ]
    },
    {
     "name": "stderr",
     "output_type": "stream",
     "text": [
      " 94%|█████████▎| 1993/2130 [03:07<00:12, 11.10it/s]"
     ]
    },
    {
     "name": "stdout",
     "output_type": "stream",
     "text": [
      "5-219379-C-11.png\n",
      "1/1 [==============================] - 0s 62ms/step\n",
      "5-220026-A-21.png\n",
      "1/1 [==============================] - 0s 65ms/step\n"
     ]
    },
    {
     "name": "stderr",
     "output_type": "stream",
     "text": [
      " 94%|█████████▎| 1995/2130 [03:08<00:12, 11.03it/s]"
     ]
    },
    {
     "name": "stdout",
     "output_type": "stream",
     "text": [
      "5-220027-A-21.png\n",
      "1/1 [==============================] - 0s 62ms/step\n",
      "5-220955-A-40.png\n",
      "1/1 [==============================] - 0s 57ms/step\n"
     ]
    },
    {
     "name": "stderr",
     "output_type": "stream",
     "text": [
      " 94%|█████████▍| 1997/2130 [03:08<00:12, 11.02it/s]"
     ]
    },
    {
     "name": "stdout",
     "output_type": "stream",
     "text": [
      "5-221518-A-21.png\n",
      "1/1 [==============================] - 0s 57ms/step\n",
      "5-221567-A-22.png\n",
      "1/1 [==============================] - 0s 59ms/step\n"
     ]
    },
    {
     "name": "stderr",
     "output_type": "stream",
     "text": [
      " 94%|█████████▍| 1999/2130 [03:08<00:11, 11.19it/s]"
     ]
    },
    {
     "name": "stdout",
     "output_type": "stream",
     "text": [
      "5-221568-A-22.png\n",
      "1/1 [==============================] - 0s 57ms/step\n",
      "5-221593-A-21.png\n",
      "1/1 [==============================] - 0s 55ms/step\n"
     ]
    },
    {
     "name": "stderr",
     "output_type": "stream",
     "text": [
      " 94%|█████████▍| 2001/2130 [03:08<00:11, 11.32it/s]"
     ]
    },
    {
     "name": "stdout",
     "output_type": "stream",
     "text": [
      "5-221878-A-34.png\n",
      "1/1 [==============================] - 0s 58ms/step\n",
      "5-221950-A-22.png\n",
      "1/1 [==============================] - 0s 60ms/step\n"
     ]
    },
    {
     "name": "stderr",
     "output_type": "stream",
     "text": [
      " 94%|█████████▍| 2003/2130 [03:08<00:11, 11.31it/s]"
     ]
    },
    {
     "name": "stdout",
     "output_type": "stream",
     "text": [
      "5-222524-A-41.png\n",
      "1/1 [==============================] - 0s 61ms/step\n",
      "5-223176-A-37.png\n",
      "1/1 [==============================] - 0s 72ms/step\n"
     ]
    },
    {
     "name": "stderr",
     "output_type": "stream",
     "text": [
      " 94%|█████████▍| 2005/2130 [03:09<00:11, 10.81it/s]"
     ]
    },
    {
     "name": "stdout",
     "output_type": "stream",
     "text": [
      "5-231762-A-0.png\n",
      "1/1 [==============================] - 0s 57ms/step\n",
      "5-232272-A-44.png\n",
      "1/1 [==============================] - 0s 54ms/step\n"
     ]
    },
    {
     "name": "stderr",
     "output_type": "stream",
     "text": [
      " 94%|█████████▍| 2007/2130 [03:09<00:11, 10.92it/s]"
     ]
    },
    {
     "name": "stdout",
     "output_type": "stream",
     "text": [
      "5-232816-A-23.png\n",
      "1/1 [==============================] - 0s 55ms/step\n",
      "5-233260-A-23.png\n",
      "1/1 [==============================] - 0s 55ms/step\n"
     ]
    },
    {
     "name": "stderr",
     "output_type": "stream",
     "text": [
      " 94%|█████████▍| 2009/2130 [03:09<00:10, 11.20it/s]"
     ]
    },
    {
     "name": "stdout",
     "output_type": "stream",
     "text": [
      "5-233312-A-28.png\n",
      "1/1 [==============================] - 0s 56ms/step\n",
      "5-233645-A-37.png\n",
      "1/1 [==============================] - 0s 61ms/step\n"
     ]
    },
    {
     "name": "stderr",
     "output_type": "stream",
     "text": [
      " 94%|█████████▍| 2011/2130 [03:09<00:10, 11.30it/s]"
     ]
    },
    {
     "name": "stdout",
     "output_type": "stream",
     "text": [
      "5-233787-A-7.png\n",
      "1/1 [==============================] - 0s 57ms/step\n",
      "5-234145-A-28.png\n",
      "1/1 [==============================] - 0s 57ms/step\n"
     ]
    },
    {
     "name": "stderr",
     "output_type": "stream",
     "text": [
      " 95%|█████████▍| 2013/2130 [03:09<00:10, 11.38it/s]"
     ]
    },
    {
     "name": "stdout",
     "output_type": "stream",
     "text": [
      "5-234247-A-37.png\n",
      "1/1 [==============================] - 0s 62ms/step\n",
      "5-234335-A-23.png\n",
      "1/1 [==============================] - 0s 73ms/step\n"
     ]
    },
    {
     "name": "stderr",
     "output_type": "stream",
     "text": [
      " 95%|█████████▍| 2015/2130 [03:09<00:10, 10.73it/s]"
     ]
    },
    {
     "name": "stdout",
     "output_type": "stream",
     "text": [
      "5-235507-A-44.png\n",
      "1/1 [==============================] - 0s 78ms/step\n",
      "5-235593-A-23.png\n",
      "1/1 [==============================] - 0s 59ms/step\n"
     ]
    },
    {
     "name": "stderr",
     "output_type": "stream",
     "text": [
      " 95%|█████████▍| 2017/2130 [03:10<00:10, 10.42it/s]"
     ]
    },
    {
     "name": "stdout",
     "output_type": "stream",
     "text": [
      "5-235671-A-38.png\n",
      "1/1 [==============================] - 0s 56ms/step\n",
      "5-235874-A-28.png\n",
      "1/1 [==============================] - 0s 61ms/step\n"
     ]
    },
    {
     "name": "stderr",
     "output_type": "stream",
     "text": [
      " 95%|█████████▍| 2019/2130 [03:10<00:10, 10.67it/s]"
     ]
    },
    {
     "name": "stdout",
     "output_type": "stream",
     "text": [
      "5-235893-A-28.png\n",
      "1/1 [==============================] - 0s 59ms/step\n",
      "5-235956-A-47.png\n",
      "1/1 [==============================] - 0s 60ms/step\n"
     ]
    },
    {
     "name": "stderr",
     "output_type": "stream",
     "text": [
      " 95%|█████████▍| 2021/2130 [03:10<00:10, 10.89it/s]"
     ]
    },
    {
     "name": "stdout",
     "output_type": "stream",
     "text": [
      "5-236288-A-28.png\n",
      "1/1 [==============================] - 0s 58ms/step\n",
      "5-236299-A-34.png\n",
      "1/1 [==============================] - 0s 58ms/step\n"
     ]
    },
    {
     "name": "stderr",
     "output_type": "stream",
     "text": [
      " 95%|█████████▍| 2023/2130 [03:10<00:09, 11.12it/s]"
     ]
    },
    {
     "name": "stdout",
     "output_type": "stream",
     "text": [
      "5-237499-A-4.png\n",
      "1/1 [==============================] - 0s 61ms/step\n",
      "5-237795-A-34.png\n",
      "1/1 [==============================] - 0s 58ms/step\n"
     ]
    },
    {
     "name": "stderr",
     "output_type": "stream",
     "text": [
      " 95%|█████████▌| 2025/2130 [03:10<00:09, 11.12it/s]"
     ]
    },
    {
     "name": "stdout",
     "output_type": "stream",
     "text": [
      "5-238492-A-23.png\n",
      "1/1 [==============================] - 0s 60ms/step\n",
      "5-240671-A-44.png\n",
      "1/1 [==============================] - 0s 57ms/step\n"
     ]
    },
    {
     "name": "stderr",
     "output_type": "stream",
     "text": [
      " 95%|█████████▌| 2027/2130 [03:11<00:09, 11.15it/s]"
     ]
    },
    {
     "name": "stdout",
     "output_type": "stream",
     "text": [
      "5-241846-A-15.png\n",
      "1/1 [==============================] - 0s 57ms/step\n",
      "5-242932-A-26.png\n",
      "1/1 [==============================] - 0s 57ms/step\n"
     ]
    },
    {
     "name": "stderr",
     "output_type": "stream",
     "text": [
      " 95%|█████████▌| 2029/2130 [03:11<00:08, 11.27it/s]"
     ]
    },
    {
     "name": "stdout",
     "output_type": "stream",
     "text": [
      "5-242932-B-26.png\n",
      "1/1 [==============================] - 0s 58ms/step\n",
      "5-243036-A-29.png\n",
      "1/1 [==============================] - 0s 56ms/step\n"
     ]
    },
    {
     "name": "stderr",
     "output_type": "stream",
     "text": [
      " 95%|█████████▌| 2031/2130 [03:11<00:08, 11.36it/s]"
     ]
    },
    {
     "name": "stdout",
     "output_type": "stream",
     "text": [
      "5-243635-A-29.png\n",
      "1/1 [==============================] - 0s 59ms/step\n",
      "5-243773-A-44.png\n",
      "1/1 [==============================] - 0s 57ms/step\n"
     ]
    },
    {
     "name": "stderr",
     "output_type": "stream",
     "text": [
      " 95%|█████████▌| 2033/2130 [03:11<00:08, 11.40it/s]"
     ]
    },
    {
     "name": "stdout",
     "output_type": "stream",
     "text": [
      "5-243773-B-44.png\n",
      "1/1 [==============================] - 0s 60ms/step\n",
      "5-243783-A-44.png\n",
      "1/1 [==============================] - 0s 58ms/step\n"
     ]
    },
    {
     "name": "stderr",
     "output_type": "stream",
     "text": [
      " 96%|█████████▌| 2035/2130 [03:11<00:08, 11.39it/s]"
     ]
    },
    {
     "name": "stdout",
     "output_type": "stream",
     "text": [
      "5-244327-A-34.png\n",
      "1/1 [==============================] - 0s 57ms/step\n",
      "5-244459-A-28.png\n",
      "1/1 [==============================] - 0s 55ms/step\n"
     ]
    },
    {
     "name": "stderr",
     "output_type": "stream",
     "text": [
      " 96%|█████████▌| 2037/2130 [03:11<00:08, 11.34it/s]"
     ]
    },
    {
     "name": "stdout",
     "output_type": "stream",
     "text": [
      "5-244526-A-26.png\n",
      "1/1 [==============================] - 0s 58ms/step\n",
      "5-244933-A-34.png\n",
      "1/1 [==============================] - 0s 58ms/step\n"
     ]
    },
    {
     "name": "stderr",
     "output_type": "stream",
     "text": [
      " 96%|█████████▌| 2039/2130 [03:12<00:07, 11.45it/s]"
     ]
    },
    {
     "name": "stdout",
     "output_type": "stream",
     "text": [
      "5-249748-A-28.png\n",
      "1/1 [==============================] - 0s 63ms/step\n",
      "5-249937-A-22.png\n",
      "1/1 [==============================] - 0s 60ms/step\n"
     ]
    },
    {
     "name": "stderr",
     "output_type": "stream",
     "text": [
      " 96%|█████████▌| 2041/2130 [03:12<00:07, 11.32it/s]"
     ]
    },
    {
     "name": "stdout",
     "output_type": "stream",
     "text": [
      "5-250258-A-49.png\n",
      "1/1 [==============================] - 0s 57ms/step\n",
      "5-250629-A-37.png\n",
      "1/1 [==============================] - 0s 58ms/step\n"
     ]
    },
    {
     "name": "stderr",
     "output_type": "stream",
     "text": [
      " 96%|█████████▌| 2043/2130 [03:12<00:07, 11.32it/s]"
     ]
    },
    {
     "name": "stdout",
     "output_type": "stream",
     "text": [
      "5-250753-A-34.png\n",
      "1/1 [==============================] - 0s 59ms/step\n",
      "5-251489-A-24.png\n",
      "1/1 [==============================] - 0s 60ms/step\n"
     ]
    },
    {
     "name": "stderr",
     "output_type": "stream",
     "text": [
      " 96%|█████████▌| 2045/2130 [03:12<00:07, 11.33it/s]"
     ]
    },
    {
     "name": "stdout",
     "output_type": "stream",
     "text": [
      "5-251957-A-47.png\n",
      "1/1 [==============================] - 0s 59ms/step\n",
      "5-251962-A-47.png\n",
      "1/1 [==============================] - 0s 59ms/step\n"
     ]
    },
    {
     "name": "stderr",
     "output_type": "stream",
     "text": [
      " 96%|█████████▌| 2047/2130 [03:12<00:07, 11.26it/s]"
     ]
    },
    {
     "name": "stdout",
     "output_type": "stream",
     "text": [
      "5-251963-A-47.png\n",
      "1/1 [==============================] - 0s 63ms/step\n",
      "5-251971-A-47.png\n",
      "1/1 [==============================] - 0s 63ms/step\n"
     ]
    },
    {
     "name": "stderr",
     "output_type": "stream",
     "text": [
      " 96%|█████████▌| 2049/2130 [03:13<00:07, 11.11it/s]"
     ]
    },
    {
     "name": "stdout",
     "output_type": "stream",
     "text": [
      "5-252248-A-34.png\n",
      "1/1 [==============================] - 0s 60ms/step\n",
      "5-253094-A-49.png\n",
      "1/1 [==============================] - 0s 65ms/step\n"
     ]
    },
    {
     "name": "stderr",
     "output_type": "stream",
     "text": [
      " 96%|█████████▋| 2051/2130 [03:13<00:07, 11.03it/s]"
     ]
    },
    {
     "name": "stdout",
     "output_type": "stream",
     "text": [
      "5-253094-B-49.png\n",
      "1/1 [==============================] - 0s 65ms/step\n",
      "5-253094-C-49.png\n",
      "1/1 [==============================] - 0s 60ms/step\n"
     ]
    },
    {
     "name": "stderr",
     "output_type": "stream",
     "text": [
      " 96%|█████████▋| 2053/2130 [03:13<00:07, 10.75it/s]"
     ]
    },
    {
     "name": "stdout",
     "output_type": "stream",
     "text": [
      "5-253094-D-49.png\n",
      "1/1 [==============================] - 0s 61ms/step\n",
      "5-253101-A-49.png\n",
      "1/1 [==============================] - 0s 61ms/step\n"
     ]
    },
    {
     "name": "stderr",
     "output_type": "stream",
     "text": [
      " 96%|█████████▋| 2055/2130 [03:13<00:06, 10.84it/s]"
     ]
    },
    {
     "name": "stdout",
     "output_type": "stream",
     "text": [
      "5-253101-B-49.png\n",
      "1/1 [==============================] - 0s 61ms/step\n",
      "5-253101-C-49.png\n",
      "1/1 [==============================] - 0s 55ms/step\n"
     ]
    },
    {
     "name": "stderr",
     "output_type": "stream",
     "text": [
      " 97%|█████████▋| 2057/2130 [03:13<00:06, 10.90it/s]"
     ]
    },
    {
     "name": "stdout",
     "output_type": "stream",
     "text": [
      "5-253534-A-26.png\n",
      "1/1 [==============================] - 0s 58ms/step\n",
      "5-254160-A-22.png\n",
      "1/1 [==============================] - 0s 62ms/step\n"
     ]
    },
    {
     "name": "stderr",
     "output_type": "stream",
     "text": [
      " 97%|█████████▋| 2059/2130 [03:13<00:06, 10.95it/s]"
     ]
    },
    {
     "name": "stdout",
     "output_type": "stream",
     "text": [
      "5-254832-A-15.png\n",
      "1/1 [==============================] - 0s 61ms/step\n",
      "5-254832-B-15.png\n",
      "1/1 [==============================] - 0s 60ms/step\n"
     ]
    },
    {
     "name": "stderr",
     "output_type": "stream",
     "text": [
      " 97%|█████████▋| 2061/2130 [03:14<00:06, 10.91it/s]"
     ]
    },
    {
     "name": "stdout",
     "output_type": "stream",
     "text": [
      "5-256452-A-5.png\n",
      "1/1 [==============================] - 0s 61ms/step\n",
      "5-257349-A-15.png\n",
      "1/1 [==============================] - 0s 64ms/step\n"
     ]
    },
    {
     "name": "stderr",
     "output_type": "stream",
     "text": [
      " 97%|█████████▋| 2063/2130 [03:14<00:06, 10.93it/s]"
     ]
    },
    {
     "name": "stdout",
     "output_type": "stream",
     "text": [
      "5-259169-A-5.png\n",
      "1/1 [==============================] - 0s 64ms/step\n",
      "5-259180-A-15.png\n",
      "1/1 [==============================] - 0s 61ms/step\n"
     ]
    },
    {
     "name": "stderr",
     "output_type": "stream",
     "text": [
      " 97%|█████████▋| 2065/2130 [03:14<00:05, 11.00it/s]"
     ]
    },
    {
     "name": "stdout",
     "output_type": "stream",
     "text": [
      "5-259514-A-26.png\n",
      "1/1 [==============================] - 0s 61ms/step\n",
      "5-259640-A-29.png\n",
      "1/1 [==============================] - 0s 60ms/step\n"
     ]
    },
    {
     "name": "stderr",
     "output_type": "stream",
     "text": [
      " 97%|█████████▋| 2067/2130 [03:14<00:05, 10.96it/s]"
     ]
    },
    {
     "name": "stdout",
     "output_type": "stream",
     "text": [
      "5-260011-A-34.png\n",
      "1/1 [==============================] - 0s 59ms/step\n",
      "5-260164-A-23.png\n",
      "1/1 [==============================] - 0s 61ms/step\n"
     ]
    },
    {
     "name": "stderr",
     "output_type": "stream",
     "text": [
      " 97%|█████████▋| 2069/2130 [03:14<00:05, 11.04it/s]"
     ]
    },
    {
     "name": "stdout",
     "output_type": "stream",
     "text": [
      "5-261433-A-15.png\n",
      "1/1 [==============================] - 0s 61ms/step\n",
      "5-261439-A-15.png\n",
      "1/1 [==============================] - 0s 63ms/step\n"
     ]
    },
    {
     "name": "stderr",
     "output_type": "stream",
     "text": [
      " 97%|█████████▋| 2071/2130 [03:15<00:05, 11.06it/s]"
     ]
    },
    {
     "name": "stdout",
     "output_type": "stream",
     "text": [
      "5-261464-A-23.png\n",
      "1/1 [==============================] - 0s 61ms/step\n",
      "5-262641-A-15.png\n",
      "1/1 [==============================] - 0s 60ms/step\n"
     ]
    },
    {
     "name": "stderr",
     "output_type": "stream",
     "text": [
      " 97%|█████████▋| 2073/2130 [03:15<00:05, 11.11it/s]"
     ]
    },
    {
     "name": "stdout",
     "output_type": "stream",
     "text": [
      "5-262957-A-22.png\n",
      "1/1 [==============================] - 0s 59ms/step\n",
      "5-263775-A-26.png\n",
      "1/1 [==============================] - 0s 60ms/step\n"
     ]
    },
    {
     "name": "stderr",
     "output_type": "stream",
     "text": [
      " 97%|█████████▋| 2075/2130 [03:15<00:04, 11.17it/s]"
     ]
    },
    {
     "name": "stdout",
     "output_type": "stream",
     "text": [
      "5-263775-B-26.png\n",
      "1/1 [==============================] - 0s 71ms/step\n",
      "5-9032-A-0.png\n",
      "1/1 [==============================] - 0s 77ms/step\n"
     ]
    },
    {
     "name": "stderr",
     "output_type": "stream",
     "text": [
      " 98%|█████████▊| 2077/2130 [03:15<00:05, 10.26it/s]"
     ]
    },
    {
     "name": "stdout",
     "output_type": "stream",
     "text": [
      "59-RLGbRftc_2.png\n",
      "1/1 [==============================] - 0s 75ms/step\n",
      "5APxMP-HViY_30.png\n",
      "1/1 [==============================] - 0s 76ms/step\n"
     ]
    },
    {
     "name": "stderr",
     "output_type": "stream",
     "text": [
      " 98%|█████████▊| 2079/2130 [03:15<00:05,  9.68it/s]"
     ]
    },
    {
     "name": "stdout",
     "output_type": "stream",
     "text": [
      "5Du1P6arhDk_30.png\n",
      "1/1 [==============================] - 0s 63ms/step\n"
     ]
    },
    {
     "name": "stderr",
     "output_type": "stream",
     "text": [
      " 98%|█████████▊| 2080/2130 [03:15<00:05,  9.60it/s]"
     ]
    },
    {
     "name": "stdout",
     "output_type": "stream",
     "text": [
      "5E3uj8PT54M_150.png\n",
      "1/1 [==============================] - 0s 68ms/step\n",
      "60xQmrC94vE_10.png\n",
      "1/1 [==============================] - 0s 64ms/step\n"
     ]
    },
    {
     "name": "stderr",
     "output_type": "stream",
     "text": [
      " 98%|█████████▊| 2082/2130 [03:16<00:04,  9.81it/s]"
     ]
    },
    {
     "name": "stdout",
     "output_type": "stream",
     "text": [
      "64ZDqpuLHos_20.png\n",
      "1/1 [==============================] - 0s 60ms/step\n",
      "6BZugQqc6zo_140.png\n",
      "1/1 [==============================] - 0s 68ms/step\n"
     ]
    },
    {
     "name": "stderr",
     "output_type": "stream",
     "text": [
      " 98%|█████████▊| 2084/2130 [03:16<00:04, 10.05it/s]"
     ]
    },
    {
     "name": "stdout",
     "output_type": "stream",
     "text": [
      "6PV1Plc1de4_110.png\n",
      "1/1 [==============================] - 0s 68ms/step\n",
      "7bIkwzzY720_50.png\n",
      "1/1 [==============================] - 0s 67ms/step\n"
     ]
    },
    {
     "name": "stderr",
     "output_type": "stream",
     "text": [
      " 98%|█████████▊| 2086/2130 [03:16<00:04,  9.94it/s]"
     ]
    },
    {
     "name": "stdout",
     "output_type": "stream",
     "text": [
      "7DU1XZWAmQo_110.png\n",
      "1/1 [==============================] - 0s 60ms/step\n",
      "7QE2gJqMSvM_30.png\n",
      "1/1 [==============================] - 0s 61ms/step\n"
     ]
    },
    {
     "name": "stderr",
     "output_type": "stream",
     "text": [
      " 98%|█████████▊| 2088/2130 [03:16<00:04, 10.24it/s]"
     ]
    },
    {
     "name": "stdout",
     "output_type": "stream",
     "text": [
      "7qiZZGAMnWw_40.png\n",
      "1/1 [==============================] - 0s 67ms/step\n",
      "8alHIj5fw6Q_19.png\n",
      "1/1 [==============================] - 0s 59ms/step\n"
     ]
    },
    {
     "name": "stderr",
     "output_type": "stream",
     "text": [
      " 98%|█████████▊| 2090/2130 [03:16<00:03, 10.38it/s]"
     ]
    },
    {
     "name": "stdout",
     "output_type": "stream",
     "text": [
      "8fwTKyK8RZM_70.png\n",
      "1/1 [==============================] - 0s 62ms/step\n",
      "8gy-g8cUB7s_130.png\n",
      "1/1 [==============================] - 0s 61ms/step\n"
     ]
    },
    {
     "name": "stderr",
     "output_type": "stream",
     "text": [
      " 98%|█████████▊| 2092/2130 [03:17<00:03, 10.56it/s]"
     ]
    },
    {
     "name": "stdout",
     "output_type": "stream",
     "text": [
      "8lWX2oiGNAM_0.png\n",
      "1/1 [==============================] - 0s 62ms/step\n",
      "8NIRGX91Hf8_180.png\n",
      "1/1 [==============================] - 0s 64ms/step\n"
     ]
    },
    {
     "name": "stderr",
     "output_type": "stream",
     "text": [
      " 98%|█████████▊| 2094/2130 [03:17<00:03, 10.67it/s]"
     ]
    },
    {
     "name": "stdout",
     "output_type": "stream",
     "text": [
      "8Qs8fM46Aec_30.png\n",
      "1/1 [==============================] - 0s 66ms/step\n",
      "8udAFknddNY_60.png\n",
      "1/1 [==============================] - 0s 57ms/step\n"
     ]
    },
    {
     "name": "stderr",
     "output_type": "stream",
     "text": [
      " 98%|█████████▊| 2096/2130 [03:17<00:03, 10.71it/s]"
     ]
    },
    {
     "name": "stdout",
     "output_type": "stream",
     "text": [
      "9gUHNNS7fwY_440.png\n",
      "1/1 [==============================] - 0s 60ms/step\n",
      "ALak_G7SNBk_30.png\n",
      "1/1 [==============================] - 0s 60ms/step\n"
     ]
    },
    {
     "name": "stderr",
     "output_type": "stream",
     "text": [
      " 98%|█████████▊| 2098/2130 [03:17<00:02, 10.88it/s]"
     ]
    },
    {
     "name": "stdout",
     "output_type": "stream",
     "text": [
      "AmiY_jGjnYc_70.png\n",
      "1/1 [==============================] - 0s 66ms/step\n",
      "AmqQnHBAzxU_30.png\n",
      "1/1 [==============================] - 0s 62ms/step\n"
     ]
    },
    {
     "name": "stderr",
     "output_type": "stream",
     "text": [
      " 99%|█████████▊| 2100/2130 [03:17<00:02, 10.84it/s]"
     ]
    },
    {
     "name": "stdout",
     "output_type": "stream",
     "text": [
      "AolWG8fNw5A_300.png\n",
      "1/1 [==============================] - 0s 64ms/step\n",
      "AzsfW1INStY_120.png\n",
      "1/1 [==============================] - 0s 62ms/step\n"
     ]
    },
    {
     "name": "stderr",
     "output_type": "stream",
     "text": [
      " 99%|█████████▊| 2102/2130 [03:18<00:02, 10.82it/s]"
     ]
    },
    {
     "name": "stdout",
     "output_type": "stream",
     "text": [
      "Bcloa-D2pdA_20.png\n",
      "1/1 [==============================] - 0s 57ms/step\n",
      "Bx0oCCFHbTo_0.png\n",
      "1/1 [==============================] - 0s 64ms/step\n"
     ]
    },
    {
     "name": "stderr",
     "output_type": "stream",
     "text": [
      " 99%|█████████▉| 2104/2130 [03:18<00:02, 10.90it/s]"
     ]
    },
    {
     "name": "stdout",
     "output_type": "stream",
     "text": [
      "BYO2YI6a1zc_30.png\n",
      "1/1 [==============================] - 0s 66ms/step\n",
      "C8W6zFLA0Vs_330.png\n",
      "1/1 [==============================] - 0s 60ms/step\n"
     ]
    },
    {
     "name": "stderr",
     "output_type": "stream",
     "text": [
      " 99%|█████████▉| 2106/2130 [03:18<00:02, 10.53it/s]"
     ]
    },
    {
     "name": "stdout",
     "output_type": "stream",
     "text": [
      "CaFG3ejvdrk_30.png\n",
      "1/1 [==============================] - 0s 58ms/step\n",
      "CbDvdwREkag_20.png\n",
      "1/1 [==============================] - 0s 59ms/step\n"
     ]
    },
    {
     "name": "stderr",
     "output_type": "stream",
     "text": [
      " 99%|█████████▉| 2108/2130 [03:18<00:02, 10.77it/s]"
     ]
    },
    {
     "name": "stdout",
     "output_type": "stream",
     "text": [
      "CI9Fhm4X2As_30.png\n",
      "1/1 [==============================] - 0s 62ms/step\n",
      "CSfAK0IAu8Y_0.png\n",
      "1/1 [==============================] - 0s 62ms/step\n"
     ]
    },
    {
     "name": "stderr",
     "output_type": "stream",
     "text": [
      " 99%|█████████▉| 2110/2130 [03:18<00:01, 10.80it/s]"
     ]
    },
    {
     "name": "stdout",
     "output_type": "stream",
     "text": [
      "CTYvDFVMtPw_30.png\n",
      "1/1 [==============================] - 0s 71ms/step\n",
      "CU6jZmoDCo8_90.png\n",
      "1/1 [==============================] - 0s 73ms/step\n"
     ]
    },
    {
     "name": "stderr",
     "output_type": "stream",
     "text": [
      " 99%|█████████▉| 2112/2130 [03:18<00:01, 10.41it/s]"
     ]
    },
    {
     "name": "stdout",
     "output_type": "stream",
     "text": [
      "CxnLqTpHxaU_10.png\n",
      "1/1 [==============================] - 0s 68ms/step\n",
      "DgOv7Kvz-tg_0.png\n",
      "1/1 [==============================] - 0s 64ms/step\n"
     ]
    },
    {
     "name": "stderr",
     "output_type": "stream",
     "text": [
      " 99%|█████████▉| 2114/2130 [03:19<00:01, 10.30it/s]"
     ]
    },
    {
     "name": "stdout",
     "output_type": "stream",
     "text": [
      "Dkctb5TBU3Y_10.png\n",
      "1/1 [==============================] - 0s 59ms/step\n",
      "DLqij4HROF8_30.png\n",
      "1/1 [==============================] - 0s 60ms/step\n"
     ]
    },
    {
     "name": "stderr",
     "output_type": "stream",
     "text": [
      " 99%|█████████▉| 2116/2130 [03:19<00:01, 10.47it/s]"
     ]
    },
    {
     "name": "stdout",
     "output_type": "stream",
     "text": [
      "Dpw0wBGFikw_70.png\n",
      "1/1 [==============================] - 0s 66ms/step\n",
      "EFB1v8UGXZk_530.png\n",
      "1/1 [==============================] - 0s 62ms/step\n"
     ]
    },
    {
     "name": "stderr",
     "output_type": "stream",
     "text": [
      " 99%|█████████▉| 2118/2130 [03:19<00:01, 10.26it/s]"
     ]
    },
    {
     "name": "stdout",
     "output_type": "stream",
     "text": [
      "EFbTsNajy9g_3.png\n",
      "1/1 [==============================] - 0s 62ms/step\n",
      "EPtoy9KDXTc_30.png\n",
      "1/1 [==============================] - 0s 66ms/step\n"
     ]
    },
    {
     "name": "stderr",
     "output_type": "stream",
     "text": [
      "100%|█████████▉| 2120/2130 [03:19<00:00, 10.32it/s]"
     ]
    },
    {
     "name": "stdout",
     "output_type": "stream",
     "text": [
      "FHU88vg7_gw_30.png\n",
      "1/1 [==============================] - 0s 65ms/step\n",
      "FqNjEg1FSbY_0.png\n",
      "1/1 [==============================] - 0s 63ms/step\n"
     ]
    },
    {
     "name": "stderr",
     "output_type": "stream",
     "text": [
      "100%|█████████▉| 2122/2130 [03:19<00:00, 10.40it/s]"
     ]
    },
    {
     "name": "stdout",
     "output_type": "stream",
     "text": [
      "HIM8hVqMzDc_8.png\n",
      "1/1 [==============================] - 0s 69ms/step\n",
      "IzAfbaKtO1U_190.png\n",
      "1/1 [==============================] - 0s 64ms/step\n"
     ]
    },
    {
     "name": "stderr",
     "output_type": "stream",
     "text": [
      "100%|█████████▉| 2124/2130 [03:20<00:00, 10.15it/s]"
     ]
    },
    {
     "name": "stdout",
     "output_type": "stream",
     "text": [
      "KjXgiiU7zh8_0.png\n",
      "1/1 [==============================] - 0s 60ms/step\n",
      "LVgwIlnQ9H0_210.png\n",
      "1/1 [==============================] - 0s 61ms/step\n"
     ]
    },
    {
     "name": "stderr",
     "output_type": "stream",
     "text": [
      "100%|█████████▉| 2126/2130 [03:20<00:00, 10.34it/s]"
     ]
    },
    {
     "name": "stdout",
     "output_type": "stream",
     "text": [
      "MmROC69e0l8_0.png\n",
      "1/1 [==============================] - 0s 61ms/step\n",
      "MRuYn1zoepc_360.png\n",
      "1/1 [==============================] - 0s 73ms/step\n"
     ]
    },
    {
     "name": "stderr",
     "output_type": "stream",
     "text": [
      "100%|█████████▉| 2128/2130 [03:20<00:00, 10.38it/s]"
     ]
    },
    {
     "name": "stdout",
     "output_type": "stream",
     "text": [
      "MykVzSlP39o_10.png\n",
      "1/1 [==============================] - 0s 59ms/step\n",
      "OwxbTzL5f6U_300.png\n",
      "1/1 [==============================] - 0s 57ms/step\n"
     ]
    },
    {
     "name": "stderr",
     "output_type": "stream",
     "text": [
      "100%|██████████| 2130/2130 [03:20<00:00, 10.61it/s]\n"
     ]
    }
   ],
   "source": [
    "img_path= os.listdir(\"D:\\\\PhD\\\\data\\\\kmeans\")\n",
    "img_features,img_name=image_feature(img_path)"
   ]
  },
  {
   "cell_type": "code",
   "execution_count": 44,
   "metadata": {},
   "outputs": [
    {
     "data": {
      "text/html": [
       "<style>#sk-container-id-2 {color: black;background-color: white;}#sk-container-id-2 pre{padding: 0;}#sk-container-id-2 div.sk-toggleable {background-color: white;}#sk-container-id-2 label.sk-toggleable__label {cursor: pointer;display: block;width: 100%;margin-bottom: 0;padding: 0.3em;box-sizing: border-box;text-align: center;}#sk-container-id-2 label.sk-toggleable__label-arrow:before {content: \"▸\";float: left;margin-right: 0.25em;color: #696969;}#sk-container-id-2 label.sk-toggleable__label-arrow:hover:before {color: black;}#sk-container-id-2 div.sk-estimator:hover label.sk-toggleable__label-arrow:before {color: black;}#sk-container-id-2 div.sk-toggleable__content {max-height: 0;max-width: 0;overflow: hidden;text-align: left;background-color: #f0f8ff;}#sk-container-id-2 div.sk-toggleable__content pre {margin: 0.2em;color: black;border-radius: 0.25em;background-color: #f0f8ff;}#sk-container-id-2 input.sk-toggleable__control:checked~div.sk-toggleable__content {max-height: 200px;max-width: 100%;overflow: auto;}#sk-container-id-2 input.sk-toggleable__control:checked~label.sk-toggleable__label-arrow:before {content: \"▾\";}#sk-container-id-2 div.sk-estimator input.sk-toggleable__control:checked~label.sk-toggleable__label {background-color: #d4ebff;}#sk-container-id-2 div.sk-label input.sk-toggleable__control:checked~label.sk-toggleable__label {background-color: #d4ebff;}#sk-container-id-2 input.sk-hidden--visually {border: 0;clip: rect(1px 1px 1px 1px);clip: rect(1px, 1px, 1px, 1px);height: 1px;margin: -1px;overflow: hidden;padding: 0;position: absolute;width: 1px;}#sk-container-id-2 div.sk-estimator {font-family: monospace;background-color: #f0f8ff;border: 1px dotted black;border-radius: 0.25em;box-sizing: border-box;margin-bottom: 0.5em;}#sk-container-id-2 div.sk-estimator:hover {background-color: #d4ebff;}#sk-container-id-2 div.sk-parallel-item::after {content: \"\";width: 100%;border-bottom: 1px solid gray;flex-grow: 1;}#sk-container-id-2 div.sk-label:hover label.sk-toggleable__label {background-color: #d4ebff;}#sk-container-id-2 div.sk-serial::before {content: \"\";position: absolute;border-left: 1px solid gray;box-sizing: border-box;top: 0;bottom: 0;left: 50%;z-index: 0;}#sk-container-id-2 div.sk-serial {display: flex;flex-direction: column;align-items: center;background-color: white;padding-right: 0.2em;padding-left: 0.2em;position: relative;}#sk-container-id-2 div.sk-item {position: relative;z-index: 1;}#sk-container-id-2 div.sk-parallel {display: flex;align-items: stretch;justify-content: center;background-color: white;position: relative;}#sk-container-id-2 div.sk-item::before, #sk-container-id-2 div.sk-parallel-item::before {content: \"\";position: absolute;border-left: 1px solid gray;box-sizing: border-box;top: 0;bottom: 0;left: 50%;z-index: -1;}#sk-container-id-2 div.sk-parallel-item {display: flex;flex-direction: column;z-index: 1;position: relative;background-color: white;}#sk-container-id-2 div.sk-parallel-item:first-child::after {align-self: flex-end;width: 50%;}#sk-container-id-2 div.sk-parallel-item:last-child::after {align-self: flex-start;width: 50%;}#sk-container-id-2 div.sk-parallel-item:only-child::after {width: 0;}#sk-container-id-2 div.sk-dashed-wrapped {border: 1px dashed gray;margin: 0 0.4em 0.5em 0.4em;box-sizing: border-box;padding-bottom: 0.4em;background-color: white;}#sk-container-id-2 div.sk-label label {font-family: monospace;font-weight: bold;display: inline-block;line-height: 1.2em;}#sk-container-id-2 div.sk-label-container {text-align: center;}#sk-container-id-2 div.sk-container {/* jupyter's `normalize.less` sets `[hidden] { display: none; }` but bootstrap.min.css set `[hidden] { display: none !important; }` so we also need the `!important` here to be able to override the default hidden behavior on the sphinx rendered scikit-learn.org. See: https://github.com/scikit-learn/scikit-learn/issues/21755 */display: inline-block !important;position: relative;}#sk-container-id-2 div.sk-text-repr-fallback {display: none;}</style><div id=\"sk-container-id-2\" class=\"sk-top-container\"><div class=\"sk-text-repr-fallback\"><pre>KMeans(n_clusters=4, random_state=40)</pre><b>In a Jupyter environment, please rerun this cell to show the HTML representation or trust the notebook. <br />On GitHub, the HTML representation is unable to render, please try loading this page with nbviewer.org.</b></div><div class=\"sk-container\" hidden><div class=\"sk-item\"><div class=\"sk-estimator sk-toggleable\"><input class=\"sk-toggleable__control sk-hidden--visually\" id=\"sk-estimator-id-2\" type=\"checkbox\" checked><label for=\"sk-estimator-id-2\" class=\"sk-toggleable__label sk-toggleable__label-arrow\">KMeans</label><div class=\"sk-toggleable__content\"><pre>KMeans(n_clusters=4, random_state=40)</pre></div></div></div></div></div>"
      ],
      "text/plain": [
       "KMeans(n_clusters=4, random_state=40)"
      ]
     },
     "execution_count": 44,
     "metadata": {},
     "output_type": "execute_result"
    }
   ],
   "source": [
    "#Creating Clusters\n",
    "k = 4\n",
    "clusters = KMeans(k, random_state = 40)\n",
    "clusters.fit(img_features)"
   ]
  },
  {
   "cell_type": "code",
   "execution_count": 45,
   "metadata": {},
   "outputs": [
    {
     "data": {
      "text/html": [
       "<div>\n",
       "<style scoped>\n",
       "    .dataframe tbody tr th:only-of-type {\n",
       "        vertical-align: middle;\n",
       "    }\n",
       "\n",
       "    .dataframe tbody tr th {\n",
       "        vertical-align: top;\n",
       "    }\n",
       "\n",
       "    .dataframe thead th {\n",
       "        text-align: right;\n",
       "    }\n",
       "</style>\n",
       "<table border=\"1\" class=\"dataframe\">\n",
       "  <thead>\n",
       "    <tr style=\"text-align: right;\">\n",
       "      <th></th>\n",
       "      <th>image</th>\n",
       "      <th>clusterid</th>\n",
       "    </tr>\n",
       "  </thead>\n",
       "  <tbody>\n",
       "    <tr>\n",
       "      <th>0</th>\n",
       "      <td>---1_cCGK4M_0.png</td>\n",
       "      <td>0</td>\n",
       "    </tr>\n",
       "    <tr>\n",
       "      <th>1</th>\n",
       "      <td>---fcVQUf3E_30.png</td>\n",
       "      <td>3</td>\n",
       "    </tr>\n",
       "    <tr>\n",
       "      <th>2</th>\n",
       "      <td>---lTs1dxhU_30.png</td>\n",
       "      <td>0</td>\n",
       "    </tr>\n",
       "    <tr>\n",
       "      <th>3</th>\n",
       "      <td>---yQzzLcFU_30.png</td>\n",
       "      <td>2</td>\n",
       "    </tr>\n",
       "    <tr>\n",
       "      <th>4</th>\n",
       "      <td>--0FMNFsVeg_30.png</td>\n",
       "      <td>0</td>\n",
       "    </tr>\n",
       "    <tr>\n",
       "      <th>...</th>\n",
       "      <td>...</td>\n",
       "      <td>...</td>\n",
       "    </tr>\n",
       "    <tr>\n",
       "      <th>2125</th>\n",
       "      <td>LVgwIlnQ9H0_210.png</td>\n",
       "      <td>3</td>\n",
       "    </tr>\n",
       "    <tr>\n",
       "      <th>2126</th>\n",
       "      <td>MmROC69e0l8_0.png</td>\n",
       "      <td>0</td>\n",
       "    </tr>\n",
       "    <tr>\n",
       "      <th>2127</th>\n",
       "      <td>MRuYn1zoepc_360.png</td>\n",
       "      <td>0</td>\n",
       "    </tr>\n",
       "    <tr>\n",
       "      <th>2128</th>\n",
       "      <td>MykVzSlP39o_10.png</td>\n",
       "      <td>0</td>\n",
       "    </tr>\n",
       "    <tr>\n",
       "      <th>2129</th>\n",
       "      <td>OwxbTzL5f6U_300.png</td>\n",
       "      <td>0</td>\n",
       "    </tr>\n",
       "  </tbody>\n",
       "</table>\n",
       "<p>2130 rows × 2 columns</p>\n",
       "</div>"
      ],
      "text/plain": [
       "                    image  clusterid\n",
       "0       ---1_cCGK4M_0.png          0\n",
       "1      ---fcVQUf3E_30.png          3\n",
       "2      ---lTs1dxhU_30.png          0\n",
       "3      ---yQzzLcFU_30.png          2\n",
       "4      --0FMNFsVeg_30.png          0\n",
       "...                   ...        ...\n",
       "2125  LVgwIlnQ9H0_210.png          3\n",
       "2126    MmROC69e0l8_0.png          0\n",
       "2127  MRuYn1zoepc_360.png          0\n",
       "2128   MykVzSlP39o_10.png          0\n",
       "2129  OwxbTzL5f6U_300.png          0\n",
       "\n",
       "[2130 rows x 2 columns]"
      ]
     },
     "execution_count": 45,
     "metadata": {},
     "output_type": "execute_result"
    }
   ],
   "source": [
    "image_cluster = pd.DataFrame(img_name,columns=['image'])\n",
    "image_cluster[\"clusterid\"] = clusters.labels_\n",
    "image_cluster"
   ]
  },
  {
   "cell_type": "code",
   "execution_count": null,
   "metadata": {},
   "outputs": [],
   "source": [
    "# Made folder to seperate images\n",
    "os.mkdir('biophony')\n",
    "os.mkdir('geophony')\n",
    "os.mkdir('anthrophony')\n",
    "os.mkdir('other')\n",
    "\n",
    "# Images will be seperated according to cluster they belong\n",
    "for i in range(len(image_cluster)):\n",
    "    if image_cluster['clusterid'][i]==0:\n",
    "        shutil.move(os.path.join('cluster', image_cluster['image']               [i]), 'cats')\n",
    "    else:\n",
    "        shutil.move(os.path.join('cluster', image_cluster['image'][i]), 'dogs')"
   ]
  }
 ],
 "metadata": {
  "interpreter": {
   "hash": "0cb7461182531ee4d1fecde1160009f8d4e82a4e5b71e588d6526f0d447710c0"
  },
  "kernelspec": {
   "display_name": "Python 3.9.12 ('audiohandling')",
   "language": "python",
   "name": "python3"
  },
  "language_info": {
   "codemirror_mode": {
    "name": "ipython",
    "version": 3
   },
   "file_extension": ".py",
   "mimetype": "text/x-python",
   "name": "python",
   "nbconvert_exporter": "python",
   "pygments_lexer": "ipython3",
   "version": "3.9.12"
  },
  "orig_nbformat": 4
 },
 "nbformat": 4,
 "nbformat_minor": 2
}
