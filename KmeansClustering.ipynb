{
 "cells": [
  {
   "attachments": {},
   "cell_type": "markdown",
   "metadata": {},
   "source": [
    "https://www.dominodatalab.com/blog/getting-started-with-k-means-clustering-in-python"
   ]
  },
  {
   "cell_type": "code",
   "execution_count": null,
   "metadata": {},
   "outputs": [],
   "source": [
    "from sklearn.cluster import KMeans\n",
    "from sklearn import datasets\n",
    "from sklearn.utils import shuffle\n",
    "import pandas as pd\n",
    "import numpy as np\n",
    "import matplotlib.pyplot as plt\n",
    "from sklearn import preprocessing\n",
    "# import some data to play with\n",
    "data = pd.read_csv('kmeans.csv', header='infer')\n",
    "le = preprocessing.LabelEncoder()\n",
    "le.fit(data['class'])\n",
    "data['class']=le.transform(data['class'])\n",
    "\n",
    "#data1 = data.drop(columns=['class', \"mfcc_2_mean\", \"mfcc_3_mean\",  \"mfcc_4_mean\", \"mfcc_5_mean\", \"mfcc_6_mean\", \"mfcc_7_mean\", \"mfcc_8_mean\",\"mfcc_9_mean\",\"mfcc_10_mean\",\"mfcc_11_mean\",\"mfcc_12_mean\",\t\"mfcc_13_mean\"])\n",
    "data1 = data.sample(frac=0.05, replace=True, random_state=1)\n",
    "data = data.sample(frac=0.05, replace=True, random_state=1)\n",
    "\n",
    "X = data1\n",
    "y = data['class']\n",
    "#names = iris.feature_names"
   ]
  },
  {
   "cell_type": "code",
   "execution_count": null,
   "metadata": {},
   "outputs": [],
   "source": [
    "\n",
    "#Put data onto the same standard scale\n",
    "from sklearn.preprocessing import MinMaxScaler\n",
    "from sklearn.preprocessing import StandardScaler\n",
    "\n",
    "scaler=StandardScaler()\n",
    "scaler.fit(data1)\n",
    "data1=scaler.fit_transform(data1)\n",
    "data1"
   ]
  },
  {
   "cell_type": "code",
   "execution_count": null,
   "metadata": {},
   "outputs": [],
   "source": []
  },
  {
   "cell_type": "code",
   "execution_count": null,
   "metadata": {},
   "outputs": [],
   "source": [
    "plt.scatter(data1[1:,0],data1[1:,1:])\n",
    "plt.xlabel('ZCR_MEAN')\n",
    "plt.ylabel('MFCC_1_MEAN')\n",
    "plt.show()"
   ]
  },
  {
   "cell_type": "code",
   "execution_count": null,
   "metadata": {},
   "outputs": [],
   "source": [
    "kmeans = KMeans(n_clusters=4, random_state=42) \n",
    "kmeans.fit(X)\n",
    "y_kmeans = kmeans.predict(X)"
   ]
  },
  {
   "cell_type": "code",
   "execution_count": null,
   "metadata": {},
   "outputs": [],
   "source": [
    "kmeans.labels_"
   ]
  },
  {
   "cell_type": "code",
   "execution_count": null,
   "metadata": {},
   "outputs": [],
   "source": [
    "from sklearn.metrics import confusion_matrix\n",
    "conf_matrix=confusion_matrix(y, kmeans.labels_) \n",
    "\n",
    "fig, ax = plt.subplots(figsize=(7.5, 7.5))\n",
    "ax.matshow(conf_matrix, cmap=plt.cm.Blues, alpha=0.3)\n",
    "for i in range(conf_matrix.shape[0]):\n",
    "    for j in range(conf_matrix.shape[1]):\n",
    "        ax.text(x=j, y=i,s=conf_matrix[i, j], va='center', \n",
    "                ha='center', size='xx-large')\n",
    " \n",
    "plt.xlabel('Predictions', fontsize=18)\n",
    "plt.ylabel('Actuals', fontsize=18)\n",
    "plt.title('Confusion Matrix', fontsize=18)\n",
    "plt.show()"
   ]
  },
  {
   "cell_type": "code",
   "execution_count": null,
   "metadata": {},
   "outputs": [],
   "source": [
    "kmeans.cluster_centers_\n"
   ]
  },
  {
   "cell_type": "code",
   "execution_count": null,
   "metadata": {},
   "outputs": [],
   "source": [
    "plt.scatter(X.iloc[:, 0], X.iloc[:, 1], c=y_kmeans, s=50, cmap='viridis')\n",
    "\n",
    "centers = kmeans.cluster_centers_\n",
    "plt.scatter(centers[:, 0], centers[:, 1], c='black', s=200, alpha=0.5);"
   ]
  },
  {
   "attachments": {},
   "cell_type": "markdown",
   "metadata": {},
   "source": [
    "https://notebook.community/ml4a/ml4a-guides/notebooks/audio-tsne"
   ]
  },
  {
   "cell_type": "code",
   "execution_count": null,
   "metadata": {},
   "outputs": [],
   "source": [
    "%pip install librosa==0.7.0\n"
   ]
  },
  {
   "cell_type": "code",
   "execution_count": 1,
   "metadata": {},
   "outputs": [],
   "source": [
    "%matplotlib inline\n",
    "from matplotlib import pyplot as plt\n",
    "import matplotlib.cm as cm\n",
    "import fnmatch\n",
    "import os\n",
    "import librosa\n",
    "import numpy as np\n",
    "import matplotlib.pyplot as plt\n",
    "from sklearn.manifold import TSNE\n",
    "import json\n",
    "from sklearn.cluster import KMeans\n",
    "import pandas as pd"
   ]
  },
  {
   "attachments": {},
   "cell_type": "markdown",
   "metadata": {},
   "source": [
    "scan some directory of audio files and collect all their paths into a single list"
   ]
  },
  {
   "cell_type": "code",
   "execution_count": 2,
   "metadata": {},
   "outputs": [
    {
     "name": "stdout",
     "output_type": "stream",
     "text": [
      "found 2237 .wav files in D:\\PhD-data\\denoising\\post\\Wambiana\n"
     ]
    }
   ],
   "source": [
    "path = 'D:\\\\PhD-data\\\\denoising\\\\post\\\\Wambiana'\n",
    "\n",
    "files = []\n",
    "for root, dirnames, filenames in os.walk(path):\n",
    "    for filename in fnmatch.filter(filenames, '*.wav'):\n",
    "        files.append(os.path.join(root, filename))\n",
    "\n",
    "print(\"found %d .wav files in %s\"%(len(files),path))"
   ]
  },
  {
   "cell_type": "code",
   "execution_count": null,
   "metadata": {},
   "outputs": [],
   "source": [
    "# import librosa\n",
    "# import numpy as np\n",
    "# import pandas as pd\n",
    "\n",
    "# # Create an empty list to store the extracted features\n",
    "# features = []\n",
    "\n",
    "# # Loop through all file paths\n",
    "# for file_path in files:\n",
    "#     # Load the audio file\n",
    "#     y, sr = librosa.load(file_path)\n",
    "    \n",
    "#     # Extract the MFCC features and their first and second order derivatives\n",
    "#     mfcc = librosa.feature.mfcc(y=y, sr=sr, n_mfcc=13, lifter=0, n_fft=2048, hop_length=512)\n",
    "#     mfcc_delta = librosa.feature.delta(mfcc)\n",
    "#     mfcc_delta2 = librosa.feature.delta(mfcc, order=2)\n",
    "    \n",
    "#     # Concatenate the features and their derivatives into a single array\n",
    "#     features_row = np.concatenate((mfcc, mfcc_delta, mfcc_delta2))\n",
    "    \n",
    "#     # Add the filename as the final column\n",
    "#     file_name = file_path.split('/')[-1]  # Extract the filename from the file path\n",
    "#     features_row = np.append(features_row, file_name)\n",
    "    \n",
    "#     # Add the row of features to the list of features\n",
    "#     features.append(features_row)\n",
    "\n",
    "# # Convert the list of features to a DataFrame and save as a .csv file\n",
    "# df = pd.DataFrame(features)\n",
    "# df.to_csv('output.csv', header=False, index=False)\n"
   ]
  },
  {
   "attachments": {},
   "cell_type": "markdown",
   "metadata": {},
   "source": [
    "function which extracts a feature vector from an audio file\n",
    "\n",
    "The feature extraction will calculate the first 13 mel-frequency cepstral coefficients of the audio file, as well as their first- and second-order derivatives, and concatenate them into a single 39-element feature vector. The feature vector is also standardized so that each feature has equal variance."
   ]
  },
  {
   "cell_type": "code",
   "execution_count": 3,
   "metadata": {},
   "outputs": [],
   "source": [
    "def get_features(y, sr):\n",
    "    y = y[0:sr]  # analyze just first second\n",
    "    S = librosa.feature.melspectrogram(y, sr=sr, n_mels=128)\n",
    "    log_S = librosa.amplitude_to_db(S, ref=np.max)\n",
    "    mfcc = librosa.feature.mfcc(S=log_S, n_mfcc=13)\n",
    "    delta_mfcc = librosa.feature.delta(mfcc, mode='nearest')\n",
    "    delta2_mfcc = librosa.feature.delta(mfcc, order=2, mode='nearest')\n",
    "    feature_vector = np.concatenate((np.mean(mfcc,1), np.mean(delta_mfcc,1), np.mean(delta2_mfcc,1)))\n",
    "    feature_vector = (feature_vector-np.mean(feature_vector)) / np.std(feature_vector)\n",
    "    return feature_vector"
   ]
  },
  {
   "attachments": {},
   "cell_type": "markdown",
   "metadata": {},
   "source": [
    "Now we will iterate through all the files, and get their feature vectors, placing them into a new list feature_vectors. We also make a new array sound_paths to index the feature vectors to the correct paths"
   ]
  },
  {
   "cell_type": "code",
   "execution_count": 4,
   "metadata": {},
   "outputs": [
    {
     "name": "stdout",
     "output_type": "stream",
     "text": [
      "get 1 of 2237 = D:\\PhD-data\\denoising\\post\\Wambiana\\anthrophony\\audio_segment_dryA100_1.wav\n",
      "error loading D:\\PhD-data\\denoising\\post\\Wambiana\\anthrophony\\audio_segment_dryA100_14.wav\n",
      "error loading D:\\PhD-data\\denoising\\post\\Wambiana\\anthrophony\\audio_segment_dryA101_14.wav\n",
      "error loading D:\\PhD-data\\denoising\\post\\Wambiana\\anthrophony\\audio_segment_dryA102_14.wav\n",
      "error loading D:\\PhD-data\\denoising\\post\\Wambiana\\anthrophony\\audio_segment_dryA103_14.wav\n",
      "error loading D:\\PhD-data\\denoising\\post\\Wambiana\\anthrophony\\audio_segment_dryA104_14.wav\n",
      "error loading D:\\PhD-data\\denoising\\post\\Wambiana\\anthrophony\\audio_segment_dryA105_14.wav\n",
      "error loading D:\\PhD-data\\denoising\\post\\Wambiana\\anthrophony\\audio_segment_dryA106_14.wav\n",
      "get 101 of 2237 = D:\\PhD-data\\denoising\\post\\Wambiana\\anthrophony\\audio_segment_dryA107_11.wav\n",
      "error loading D:\\PhD-data\\denoising\\post\\Wambiana\\anthrophony\\audio_segment_dryA107_14.wav\n",
      "error loading D:\\PhD-data\\denoising\\post\\Wambiana\\anthrophony\\audio_segment_dryA108_14.wav\n",
      "error loading D:\\PhD-data\\denoising\\post\\Wambiana\\anthrophony\\audio_segment_dryA109_14.wav\n",
      "error loading D:\\PhD-data\\denoising\\post\\Wambiana\\anthrophony\\audio_segment_dryA110_14.wav\n",
      "error loading D:\\PhD-data\\denoising\\post\\Wambiana\\anthrophony\\audio_segment_dryA41_14.wav\n",
      "error loading D:\\PhD-data\\denoising\\post\\Wambiana\\anthrophony\\audio_segment_dryA42_14.wav\n",
      "error loading D:\\PhD-data\\denoising\\post\\Wambiana\\anthrophony\\audio_segment_dryB0_14.wav\n",
      "get 201 of 2237 = D:\\PhD-data\\denoising\\post\\Wambiana\\anthrophony\\audio_segment_dryB10_13.wav\n",
      "error loading D:\\PhD-data\\denoising\\post\\Wambiana\\anthrophony\\audio_segment_dryB10_14.wav\n",
      "error loading D:\\PhD-data\\denoising\\post\\Wambiana\\anthrophony\\audio_segment_dryB11_14.wav\n",
      "error loading D:\\PhD-data\\denoising\\post\\Wambiana\\anthrophony\\audio_segment_dryB20_14.wav\n",
      "error loading D:\\PhD-data\\denoising\\post\\Wambiana\\anthrophony\\audio_segment_dryB2_14.wav\n",
      "error loading D:\\PhD-data\\denoising\\post\\Wambiana\\biophony\\audio_segment_dryA0_14.wav\n",
      "error loading D:\\PhD-data\\denoising\\post\\Wambiana\\biophony\\audio_segment_dryA100_14.wav\n",
      "error loading D:\\PhD-data\\denoising\\post\\Wambiana\\biophony\\audio_segment_dryA101_14.wav\n",
      "error loading D:\\PhD-data\\denoising\\post\\Wambiana\\biophony\\audio_segment_dryA102_14.wav\n",
      "get 301 of 2237 = D:\\PhD-data\\denoising\\post\\Wambiana\\biophony\\audio_segment_dryA102_2.wav\n",
      "error loading D:\\PhD-data\\denoising\\post\\Wambiana\\biophony\\audio_segment_dryA103_14.wav\n",
      "error loading D:\\PhD-data\\denoising\\post\\Wambiana\\biophony\\audio_segment_dryA104_14.wav\n",
      "error loading D:\\PhD-data\\denoising\\post\\Wambiana\\biophony\\audio_segment_dryA105_14.wav\n",
      "error loading D:\\PhD-data\\denoising\\post\\Wambiana\\biophony\\audio_segment_dryA106_14.wav\n",
      "error loading D:\\PhD-data\\denoising\\post\\Wambiana\\biophony\\audio_segment_dryA107_14.wav\n",
      "error loading D:\\PhD-data\\denoising\\post\\Wambiana\\biophony\\audio_segment_dryA108_14.wav\n",
      "error loading D:\\PhD-data\\denoising\\post\\Wambiana\\biophony\\audio_segment_dryA109_14.wav\n",
      "get 401 of 2237 = D:\\PhD-data\\denoising\\post\\Wambiana\\biophony\\audio_segment_dryA109_4.wav\n",
      "error loading D:\\PhD-data\\denoising\\post\\Wambiana\\biophony\\audio_segment_dryA10_14.wav\n",
      "error loading D:\\PhD-data\\denoising\\post\\Wambiana\\biophony\\audio_segment_dryA110_14.wav\n",
      "error loading D:\\PhD-data\\denoising\\post\\Wambiana\\biophony\\audio_segment_dryA111_14.wav\n",
      "error loading D:\\PhD-data\\denoising\\post\\Wambiana\\biophony\\audio_segment_dryA112_14.wav\n",
      "error loading D:\\PhD-data\\denoising\\post\\Wambiana\\biophony\\audio_segment_dryA113_14.wav\n",
      "error loading D:\\PhD-data\\denoising\\post\\Wambiana\\biophony\\audio_segment_dryA114_14.wav\n",
      "error loading D:\\PhD-data\\denoising\\post\\Wambiana\\biophony\\audio_segment_dryA115_14.wav\n",
      "get 501 of 2237 = D:\\PhD-data\\denoising\\post\\Wambiana\\biophony\\audio_segment_dryA115_6.wav\n",
      "error loading D:\\PhD-data\\denoising\\post\\Wambiana\\biophony\\audio_segment_dryA116_14.wav\n",
      "error loading D:\\PhD-data\\denoising\\post\\Wambiana\\biophony\\audio_segment_dryA117_14.wav\n",
      "error loading D:\\PhD-data\\denoising\\post\\Wambiana\\biophony\\audio_segment_dryA118_14.wav\n",
      "error loading D:\\PhD-data\\denoising\\post\\Wambiana\\biophony\\audio_segment_dryA119_13.wav\n",
      "error loading D:\\PhD-data\\denoising\\post\\Wambiana\\biophony\\audio_segment_dryA11_14.wav\n",
      "error loading D:\\PhD-data\\denoising\\post\\Wambiana\\biophony\\audio_segment_dryA12_14.wav\n",
      "error loading D:\\PhD-data\\denoising\\post\\Wambiana\\biophony\\audio_segment_dryA13_14.wav\n",
      "get 601 of 2237 = D:\\PhD-data\\denoising\\post\\Wambiana\\biophony\\audio_segment_dryA13_9.wav\n",
      "error loading D:\\PhD-data\\denoising\\post\\Wambiana\\biophony\\audio_segment_dryA14_14.wav\n",
      "error loading D:\\PhD-data\\denoising\\post\\Wambiana\\biophony\\audio_segment_dryA15_14.wav\n",
      "error loading D:\\PhD-data\\denoising\\post\\Wambiana\\biophony\\audio_segment_dryA16_14.wav\n",
      "error loading D:\\PhD-data\\denoising\\post\\Wambiana\\biophony\\audio_segment_dryA17_14.wav\n",
      "error loading D:\\PhD-data\\denoising\\post\\Wambiana\\biophony\\audio_segment_dryA18_14.wav\n",
      "error loading D:\\PhD-data\\denoising\\post\\Wambiana\\biophony\\audio_segment_dryA19_14.wav\n",
      "error loading D:\\PhD-data\\denoising\\post\\Wambiana\\biophony\\audio_segment_dryA1_14.wav\n",
      "get 701 of 2237 = D:\\PhD-data\\denoising\\post\\Wambiana\\biophony\\audio_segment_dryA20_10.wav\n",
      "error loading D:\\PhD-data\\denoising\\post\\Wambiana\\biophony\\audio_segment_dryA20_14.wav\n",
      "error loading D:\\PhD-data\\denoising\\post\\Wambiana\\biophony\\audio_segment_dryA21_14.wav\n",
      "error loading D:\\PhD-data\\denoising\\post\\Wambiana\\biophony\\audio_segment_dryA22_14.wav\n",
      "error loading D:\\PhD-data\\denoising\\post\\Wambiana\\biophony\\audio_segment_dryA23_14.wav\n",
      "error loading D:\\PhD-data\\denoising\\post\\Wambiana\\biophony\\audio_segment_dryA24_14.wav\n",
      "error loading D:\\PhD-data\\denoising\\post\\Wambiana\\biophony\\audio_segment_dryA25_14.wav\n",
      "error loading D:\\PhD-data\\denoising\\post\\Wambiana\\biophony\\audio_segment_dryA26_14.wav\n",
      "get 801 of 2237 = D:\\PhD-data\\denoising\\post\\Wambiana\\biophony\\audio_segment_dryA27_12.wav\n",
      "error loading D:\\PhD-data\\denoising\\post\\Wambiana\\biophony\\audio_segment_dryA27_14.wav\n",
      "error loading D:\\PhD-data\\denoising\\post\\Wambiana\\biophony\\audio_segment_dryA28_14.wav\n",
      "error loading D:\\PhD-data\\denoising\\post\\Wambiana\\biophony\\audio_segment_dryA2_14.wav\n",
      "error loading D:\\PhD-data\\denoising\\post\\Wambiana\\biophony\\audio_segment_dryA3_14.wav\n",
      "error loading D:\\PhD-data\\denoising\\post\\Wambiana\\biophony\\audio_segment_dryA4_14.wav\n",
      "error loading D:\\PhD-data\\denoising\\post\\Wambiana\\biophony\\audio_segment_dryA5_14.wav\n",
      "error loading D:\\PhD-data\\denoising\\post\\Wambiana\\biophony\\audio_segment_dryA6_14.wav\n",
      "get 901 of 2237 = D:\\PhD-data\\denoising\\post\\Wambiana\\biophony\\audio_segment_dryA7_14.wav\n",
      "error loading D:\\PhD-data\\denoising\\post\\Wambiana\\biophony\\audio_segment_dryA7_14.wav\n",
      "error loading D:\\PhD-data\\denoising\\post\\Wambiana\\biophony\\audio_segment_dryA8_14.wav\n",
      "error loading D:\\PhD-data\\denoising\\post\\Wambiana\\biophony\\audio_segment_dryA9_14.wav\n",
      "error loading D:\\PhD-data\\denoising\\post\\Wambiana\\geophony\\audio_segment_WetB0_14.wav\n",
      "error loading D:\\PhD-data\\denoising\\post\\Wambiana\\geophony\\audio_segment_WetB10_14.wav\n",
      "error loading D:\\PhD-data\\denoising\\post\\Wambiana\\geophony\\audio_segment_WetB110_14.wav\n",
      "error loading D:\\PhD-data\\denoising\\post\\Wambiana\\geophony\\audio_segment_WetB111_14.wav\n",
      "error loading D:\\PhD-data\\denoising\\post\\Wambiana\\geophony\\audio_segment_WetB112_14.wav\n",
      "get 1001 of 2237 = D:\\PhD-data\\denoising\\post\\Wambiana\\geophony\\audio_segment_WetB112_3.wav\n",
      "error loading D:\\PhD-data\\denoising\\post\\Wambiana\\geophony\\audio_segment_WetB113_14.wav\n",
      "error loading D:\\PhD-data\\denoising\\post\\Wambiana\\geophony\\audio_segment_WetB114_14.wav\n",
      "error loading D:\\PhD-data\\denoising\\post\\Wambiana\\geophony\\audio_segment_WetB115_14.wav\n",
      "error loading D:\\PhD-data\\denoising\\post\\Wambiana\\geophony\\audio_segment_WetB116_14.wav\n",
      "error loading D:\\PhD-data\\denoising\\post\\Wambiana\\geophony\\audio_segment_WetB117_14.wav\n",
      "error loading D:\\PhD-data\\denoising\\post\\Wambiana\\geophony\\audio_segment_WetB118_14.wav\n",
      "error loading D:\\PhD-data\\denoising\\post\\Wambiana\\geophony\\audio_segment_WetB119_13.wav\n",
      "get 1101 of 2237 = D:\\PhD-data\\denoising\\post\\Wambiana\\geophony\\audio_segment_WetB119_6.wav\n",
      "error loading D:\\PhD-data\\denoising\\post\\Wambiana\\geophony\\audio_segment_WetB11_14.wav\n",
      "error loading D:\\PhD-data\\denoising\\post\\Wambiana\\geophony\\audio_segment_WetB12_14.wav\n",
      "error loading D:\\PhD-data\\denoising\\post\\Wambiana\\geophony\\audio_segment_WetB13_14.wav\n",
      "error loading D:\\PhD-data\\denoising\\post\\Wambiana\\geophony\\audio_segment_WetB14_14.wav\n",
      "error loading D:\\PhD-data\\denoising\\post\\Wambiana\\geophony\\audio_segment_WetB15_14.wav\n",
      "error loading D:\\PhD-data\\denoising\\post\\Wambiana\\geophony\\audio_segment_WetB16_14.wav\n",
      "error loading D:\\PhD-data\\denoising\\post\\Wambiana\\geophony\\audio_segment_WetB17_14.wav\n",
      "get 1201 of 2237 = D:\\PhD-data\\denoising\\post\\Wambiana\\geophony\\audio_segment_WetB17_8.wav\n",
      "error loading D:\\PhD-data\\denoising\\post\\Wambiana\\geophony\\audio_segment_WetB18_14.wav\n",
      "error loading D:\\PhD-data\\denoising\\post\\Wambiana\\geophony\\audio_segment_WetB19_14.wav\n",
      "error loading D:\\PhD-data\\denoising\\post\\Wambiana\\geophony\\audio_segment_WetB1_14.wav\n",
      "error loading D:\\PhD-data\\denoising\\post\\Wambiana\\geophony\\audio_segment_WetB20_14.wav\n",
      "error loading D:\\PhD-data\\denoising\\post\\Wambiana\\geophony\\audio_segment_WetB21_14.wav\n",
      "error loading D:\\PhD-data\\denoising\\post\\Wambiana\\geophony\\audio_segment_WetB22_14.wav\n",
      "error loading D:\\PhD-data\\denoising\\post\\Wambiana\\geophony\\audio_segment_WetB23_14.wav\n",
      "get 1301 of 2237 = D:\\PhD-data\\denoising\\post\\Wambiana\\geophony\\audio_segment_WetB24_1.wav\n",
      "error loading D:\\PhD-data\\denoising\\post\\Wambiana\\geophony\\audio_segment_WetB24_14.wav\n",
      "error loading D:\\PhD-data\\denoising\\post\\Wambiana\\geophony\\audio_segment_WetB25_14.wav\n",
      "error loading D:\\PhD-data\\denoising\\post\\Wambiana\\geophony\\audio_segment_WetB26_14.wav\n",
      "error loading D:\\PhD-data\\denoising\\post\\Wambiana\\geophony\\audio_segment_WetB27_14.wav\n",
      "error loading D:\\PhD-data\\denoising\\post\\Wambiana\\geophony\\audio_segment_WetB28_14.wav\n",
      "error loading D:\\PhD-data\\denoising\\post\\Wambiana\\geophony\\audio_segment_WetB29_14.wav\n",
      "error loading D:\\PhD-data\\denoising\\post\\Wambiana\\geophony\\audio_segment_WetB2_14.wav\n",
      "get 1401 of 2237 = D:\\PhD-data\\denoising\\post\\Wambiana\\geophony\\audio_segment_WetB30_11.wav\n",
      "error loading D:\\PhD-data\\denoising\\post\\Wambiana\\geophony\\audio_segment_WetB30_14.wav\n",
      "error loading D:\\PhD-data\\denoising\\post\\Wambiana\\geophony\\audio_segment_WetB3_14.wav\n",
      "error loading D:\\PhD-data\\denoising\\post\\Wambiana\\geophony\\audio_segment_WetB4_14.wav\n",
      "error loading D:\\PhD-data\\denoising\\post\\Wambiana\\geophony\\audio_segment_WetB5_14.wav\n",
      "error loading D:\\PhD-data\\denoising\\post\\Wambiana\\geophony\\audio_segment_WetB6_14.wav\n",
      "error loading D:\\PhD-data\\denoising\\post\\Wambiana\\geophony\\audio_segment_WetB7_14.wav\n",
      "error loading D:\\PhD-data\\denoising\\post\\Wambiana\\geophony\\audio_segment_WetB8_14.wav\n",
      "get 1501 of 2237 = D:\\PhD-data\\denoising\\post\\Wambiana\\geophony\\audio_segment_WetB9_13.wav\n",
      "error loading D:\\PhD-data\\denoising\\post\\Wambiana\\geophony\\audio_segment_WetB9_14.wav\n",
      "error loading D:\\PhD-data\\denoising\\post\\Wambiana\\other\\audio_segment_dryA100_14.wav\n",
      "error loading D:\\PhD-data\\denoising\\post\\Wambiana\\other\\audio_segment_dryA101_14.wav\n",
      "error loading D:\\PhD-data\\denoising\\post\\Wambiana\\other\\audio_segment_dryA102_14.wav\n",
      "error loading D:\\PhD-data\\denoising\\post\\Wambiana\\other\\audio_segment_dryA103_14.wav\n",
      "error loading D:\\PhD-data\\denoising\\post\\Wambiana\\other\\audio_segment_dryA104_14.wav\n",
      "error loading D:\\PhD-data\\denoising\\post\\Wambiana\\other\\audio_segment_dryA105_14.wav\n",
      "error loading D:\\PhD-data\\denoising\\post\\Wambiana\\other\\audio_segment_dryA106_14.wav\n",
      "get 1601 of 2237 = D:\\PhD-data\\denoising\\post\\Wambiana\\other\\audio_segment_dryA106_2.wav\n",
      "error loading D:\\PhD-data\\denoising\\post\\Wambiana\\other\\audio_segment_dryA107_14.wav\n",
      "error loading D:\\PhD-data\\denoising\\post\\Wambiana\\other\\audio_segment_dryA108_14.wav\n",
      "error loading D:\\PhD-data\\denoising\\post\\Wambiana\\other\\audio_segment_dryA109_14.wav\n",
      "error loading D:\\PhD-data\\denoising\\post\\Wambiana\\other\\audio_segment_dryA110_14.wav\n",
      "error loading D:\\PhD-data\\denoising\\post\\Wambiana\\other\\audio_segment_dryA111_14.wav\n",
      "error loading D:\\PhD-data\\denoising\\post\\Wambiana\\other\\audio_segment_dryA112_14.wav\n",
      "error loading D:\\PhD-data\\denoising\\post\\Wambiana\\other\\audio_segment_dryA113_14.wav\n",
      "get 1701 of 2237 = D:\\PhD-data\\denoising\\post\\Wambiana\\other\\audio_segment_dryA113_4.wav\n",
      "error loading D:\\PhD-data\\denoising\\post\\Wambiana\\other\\audio_segment_dryA114_14.wav\n",
      "error loading D:\\PhD-data\\denoising\\post\\Wambiana\\other\\audio_segment_dryA115_14.wav\n",
      "error loading D:\\PhD-data\\denoising\\post\\Wambiana\\other\\audio_segment_dryA117_14.wav\n",
      "error loading D:\\PhD-data\\denoising\\post\\Wambiana\\other\\audio_segment_dryA118_14.wav\n",
      "error loading D:\\PhD-data\\denoising\\post\\Wambiana\\other\\audio_segment_dryA119_13.wav\n",
      "error loading D:\\PhD-data\\denoising\\post\\Wambiana\\other\\audio_segment_dryA95_14.wav\n",
      "error loading D:\\PhD-data\\denoising\\post\\Wambiana\\other\\audio_segment_dryA96_14.wav\n",
      "get 1801 of 2237 = D:\\PhD-data\\denoising\\post\\Wambiana\\other\\audio_segment_dryA96_7.wav\n",
      "error loading D:\\PhD-data\\denoising\\post\\Wambiana\\other\\audio_segment_dryA97_14.wav\n",
      "error loading D:\\PhD-data\\denoising\\post\\Wambiana\\other\\audio_segment_dryA98_14.wav\n",
      "error loading D:\\PhD-data\\denoising\\post\\Wambiana\\other\\audio_segment_dryA99_14.wav\n",
      "error loading D:\\PhD-data\\denoising\\post\\Wambiana\\other\\audio_segment_dryB26_14.wav\n",
      "error loading D:\\PhD-data\\denoising\\post\\Wambiana\\other\\audio_segment_dryB27_14.wav\n",
      "error loading D:\\PhD-data\\denoising\\post\\Wambiana\\other\\audio_segment_dryB30_14.wav\n",
      "error loading D:\\PhD-data\\denoising\\post\\Wambiana\\other\\audio_segment_dryB31_14.wav\n",
      "get 1901 of 2237 = D:\\PhD-data\\denoising\\post\\Wambiana\\other\\audio_segment_dryB31_9.wav\n",
      "error loading D:\\PhD-data\\denoising\\post\\Wambiana\\other\\audio_segment_dryB32_14.wav\n",
      "error loading D:\\PhD-data\\denoising\\post\\Wambiana\\other\\audio_segment_dryB33_14.wav\n",
      "error loading D:\\PhD-data\\denoising\\post\\Wambiana\\other\\audio_segment_dryB34_14.wav\n",
      "error loading D:\\PhD-data\\denoising\\post\\Wambiana\\other\\audio_segment_dryB35_14.wav\n",
      "error loading D:\\PhD-data\\denoising\\post\\Wambiana\\other\\audio_segment_dryB36_14.wav\n",
      "error loading D:\\PhD-data\\denoising\\post\\Wambiana\\other\\audio_segment_dryB37_14.wav\n",
      "error loading D:\\PhD-data\\denoising\\post\\Wambiana\\other\\audio_segment_dryB38_14.wav\n",
      "get 2001 of 2237 = D:\\PhD-data\\denoising\\post\\Wambiana\\other\\audio_segment_dryB39_10.wav\n",
      "error loading D:\\PhD-data\\denoising\\post\\Wambiana\\other\\audio_segment_dryB39_14.wav\n",
      "error loading D:\\PhD-data\\denoising\\post\\Wambiana\\other\\audio_segment_dryB40_14.wav\n",
      "error loading D:\\PhD-data\\denoising\\post\\Wambiana\\other\\audio_segment_dryB41_14.wav\n",
      "error loading D:\\PhD-data\\denoising\\post\\Wambiana\\other\\audio_segment_dryB42_14.wav\n",
      "error loading D:\\PhD-data\\denoising\\post\\Wambiana\\other\\audio_segment_dryB43_14.wav\n",
      "error loading D:\\PhD-data\\denoising\\post\\Wambiana\\other\\audio_segment_dryB44_14.wav\n",
      "error loading D:\\PhD-data\\denoising\\post\\Wambiana\\other\\audio_segment_dryB45_14.wav\n",
      "get 2101 of 2237 = D:\\PhD-data\\denoising\\post\\Wambiana\\other\\audio_segment_dryB48_12.wav\n",
      "error loading D:\\PhD-data\\denoising\\post\\Wambiana\\other\\audio_segment_dryB48_14.wav\n",
      "error loading D:\\PhD-data\\denoising\\post\\Wambiana\\other\\audio_segment_dryB49_14.wav\n",
      "error loading D:\\PhD-data\\denoising\\post\\Wambiana\\other\\audio_segment_dryB50_14.wav\n",
      "error loading D:\\PhD-data\\denoising\\post\\Wambiana\\other\\audio_segment_dryB51_14.wav\n",
      "error loading D:\\PhD-data\\denoising\\post\\Wambiana\\other\\audio_segment_dryB52_14.wav\n",
      "error loading D:\\PhD-data\\denoising\\post\\Wambiana\\other\\audio_segment_dryB53_14.wav\n",
      "error loading D:\\PhD-data\\denoising\\post\\Wambiana\\other\\audio_segment_dryB54_14.wav\n",
      "get 2201 of 2237 = D:\\PhD-data\\denoising\\post\\Wambiana\\other\\audio_segment_dryB55_14.wav\n",
      "error loading D:\\PhD-data\\denoising\\post\\Wambiana\\other\\audio_segment_dryB55_14.wav\n",
      "error loading D:\\PhD-data\\denoising\\post\\Wambiana\\other\\audio_segment_dryB56_14.wav\n",
      "error loading D:\\PhD-data\\denoising\\post\\Wambiana\\other\\audio_segment_dryB57_14.wav\n",
      "calculated 2077 feature vectors\n"
     ]
    }
   ],
   "source": [
    "import librosa\n",
    "feature_vectors = []\n",
    "sound_paths = []\n",
    "for i,f in enumerate(files):\n",
    "    if i % 100 == 0:\n",
    "        print(\"get %d of %d = %s\"%(i+1, len(files), f))\n",
    "    y, sr = librosa.load(f)\n",
    "    if len(y) < 2:\n",
    "        print(\"error loading %s\" % f)\n",
    "        continue\n",
    "    feat = get_features(y, sr)\n",
    "    feature_vectors.append(feat)\n",
    "    sound_paths.append(f)\n",
    "        \n",
    "print(\"calculated %d feature vectors\"%len(feature_vectors))"
   ]
  },
  {
   "cell_type": "code",
   "execution_count": 5,
   "metadata": {},
   "outputs": [
    {
     "name": "stdout",
     "output_type": "stream",
     "text": [
      "            0         1         2         3         4         5         6   \\\n",
      "0     0.082471  0.454871  0.796889  0.506489  0.627111  0.696046  0.539483   \n",
      "1     0.171055  0.443470  0.693785  0.653337  0.713298  0.512147  0.649591   \n",
      "2     0.083777  0.471251  0.792655  0.505085  0.659196  0.666593  0.571229   \n",
      "3     0.088650  0.460130  0.798181  0.507931  0.645169  0.692779  0.554799   \n",
      "4     0.092463  0.481952  0.809069  0.513986  0.663942  0.657764  0.568602   \n",
      "...        ...       ...       ...       ...       ...       ...       ...   \n",
      "2072  0.171812  0.682472  0.607981  0.384563  0.409399  0.324260  0.629749   \n",
      "2073  0.230628  0.737007  0.615823  0.425049  0.407289  0.355502  0.619014   \n",
      "2074  0.216930  0.728404  0.605230  0.426588  0.439569  0.323748  0.593072   \n",
      "2075  0.197193  0.705339  0.621347  0.452494  0.428704  0.332111  0.561994   \n",
      "2076  0.182078  0.680637  0.595624  0.457195  0.419943  0.311313  0.570475   \n",
      "\n",
      "            7         8         9   ...        29        30        31  \\\n",
      "0     0.364474  0.496595  0.448717  ...  0.561243  0.544736  0.572599   \n",
      "1     0.571522  0.375469  0.418963  ...  0.508726  0.479506  0.479252   \n",
      "2     0.365247  0.504377  0.498317  ...  0.520291  0.510312  0.534212   \n",
      "3     0.389404  0.514831  0.481564  ...  0.517083  0.504563  0.528218   \n",
      "4     0.354599  0.466197  0.461292  ...  0.559594  0.538403  0.563334   \n",
      "...        ...       ...       ...  ...       ...       ...       ...   \n",
      "2072  0.244724  0.386684  0.646414  ...  0.773141  0.748791  0.766815   \n",
      "2073  0.177882  0.392098  0.602706  ...  0.744142  0.704067  0.726643   \n",
      "2074  0.153196  0.332621  0.632632  ...  0.738796  0.709324  0.726676   \n",
      "2075  0.084713  0.318238  0.588321  ...  0.782646  0.754063  0.774271   \n",
      "2076  0.065011  0.280115  0.613800  ...  0.816292  0.785400  0.803181   \n",
      "\n",
      "            32        33        34        35        36        37        38  \n",
      "0     0.543869  0.543449  0.544676  0.530545  0.547511  0.533520  0.533833  \n",
      "1     0.484989  0.489986  0.474562  0.457659  0.472592  0.463132  0.471789  \n",
      "2     0.502860  0.503908  0.509764  0.494602  0.506292  0.491481  0.500346  \n",
      "3     0.498525  0.507203  0.509242  0.488890  0.502445  0.490087  0.499047  \n",
      "4     0.538012  0.542690  0.540921  0.522831  0.540497  0.525703  0.531817  \n",
      "...        ...       ...       ...       ...       ...       ...       ...  \n",
      "2072  0.759629  0.754731  0.750586  0.753715  0.753848  0.755783  0.752733  \n",
      "2073  0.719312  0.721828  0.722681  0.712623  0.711915  0.717073  0.713258  \n",
      "2074  0.716697  0.714080  0.714041  0.720629  0.716306  0.714667  0.716235  \n",
      "2075  0.766952  0.766182  0.759707  0.758079  0.757029  0.763490  0.762742  \n",
      "2076  0.794668  0.795433  0.794799  0.792938  0.788679  0.795711  0.796728  \n",
      "\n",
      "[2077 rows x 39 columns]\n"
     ]
    }
   ],
   "source": [
    "from sklearn import preprocessing\n",
    "import pandas as pd\n",
    "\n",
    "x = feature_vectors\n",
    "min_max_scaler = preprocessing.MinMaxScaler()\n",
    "x_scaled = min_max_scaler.fit_transform(x)\n",
    "feature_vectors = pd.DataFrame(x_scaled)\n",
    "print(feature_vectors)\n",
    "df = pd.DataFrame(feature_vectors)\n",
    "paths = pd.DataFrame(sound_paths)\n",
    "df = pd.concat([df, paths], ignore_index=True, sort=False, axis=1)\n",
    "df.to_csv('39-features-wambiana-denoised-spectral.csv', index=False)"
   ]
  },
  {
   "attachments": {},
   "cell_type": "markdown",
   "metadata": {},
   "source": [
    "Now we can run t-SNE over the feature vectors to get a 2-dimensional embedding of our audio files. We use scikit-learn's TSNE function, and additionally normalize the results so that they are between 0 and 1."
   ]
  },
  {
   "cell_type": "code",
   "execution_count": null,
   "metadata": {},
   "outputs": [],
   "source": [
    "import pandas as pd\n",
    "feature_vectors = pd.read_csv(\"39-features-tarcutta-sound.csv\")\n",
    "feature_vectors"
   ]
  },
  {
   "cell_type": "code",
   "execution_count": null,
   "metadata": {},
   "outputs": [],
   "source": [
    "import pandas as pd\n",
    "\n",
    "# Drop rows containing missing values\n",
    "feature_vectors = feature_vectors.dropna()\n",
    "#feature_vectors.to_csv('39-features-esc50-cleaned.csv', index=False)\n",
    "feature_vectors = feature_vectors.drop(columns=[\"class\"])\n",
    "feature_vectors = feature_vectors.drop(columns=[\"path\"])\n",
    "feature_vectors = feature_vectors.iloc[:, 0:13]\n",
    "feature_vectors\n"
   ]
  },
  {
   "cell_type": "code",
   "execution_count": null,
   "metadata": {},
   "outputs": [],
   "source": [
    "model = TSNE(n_components=2, learning_rate=150, perplexity=50, verbose=2, angle=0.1).fit_transform(feature_vectors)\n"
   ]
  },
  {
   "attachments": {},
   "cell_type": "markdown",
   "metadata": {},
   "source": [
    "Let's plot our t-SNE points. We can use matplotlib to quickly scatter them and see their distribution."
   ]
  },
  {
   "cell_type": "code",
   "execution_count": null,
   "metadata": {},
   "outputs": [],
   "source": [
    "x_axis=model[:,0]\n",
    "y_axis=model[:,1]\n",
    "\n",
    "plt.figure(figsize = (10,10))\n",
    "plt.scatter(x_axis, y_axis)\n",
    "plt.show()"
   ]
  },
  {
   "attachments": {},
   "cell_type": "markdown",
   "metadata": {},
   "source": [
    "We see our t-SNE plot of our audio files, but it's not particularly interesting! Since we are dealing with audio files, there's no easy way to compare neighboring audio samples to each other. We can use some other, more interactive environment to view the results of the t-SNE. One way we can do this is by saving the results to a JSON file which stores the filepaths and t-SNE assignments of all the audio files. We can then load this JSON file in another environment.\n",
    "\n",
    "In any case, to save the t-SNE to a JSON file, we first normalize the coordinates to between 0 and 1 and save them, along with the full filepaths."
   ]
  },
  {
   "cell_type": "code",
   "execution_count": null,
   "metadata": {},
   "outputs": [],
   "source": [
    "from pyAudioProcessing import utils\n",
    "\n",
    "\n",
    "tsne_path = \"example-audio-tSNE.json\"\n",
    "\n",
    "x_norm = (x_axis - np.min(x_axis)) / (np.max(x_axis) - np.min(x_axis))\n",
    "y_norm = (y_axis - np.min(y_axis)) / (np.max(y_axis) - np.min(y_axis))\n",
    "\n",
    "data = [{\"path\":os.path.abspath(f), \"point\":[x, y]} for f, x, y in zip(sound_paths, x_norm, y_norm)]\n",
    "# with open(tsne_path, 'w') as outfile:\n",
    "utils.write_to_json(tsne_path, str(data))\n",
    "    # json.dump(data, outfile, cls=)\n",
    "\n",
    "print(\"saved %s to disk!\" % tsne_path)"
   ]
  },
  {
   "cell_type": "code",
   "execution_count": null,
   "metadata": {},
   "outputs": [],
   "source": [
    "km = KMeans(n_clusters=4, init='k-means++', random_state=42)\n",
    "y_km = km.fit_predict(model)\n",
    "labels = km.labels_"
   ]
  },
  {
   "cell_type": "code",
   "execution_count": null,
   "metadata": {},
   "outputs": [],
   "source": [
    "model[y_km == 0, 0]"
   ]
  },
  {
   "cell_type": "code",
   "execution_count": null,
   "metadata": {},
   "outputs": [],
   "source": [
    "# plot the 3 clusters\n",
    "plt.figure(figsize=(20, 20))\n",
    "plt.scatter(\n",
    "    model[y_km == 0, 0], model[y_km == 0, 1],\n",
    "    s=50, c='lightgreen',\n",
    "    marker='s', edgecolor='black',\n",
    "    label='cluster 1'\n",
    ")\n",
    "\n",
    "plt.scatter(\n",
    "    model[y_km == 1, 0], model[y_km == 1, 1],\n",
    "    s=50, c='orange',\n",
    "    marker='o', edgecolor='black',\n",
    "    label='cluster 2'\n",
    ")\n",
    "\n",
    "plt.scatter(\n",
    "    model[y_km == 2, 0], model[y_km == 2, 1],\n",
    "    s=50, c='lightblue',\n",
    "    marker='v', edgecolor='black',\n",
    "    label='cluster 3'\n",
    ")\n",
    "\n",
    "plt.scatter(\n",
    "    model[y_km == 3, 0], model[y_km == 3, 1],\n",
    "    s=50, c='blue',\n",
    "    marker='v', edgecolor='black',\n",
    "    label='cluster 3'\n",
    ")\n",
    "\n",
    "# plot the centroids\n",
    "plt.scatter(\n",
    "    km.cluster_centers_[:, 0], km.cluster_centers_[:, 1],\n",
    "    s=250, marker='*',\n",
    "    c='red', edgecolor='black',\n",
    "    label='centroids'\n",
    ")\n",
    "plt.legend(scatterpoints=1)\n",
    "plt.title('Clusters by t-SNE Components (with Dimension Reduction)', fontsize=20)\n",
    "plt.xlabel(\"Component 2\", fontsize=18)\n",
    "plt.ylabel(\"Component 1\", fontsize=18)\n",
    "plt.grid()\n",
    "plt.show()"
   ]
  },
  {
   "cell_type": "code",
   "execution_count": null,
   "metadata": {},
   "outputs": [],
   "source": [
    "kmeans_data_old = pd.read_csv('kmeans_results.csv')\n",
    "\n",
    "#encoding class values\n",
    "kmeans_data_old['class'] = kmeans_data_old['class'].str.replace('other', str(0))\n",
    "kmeans_data_old['class'] = kmeans_data_old['class'].str.replace('biophony', str(1))\n",
    "kmeans_data_old['class'] = kmeans_data_old['class'].str.replace('geophony', str(2))\n",
    "kmeans_data_old['class'] = kmeans_data_old['class'].str.replace('anthrophony', str(3))\n",
    "\n",
    "y_km = kmeans_data_old['class']\n",
    "y_km.drop(y_km.tail(1).index, inplace=True)\n",
    "y_km = y_km.values\n",
    "y_km"
   ]
  },
  {
   "cell_type": "code",
   "execution_count": null,
   "metadata": {},
   "outputs": [],
   "source": [
    "%pip install seaborn"
   ]
  },
  {
   "cell_type": "code",
   "execution_count": null,
   "metadata": {},
   "outputs": [],
   "source": [
    "import seaborn as sns\n",
    "\n",
    "x_axis=model[:,0]\n",
    "y_axis=model[:,1]\n",
    "\n",
    "plt.figure(figsize=(16,10))\n",
    "ax=sns.scatterplot(\n",
    "    x=x_axis, y=y_axis,\n",
    "    hue=y_km,\n",
    "    legend=\"full\",\n",
    "    alpha=0.3,\n",
    "    palette=['green','orange','dodgerblue','red']\n",
    ")\n",
    "handles, labels = ax.get_legend_handles_labels()\n",
    "ax.legend(handles, ['Anthrophony', 'Biophony', 'Geophony', 'Other'])\n",
    "ax.set(title=\"TSNE Plot with Ground Truth Overlayed\", ylabel=\"TSNE Component 1\", xlabel=\"TSNE Component 2\")"
   ]
  },
  {
   "attachments": {},
   "cell_type": "markdown",
   "metadata": {},
   "source": [
    "TODO: GET STATISTICS FOR ALL OF THE ABOVE GRAPHS\n",
    "TODO: CREATE ADDITIONAL GRAPH (USING SAME TSNE RESULTS) WITHOUT DIMENSION REDUCTION"
   ]
  },
  {
   "cell_type": "code",
   "execution_count": null,
   "metadata": {},
   "outputs": [],
   "source": [
    "kmeans_data_new = pd.read_csv('kmeans-nodr.csv', header='infer')\n",
    "kmeans_data_new.drop(kmeans_data_new.tail(1).index,inplace=True) # drop last n rows\n",
    "\n",
    "y_km = kmeans_data_new[\"Cluster\"]"
   ]
  },
  {
   "cell_type": "code",
   "execution_count": null,
   "metadata": {},
   "outputs": [],
   "source": [
    "import seaborn as sns\n",
    "\n",
    "x_axis=model[:,0]\n",
    "y_axis=model[:,1]\n",
    "\n",
    "plt.figure(figsize=(16,10))\n",
    "ax=sns.scatterplot(\n",
    "    x=x_axis, y=y_axis,\n",
    "    hue=y_km,\n",
    "    legend=\"full\",\n",
    "    alpha=0.3,\n",
    "    palette=['green','orange','dodgerblue','red']\n",
    ")\n",
    "handles, labels = ax.get_legend_handles_labels()\n",
    "ax.legend(handles, ['Geophony', 'Anthrophony', 'Biophony', 'Other'])\n",
    "ax.set(title=\"Kmeans Clustering Results without Dimension Reduction\", ylabel=\"TSNE Component 1\", xlabel=\"TSNE Component 2\")"
   ]
  },
  {
   "cell_type": "code",
   "execution_count": null,
   "metadata": {},
   "outputs": [],
   "source": [
    "kmeans_data_old = pd.read_csv('kmeans_results.csv', header='infer')\n",
    "\n",
    "kmeans_data_old.drop(kmeans_data_old.tail(1).index,inplace=True) # drop last n rows\n",
    "y_km = kmeans_data_old[\"kmeans_class\"]\n",
    "\n"
   ]
  },
  {
   "cell_type": "code",
   "execution_count": null,
   "metadata": {},
   "outputs": [],
   "source": [
    "import seaborn as sns\n",
    "\n",
    "x_axis=model[:,0]\n",
    "y_axis=model[:,1]\n",
    "\n",
    "plt.figure(figsize=(16,10))\n",
    "ax=sns.scatterplot(\n",
    "    x=x_axis, y=y_axis,\n",
    "    hue=y_km,\n",
    "    legend=\"full\",\n",
    "    alpha=0.3,\n",
    "    palette=['green','orange','dodgerblue','red']\n",
    ")\n",
    "handles, labels = ax.get_legend_handles_labels()\n",
    "ax.legend(handles, ['Anthrophony', 'Other', 'Biophony', 'Geophony'])\n",
    "ax.set(title=\"Kmeans Clustering Results with Dimension Reduction\", ylabel=\"TSNE Component 1\", xlabel=\"TSNE Component 2\")"
   ]
  },
  {
   "attachments": {},
   "cell_type": "markdown",
   "metadata": {},
   "source": [
    "You will however be able to calculate statistics like within group variance and between group variance. The goal is to have low within group variance and high between group variance"
   ]
  },
  {
   "cell_type": "code",
   "execution_count": null,
   "metadata": {},
   "outputs": [],
   "source": [
    "print(labels)"
   ]
  },
  {
   "attachments": {},
   "cell_type": "markdown",
   "metadata": {},
   "source": [
    "TODO: append results to k-means and use metrics to evaluate results against ground truth data"
   ]
  },
  {
   "cell_type": "code",
   "execution_count": null,
   "metadata": {},
   "outputs": [],
   "source": [
    "df = pd.read_csv('kmeans.csv')\n",
    "print(df)\n"
   ]
  },
  {
   "cell_type": "code",
   "execution_count": null,
   "metadata": {},
   "outputs": [],
   "source": [
    "kmeans_df = pd.DataFrame(labels, columns=[\"kmeans_class\"])\n",
    "\n",
    "df = pd.concat([df, kmeans_df], axis=1)\n",
    "print(df)\n",
    "df.to_csv(\"kmeans_results.csv\", index=False)"
   ]
  },
  {
   "attachments": {},
   "cell_type": "markdown",
   "metadata": {},
   "source": [
    "Rand Index - similarity of the two clustering assignments\n",
    "Biophony = 0\n",
    "Other = 1\n",
    "Anthrophony = 2\n",
    "Geophony = 3"
   ]
  },
  {
   "cell_type": "code",
   "execution_count": null,
   "metadata": {},
   "outputs": [],
   "source": [
    "#kmeans_df['kmeans_class'].value_counts()"
   ]
  },
  {
   "cell_type": "code",
   "execution_count": null,
   "metadata": {},
   "outputs": [],
   "source": [
    "from sklearn import metrics\n",
    "kmeans_data = pd.read_csv('kmeans_results.csv', header='infer')\n",
    "\n",
    "labels_pred = kmeans_data['kmeans_class']\n",
    "\n",
    "\n",
    "#encoding class values\n",
    "kmeans_data['class'] = kmeans_data['class'].str.replace('other', str(1))\n",
    "kmeans_data['class'] = kmeans_data['class'].str.replace('biophony', str(0))\n",
    "kmeans_data['class'] = kmeans_data['class'].str.replace('geophony', str(3))\n",
    "kmeans_data['class'] = kmeans_data['class'].str.replace('anthrophony', str(2))\n",
    "\n",
    "#print(kmeans_data)\n",
    "\n",
    "labels_true = kmeans_data['class']"
   ]
  },
  {
   "cell_type": "code",
   "execution_count": null,
   "metadata": {},
   "outputs": [],
   "source": [
    "metrics.rand_score(labels_true, labels_pred)"
   ]
  },
  {
   "attachments": {},
   "cell_type": "markdown",
   "metadata": {},
   "source": [
    "The Rand index does not ensure to obtain a value close to 0.0 for a random labelling. The adjusted Rand index corrects for chance and will give such a baseline."
   ]
  },
  {
   "cell_type": "code",
   "execution_count": null,
   "metadata": {},
   "outputs": [],
   "source": [
    "metrics.adjusted_rand_score(labels_true, labels_pred)"
   ]
  },
  {
   "attachments": {},
   "cell_type": "markdown",
   "metadata": {},
   "source": [
    "Mutual Information is a function that measures the agreement of the two assignments, ignoring permutations. Two different normalized versions of this measure are available, Normalized Mutual Information (NMI) and Adjusted Mutual Information (AMI). NMI is often used in the literature, while AMI was proposed more recently and is normalized against chance:"
   ]
  },
  {
   "cell_type": "code",
   "execution_count": null,
   "metadata": {},
   "outputs": [],
   "source": [
    "metrics.adjusted_mutual_info_score(labels_true, labels_pred)"
   ]
  },
  {
   "attachments": {},
   "cell_type": "markdown",
   "metadata": {},
   "source": [
    "homogeneity: each cluster contains only members of a single class.\n",
    "\n",
    "completeness: all members of a given class are assigned to the same cluster."
   ]
  },
  {
   "cell_type": "code",
   "execution_count": null,
   "metadata": {},
   "outputs": [],
   "source": [
    "metrics.homogeneity_score(labels_true, labels_pred)"
   ]
  },
  {
   "cell_type": "code",
   "execution_count": null,
   "metadata": {},
   "outputs": [],
   "source": [
    "metrics.completeness_score(labels_true, labels_pred)"
   ]
  },
  {
   "attachments": {},
   "cell_type": "markdown",
   "metadata": {},
   "source": [
    "Their harmonic mean called V-measure is computed by v_measure_score:"
   ]
  },
  {
   "cell_type": "code",
   "execution_count": null,
   "metadata": {},
   "outputs": [],
   "source": [
    "metrics.v_measure_score(labels_true, labels_pred)"
   ]
  },
  {
   "attachments": {},
   "cell_type": "markdown",
   "metadata": {},
   "source": [
    "The Fowlkes-Mallows score FMI is defined as the geometric mean of the pairwise precision and recall. A high value indicates a good similarity between two clusters"
   ]
  },
  {
   "cell_type": "code",
   "execution_count": null,
   "metadata": {},
   "outputs": [],
   "source": [
    "metrics.fowlkes_mallows_score(labels_true, labels_pred)"
   ]
  }
 ],
 "metadata": {
  "kernelspec": {
   "display_name": "env-02",
   "language": "python",
   "name": "python3"
  },
  "language_info": {
   "codemirror_mode": {
    "name": "ipython",
    "version": 3
   },
   "file_extension": ".py",
   "mimetype": "text/x-python",
   "name": "python",
   "nbconvert_exporter": "python",
   "pygments_lexer": "ipython3",
   "version": "3.9.7"
  },
  "orig_nbformat": 4,
  "vscode": {
   "interpreter": {
    "hash": "f82b60afc9e769353ca8e23ca0788a91521f3b1d90a0d850df22b067a5f0348b"
   }
  }
 },
 "nbformat": 4,
 "nbformat_minor": 2
}
