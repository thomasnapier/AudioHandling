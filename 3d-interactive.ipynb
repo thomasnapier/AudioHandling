{
 "cells": [
  {
   "cell_type": "code",
   "execution_count": null,
   "metadata": {},
   "outputs": [],
   "source": [
    "import matplotlib.pyplot as plt\n",
    "import numpy as np\n",
    "from mpl_toolkits.mplot3d import Axes3D\n",
    "import pandas as pd\n",
    "\n",
    "# Read in the CSV file\n",
    "df = pd.read_csv('combined-3d.csv')\n",
    "\n",
    "# Extract the x, y, z, and class columns from the dataframe\n",
    "x = df['x']\n",
    "y = df['y']\n",
    "z = df['z']\n",
    "classes = df['class']\n",
    "\n",
    "# Create a color map based on the unique values in the class column\n",
    "class_map = {c: i for i, c in enumerate(classes.unique())}\n",
    "colors = [class_map[c] for c in classes]\n",
    "cmap = plt.cm.get_cmap('viridis', len(class_map))\n",
    "\n",
    "# Create the scatterplot figure\n",
    "fig = plt.figure()\n",
    "ax = fig.add_subplot(111, projection='3d')\n",
    "scatter = ax.scatter(x, y, z, c=colors, cmap=cmap, s=10)\n",
    "\n",
    "# Add axis labels and title\n",
    "ax.set_xlabel('X')\n",
    "ax.set_ylabel('Y')\n",
    "ax.set_zlabel('Z')\n",
    "ax.set_title('Interactive 3D Scatterplot')\n",
    "\n",
    "# Show the plot\n",
    "plt.show()\n"
   ]
  },
  {
   "cell_type": "code",
   "execution_count": 2,
   "metadata": {},
   "outputs": [
    {
     "name": "stdout",
     "output_type": "stream",
     "text": [
      "Requirement already satisfied: ipywidgets in c:\\users\\thomas\\conda\\envs\\audiohandling\\lib\\site-packages (8.0.6)\n",
      "Requirement already satisfied: widgetsnbextension~=4.0.7 in c:\\users\\thomas\\conda\\envs\\audiohandling\\lib\\site-packages (from ipywidgets) (4.0.7)\n",
      "Requirement already satisfied: jupyterlab-widgets~=3.0.7 in c:\\users\\thomas\\conda\\envs\\audiohandling\\lib\\site-packages (from ipywidgets) (3.0.7)\n",
      "Requirement already satisfied: ipykernel>=4.5.1 in c:\\users\\thomas\\conda\\envs\\audiohandling\\lib\\site-packages (from ipywidgets) (6.13.0)\n",
      "Requirement already satisfied: ipython>=6.1.0 in c:\\users\\thomas\\conda\\envs\\audiohandling\\lib\\site-packages (from ipywidgets) (8.10.0)\n",
      "Requirement already satisfied: traitlets>=4.3.1 in c:\\users\\thomas\\conda\\envs\\audiohandling\\lib\\site-packages (from ipywidgets) (5.7.1)\n",
      "Requirement already satisfied: jupyter-client>=6.1.12 in c:\\users\\thomas\\conda\\envs\\audiohandling\\lib\\site-packages (from ipykernel>=4.5.1->ipywidgets) (7.4.9)\n",
      "Requirement already satisfied: debugpy>=1.0 in c:\\users\\thomas\\conda\\envs\\audiohandling\\lib\\site-packages (from ipykernel>=4.5.1->ipywidgets) (1.5.1)\n",
      "Requirement already satisfied: packaging in c:\\users\\thomas\\conda\\envs\\audiohandling\\lib\\site-packages (from ipykernel>=4.5.1->ipywidgets) (22.0)\n",
      "Requirement already satisfied: nest-asyncio in c:\\users\\thomas\\conda\\envs\\audiohandling\\lib\\site-packages (from ipykernel>=4.5.1->ipywidgets) (1.5.6)\n",
      "Requirement already satisfied: matplotlib-inline>=0.1 in c:\\users\\thomas\\conda\\envs\\audiohandling\\lib\\site-packages (from ipykernel>=4.5.1->ipywidgets) (0.1.6)\n",
      "Requirement already satisfied: tornado>=6.1 in c:\\users\\thomas\\conda\\envs\\audiohandling\\lib\\site-packages (from ipykernel>=4.5.1->ipywidgets) (6.2)\n",
      "Requirement already satisfied: psutil in c:\\users\\thomas\\conda\\envs\\audiohandling\\lib\\site-packages (from ipykernel>=4.5.1->ipywidgets) (5.9.0)\n",
      "Requirement already satisfied: jedi>=0.16 in c:\\users\\thomas\\conda\\envs\\audiohandling\\lib\\site-packages (from ipython>=6.1.0->ipywidgets) (0.18.1)\n",
      "Requirement already satisfied: backcall in c:\\users\\thomas\\conda\\envs\\audiohandling\\lib\\site-packages (from ipython>=6.1.0->ipywidgets) (0.2.0)\n",
      "Requirement already satisfied: stack-data in c:\\users\\thomas\\conda\\envs\\audiohandling\\lib\\site-packages (from ipython>=6.1.0->ipywidgets) (0.2.0)\n",
      "Requirement already satisfied: colorama in c:\\users\\thomas\\conda\\envs\\audiohandling\\lib\\site-packages (from ipython>=6.1.0->ipywidgets) (0.4.6)\n",
      "Requirement already satisfied: pygments>=2.4.0 in c:\\users\\thomas\\conda\\envs\\audiohandling\\lib\\site-packages (from ipython>=6.1.0->ipywidgets) (2.11.2)\n",
      "Requirement already satisfied: prompt-toolkit<3.1.0,>=3.0.30 in c:\\users\\thomas\\conda\\envs\\audiohandling\\lib\\site-packages (from ipython>=6.1.0->ipywidgets) (3.0.36)\n",
      "Requirement already satisfied: pickleshare in c:\\users\\thomas\\conda\\envs\\audiohandling\\lib\\site-packages (from ipython>=6.1.0->ipywidgets) (0.7.5)\n",
      "Requirement already satisfied: decorator in c:\\users\\thomas\\conda\\envs\\audiohandling\\lib\\site-packages (from ipython>=6.1.0->ipywidgets) (5.1.1)\n",
      "Requirement already satisfied: parso<0.9.0,>=0.8.0 in c:\\users\\thomas\\conda\\envs\\audiohandling\\lib\\site-packages (from jedi>=0.16->ipython>=6.1.0->ipywidgets) (0.8.3)\n",
      "Requirement already satisfied: pyzmq>=23.0 in c:\\users\\thomas\\conda\\envs\\audiohandling\\lib\\site-packages (from jupyter-client>=6.1.12->ipykernel>=4.5.1->ipywidgets) (23.2.0)\n",
      "Requirement already satisfied: jupyter-core>=4.9.2 in c:\\users\\thomas\\conda\\envs\\audiohandling\\lib\\site-packages (from jupyter-client>=6.1.12->ipykernel>=4.5.1->ipywidgets) (5.2.0)\n",
      "Requirement already satisfied: entrypoints in c:\\users\\thomas\\conda\\envs\\audiohandling\\lib\\site-packages (from jupyter-client>=6.1.12->ipykernel>=4.5.1->ipywidgets) (0.4)\n",
      "Requirement already satisfied: python-dateutil>=2.8.2 in c:\\users\\thomas\\conda\\envs\\audiohandling\\lib\\site-packages (from jupyter-client>=6.1.12->ipykernel>=4.5.1->ipywidgets) (2.8.2)\n",
      "Requirement already satisfied: wcwidth in c:\\users\\thomas\\conda\\envs\\audiohandling\\lib\\site-packages (from prompt-toolkit<3.1.0,>=3.0.30->ipython>=6.1.0->ipywidgets) (0.2.5)\n",
      "Requirement already satisfied: executing in c:\\users\\thomas\\conda\\envs\\audiohandling\\lib\\site-packages (from stack-data->ipython>=6.1.0->ipywidgets) (0.8.3)\n",
      "Requirement already satisfied: pure-eval in c:\\users\\thomas\\conda\\envs\\audiohandling\\lib\\site-packages (from stack-data->ipython>=6.1.0->ipywidgets) (0.2.2)\n",
      "Requirement already satisfied: asttokens in c:\\users\\thomas\\conda\\envs\\audiohandling\\lib\\site-packages (from stack-data->ipython>=6.1.0->ipywidgets) (2.0.5)\n",
      "Requirement already satisfied: platformdirs>=2.5 in c:\\users\\thomas\\conda\\envs\\audiohandling\\lib\\site-packages (from jupyter-core>=4.9.2->jupyter-client>=6.1.12->ipykernel>=4.5.1->ipywidgets) (2.5.2)\n",
      "Requirement already satisfied: pywin32>=1.0 in c:\\users\\thomas\\conda\\envs\\audiohandling\\lib\\site-packages (from jupyter-core>=4.9.2->jupyter-client>=6.1.12->ipykernel>=4.5.1->ipywidgets) (305.1)\n",
      "Requirement already satisfied: six>=1.5 in c:\\users\\thomas\\conda\\envs\\audiohandling\\lib\\site-packages (from python-dateutil>=2.8.2->jupyter-client>=6.1.12->ipykernel>=4.5.1->ipywidgets) (1.16.0)\n",
      "Note: you may need to restart the kernel to use updated packages.\n"
     ]
    }
   ],
   "source": [
    "%pip install ipywidgets"
   ]
  },
  {
   "cell_type": "code",
   "execution_count": 9,
   "metadata": {},
   "outputs": [
    {
     "ename": "AttributeError",
     "evalue": "'FigureWidget' object has no attribute 'on_click'",
     "output_type": "error",
     "traceback": [
      "\u001b[1;31m---------------------------------------------------------------------------\u001b[0m",
      "\u001b[1;31mAttributeError\u001b[0m                            Traceback (most recent call last)",
      "Cell \u001b[1;32mIn[9], line 12\u001b[0m\n\u001b[0;32m      8\u001b[0m \u001b[39m@out\u001b[39m\u001b[39m.\u001b[39mcapture(clear_output\u001b[39m=\u001b[39m\u001b[39mTrue\u001b[39;00m)\n\u001b[0;32m      9\u001b[0m \u001b[39mdef\u001b[39;00m \u001b[39mhandle_click\u001b[39m(trace, points, state):\n\u001b[0;32m     10\u001b[0m     \u001b[39mprint\u001b[39m(points\u001b[39m.\u001b[39mpoint_inds)\n\u001b[1;32m---> 12\u001b[0m pie\u001b[39m.\u001b[39;49mon_click(handle_click)\n\u001b[0;32m     14\u001b[0m VBox([fig, out])\n",
      "\u001b[1;31mAttributeError\u001b[0m: 'FigureWidget' object has no attribute 'on_click'"
     ]
    }
   ],
   "source": []
  }
 ],
 "metadata": {
  "kernelspec": {
   "display_name": "audiohandling",
   "language": "python",
   "name": "python3"
  },
  "language_info": {
   "codemirror_mode": {
    "name": "ipython",
    "version": 3
   },
   "file_extension": ".py",
   "mimetype": "text/x-python",
   "name": "python",
   "nbconvert_exporter": "python",
   "pygments_lexer": "ipython3",
   "version": "3.9.12"
  },
  "orig_nbformat": 4
 },
 "nbformat": 4,
 "nbformat_minor": 2
}
